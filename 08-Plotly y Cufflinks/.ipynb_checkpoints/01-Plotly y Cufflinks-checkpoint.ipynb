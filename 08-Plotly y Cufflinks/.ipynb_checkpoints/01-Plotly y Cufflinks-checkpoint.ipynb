{
 "cells": [
  {
   "cell_type": "markdown",
   "metadata": {},
   "source": [
    "___\n",
    "\n",
    "<a href='https://plotly.com/python/'> <img src='https://plotly.com/all_static/images/plotly_graphing_libraries_1.png' /></a>\n",
    "___\n",
    "# Plotly y Cufflinks"
   ]
  },
  {
   "cell_type": "markdown",
   "metadata": {},
   "source": [
    "**Plotly** es una libreria que permite crear gráficos interactivos para poder usarse en cuadros de mando o sitios web (se pueden guardar como archivos html o imágenes estáticas).\n",
    "\n",
    "**Cufflinks** es una libreria que conecta un dataframe de Pandas con Plotly, lo que permite a los usuarios crear visualizaciones directamente desde Pandas. Esta libreria une el poder de Plotly con la flexibilidad de Pandas para facilitar la visualización de los datos.\n",
    "\n",
    "## Instalación\n",
    "\n",
    "Para que todo esto funcione, se deberá instalar plotly y cufflinks para llamar a los gráficos directamente desde un dataframe de Pandas. Estas librerias no están disponibles actualmente a través de Conda, pero están disponibles a través de pip . Instalar las librerias en su línea de comando/terminal usando:\n",
    "\n",
    "    pip install plotly\n",
    "    pip install cufflinks\n",
    "\n",
    "## Importaciones y configuración "
   ]
  },
  {
   "cell_type": "code",
   "execution_count": 6,
   "metadata": {},
   "outputs": [
    {
     "name": "stdout",
     "output_type": "stream",
     "text": [
      "Collecting cufflinks\n",
      "  Downloading cufflinks-0.17.3.tar.gz (81 kB)\n",
      "Requirement already satisfied: numpy>=1.9.2 in c:\\users\\gustavo\\anaconda3\\lib\\site-packages (from cufflinks) (1.20.1)\n",
      "Requirement already satisfied: pandas>=0.19.2 in c:\\users\\gustavo\\anaconda3\\lib\\site-packages (from cufflinks) (1.2.4)\n",
      "Requirement already satisfied: plotly>=4.1.1 in c:\\users\\gustavo\\anaconda3\\lib\\site-packages (from cufflinks) (5.4.0)\n",
      "Requirement already satisfied: six>=1.9.0 in c:\\users\\gustavo\\anaconda3\\lib\\site-packages (from cufflinks) (1.15.0)\n",
      "Collecting colorlover>=0.2.1\n",
      "  Downloading colorlover-0.3.0-py3-none-any.whl (8.9 kB)\n",
      "Requirement already satisfied: setuptools>=34.4.1 in c:\\users\\gustavo\\anaconda3\\lib\\site-packages (from cufflinks) (52.0.0.post20210125)\n",
      "Requirement already satisfied: ipython>=5.3.0 in c:\\users\\gustavo\\anaconda3\\lib\\site-packages (from cufflinks) (7.22.0)\n",
      "Requirement already satisfied: ipywidgets>=7.0.0 in c:\\users\\gustavo\\anaconda3\\lib\\site-packages (from cufflinks) (7.6.3)\n",
      "Requirement already satisfied: backcall in c:\\users\\gustavo\\anaconda3\\lib\\site-packages (from ipython>=5.3.0->cufflinks) (0.2.0)\n",
      "Requirement already satisfied: jedi>=0.16 in c:\\users\\gustavo\\anaconda3\\lib\\site-packages (from ipython>=5.3.0->cufflinks) (0.17.2)\n",
      "Requirement already satisfied: prompt-toolkit!=3.0.0,!=3.0.1,<3.1.0,>=2.0.0 in c:\\users\\gustavo\\anaconda3\\lib\\site-packages (from ipython>=5.3.0->cufflinks) (3.0.17)\n",
      "Requirement already satisfied: decorator in c:\\users\\gustavo\\anaconda3\\lib\\site-packages (from ipython>=5.3.0->cufflinks) (5.0.6)\n",
      "Requirement already satisfied: pickleshare in c:\\users\\gustavo\\anaconda3\\lib\\site-packages (from ipython>=5.3.0->cufflinks) (0.7.5)\n",
      "Requirement already satisfied: pygments in c:\\users\\gustavo\\anaconda3\\lib\\site-packages (from ipython>=5.3.0->cufflinks) (2.8.1)\n",
      "Requirement already satisfied: colorama in c:\\users\\gustavo\\anaconda3\\lib\\site-packages (from ipython>=5.3.0->cufflinks) (0.4.4)\n",
      "Requirement already satisfied: traitlets>=4.2 in c:\\users\\gustavo\\anaconda3\\lib\\site-packages (from ipython>=5.3.0->cufflinks) (5.0.5)\n",
      "Requirement already satisfied: nbformat>=4.2.0 in c:\\users\\gustavo\\anaconda3\\lib\\site-packages (from ipywidgets>=7.0.0->cufflinks) (5.1.3)\n",
      "Requirement already satisfied: ipykernel>=4.5.1 in c:\\users\\gustavo\\anaconda3\\lib\\site-packages (from ipywidgets>=7.0.0->cufflinks) (5.3.4)\n",
      "Requirement already satisfied: jupyterlab-widgets>=1.0.0 in c:\\users\\gustavo\\anaconda3\\lib\\site-packages (from ipywidgets>=7.0.0->cufflinks) (1.0.0)\n",
      "Requirement already satisfied: widgetsnbextension~=3.5.0 in c:\\users\\gustavo\\anaconda3\\lib\\site-packages (from ipywidgets>=7.0.0->cufflinks) (3.5.1)\n",
      "Requirement already satisfied: jupyter-client in c:\\users\\gustavo\\anaconda3\\lib\\site-packages (from ipykernel>=4.5.1->ipywidgets>=7.0.0->cufflinks) (6.1.12)\n",
      "Requirement already satisfied: tornado>=4.2 in c:\\users\\gustavo\\anaconda3\\lib\\site-packages (from ipykernel>=4.5.1->ipywidgets>=7.0.0->cufflinks) (6.1)\n",
      "Requirement already satisfied: parso<0.8.0,>=0.7.0 in c:\\users\\gustavo\\anaconda3\\lib\\site-packages (from jedi>=0.16->ipython>=5.3.0->cufflinks) (0.7.0)\n",
      "Requirement already satisfied: ipython-genutils in c:\\users\\gustavo\\anaconda3\\lib\\site-packages (from nbformat>=4.2.0->ipywidgets>=7.0.0->cufflinks) (0.2.0)\n",
      "Requirement already satisfied: jupyter-core in c:\\users\\gustavo\\anaconda3\\lib\\site-packages (from nbformat>=4.2.0->ipywidgets>=7.0.0->cufflinks) (4.7.1)\n",
      "Requirement already satisfied: jsonschema!=2.5.0,>=2.4 in c:\\users\\gustavo\\anaconda3\\lib\\site-packages (from nbformat>=4.2.0->ipywidgets>=7.0.0->cufflinks) (3.2.0)\n",
      "Requirement already satisfied: pyrsistent>=0.14.0 in c:\\users\\gustavo\\anaconda3\\lib\\site-packages (from jsonschema!=2.5.0,>=2.4->nbformat>=4.2.0->ipywidgets>=7.0.0->cufflinks) (0.17.3)\n",
      "Requirement already satisfied: attrs>=17.4.0 in c:\\users\\gustavo\\anaconda3\\lib\\site-packages (from jsonschema!=2.5.0,>=2.4->nbformat>=4.2.0->ipywidgets>=7.0.0->cufflinks) (20.3.0)\n",
      "Requirement already satisfied: python-dateutil>=2.7.3 in c:\\users\\gustavo\\anaconda3\\lib\\site-packages (from pandas>=0.19.2->cufflinks) (2.8.1)\n",
      "Requirement already satisfied: pytz>=2017.3 in c:\\users\\gustavo\\anaconda3\\lib\\site-packages (from pandas>=0.19.2->cufflinks) (2021.1)\n",
      "Requirement already satisfied: tenacity>=6.2.0 in c:\\users\\gustavo\\anaconda3\\lib\\site-packages (from plotly>=4.1.1->cufflinks) (8.0.1)\n",
      "Requirement already satisfied: wcwidth in c:\\users\\gustavo\\anaconda3\\lib\\site-packages (from prompt-toolkit!=3.0.0,!=3.0.1,<3.1.0,>=2.0.0->ipython>=5.3.0->cufflinks) (0.2.5)\n",
      "Requirement already satisfied: notebook>=4.4.1 in c:\\users\\gustavo\\anaconda3\\lib\\site-packages (from widgetsnbextension~=3.5.0->ipywidgets>=7.0.0->cufflinks) (6.3.0)\n",
      "Requirement already satisfied: nbconvert in c:\\users\\gustavo\\anaconda3\\lib\\site-packages (from notebook>=4.4.1->widgetsnbextension~=3.5.0->ipywidgets>=7.0.0->cufflinks) (6.0.7)\n",
      "Requirement already satisfied: prometheus-client in c:\\users\\gustavo\\anaconda3\\lib\\site-packages (from notebook>=4.4.1->widgetsnbextension~=3.5.0->ipywidgets>=7.0.0->cufflinks) (0.10.1)\n",
      "Requirement already satisfied: jinja2 in c:\\users\\gustavo\\anaconda3\\lib\\site-packages (from notebook>=4.4.1->widgetsnbextension~=3.5.0->ipywidgets>=7.0.0->cufflinks) (2.11.3)\n",
      "Requirement already satisfied: terminado>=0.8.3 in c:\\users\\gustavo\\anaconda3\\lib\\site-packages (from notebook>=4.4.1->widgetsnbextension~=3.5.0->ipywidgets>=7.0.0->cufflinks) (0.9.4)\n",
      "Requirement already satisfied: Send2Trash>=1.5.0 in c:\\users\\gustavo\\anaconda3\\lib\\site-packages (from notebook>=4.4.1->widgetsnbextension~=3.5.0->ipywidgets>=7.0.0->cufflinks) (1.5.0)\n",
      "Requirement already satisfied: argon2-cffi in c:\\users\\gustavo\\anaconda3\\lib\\site-packages (from notebook>=4.4.1->widgetsnbextension~=3.5.0->ipywidgets>=7.0.0->cufflinks) (20.1.0)\n",
      "Requirement already satisfied: pyzmq>=17 in c:\\users\\gustavo\\anaconda3\\lib\\site-packages (from notebook>=4.4.1->widgetsnbextension~=3.5.0->ipywidgets>=7.0.0->cufflinks) (20.0.0)\n",
      "Requirement already satisfied: pywin32>=1.0 in c:\\users\\gustavo\\anaconda3\\lib\\site-packages (from jupyter-core->nbformat>=4.2.0->ipywidgets>=7.0.0->cufflinks) (227)\n",
      "Requirement already satisfied: pywinpty>=0.5 in c:\\users\\gustavo\\anaconda3\\lib\\site-packages (from terminado>=0.8.3->notebook>=4.4.1->widgetsnbextension~=3.5.0->ipywidgets>=7.0.0->cufflinks) (0.5.7)\n",
      "Requirement already satisfied: cffi>=1.0.0 in c:\\users\\gustavo\\anaconda3\\lib\\site-packages (from argon2-cffi->notebook>=4.4.1->widgetsnbextension~=3.5.0->ipywidgets>=7.0.0->cufflinks) (1.14.5)\n",
      "Requirement already satisfied: pycparser in c:\\users\\gustavo\\anaconda3\\lib\\site-packages (from cffi>=1.0.0->argon2-cffi->notebook>=4.4.1->widgetsnbextension~=3.5.0->ipywidgets>=7.0.0->cufflinks) (2.20)\n",
      "Requirement already satisfied: MarkupSafe>=0.23 in c:\\users\\gustavo\\anaconda3\\lib\\site-packages (from jinja2->notebook>=4.4.1->widgetsnbextension~=3.5.0->ipywidgets>=7.0.0->cufflinks) (1.1.1)\n",
      "Requirement already satisfied: jupyterlab-pygments in c:\\users\\gustavo\\anaconda3\\lib\\site-packages (from nbconvert->notebook>=4.4.1->widgetsnbextension~=3.5.0->ipywidgets>=7.0.0->cufflinks) (0.1.2)\n",
      "Requirement already satisfied: entrypoints>=0.2.2 in c:\\users\\gustavo\\anaconda3\\lib\\site-packages (from nbconvert->notebook>=4.4.1->widgetsnbextension~=3.5.0->ipywidgets>=7.0.0->cufflinks) (0.3)\n",
      "Requirement already satisfied: nbclient<0.6.0,>=0.5.0 in c:\\users\\gustavo\\anaconda3\\lib\\site-packages (from nbconvert->notebook>=4.4.1->widgetsnbextension~=3.5.0->ipywidgets>=7.0.0->cufflinks) (0.5.3)\n",
      "Requirement already satisfied: pandocfilters>=1.4.1 in c:\\users\\gustavo\\anaconda3\\lib\\site-packages (from nbconvert->notebook>=4.4.1->widgetsnbextension~=3.5.0->ipywidgets>=7.0.0->cufflinks) (1.4.3)\n",
      "Requirement already satisfied: testpath in c:\\users\\gustavo\\anaconda3\\lib\\site-packages (from nbconvert->notebook>=4.4.1->widgetsnbextension~=3.5.0->ipywidgets>=7.0.0->cufflinks) (0.4.4)\n",
      "Requirement already satisfied: bleach in c:\\users\\gustavo\\anaconda3\\lib\\site-packages (from nbconvert->notebook>=4.4.1->widgetsnbextension~=3.5.0->ipywidgets>=7.0.0->cufflinks) (3.3.0)\n",
      "Requirement already satisfied: defusedxml in c:\\users\\gustavo\\anaconda3\\lib\\site-packages (from nbconvert->notebook>=4.4.1->widgetsnbextension~=3.5.0->ipywidgets>=7.0.0->cufflinks) (0.7.1)\n",
      "Requirement already satisfied: mistune<2,>=0.8.1 in c:\\users\\gustavo\\anaconda3\\lib\\site-packages (from nbconvert->notebook>=4.4.1->widgetsnbextension~=3.5.0->ipywidgets>=7.0.0->cufflinks) (0.8.4)\n",
      "Requirement already satisfied: nest-asyncio in c:\\users\\gustavo\\anaconda3\\lib\\site-packages (from nbclient<0.6.0,>=0.5.0->nbconvert->notebook>=4.4.1->widgetsnbextension~=3.5.0->ipywidgets>=7.0.0->cufflinks) (1.5.1)\n",
      "Requirement already satisfied: async-generator in c:\\users\\gustavo\\anaconda3\\lib\\site-packages (from nbclient<0.6.0,>=0.5.0->nbconvert->notebook>=4.4.1->widgetsnbextension~=3.5.0->ipywidgets>=7.0.0->cufflinks) (1.10)\n",
      "Requirement already satisfied: packaging in c:\\users\\gustavo\\anaconda3\\lib\\site-packages (from bleach->nbconvert->notebook>=4.4.1->widgetsnbextension~=3.5.0->ipywidgets>=7.0.0->cufflinks) (20.9)\n",
      "Requirement already satisfied: webencodings in c:\\users\\gustavo\\anaconda3\\lib\\site-packages (from bleach->nbconvert->notebook>=4.4.1->widgetsnbextension~=3.5.0->ipywidgets>=7.0.0->cufflinks) (0.5.1)\n",
      "Requirement already satisfied: pyparsing>=2.0.2 in c:\\users\\gustavo\\anaconda3\\lib\\site-packages (from packaging->bleach->nbconvert->notebook>=4.4.1->widgetsnbextension~=3.5.0->ipywidgets>=7.0.0->cufflinks) (2.4.7)\n",
      "Building wheels for collected packages: cufflinks\n",
      "  Building wheel for cufflinks (setup.py): started\n",
      "  Building wheel for cufflinks (setup.py): finished with status 'done'\n",
      "  Created wheel for cufflinks: filename=cufflinks-0.17.3-py3-none-any.whl size=68724 sha256=4620157a609b042f9b810297f94231df9e2f22f9b0f9887b56c1d7e387c17106\n",
      "  Stored in directory: c:\\users\\gustavo\\appdata\\local\\pip\\cache\\wheels\\6b\\76\\62\\6da97734911ffcbdd559fd1a3f28526321f0ae699182a23866\n",
      "Successfully built cufflinks\n",
      "Installing collected packages: colorlover, cufflinks\n",
      "Successfully installed colorlover-0.3.0 cufflinks-0.17.3\n"
     ]
    }
   ],
   "source": [
    "!pip install cufflinks"
   ]
  },
  {
   "cell_type": "code",
   "execution_count": 1,
   "metadata": {},
   "outputs": [],
   "source": [
    "import pandas as pd\n",
    "import numpy as np\n",
    "%matplotlib inline"
   ]
  },
  {
   "cell_type": "code",
   "execution_count": 4,
   "metadata": {},
   "outputs": [
    {
     "name": "stdout",
     "output_type": "stream",
     "text": [
      "5.4.0\n"
     ]
    }
   ],
   "source": [
    "from plotly import __version__\n",
    "from plotly.offline import download_plotlyjs, init_notebook_mode, plot, iplot\n",
    "\n",
    "print(__version__) # requires version >= 1.9.0"
   ]
  },
  {
   "cell_type": "code",
   "execution_count": 7,
   "metadata": {},
   "outputs": [],
   "source": [
    "import cufflinks as cf"
   ]
  },
  {
   "cell_type": "code",
   "execution_count": 8,
   "metadata": {},
   "outputs": [
    {
     "data": {
      "text/html": [
       "        <script type=\"text/javascript\">\n",
       "        window.PlotlyConfig = {MathJaxConfig: 'local'};\n",
       "        if (window.MathJax) {MathJax.Hub.Config({SVG: {font: \"STIX-Web\"}});}\n",
       "        if (typeof require !== 'undefined') {\n",
       "        require.undef(\"plotly\");\n",
       "        requirejs.config({\n",
       "            paths: {\n",
       "                'plotly': ['https://cdn.plot.ly/plotly-2.6.3.min']\n",
       "            }\n",
       "        });\n",
       "        require(['plotly'], function(Plotly) {\n",
       "            window._Plotly = Plotly;\n",
       "        });\n",
       "        }\n",
       "        </script>\n",
       "        "
      ]
     },
     "metadata": {},
     "output_type": "display_data"
    }
   ],
   "source": [
    "# Para Notebooks\n",
    "init_notebook_mode(connected=True)"
   ]
  },
  {
   "cell_type": "code",
   "execution_count": 9,
   "metadata": {},
   "outputs": [
    {
     "data": {
      "text/html": [
       "        <script type=\"text/javascript\">\n",
       "        window.PlotlyConfig = {MathJaxConfig: 'local'};\n",
       "        if (window.MathJax) {MathJax.Hub.Config({SVG: {font: \"STIX-Web\"}});}\n",
       "        if (typeof require !== 'undefined') {\n",
       "        require.undef(\"plotly\");\n",
       "        requirejs.config({\n",
       "            paths: {\n",
       "                'plotly': ['https://cdn.plot.ly/plotly-2.6.3.min']\n",
       "            }\n",
       "        });\n",
       "        require(['plotly'], function(Plotly) {\n",
       "            window._Plotly = Plotly;\n",
       "        });\n",
       "        }\n",
       "        </script>\n",
       "        "
      ]
     },
     "metadata": {},
     "output_type": "display_data"
    }
   ],
   "source": [
    "# Para uso offline colocar\n",
    "cf.go_offline()"
   ]
  },
  {
   "cell_type": "markdown",
   "metadata": {},
   "source": [
    "### Datos de prueba"
   ]
  },
  {
   "cell_type": "code",
   "execution_count": 10,
   "metadata": {},
   "outputs": [],
   "source": [
    "df = pd.DataFrame(np.random.randn(100,4),columns='A B C D'.split())"
   ]
  },
  {
   "cell_type": "code",
   "execution_count": 11,
   "metadata": {},
   "outputs": [
    {
     "data": {
      "text/html": [
       "<div>\n",
       "<style scoped>\n",
       "    .dataframe tbody tr th:only-of-type {\n",
       "        vertical-align: middle;\n",
       "    }\n",
       "\n",
       "    .dataframe tbody tr th {\n",
       "        vertical-align: top;\n",
       "    }\n",
       "\n",
       "    .dataframe thead th {\n",
       "        text-align: right;\n",
       "    }\n",
       "</style>\n",
       "<table border=\"1\" class=\"dataframe\">\n",
       "  <thead>\n",
       "    <tr style=\"text-align: right;\">\n",
       "      <th></th>\n",
       "      <th>A</th>\n",
       "      <th>B</th>\n",
       "      <th>C</th>\n",
       "      <th>D</th>\n",
       "    </tr>\n",
       "  </thead>\n",
       "  <tbody>\n",
       "    <tr>\n",
       "      <th>0</th>\n",
       "      <td>0.935825</td>\n",
       "      <td>2.436884</td>\n",
       "      <td>0.834796</td>\n",
       "      <td>0.348389</td>\n",
       "    </tr>\n",
       "    <tr>\n",
       "      <th>1</th>\n",
       "      <td>1.735887</td>\n",
       "      <td>2.806168</td>\n",
       "      <td>0.742262</td>\n",
       "      <td>-0.888183</td>\n",
       "    </tr>\n",
       "    <tr>\n",
       "      <th>2</th>\n",
       "      <td>1.660773</td>\n",
       "      <td>-0.225982</td>\n",
       "      <td>0.942106</td>\n",
       "      <td>0.467185</td>\n",
       "    </tr>\n",
       "    <tr>\n",
       "      <th>3</th>\n",
       "      <td>-1.130471</td>\n",
       "      <td>1.668458</td>\n",
       "      <td>-0.828766</td>\n",
       "      <td>-1.041753</td>\n",
       "    </tr>\n",
       "    <tr>\n",
       "      <th>4</th>\n",
       "      <td>-0.739744</td>\n",
       "      <td>0.199650</td>\n",
       "      <td>-1.587225</td>\n",
       "      <td>-1.625061</td>\n",
       "    </tr>\n",
       "  </tbody>\n",
       "</table>\n",
       "</div>"
      ],
      "text/plain": [
       "          A         B         C         D\n",
       "0  0.935825  2.436884  0.834796  0.348389\n",
       "1  1.735887  2.806168  0.742262 -0.888183\n",
       "2  1.660773 -0.225982  0.942106  0.467185\n",
       "3 -1.130471  1.668458 -0.828766 -1.041753\n",
       "4 -0.739744  0.199650 -1.587225 -1.625061"
      ]
     },
     "execution_count": 11,
     "metadata": {},
     "output_type": "execute_result"
    }
   ],
   "source": [
    "df.head()"
   ]
  },
  {
   "cell_type": "code",
   "execution_count": 12,
   "metadata": {},
   "outputs": [],
   "source": [
    "df2 = pd.DataFrame({'Category':['A','B','C'],'Values':[32,43,50]})"
   ]
  },
  {
   "cell_type": "code",
   "execution_count": 13,
   "metadata": {},
   "outputs": [
    {
     "data": {
      "text/html": [
       "<div>\n",
       "<style scoped>\n",
       "    .dataframe tbody tr th:only-of-type {\n",
       "        vertical-align: middle;\n",
       "    }\n",
       "\n",
       "    .dataframe tbody tr th {\n",
       "        vertical-align: top;\n",
       "    }\n",
       "\n",
       "    .dataframe thead th {\n",
       "        text-align: right;\n",
       "    }\n",
       "</style>\n",
       "<table border=\"1\" class=\"dataframe\">\n",
       "  <thead>\n",
       "    <tr style=\"text-align: right;\">\n",
       "      <th></th>\n",
       "      <th>Category</th>\n",
       "      <th>Values</th>\n",
       "    </tr>\n",
       "  </thead>\n",
       "  <tbody>\n",
       "    <tr>\n",
       "      <th>0</th>\n",
       "      <td>A</td>\n",
       "      <td>32</td>\n",
       "    </tr>\n",
       "    <tr>\n",
       "      <th>1</th>\n",
       "      <td>B</td>\n",
       "      <td>43</td>\n",
       "    </tr>\n",
       "    <tr>\n",
       "      <th>2</th>\n",
       "      <td>C</td>\n",
       "      <td>50</td>\n",
       "    </tr>\n",
       "  </tbody>\n",
       "</table>\n",
       "</div>"
      ],
      "text/plain": [
       "  Category  Values\n",
       "0        A      32\n",
       "1        B      43\n",
       "2        C      50"
      ]
     },
     "execution_count": 13,
     "metadata": {},
     "output_type": "execute_result"
    }
   ],
   "source": [
    "df2.head()"
   ]
  },
  {
   "cell_type": "markdown",
   "metadata": {},
   "source": [
    "## Usando Cufflinks e iplot()\n",
    "\n",
    "* Scatter\n",
    "* Bar\n",
    "* Boxplot\n",
    "* 3D surface\n",
    "* Histograma\n",
    "* Burbujas"
   ]
  },
  {
   "cell_type": "markdown",
   "metadata": {},
   "source": [
    "## Scatter"
   ]
  },
  {
   "cell_type": "code",
   "execution_count": 14,
   "metadata": {},
   "outputs": [
    {
     "data": {
      "application/vnd.plotly.v1+json": {
       "config": {
        "linkText": "Export to plot.ly",
        "plotlyServerURL": "https://plot.ly",
        "showLink": true
       },
       "data": [
        {
         "line": {
          "color": "rgba(255, 153, 51, 1.0)",
          "dash": "solid",
          "shape": "linear",
          "width": 1.3
         },
         "marker": {
          "size": 10,
          "symbol": "circle"
         },
         "mode": "markers",
         "name": "B",
         "text": "",
         "type": "scatter",
         "x": [
          0.9358246105456631,
          1.7358870536473954,
          1.6607725228273365,
          -1.130471045776182,
          -0.7397437542667784,
          -1.7628728637743711,
          0.6094641588563852,
          0.8397452447778285,
          1.5953723526350652,
          -0.24735699034521968,
          -1.0576749964782333,
          -0.585775052554457,
          -2.1005125763582106,
          0.3682807079472144,
          -0.8404456428786651,
          0.6416763293475042,
          0.1482332074357737,
          -0.5694215335178152,
          1.2625700226936711,
          0.17288919914789302,
          -1.2897772819048154,
          0.7258162007125682,
          1.428259807694575,
          -0.4118314894873909,
          0.6215843985226098,
          -0.13364968782372094,
          -0.8669258393056155,
          -0.4104472188076141,
          -1.5094372299519552,
          -1.1273371115446196,
          0.40222132922117726,
          0.21491591162534904,
          -0.2824254106167494,
          0.2893039247667468,
          1.177485905026769,
          0.5314194356194776,
          -1.3737936138152016,
          -0.302772243312889,
          -0.5548156187710866,
          1.293594170856257,
          1.3938922938949396,
          -0.7686784040548456,
          0.685016805624003,
          -1.2161323536626572,
          -0.22596418717228123,
          0.18445339856296444,
          -0.2988187906213368,
          0.8610646318330833,
          0.44714190373054974,
          1.7495683336940082,
          -0.02717780528520104,
          -0.2646657249625497,
          0.5528736598737768,
          0.108936244464817,
          -0.3886022132343513,
          -0.27858746269539825,
          0.5262142439594867,
          -0.17040945756285403,
          -0.29361928475042465,
          -1.6431153100987566,
          0.9820006875146906,
          1.1271311188321693,
          0.7712039159456711,
          -0.2722771350565949,
          -0.1016411044464088,
          0.055748472748957355,
          0.378212647536327,
          1.806354096998742,
          -1.0323484061684283,
          0.43925979581855623,
          -2.237534601976636,
          -1.2395199587124108,
          0.932423970331763,
          -2.0606245338146247,
          -0.7873413392426257,
          0.3839651190733875,
          -1.5476461051975592,
          0.6107385482338262,
          0.48118347644317017,
          -1.1417989169897207,
          -1.349276068996005,
          0.22286129253542264,
          1.1337133631024376,
          0.5105123805788733,
          -2.1901727666599475,
          1.241346098929264,
          -0.42842270573965463,
          1.1422020524149337,
          0.49284995297389594,
          -0.8232844489727227,
          0.994393546598194,
          -0.25744344885925907,
          0.24794327386048887,
          -1.0040059283046938,
          2.012619946272534,
          -1.3432393595521306,
          -0.4360965094981826,
          -1.4872629381033733,
          0.4425522864570553,
          -0.6358544606229273
         ],
         "y": [
          2.4368836497567736,
          2.8061683063365512,
          -0.22598246884615092,
          1.6684583868678244,
          0.19964956910034146,
          -0.43630416534108574,
          -0.8149051143407005,
          0.644721914341229,
          -1.0970580613489138,
          0.563243707568396,
          -0.7151772352638627,
          1.7399384304314731,
          0.9333202141889357,
          -0.7603023225826924,
          -1.0055654371051497,
          0.9456803095792773,
          -0.6107014523115251,
          -0.24678977201906113,
          0.2272335649658569,
          1.1204859476935731,
          -1.7023803277503649,
          0.5321124440372906,
          -0.6808814973697076,
          -0.3119505168081398,
          -0.8729805709062626,
          -0.9422457171082959,
          0.9577546856737165,
          1.4350788901214124,
          -0.03629918533398791,
          1.1975549064480226,
          1.531036339029063,
          1.9561481466557051,
          -0.07722330639237676,
          1.2213207563919308,
          0.1425763768286601,
          0.4458905337457665,
          -0.23410678454089873,
          -0.7071305907929655,
          -0.41660092474178023,
          0.8290082481091184,
          -0.866406049479583,
          -0.9265270931596823,
          -0.5578107376513161,
          -1.1986778981863162,
          0.2994689192423883,
          -0.18672810450536445,
          0.29038117898481874,
          0.6513216905711007,
          0.727148313467212,
          -1.0957568440700851,
          1.0925119340978113,
          0.6622390315231806,
          1.0574259310596916,
          0.3317098628177242,
          -0.05553073769154664,
          -0.9799373977459516,
          1.3646046406526673,
          3.041346406084754,
          1.4011788801781775,
          -0.9386645547165704,
          1.3087610020904727,
          -0.80757066404421,
          1.1588354285400224,
          0.47883353179263977,
          -0.8055260309871897,
          -0.683537000716558,
          -0.015924935759425912,
          -0.29640901170335526,
          -0.19448603254895092,
          -0.46819474735927347,
          1.8067478953733844,
          -1.4112089594018427,
          0.6245328039650841,
          -0.8355962776719403,
          0.816316571373678,
          1.7830048482946426,
          -0.008152702171023115,
          0.10085636600272131,
          -1.432769049671953,
          0.4684985796561104,
          -1.1160089587194328,
          -0.6077303609075121,
          0.2628666457754549,
          0.26500314736339087,
          -0.15473373323700454,
          0.33691884019198975,
          0.9049159014238233,
          -0.2989352825315451,
          0.05106865858649614,
          2.738846305525453,
          0.5785002560282373,
          -0.4813514985369238,
          0.9711303120138106,
          -0.6753593361118425,
          -0.10288292581607655,
          1.1242169310713244,
          0.08995296684595894,
          1.2807328759536576,
          -0.33848014424263445,
          0.700807256895827
         ]
        }
       ],
       "layout": {
        "legend": {
         "bgcolor": "#F5F6F9",
         "font": {
          "color": "#4D5663"
         }
        },
        "paper_bgcolor": "#F5F6F9",
        "plot_bgcolor": "#F5F6F9",
        "template": {
         "data": {
          "bar": [
           {
            "error_x": {
             "color": "#2a3f5f"
            },
            "error_y": {
             "color": "#2a3f5f"
            },
            "marker": {
             "line": {
              "color": "#E5ECF6",
              "width": 0.5
             },
             "pattern": {
              "fillmode": "overlay",
              "size": 10,
              "solidity": 0.2
             }
            },
            "type": "bar"
           }
          ],
          "barpolar": [
           {
            "marker": {
             "line": {
              "color": "#E5ECF6",
              "width": 0.5
             },
             "pattern": {
              "fillmode": "overlay",
              "size": 10,
              "solidity": 0.2
             }
            },
            "type": "barpolar"
           }
          ],
          "carpet": [
           {
            "aaxis": {
             "endlinecolor": "#2a3f5f",
             "gridcolor": "white",
             "linecolor": "white",
             "minorgridcolor": "white",
             "startlinecolor": "#2a3f5f"
            },
            "baxis": {
             "endlinecolor": "#2a3f5f",
             "gridcolor": "white",
             "linecolor": "white",
             "minorgridcolor": "white",
             "startlinecolor": "#2a3f5f"
            },
            "type": "carpet"
           }
          ],
          "choropleth": [
           {
            "colorbar": {
             "outlinewidth": 0,
             "ticks": ""
            },
            "type": "choropleth"
           }
          ],
          "contour": [
           {
            "colorbar": {
             "outlinewidth": 0,
             "ticks": ""
            },
            "colorscale": [
             [
              0,
              "#0d0887"
             ],
             [
              0.1111111111111111,
              "#46039f"
             ],
             [
              0.2222222222222222,
              "#7201a8"
             ],
             [
              0.3333333333333333,
              "#9c179e"
             ],
             [
              0.4444444444444444,
              "#bd3786"
             ],
             [
              0.5555555555555556,
              "#d8576b"
             ],
             [
              0.6666666666666666,
              "#ed7953"
             ],
             [
              0.7777777777777778,
              "#fb9f3a"
             ],
             [
              0.8888888888888888,
              "#fdca26"
             ],
             [
              1,
              "#f0f921"
             ]
            ],
            "type": "contour"
           }
          ],
          "contourcarpet": [
           {
            "colorbar": {
             "outlinewidth": 0,
             "ticks": ""
            },
            "type": "contourcarpet"
           }
          ],
          "heatmap": [
           {
            "colorbar": {
             "outlinewidth": 0,
             "ticks": ""
            },
            "colorscale": [
             [
              0,
              "#0d0887"
             ],
             [
              0.1111111111111111,
              "#46039f"
             ],
             [
              0.2222222222222222,
              "#7201a8"
             ],
             [
              0.3333333333333333,
              "#9c179e"
             ],
             [
              0.4444444444444444,
              "#bd3786"
             ],
             [
              0.5555555555555556,
              "#d8576b"
             ],
             [
              0.6666666666666666,
              "#ed7953"
             ],
             [
              0.7777777777777778,
              "#fb9f3a"
             ],
             [
              0.8888888888888888,
              "#fdca26"
             ],
             [
              1,
              "#f0f921"
             ]
            ],
            "type": "heatmap"
           }
          ],
          "heatmapgl": [
           {
            "colorbar": {
             "outlinewidth": 0,
             "ticks": ""
            },
            "colorscale": [
             [
              0,
              "#0d0887"
             ],
             [
              0.1111111111111111,
              "#46039f"
             ],
             [
              0.2222222222222222,
              "#7201a8"
             ],
             [
              0.3333333333333333,
              "#9c179e"
             ],
             [
              0.4444444444444444,
              "#bd3786"
             ],
             [
              0.5555555555555556,
              "#d8576b"
             ],
             [
              0.6666666666666666,
              "#ed7953"
             ],
             [
              0.7777777777777778,
              "#fb9f3a"
             ],
             [
              0.8888888888888888,
              "#fdca26"
             ],
             [
              1,
              "#f0f921"
             ]
            ],
            "type": "heatmapgl"
           }
          ],
          "histogram": [
           {
            "marker": {
             "pattern": {
              "fillmode": "overlay",
              "size": 10,
              "solidity": 0.2
             }
            },
            "type": "histogram"
           }
          ],
          "histogram2d": [
           {
            "colorbar": {
             "outlinewidth": 0,
             "ticks": ""
            },
            "colorscale": [
             [
              0,
              "#0d0887"
             ],
             [
              0.1111111111111111,
              "#46039f"
             ],
             [
              0.2222222222222222,
              "#7201a8"
             ],
             [
              0.3333333333333333,
              "#9c179e"
             ],
             [
              0.4444444444444444,
              "#bd3786"
             ],
             [
              0.5555555555555556,
              "#d8576b"
             ],
             [
              0.6666666666666666,
              "#ed7953"
             ],
             [
              0.7777777777777778,
              "#fb9f3a"
             ],
             [
              0.8888888888888888,
              "#fdca26"
             ],
             [
              1,
              "#f0f921"
             ]
            ],
            "type": "histogram2d"
           }
          ],
          "histogram2dcontour": [
           {
            "colorbar": {
             "outlinewidth": 0,
             "ticks": ""
            },
            "colorscale": [
             [
              0,
              "#0d0887"
             ],
             [
              0.1111111111111111,
              "#46039f"
             ],
             [
              0.2222222222222222,
              "#7201a8"
             ],
             [
              0.3333333333333333,
              "#9c179e"
             ],
             [
              0.4444444444444444,
              "#bd3786"
             ],
             [
              0.5555555555555556,
              "#d8576b"
             ],
             [
              0.6666666666666666,
              "#ed7953"
             ],
             [
              0.7777777777777778,
              "#fb9f3a"
             ],
             [
              0.8888888888888888,
              "#fdca26"
             ],
             [
              1,
              "#f0f921"
             ]
            ],
            "type": "histogram2dcontour"
           }
          ],
          "mesh3d": [
           {
            "colorbar": {
             "outlinewidth": 0,
             "ticks": ""
            },
            "type": "mesh3d"
           }
          ],
          "parcoords": [
           {
            "line": {
             "colorbar": {
              "outlinewidth": 0,
              "ticks": ""
             }
            },
            "type": "parcoords"
           }
          ],
          "pie": [
           {
            "automargin": true,
            "type": "pie"
           }
          ],
          "scatter": [
           {
            "marker": {
             "colorbar": {
              "outlinewidth": 0,
              "ticks": ""
             }
            },
            "type": "scatter"
           }
          ],
          "scatter3d": [
           {
            "line": {
             "colorbar": {
              "outlinewidth": 0,
              "ticks": ""
             }
            },
            "marker": {
             "colorbar": {
              "outlinewidth": 0,
              "ticks": ""
             }
            },
            "type": "scatter3d"
           }
          ],
          "scattercarpet": [
           {
            "marker": {
             "colorbar": {
              "outlinewidth": 0,
              "ticks": ""
             }
            },
            "type": "scattercarpet"
           }
          ],
          "scattergeo": [
           {
            "marker": {
             "colorbar": {
              "outlinewidth": 0,
              "ticks": ""
             }
            },
            "type": "scattergeo"
           }
          ],
          "scattergl": [
           {
            "marker": {
             "colorbar": {
              "outlinewidth": 0,
              "ticks": ""
             }
            },
            "type": "scattergl"
           }
          ],
          "scattermapbox": [
           {
            "marker": {
             "colorbar": {
              "outlinewidth": 0,
              "ticks": ""
             }
            },
            "type": "scattermapbox"
           }
          ],
          "scatterpolar": [
           {
            "marker": {
             "colorbar": {
              "outlinewidth": 0,
              "ticks": ""
             }
            },
            "type": "scatterpolar"
           }
          ],
          "scatterpolargl": [
           {
            "marker": {
             "colorbar": {
              "outlinewidth": 0,
              "ticks": ""
             }
            },
            "type": "scatterpolargl"
           }
          ],
          "scatterternary": [
           {
            "marker": {
             "colorbar": {
              "outlinewidth": 0,
              "ticks": ""
             }
            },
            "type": "scatterternary"
           }
          ],
          "surface": [
           {
            "colorbar": {
             "outlinewidth": 0,
             "ticks": ""
            },
            "colorscale": [
             [
              0,
              "#0d0887"
             ],
             [
              0.1111111111111111,
              "#46039f"
             ],
             [
              0.2222222222222222,
              "#7201a8"
             ],
             [
              0.3333333333333333,
              "#9c179e"
             ],
             [
              0.4444444444444444,
              "#bd3786"
             ],
             [
              0.5555555555555556,
              "#d8576b"
             ],
             [
              0.6666666666666666,
              "#ed7953"
             ],
             [
              0.7777777777777778,
              "#fb9f3a"
             ],
             [
              0.8888888888888888,
              "#fdca26"
             ],
             [
              1,
              "#f0f921"
             ]
            ],
            "type": "surface"
           }
          ],
          "table": [
           {
            "cells": {
             "fill": {
              "color": "#EBF0F8"
             },
             "line": {
              "color": "white"
             }
            },
            "header": {
             "fill": {
              "color": "#C8D4E3"
             },
             "line": {
              "color": "white"
             }
            },
            "type": "table"
           }
          ]
         },
         "layout": {
          "annotationdefaults": {
           "arrowcolor": "#2a3f5f",
           "arrowhead": 0,
           "arrowwidth": 1
          },
          "autotypenumbers": "strict",
          "coloraxis": {
           "colorbar": {
            "outlinewidth": 0,
            "ticks": ""
           }
          },
          "colorscale": {
           "diverging": [
            [
             0,
             "#8e0152"
            ],
            [
             0.1,
             "#c51b7d"
            ],
            [
             0.2,
             "#de77ae"
            ],
            [
             0.3,
             "#f1b6da"
            ],
            [
             0.4,
             "#fde0ef"
            ],
            [
             0.5,
             "#f7f7f7"
            ],
            [
             0.6,
             "#e6f5d0"
            ],
            [
             0.7,
             "#b8e186"
            ],
            [
             0.8,
             "#7fbc41"
            ],
            [
             0.9,
             "#4d9221"
            ],
            [
             1,
             "#276419"
            ]
           ],
           "sequential": [
            [
             0,
             "#0d0887"
            ],
            [
             0.1111111111111111,
             "#46039f"
            ],
            [
             0.2222222222222222,
             "#7201a8"
            ],
            [
             0.3333333333333333,
             "#9c179e"
            ],
            [
             0.4444444444444444,
             "#bd3786"
            ],
            [
             0.5555555555555556,
             "#d8576b"
            ],
            [
             0.6666666666666666,
             "#ed7953"
            ],
            [
             0.7777777777777778,
             "#fb9f3a"
            ],
            [
             0.8888888888888888,
             "#fdca26"
            ],
            [
             1,
             "#f0f921"
            ]
           ],
           "sequentialminus": [
            [
             0,
             "#0d0887"
            ],
            [
             0.1111111111111111,
             "#46039f"
            ],
            [
             0.2222222222222222,
             "#7201a8"
            ],
            [
             0.3333333333333333,
             "#9c179e"
            ],
            [
             0.4444444444444444,
             "#bd3786"
            ],
            [
             0.5555555555555556,
             "#d8576b"
            ],
            [
             0.6666666666666666,
             "#ed7953"
            ],
            [
             0.7777777777777778,
             "#fb9f3a"
            ],
            [
             0.8888888888888888,
             "#fdca26"
            ],
            [
             1,
             "#f0f921"
            ]
           ]
          },
          "colorway": [
           "#636efa",
           "#EF553B",
           "#00cc96",
           "#ab63fa",
           "#FFA15A",
           "#19d3f3",
           "#FF6692",
           "#B6E880",
           "#FF97FF",
           "#FECB52"
          ],
          "font": {
           "color": "#2a3f5f"
          },
          "geo": {
           "bgcolor": "white",
           "lakecolor": "white",
           "landcolor": "#E5ECF6",
           "showlakes": true,
           "showland": true,
           "subunitcolor": "white"
          },
          "hoverlabel": {
           "align": "left"
          },
          "hovermode": "closest",
          "mapbox": {
           "style": "light"
          },
          "paper_bgcolor": "white",
          "plot_bgcolor": "#E5ECF6",
          "polar": {
           "angularaxis": {
            "gridcolor": "white",
            "linecolor": "white",
            "ticks": ""
           },
           "bgcolor": "#E5ECF6",
           "radialaxis": {
            "gridcolor": "white",
            "linecolor": "white",
            "ticks": ""
           }
          },
          "scene": {
           "xaxis": {
            "backgroundcolor": "#E5ECF6",
            "gridcolor": "white",
            "gridwidth": 2,
            "linecolor": "white",
            "showbackground": true,
            "ticks": "",
            "zerolinecolor": "white"
           },
           "yaxis": {
            "backgroundcolor": "#E5ECF6",
            "gridcolor": "white",
            "gridwidth": 2,
            "linecolor": "white",
            "showbackground": true,
            "ticks": "",
            "zerolinecolor": "white"
           },
           "zaxis": {
            "backgroundcolor": "#E5ECF6",
            "gridcolor": "white",
            "gridwidth": 2,
            "linecolor": "white",
            "showbackground": true,
            "ticks": "",
            "zerolinecolor": "white"
           }
          },
          "shapedefaults": {
           "line": {
            "color": "#2a3f5f"
           }
          },
          "ternary": {
           "aaxis": {
            "gridcolor": "white",
            "linecolor": "white",
            "ticks": ""
           },
           "baxis": {
            "gridcolor": "white",
            "linecolor": "white",
            "ticks": ""
           },
           "bgcolor": "#E5ECF6",
           "caxis": {
            "gridcolor": "white",
            "linecolor": "white",
            "ticks": ""
           }
          },
          "title": {
           "x": 0.05
          },
          "xaxis": {
           "automargin": true,
           "gridcolor": "white",
           "linecolor": "white",
           "ticks": "",
           "title": {
            "standoff": 15
           },
           "zerolinecolor": "white",
           "zerolinewidth": 2
          },
          "yaxis": {
           "automargin": true,
           "gridcolor": "white",
           "linecolor": "white",
           "ticks": "",
           "title": {
            "standoff": 15
           },
           "zerolinecolor": "white",
           "zerolinewidth": 2
          }
         }
        },
        "title": {
         "font": {
          "color": "#4D5663"
         }
        },
        "xaxis": {
         "gridcolor": "#E1E5ED",
         "showgrid": true,
         "tickfont": {
          "color": "#4D5663"
         },
         "title": {
          "font": {
           "color": "#4D5663"
          },
          "text": ""
         },
         "zerolinecolor": "#E1E5ED"
        },
        "yaxis": {
         "gridcolor": "#E1E5ED",
         "showgrid": true,
         "tickfont": {
          "color": "#4D5663"
         },
         "title": {
          "font": {
           "color": "#4D5663"
          },
          "text": ""
         },
         "zerolinecolor": "#E1E5ED"
        }
       }
      },
      "text/html": [
       "<div>                            <div id=\"cf0d4652-ee17-438a-8ae9-4708026dc631\" class=\"plotly-graph-div\" style=\"height:525px; width:100%;\"></div>            <script type=\"text/javascript\">                require([\"plotly\"], function(Plotly) {                    window.PLOTLYENV=window.PLOTLYENV || {};\n",
       "                    window.PLOTLYENV.BASE_URL='https://plot.ly';                                    if (document.getElementById(\"cf0d4652-ee17-438a-8ae9-4708026dc631\")) {                    Plotly.newPlot(                        \"cf0d4652-ee17-438a-8ae9-4708026dc631\",                        [{\"line\":{\"color\":\"rgba(255, 153, 51, 1.0)\",\"dash\":\"solid\",\"shape\":\"linear\",\"width\":1.3},\"marker\":{\"size\":10,\"symbol\":\"circle\"},\"mode\":\"markers\",\"name\":\"B\",\"text\":\"\",\"x\":[0.9358246105456631,1.7358870536473954,1.6607725228273365,-1.130471045776182,-0.7397437542667784,-1.7628728637743711,0.6094641588563852,0.8397452447778285,1.5953723526350652,-0.24735699034521968,-1.0576749964782333,-0.585775052554457,-2.1005125763582106,0.3682807079472144,-0.8404456428786651,0.6416763293475042,0.1482332074357737,-0.5694215335178152,1.2625700226936711,0.17288919914789302,-1.2897772819048154,0.7258162007125682,1.428259807694575,-0.4118314894873909,0.6215843985226098,-0.13364968782372094,-0.8669258393056155,-0.4104472188076141,-1.5094372299519552,-1.1273371115446196,0.40222132922117726,0.21491591162534904,-0.2824254106167494,0.2893039247667468,1.177485905026769,0.5314194356194776,-1.3737936138152016,-0.302772243312889,-0.5548156187710866,1.293594170856257,1.3938922938949396,-0.7686784040548456,0.685016805624003,-1.2161323536626572,-0.22596418717228123,0.18445339856296444,-0.2988187906213368,0.8610646318330833,0.44714190373054974,1.7495683336940082,-0.02717780528520104,-0.2646657249625497,0.5528736598737768,0.108936244464817,-0.3886022132343513,-0.27858746269539825,0.5262142439594867,-0.17040945756285403,-0.29361928475042465,-1.6431153100987566,0.9820006875146906,1.1271311188321693,0.7712039159456711,-0.2722771350565949,-0.1016411044464088,0.055748472748957355,0.378212647536327,1.806354096998742,-1.0323484061684283,0.43925979581855623,-2.237534601976636,-1.2395199587124108,0.932423970331763,-2.0606245338146247,-0.7873413392426257,0.3839651190733875,-1.5476461051975592,0.6107385482338262,0.48118347644317017,-1.1417989169897207,-1.349276068996005,0.22286129253542264,1.1337133631024376,0.5105123805788733,-2.1901727666599475,1.241346098929264,-0.42842270573965463,1.1422020524149337,0.49284995297389594,-0.8232844489727227,0.994393546598194,-0.25744344885925907,0.24794327386048887,-1.0040059283046938,2.012619946272534,-1.3432393595521306,-0.4360965094981826,-1.4872629381033733,0.4425522864570553,-0.6358544606229273],\"y\":[2.4368836497567736,2.8061683063365512,-0.22598246884615092,1.6684583868678244,0.19964956910034146,-0.43630416534108574,-0.8149051143407005,0.644721914341229,-1.0970580613489138,0.563243707568396,-0.7151772352638627,1.7399384304314731,0.9333202141889357,-0.7603023225826924,-1.0055654371051497,0.9456803095792773,-0.6107014523115251,-0.24678977201906113,0.2272335649658569,1.1204859476935731,-1.7023803277503649,0.5321124440372906,-0.6808814973697076,-0.3119505168081398,-0.8729805709062626,-0.9422457171082959,0.9577546856737165,1.4350788901214124,-0.03629918533398791,1.1975549064480226,1.531036339029063,1.9561481466557051,-0.07722330639237676,1.2213207563919308,0.1425763768286601,0.4458905337457665,-0.23410678454089873,-0.7071305907929655,-0.41660092474178023,0.8290082481091184,-0.866406049479583,-0.9265270931596823,-0.5578107376513161,-1.1986778981863162,0.2994689192423883,-0.18672810450536445,0.29038117898481874,0.6513216905711007,0.727148313467212,-1.0957568440700851,1.0925119340978113,0.6622390315231806,1.0574259310596916,0.3317098628177242,-0.05553073769154664,-0.9799373977459516,1.3646046406526673,3.041346406084754,1.4011788801781775,-0.9386645547165704,1.3087610020904727,-0.80757066404421,1.1588354285400224,0.47883353179263977,-0.8055260309871897,-0.683537000716558,-0.015924935759425912,-0.29640901170335526,-0.19448603254895092,-0.46819474735927347,1.8067478953733844,-1.4112089594018427,0.6245328039650841,-0.8355962776719403,0.816316571373678,1.7830048482946426,-0.008152702171023115,0.10085636600272131,-1.432769049671953,0.4684985796561104,-1.1160089587194328,-0.6077303609075121,0.2628666457754549,0.26500314736339087,-0.15473373323700454,0.33691884019198975,0.9049159014238233,-0.2989352825315451,0.05106865858649614,2.738846305525453,0.5785002560282373,-0.4813514985369238,0.9711303120138106,-0.6753593361118425,-0.10288292581607655,1.1242169310713244,0.08995296684595894,1.2807328759536576,-0.33848014424263445,0.700807256895827],\"type\":\"scatter\"}],                        {\"legend\":{\"bgcolor\":\"#F5F6F9\",\"font\":{\"color\":\"#4D5663\"}},\"paper_bgcolor\":\"#F5F6F9\",\"plot_bgcolor\":\"#F5F6F9\",\"template\":{\"data\":{\"barpolar\":[{\"marker\":{\"line\":{\"color\":\"#E5ECF6\",\"width\":0.5},\"pattern\":{\"fillmode\":\"overlay\",\"size\":10,\"solidity\":0.2}},\"type\":\"barpolar\"}],\"bar\":[{\"error_x\":{\"color\":\"#2a3f5f\"},\"error_y\":{\"color\":\"#2a3f5f\"},\"marker\":{\"line\":{\"color\":\"#E5ECF6\",\"width\":0.5},\"pattern\":{\"fillmode\":\"overlay\",\"size\":10,\"solidity\":0.2}},\"type\":\"bar\"}],\"carpet\":[{\"aaxis\":{\"endlinecolor\":\"#2a3f5f\",\"gridcolor\":\"white\",\"linecolor\":\"white\",\"minorgridcolor\":\"white\",\"startlinecolor\":\"#2a3f5f\"},\"baxis\":{\"endlinecolor\":\"#2a3f5f\",\"gridcolor\":\"white\",\"linecolor\":\"white\",\"minorgridcolor\":\"white\",\"startlinecolor\":\"#2a3f5f\"},\"type\":\"carpet\"}],\"choropleth\":[{\"colorbar\":{\"outlinewidth\":0,\"ticks\":\"\"},\"type\":\"choropleth\"}],\"contourcarpet\":[{\"colorbar\":{\"outlinewidth\":0,\"ticks\":\"\"},\"type\":\"contourcarpet\"}],\"contour\":[{\"colorbar\":{\"outlinewidth\":0,\"ticks\":\"\"},\"colorscale\":[[0.0,\"#0d0887\"],[0.1111111111111111,\"#46039f\"],[0.2222222222222222,\"#7201a8\"],[0.3333333333333333,\"#9c179e\"],[0.4444444444444444,\"#bd3786\"],[0.5555555555555556,\"#d8576b\"],[0.6666666666666666,\"#ed7953\"],[0.7777777777777778,\"#fb9f3a\"],[0.8888888888888888,\"#fdca26\"],[1.0,\"#f0f921\"]],\"type\":\"contour\"}],\"heatmapgl\":[{\"colorbar\":{\"outlinewidth\":0,\"ticks\":\"\"},\"colorscale\":[[0.0,\"#0d0887\"],[0.1111111111111111,\"#46039f\"],[0.2222222222222222,\"#7201a8\"],[0.3333333333333333,\"#9c179e\"],[0.4444444444444444,\"#bd3786\"],[0.5555555555555556,\"#d8576b\"],[0.6666666666666666,\"#ed7953\"],[0.7777777777777778,\"#fb9f3a\"],[0.8888888888888888,\"#fdca26\"],[1.0,\"#f0f921\"]],\"type\":\"heatmapgl\"}],\"heatmap\":[{\"colorbar\":{\"outlinewidth\":0,\"ticks\":\"\"},\"colorscale\":[[0.0,\"#0d0887\"],[0.1111111111111111,\"#46039f\"],[0.2222222222222222,\"#7201a8\"],[0.3333333333333333,\"#9c179e\"],[0.4444444444444444,\"#bd3786\"],[0.5555555555555556,\"#d8576b\"],[0.6666666666666666,\"#ed7953\"],[0.7777777777777778,\"#fb9f3a\"],[0.8888888888888888,\"#fdca26\"],[1.0,\"#f0f921\"]],\"type\":\"heatmap\"}],\"histogram2dcontour\":[{\"colorbar\":{\"outlinewidth\":0,\"ticks\":\"\"},\"colorscale\":[[0.0,\"#0d0887\"],[0.1111111111111111,\"#46039f\"],[0.2222222222222222,\"#7201a8\"],[0.3333333333333333,\"#9c179e\"],[0.4444444444444444,\"#bd3786\"],[0.5555555555555556,\"#d8576b\"],[0.6666666666666666,\"#ed7953\"],[0.7777777777777778,\"#fb9f3a\"],[0.8888888888888888,\"#fdca26\"],[1.0,\"#f0f921\"]],\"type\":\"histogram2dcontour\"}],\"histogram2d\":[{\"colorbar\":{\"outlinewidth\":0,\"ticks\":\"\"},\"colorscale\":[[0.0,\"#0d0887\"],[0.1111111111111111,\"#46039f\"],[0.2222222222222222,\"#7201a8\"],[0.3333333333333333,\"#9c179e\"],[0.4444444444444444,\"#bd3786\"],[0.5555555555555556,\"#d8576b\"],[0.6666666666666666,\"#ed7953\"],[0.7777777777777778,\"#fb9f3a\"],[0.8888888888888888,\"#fdca26\"],[1.0,\"#f0f921\"]],\"type\":\"histogram2d\"}],\"histogram\":[{\"marker\":{\"pattern\":{\"fillmode\":\"overlay\",\"size\":10,\"solidity\":0.2}},\"type\":\"histogram\"}],\"mesh3d\":[{\"colorbar\":{\"outlinewidth\":0,\"ticks\":\"\"},\"type\":\"mesh3d\"}],\"parcoords\":[{\"line\":{\"colorbar\":{\"outlinewidth\":0,\"ticks\":\"\"}},\"type\":\"parcoords\"}],\"pie\":[{\"automargin\":true,\"type\":\"pie\"}],\"scatter3d\":[{\"line\":{\"colorbar\":{\"outlinewidth\":0,\"ticks\":\"\"}},\"marker\":{\"colorbar\":{\"outlinewidth\":0,\"ticks\":\"\"}},\"type\":\"scatter3d\"}],\"scattercarpet\":[{\"marker\":{\"colorbar\":{\"outlinewidth\":0,\"ticks\":\"\"}},\"type\":\"scattercarpet\"}],\"scattergeo\":[{\"marker\":{\"colorbar\":{\"outlinewidth\":0,\"ticks\":\"\"}},\"type\":\"scattergeo\"}],\"scattergl\":[{\"marker\":{\"colorbar\":{\"outlinewidth\":0,\"ticks\":\"\"}},\"type\":\"scattergl\"}],\"scattermapbox\":[{\"marker\":{\"colorbar\":{\"outlinewidth\":0,\"ticks\":\"\"}},\"type\":\"scattermapbox\"}],\"scatterpolargl\":[{\"marker\":{\"colorbar\":{\"outlinewidth\":0,\"ticks\":\"\"}},\"type\":\"scatterpolargl\"}],\"scatterpolar\":[{\"marker\":{\"colorbar\":{\"outlinewidth\":0,\"ticks\":\"\"}},\"type\":\"scatterpolar\"}],\"scatter\":[{\"marker\":{\"colorbar\":{\"outlinewidth\":0,\"ticks\":\"\"}},\"type\":\"scatter\"}],\"scatterternary\":[{\"marker\":{\"colorbar\":{\"outlinewidth\":0,\"ticks\":\"\"}},\"type\":\"scatterternary\"}],\"surface\":[{\"colorbar\":{\"outlinewidth\":0,\"ticks\":\"\"},\"colorscale\":[[0.0,\"#0d0887\"],[0.1111111111111111,\"#46039f\"],[0.2222222222222222,\"#7201a8\"],[0.3333333333333333,\"#9c179e\"],[0.4444444444444444,\"#bd3786\"],[0.5555555555555556,\"#d8576b\"],[0.6666666666666666,\"#ed7953\"],[0.7777777777777778,\"#fb9f3a\"],[0.8888888888888888,\"#fdca26\"],[1.0,\"#f0f921\"]],\"type\":\"surface\"}],\"table\":[{\"cells\":{\"fill\":{\"color\":\"#EBF0F8\"},\"line\":{\"color\":\"white\"}},\"header\":{\"fill\":{\"color\":\"#C8D4E3\"},\"line\":{\"color\":\"white\"}},\"type\":\"table\"}]},\"layout\":{\"annotationdefaults\":{\"arrowcolor\":\"#2a3f5f\",\"arrowhead\":0,\"arrowwidth\":1},\"autotypenumbers\":\"strict\",\"coloraxis\":{\"colorbar\":{\"outlinewidth\":0,\"ticks\":\"\"}},\"colorscale\":{\"diverging\":[[0,\"#8e0152\"],[0.1,\"#c51b7d\"],[0.2,\"#de77ae\"],[0.3,\"#f1b6da\"],[0.4,\"#fde0ef\"],[0.5,\"#f7f7f7\"],[0.6,\"#e6f5d0\"],[0.7,\"#b8e186\"],[0.8,\"#7fbc41\"],[0.9,\"#4d9221\"],[1,\"#276419\"]],\"sequential\":[[0.0,\"#0d0887\"],[0.1111111111111111,\"#46039f\"],[0.2222222222222222,\"#7201a8\"],[0.3333333333333333,\"#9c179e\"],[0.4444444444444444,\"#bd3786\"],[0.5555555555555556,\"#d8576b\"],[0.6666666666666666,\"#ed7953\"],[0.7777777777777778,\"#fb9f3a\"],[0.8888888888888888,\"#fdca26\"],[1.0,\"#f0f921\"]],\"sequentialminus\":[[0.0,\"#0d0887\"],[0.1111111111111111,\"#46039f\"],[0.2222222222222222,\"#7201a8\"],[0.3333333333333333,\"#9c179e\"],[0.4444444444444444,\"#bd3786\"],[0.5555555555555556,\"#d8576b\"],[0.6666666666666666,\"#ed7953\"],[0.7777777777777778,\"#fb9f3a\"],[0.8888888888888888,\"#fdca26\"],[1.0,\"#f0f921\"]]},\"colorway\":[\"#636efa\",\"#EF553B\",\"#00cc96\",\"#ab63fa\",\"#FFA15A\",\"#19d3f3\",\"#FF6692\",\"#B6E880\",\"#FF97FF\",\"#FECB52\"],\"font\":{\"color\":\"#2a3f5f\"},\"geo\":{\"bgcolor\":\"white\",\"lakecolor\":\"white\",\"landcolor\":\"#E5ECF6\",\"showlakes\":true,\"showland\":true,\"subunitcolor\":\"white\"},\"hoverlabel\":{\"align\":\"left\"},\"hovermode\":\"closest\",\"mapbox\":{\"style\":\"light\"},\"paper_bgcolor\":\"white\",\"plot_bgcolor\":\"#E5ECF6\",\"polar\":{\"angularaxis\":{\"gridcolor\":\"white\",\"linecolor\":\"white\",\"ticks\":\"\"},\"bgcolor\":\"#E5ECF6\",\"radialaxis\":{\"gridcolor\":\"white\",\"linecolor\":\"white\",\"ticks\":\"\"}},\"scene\":{\"xaxis\":{\"backgroundcolor\":\"#E5ECF6\",\"gridcolor\":\"white\",\"gridwidth\":2,\"linecolor\":\"white\",\"showbackground\":true,\"ticks\":\"\",\"zerolinecolor\":\"white\"},\"yaxis\":{\"backgroundcolor\":\"#E5ECF6\",\"gridcolor\":\"white\",\"gridwidth\":2,\"linecolor\":\"white\",\"showbackground\":true,\"ticks\":\"\",\"zerolinecolor\":\"white\"},\"zaxis\":{\"backgroundcolor\":\"#E5ECF6\",\"gridcolor\":\"white\",\"gridwidth\":2,\"linecolor\":\"white\",\"showbackground\":true,\"ticks\":\"\",\"zerolinecolor\":\"white\"}},\"shapedefaults\":{\"line\":{\"color\":\"#2a3f5f\"}},\"ternary\":{\"aaxis\":{\"gridcolor\":\"white\",\"linecolor\":\"white\",\"ticks\":\"\"},\"baxis\":{\"gridcolor\":\"white\",\"linecolor\":\"white\",\"ticks\":\"\"},\"bgcolor\":\"#E5ECF6\",\"caxis\":{\"gridcolor\":\"white\",\"linecolor\":\"white\",\"ticks\":\"\"}},\"title\":{\"x\":0.05},\"xaxis\":{\"automargin\":true,\"gridcolor\":\"white\",\"linecolor\":\"white\",\"ticks\":\"\",\"title\":{\"standoff\":15},\"zerolinecolor\":\"white\",\"zerolinewidth\":2},\"yaxis\":{\"automargin\":true,\"gridcolor\":\"white\",\"linecolor\":\"white\",\"ticks\":\"\",\"title\":{\"standoff\":15},\"zerolinecolor\":\"white\",\"zerolinewidth\":2}}},\"title\":{\"font\":{\"color\":\"#4D5663\"}},\"xaxis\":{\"gridcolor\":\"#E1E5ED\",\"showgrid\":true,\"tickfont\":{\"color\":\"#4D5663\"},\"title\":{\"font\":{\"color\":\"#4D5663\"},\"text\":\"\"},\"zerolinecolor\":\"#E1E5ED\"},\"yaxis\":{\"gridcolor\":\"#E1E5ED\",\"showgrid\":true,\"tickfont\":{\"color\":\"#4D5663\"},\"title\":{\"font\":{\"color\":\"#4D5663\"},\"text\":\"\"},\"zerolinecolor\":\"#E1E5ED\"}},                        {\"showLink\": true, \"linkText\": \"Export to plot.ly\", \"plotlyServerURL\": \"https://plot.ly\", \"responsive\": true}                    ).then(function(){\n",
       "                            \n",
       "var gd = document.getElementById('cf0d4652-ee17-438a-8ae9-4708026dc631');\n",
       "var x = new MutationObserver(function (mutations, observer) {{\n",
       "        var display = window.getComputedStyle(gd).display;\n",
       "        if (!display || display === 'none') {{\n",
       "            console.log([gd, 'removed!']);\n",
       "            Plotly.purge(gd);\n",
       "            observer.disconnect();\n",
       "        }}\n",
       "}});\n",
       "\n",
       "// Listen for the removal of the full notebook cells\n",
       "var notebookContainer = gd.closest('#notebook-container');\n",
       "if (notebookContainer) {{\n",
       "    x.observe(notebookContainer, {childList: true});\n",
       "}}\n",
       "\n",
       "// Listen for the clearing of the current output cell\n",
       "var outputEl = gd.closest('.output');\n",
       "if (outputEl) {{\n",
       "    x.observe(outputEl, {childList: true});\n",
       "}}\n",
       "\n",
       "                        })                };                });            </script>        </div>"
      ]
     },
     "metadata": {},
     "output_type": "display_data"
    }
   ],
   "source": [
    "df.iplot(kind='scatter',x='A',y='B',mode='markers',size=10)"
   ]
  },
  {
   "cell_type": "markdown",
   "metadata": {},
   "source": [
    "## Bar Plots"
   ]
  },
  {
   "cell_type": "code",
   "execution_count": 15,
   "metadata": {},
   "outputs": [
    {
     "data": {
      "application/vnd.plotly.v1+json": {
       "config": {
        "linkText": "Export to plot.ly",
        "plotlyServerURL": "https://plot.ly",
        "showLink": true
       },
       "data": [
        {
         "marker": {
          "color": "rgba(255, 153, 51, 0.6)",
          "line": {
           "color": "rgba(255, 153, 51, 1.0)",
           "width": 1
          }
         },
         "name": "Values",
         "orientation": "v",
         "text": "",
         "type": "bar",
         "x": [
          "A",
          "B",
          "C"
         ],
         "y": [
          32,
          43,
          50
         ]
        }
       ],
       "layout": {
        "legend": {
         "bgcolor": "#F5F6F9",
         "font": {
          "color": "#4D5663"
         }
        },
        "paper_bgcolor": "#F5F6F9",
        "plot_bgcolor": "#F5F6F9",
        "template": {
         "data": {
          "bar": [
           {
            "error_x": {
             "color": "#2a3f5f"
            },
            "error_y": {
             "color": "#2a3f5f"
            },
            "marker": {
             "line": {
              "color": "#E5ECF6",
              "width": 0.5
             },
             "pattern": {
              "fillmode": "overlay",
              "size": 10,
              "solidity": 0.2
             }
            },
            "type": "bar"
           }
          ],
          "barpolar": [
           {
            "marker": {
             "line": {
              "color": "#E5ECF6",
              "width": 0.5
             },
             "pattern": {
              "fillmode": "overlay",
              "size": 10,
              "solidity": 0.2
             }
            },
            "type": "barpolar"
           }
          ],
          "carpet": [
           {
            "aaxis": {
             "endlinecolor": "#2a3f5f",
             "gridcolor": "white",
             "linecolor": "white",
             "minorgridcolor": "white",
             "startlinecolor": "#2a3f5f"
            },
            "baxis": {
             "endlinecolor": "#2a3f5f",
             "gridcolor": "white",
             "linecolor": "white",
             "minorgridcolor": "white",
             "startlinecolor": "#2a3f5f"
            },
            "type": "carpet"
           }
          ],
          "choropleth": [
           {
            "colorbar": {
             "outlinewidth": 0,
             "ticks": ""
            },
            "type": "choropleth"
           }
          ],
          "contour": [
           {
            "colorbar": {
             "outlinewidth": 0,
             "ticks": ""
            },
            "colorscale": [
             [
              0,
              "#0d0887"
             ],
             [
              0.1111111111111111,
              "#46039f"
             ],
             [
              0.2222222222222222,
              "#7201a8"
             ],
             [
              0.3333333333333333,
              "#9c179e"
             ],
             [
              0.4444444444444444,
              "#bd3786"
             ],
             [
              0.5555555555555556,
              "#d8576b"
             ],
             [
              0.6666666666666666,
              "#ed7953"
             ],
             [
              0.7777777777777778,
              "#fb9f3a"
             ],
             [
              0.8888888888888888,
              "#fdca26"
             ],
             [
              1,
              "#f0f921"
             ]
            ],
            "type": "contour"
           }
          ],
          "contourcarpet": [
           {
            "colorbar": {
             "outlinewidth": 0,
             "ticks": ""
            },
            "type": "contourcarpet"
           }
          ],
          "heatmap": [
           {
            "colorbar": {
             "outlinewidth": 0,
             "ticks": ""
            },
            "colorscale": [
             [
              0,
              "#0d0887"
             ],
             [
              0.1111111111111111,
              "#46039f"
             ],
             [
              0.2222222222222222,
              "#7201a8"
             ],
             [
              0.3333333333333333,
              "#9c179e"
             ],
             [
              0.4444444444444444,
              "#bd3786"
             ],
             [
              0.5555555555555556,
              "#d8576b"
             ],
             [
              0.6666666666666666,
              "#ed7953"
             ],
             [
              0.7777777777777778,
              "#fb9f3a"
             ],
             [
              0.8888888888888888,
              "#fdca26"
             ],
             [
              1,
              "#f0f921"
             ]
            ],
            "type": "heatmap"
           }
          ],
          "heatmapgl": [
           {
            "colorbar": {
             "outlinewidth": 0,
             "ticks": ""
            },
            "colorscale": [
             [
              0,
              "#0d0887"
             ],
             [
              0.1111111111111111,
              "#46039f"
             ],
             [
              0.2222222222222222,
              "#7201a8"
             ],
             [
              0.3333333333333333,
              "#9c179e"
             ],
             [
              0.4444444444444444,
              "#bd3786"
             ],
             [
              0.5555555555555556,
              "#d8576b"
             ],
             [
              0.6666666666666666,
              "#ed7953"
             ],
             [
              0.7777777777777778,
              "#fb9f3a"
             ],
             [
              0.8888888888888888,
              "#fdca26"
             ],
             [
              1,
              "#f0f921"
             ]
            ],
            "type": "heatmapgl"
           }
          ],
          "histogram": [
           {
            "marker": {
             "pattern": {
              "fillmode": "overlay",
              "size": 10,
              "solidity": 0.2
             }
            },
            "type": "histogram"
           }
          ],
          "histogram2d": [
           {
            "colorbar": {
             "outlinewidth": 0,
             "ticks": ""
            },
            "colorscale": [
             [
              0,
              "#0d0887"
             ],
             [
              0.1111111111111111,
              "#46039f"
             ],
             [
              0.2222222222222222,
              "#7201a8"
             ],
             [
              0.3333333333333333,
              "#9c179e"
             ],
             [
              0.4444444444444444,
              "#bd3786"
             ],
             [
              0.5555555555555556,
              "#d8576b"
             ],
             [
              0.6666666666666666,
              "#ed7953"
             ],
             [
              0.7777777777777778,
              "#fb9f3a"
             ],
             [
              0.8888888888888888,
              "#fdca26"
             ],
             [
              1,
              "#f0f921"
             ]
            ],
            "type": "histogram2d"
           }
          ],
          "histogram2dcontour": [
           {
            "colorbar": {
             "outlinewidth": 0,
             "ticks": ""
            },
            "colorscale": [
             [
              0,
              "#0d0887"
             ],
             [
              0.1111111111111111,
              "#46039f"
             ],
             [
              0.2222222222222222,
              "#7201a8"
             ],
             [
              0.3333333333333333,
              "#9c179e"
             ],
             [
              0.4444444444444444,
              "#bd3786"
             ],
             [
              0.5555555555555556,
              "#d8576b"
             ],
             [
              0.6666666666666666,
              "#ed7953"
             ],
             [
              0.7777777777777778,
              "#fb9f3a"
             ],
             [
              0.8888888888888888,
              "#fdca26"
             ],
             [
              1,
              "#f0f921"
             ]
            ],
            "type": "histogram2dcontour"
           }
          ],
          "mesh3d": [
           {
            "colorbar": {
             "outlinewidth": 0,
             "ticks": ""
            },
            "type": "mesh3d"
           }
          ],
          "parcoords": [
           {
            "line": {
             "colorbar": {
              "outlinewidth": 0,
              "ticks": ""
             }
            },
            "type": "parcoords"
           }
          ],
          "pie": [
           {
            "automargin": true,
            "type": "pie"
           }
          ],
          "scatter": [
           {
            "marker": {
             "colorbar": {
              "outlinewidth": 0,
              "ticks": ""
             }
            },
            "type": "scatter"
           }
          ],
          "scatter3d": [
           {
            "line": {
             "colorbar": {
              "outlinewidth": 0,
              "ticks": ""
             }
            },
            "marker": {
             "colorbar": {
              "outlinewidth": 0,
              "ticks": ""
             }
            },
            "type": "scatter3d"
           }
          ],
          "scattercarpet": [
           {
            "marker": {
             "colorbar": {
              "outlinewidth": 0,
              "ticks": ""
             }
            },
            "type": "scattercarpet"
           }
          ],
          "scattergeo": [
           {
            "marker": {
             "colorbar": {
              "outlinewidth": 0,
              "ticks": ""
             }
            },
            "type": "scattergeo"
           }
          ],
          "scattergl": [
           {
            "marker": {
             "colorbar": {
              "outlinewidth": 0,
              "ticks": ""
             }
            },
            "type": "scattergl"
           }
          ],
          "scattermapbox": [
           {
            "marker": {
             "colorbar": {
              "outlinewidth": 0,
              "ticks": ""
             }
            },
            "type": "scattermapbox"
           }
          ],
          "scatterpolar": [
           {
            "marker": {
             "colorbar": {
              "outlinewidth": 0,
              "ticks": ""
             }
            },
            "type": "scatterpolar"
           }
          ],
          "scatterpolargl": [
           {
            "marker": {
             "colorbar": {
              "outlinewidth": 0,
              "ticks": ""
             }
            },
            "type": "scatterpolargl"
           }
          ],
          "scatterternary": [
           {
            "marker": {
             "colorbar": {
              "outlinewidth": 0,
              "ticks": ""
             }
            },
            "type": "scatterternary"
           }
          ],
          "surface": [
           {
            "colorbar": {
             "outlinewidth": 0,
             "ticks": ""
            },
            "colorscale": [
             [
              0,
              "#0d0887"
             ],
             [
              0.1111111111111111,
              "#46039f"
             ],
             [
              0.2222222222222222,
              "#7201a8"
             ],
             [
              0.3333333333333333,
              "#9c179e"
             ],
             [
              0.4444444444444444,
              "#bd3786"
             ],
             [
              0.5555555555555556,
              "#d8576b"
             ],
             [
              0.6666666666666666,
              "#ed7953"
             ],
             [
              0.7777777777777778,
              "#fb9f3a"
             ],
             [
              0.8888888888888888,
              "#fdca26"
             ],
             [
              1,
              "#f0f921"
             ]
            ],
            "type": "surface"
           }
          ],
          "table": [
           {
            "cells": {
             "fill": {
              "color": "#EBF0F8"
             },
             "line": {
              "color": "white"
             }
            },
            "header": {
             "fill": {
              "color": "#C8D4E3"
             },
             "line": {
              "color": "white"
             }
            },
            "type": "table"
           }
          ]
         },
         "layout": {
          "annotationdefaults": {
           "arrowcolor": "#2a3f5f",
           "arrowhead": 0,
           "arrowwidth": 1
          },
          "autotypenumbers": "strict",
          "coloraxis": {
           "colorbar": {
            "outlinewidth": 0,
            "ticks": ""
           }
          },
          "colorscale": {
           "diverging": [
            [
             0,
             "#8e0152"
            ],
            [
             0.1,
             "#c51b7d"
            ],
            [
             0.2,
             "#de77ae"
            ],
            [
             0.3,
             "#f1b6da"
            ],
            [
             0.4,
             "#fde0ef"
            ],
            [
             0.5,
             "#f7f7f7"
            ],
            [
             0.6,
             "#e6f5d0"
            ],
            [
             0.7,
             "#b8e186"
            ],
            [
             0.8,
             "#7fbc41"
            ],
            [
             0.9,
             "#4d9221"
            ],
            [
             1,
             "#276419"
            ]
           ],
           "sequential": [
            [
             0,
             "#0d0887"
            ],
            [
             0.1111111111111111,
             "#46039f"
            ],
            [
             0.2222222222222222,
             "#7201a8"
            ],
            [
             0.3333333333333333,
             "#9c179e"
            ],
            [
             0.4444444444444444,
             "#bd3786"
            ],
            [
             0.5555555555555556,
             "#d8576b"
            ],
            [
             0.6666666666666666,
             "#ed7953"
            ],
            [
             0.7777777777777778,
             "#fb9f3a"
            ],
            [
             0.8888888888888888,
             "#fdca26"
            ],
            [
             1,
             "#f0f921"
            ]
           ],
           "sequentialminus": [
            [
             0,
             "#0d0887"
            ],
            [
             0.1111111111111111,
             "#46039f"
            ],
            [
             0.2222222222222222,
             "#7201a8"
            ],
            [
             0.3333333333333333,
             "#9c179e"
            ],
            [
             0.4444444444444444,
             "#bd3786"
            ],
            [
             0.5555555555555556,
             "#d8576b"
            ],
            [
             0.6666666666666666,
             "#ed7953"
            ],
            [
             0.7777777777777778,
             "#fb9f3a"
            ],
            [
             0.8888888888888888,
             "#fdca26"
            ],
            [
             1,
             "#f0f921"
            ]
           ]
          },
          "colorway": [
           "#636efa",
           "#EF553B",
           "#00cc96",
           "#ab63fa",
           "#FFA15A",
           "#19d3f3",
           "#FF6692",
           "#B6E880",
           "#FF97FF",
           "#FECB52"
          ],
          "font": {
           "color": "#2a3f5f"
          },
          "geo": {
           "bgcolor": "white",
           "lakecolor": "white",
           "landcolor": "#E5ECF6",
           "showlakes": true,
           "showland": true,
           "subunitcolor": "white"
          },
          "hoverlabel": {
           "align": "left"
          },
          "hovermode": "closest",
          "mapbox": {
           "style": "light"
          },
          "paper_bgcolor": "white",
          "plot_bgcolor": "#E5ECF6",
          "polar": {
           "angularaxis": {
            "gridcolor": "white",
            "linecolor": "white",
            "ticks": ""
           },
           "bgcolor": "#E5ECF6",
           "radialaxis": {
            "gridcolor": "white",
            "linecolor": "white",
            "ticks": ""
           }
          },
          "scene": {
           "xaxis": {
            "backgroundcolor": "#E5ECF6",
            "gridcolor": "white",
            "gridwidth": 2,
            "linecolor": "white",
            "showbackground": true,
            "ticks": "",
            "zerolinecolor": "white"
           },
           "yaxis": {
            "backgroundcolor": "#E5ECF6",
            "gridcolor": "white",
            "gridwidth": 2,
            "linecolor": "white",
            "showbackground": true,
            "ticks": "",
            "zerolinecolor": "white"
           },
           "zaxis": {
            "backgroundcolor": "#E5ECF6",
            "gridcolor": "white",
            "gridwidth": 2,
            "linecolor": "white",
            "showbackground": true,
            "ticks": "",
            "zerolinecolor": "white"
           }
          },
          "shapedefaults": {
           "line": {
            "color": "#2a3f5f"
           }
          },
          "ternary": {
           "aaxis": {
            "gridcolor": "white",
            "linecolor": "white",
            "ticks": ""
           },
           "baxis": {
            "gridcolor": "white",
            "linecolor": "white",
            "ticks": ""
           },
           "bgcolor": "#E5ECF6",
           "caxis": {
            "gridcolor": "white",
            "linecolor": "white",
            "ticks": ""
           }
          },
          "title": {
           "x": 0.05
          },
          "xaxis": {
           "automargin": true,
           "gridcolor": "white",
           "linecolor": "white",
           "ticks": "",
           "title": {
            "standoff": 15
           },
           "zerolinecolor": "white",
           "zerolinewidth": 2
          },
          "yaxis": {
           "automargin": true,
           "gridcolor": "white",
           "linecolor": "white",
           "ticks": "",
           "title": {
            "standoff": 15
           },
           "zerolinecolor": "white",
           "zerolinewidth": 2
          }
         }
        },
        "title": {
         "font": {
          "color": "#4D5663"
         }
        },
        "xaxis": {
         "gridcolor": "#E1E5ED",
         "showgrid": true,
         "tickfont": {
          "color": "#4D5663"
         },
         "title": {
          "font": {
           "color": "#4D5663"
          },
          "text": ""
         },
         "zerolinecolor": "#E1E5ED"
        },
        "yaxis": {
         "gridcolor": "#E1E5ED",
         "showgrid": true,
         "tickfont": {
          "color": "#4D5663"
         },
         "title": {
          "font": {
           "color": "#4D5663"
          },
          "text": ""
         },
         "zerolinecolor": "#E1E5ED"
        }
       }
      },
      "text/html": [
       "<div>                            <div id=\"6ed3dd9b-311f-4d2c-bcd9-bc29c37ad452\" class=\"plotly-graph-div\" style=\"height:525px; width:100%;\"></div>            <script type=\"text/javascript\">                require([\"plotly\"], function(Plotly) {                    window.PLOTLYENV=window.PLOTLYENV || {};\n",
       "                    window.PLOTLYENV.BASE_URL='https://plot.ly';                                    if (document.getElementById(\"6ed3dd9b-311f-4d2c-bcd9-bc29c37ad452\")) {                    Plotly.newPlot(                        \"6ed3dd9b-311f-4d2c-bcd9-bc29c37ad452\",                        [{\"marker\":{\"color\":\"rgba(255, 153, 51, 0.6)\",\"line\":{\"color\":\"rgba(255, 153, 51, 1.0)\",\"width\":1}},\"name\":\"Values\",\"orientation\":\"v\",\"text\":\"\",\"x\":[\"A\",\"B\",\"C\"],\"y\":[32,43,50],\"type\":\"bar\"}],                        {\"legend\":{\"bgcolor\":\"#F5F6F9\",\"font\":{\"color\":\"#4D5663\"}},\"paper_bgcolor\":\"#F5F6F9\",\"plot_bgcolor\":\"#F5F6F9\",\"template\":{\"data\":{\"barpolar\":[{\"marker\":{\"line\":{\"color\":\"#E5ECF6\",\"width\":0.5},\"pattern\":{\"fillmode\":\"overlay\",\"size\":10,\"solidity\":0.2}},\"type\":\"barpolar\"}],\"bar\":[{\"error_x\":{\"color\":\"#2a3f5f\"},\"error_y\":{\"color\":\"#2a3f5f\"},\"marker\":{\"line\":{\"color\":\"#E5ECF6\",\"width\":0.5},\"pattern\":{\"fillmode\":\"overlay\",\"size\":10,\"solidity\":0.2}},\"type\":\"bar\"}],\"carpet\":[{\"aaxis\":{\"endlinecolor\":\"#2a3f5f\",\"gridcolor\":\"white\",\"linecolor\":\"white\",\"minorgridcolor\":\"white\",\"startlinecolor\":\"#2a3f5f\"},\"baxis\":{\"endlinecolor\":\"#2a3f5f\",\"gridcolor\":\"white\",\"linecolor\":\"white\",\"minorgridcolor\":\"white\",\"startlinecolor\":\"#2a3f5f\"},\"type\":\"carpet\"}],\"choropleth\":[{\"colorbar\":{\"outlinewidth\":0,\"ticks\":\"\"},\"type\":\"choropleth\"}],\"contourcarpet\":[{\"colorbar\":{\"outlinewidth\":0,\"ticks\":\"\"},\"type\":\"contourcarpet\"}],\"contour\":[{\"colorbar\":{\"outlinewidth\":0,\"ticks\":\"\"},\"colorscale\":[[0.0,\"#0d0887\"],[0.1111111111111111,\"#46039f\"],[0.2222222222222222,\"#7201a8\"],[0.3333333333333333,\"#9c179e\"],[0.4444444444444444,\"#bd3786\"],[0.5555555555555556,\"#d8576b\"],[0.6666666666666666,\"#ed7953\"],[0.7777777777777778,\"#fb9f3a\"],[0.8888888888888888,\"#fdca26\"],[1.0,\"#f0f921\"]],\"type\":\"contour\"}],\"heatmapgl\":[{\"colorbar\":{\"outlinewidth\":0,\"ticks\":\"\"},\"colorscale\":[[0.0,\"#0d0887\"],[0.1111111111111111,\"#46039f\"],[0.2222222222222222,\"#7201a8\"],[0.3333333333333333,\"#9c179e\"],[0.4444444444444444,\"#bd3786\"],[0.5555555555555556,\"#d8576b\"],[0.6666666666666666,\"#ed7953\"],[0.7777777777777778,\"#fb9f3a\"],[0.8888888888888888,\"#fdca26\"],[1.0,\"#f0f921\"]],\"type\":\"heatmapgl\"}],\"heatmap\":[{\"colorbar\":{\"outlinewidth\":0,\"ticks\":\"\"},\"colorscale\":[[0.0,\"#0d0887\"],[0.1111111111111111,\"#46039f\"],[0.2222222222222222,\"#7201a8\"],[0.3333333333333333,\"#9c179e\"],[0.4444444444444444,\"#bd3786\"],[0.5555555555555556,\"#d8576b\"],[0.6666666666666666,\"#ed7953\"],[0.7777777777777778,\"#fb9f3a\"],[0.8888888888888888,\"#fdca26\"],[1.0,\"#f0f921\"]],\"type\":\"heatmap\"}],\"histogram2dcontour\":[{\"colorbar\":{\"outlinewidth\":0,\"ticks\":\"\"},\"colorscale\":[[0.0,\"#0d0887\"],[0.1111111111111111,\"#46039f\"],[0.2222222222222222,\"#7201a8\"],[0.3333333333333333,\"#9c179e\"],[0.4444444444444444,\"#bd3786\"],[0.5555555555555556,\"#d8576b\"],[0.6666666666666666,\"#ed7953\"],[0.7777777777777778,\"#fb9f3a\"],[0.8888888888888888,\"#fdca26\"],[1.0,\"#f0f921\"]],\"type\":\"histogram2dcontour\"}],\"histogram2d\":[{\"colorbar\":{\"outlinewidth\":0,\"ticks\":\"\"},\"colorscale\":[[0.0,\"#0d0887\"],[0.1111111111111111,\"#46039f\"],[0.2222222222222222,\"#7201a8\"],[0.3333333333333333,\"#9c179e\"],[0.4444444444444444,\"#bd3786\"],[0.5555555555555556,\"#d8576b\"],[0.6666666666666666,\"#ed7953\"],[0.7777777777777778,\"#fb9f3a\"],[0.8888888888888888,\"#fdca26\"],[1.0,\"#f0f921\"]],\"type\":\"histogram2d\"}],\"histogram\":[{\"marker\":{\"pattern\":{\"fillmode\":\"overlay\",\"size\":10,\"solidity\":0.2}},\"type\":\"histogram\"}],\"mesh3d\":[{\"colorbar\":{\"outlinewidth\":0,\"ticks\":\"\"},\"type\":\"mesh3d\"}],\"parcoords\":[{\"line\":{\"colorbar\":{\"outlinewidth\":0,\"ticks\":\"\"}},\"type\":\"parcoords\"}],\"pie\":[{\"automargin\":true,\"type\":\"pie\"}],\"scatter3d\":[{\"line\":{\"colorbar\":{\"outlinewidth\":0,\"ticks\":\"\"}},\"marker\":{\"colorbar\":{\"outlinewidth\":0,\"ticks\":\"\"}},\"type\":\"scatter3d\"}],\"scattercarpet\":[{\"marker\":{\"colorbar\":{\"outlinewidth\":0,\"ticks\":\"\"}},\"type\":\"scattercarpet\"}],\"scattergeo\":[{\"marker\":{\"colorbar\":{\"outlinewidth\":0,\"ticks\":\"\"}},\"type\":\"scattergeo\"}],\"scattergl\":[{\"marker\":{\"colorbar\":{\"outlinewidth\":0,\"ticks\":\"\"}},\"type\":\"scattergl\"}],\"scattermapbox\":[{\"marker\":{\"colorbar\":{\"outlinewidth\":0,\"ticks\":\"\"}},\"type\":\"scattermapbox\"}],\"scatterpolargl\":[{\"marker\":{\"colorbar\":{\"outlinewidth\":0,\"ticks\":\"\"}},\"type\":\"scatterpolargl\"}],\"scatterpolar\":[{\"marker\":{\"colorbar\":{\"outlinewidth\":0,\"ticks\":\"\"}},\"type\":\"scatterpolar\"}],\"scatter\":[{\"marker\":{\"colorbar\":{\"outlinewidth\":0,\"ticks\":\"\"}},\"type\":\"scatter\"}],\"scatterternary\":[{\"marker\":{\"colorbar\":{\"outlinewidth\":0,\"ticks\":\"\"}},\"type\":\"scatterternary\"}],\"surface\":[{\"colorbar\":{\"outlinewidth\":0,\"ticks\":\"\"},\"colorscale\":[[0.0,\"#0d0887\"],[0.1111111111111111,\"#46039f\"],[0.2222222222222222,\"#7201a8\"],[0.3333333333333333,\"#9c179e\"],[0.4444444444444444,\"#bd3786\"],[0.5555555555555556,\"#d8576b\"],[0.6666666666666666,\"#ed7953\"],[0.7777777777777778,\"#fb9f3a\"],[0.8888888888888888,\"#fdca26\"],[1.0,\"#f0f921\"]],\"type\":\"surface\"}],\"table\":[{\"cells\":{\"fill\":{\"color\":\"#EBF0F8\"},\"line\":{\"color\":\"white\"}},\"header\":{\"fill\":{\"color\":\"#C8D4E3\"},\"line\":{\"color\":\"white\"}},\"type\":\"table\"}]},\"layout\":{\"annotationdefaults\":{\"arrowcolor\":\"#2a3f5f\",\"arrowhead\":0,\"arrowwidth\":1},\"autotypenumbers\":\"strict\",\"coloraxis\":{\"colorbar\":{\"outlinewidth\":0,\"ticks\":\"\"}},\"colorscale\":{\"diverging\":[[0,\"#8e0152\"],[0.1,\"#c51b7d\"],[0.2,\"#de77ae\"],[0.3,\"#f1b6da\"],[0.4,\"#fde0ef\"],[0.5,\"#f7f7f7\"],[0.6,\"#e6f5d0\"],[0.7,\"#b8e186\"],[0.8,\"#7fbc41\"],[0.9,\"#4d9221\"],[1,\"#276419\"]],\"sequential\":[[0.0,\"#0d0887\"],[0.1111111111111111,\"#46039f\"],[0.2222222222222222,\"#7201a8\"],[0.3333333333333333,\"#9c179e\"],[0.4444444444444444,\"#bd3786\"],[0.5555555555555556,\"#d8576b\"],[0.6666666666666666,\"#ed7953\"],[0.7777777777777778,\"#fb9f3a\"],[0.8888888888888888,\"#fdca26\"],[1.0,\"#f0f921\"]],\"sequentialminus\":[[0.0,\"#0d0887\"],[0.1111111111111111,\"#46039f\"],[0.2222222222222222,\"#7201a8\"],[0.3333333333333333,\"#9c179e\"],[0.4444444444444444,\"#bd3786\"],[0.5555555555555556,\"#d8576b\"],[0.6666666666666666,\"#ed7953\"],[0.7777777777777778,\"#fb9f3a\"],[0.8888888888888888,\"#fdca26\"],[1.0,\"#f0f921\"]]},\"colorway\":[\"#636efa\",\"#EF553B\",\"#00cc96\",\"#ab63fa\",\"#FFA15A\",\"#19d3f3\",\"#FF6692\",\"#B6E880\",\"#FF97FF\",\"#FECB52\"],\"font\":{\"color\":\"#2a3f5f\"},\"geo\":{\"bgcolor\":\"white\",\"lakecolor\":\"white\",\"landcolor\":\"#E5ECF6\",\"showlakes\":true,\"showland\":true,\"subunitcolor\":\"white\"},\"hoverlabel\":{\"align\":\"left\"},\"hovermode\":\"closest\",\"mapbox\":{\"style\":\"light\"},\"paper_bgcolor\":\"white\",\"plot_bgcolor\":\"#E5ECF6\",\"polar\":{\"angularaxis\":{\"gridcolor\":\"white\",\"linecolor\":\"white\",\"ticks\":\"\"},\"bgcolor\":\"#E5ECF6\",\"radialaxis\":{\"gridcolor\":\"white\",\"linecolor\":\"white\",\"ticks\":\"\"}},\"scene\":{\"xaxis\":{\"backgroundcolor\":\"#E5ECF6\",\"gridcolor\":\"white\",\"gridwidth\":2,\"linecolor\":\"white\",\"showbackground\":true,\"ticks\":\"\",\"zerolinecolor\":\"white\"},\"yaxis\":{\"backgroundcolor\":\"#E5ECF6\",\"gridcolor\":\"white\",\"gridwidth\":2,\"linecolor\":\"white\",\"showbackground\":true,\"ticks\":\"\",\"zerolinecolor\":\"white\"},\"zaxis\":{\"backgroundcolor\":\"#E5ECF6\",\"gridcolor\":\"white\",\"gridwidth\":2,\"linecolor\":\"white\",\"showbackground\":true,\"ticks\":\"\",\"zerolinecolor\":\"white\"}},\"shapedefaults\":{\"line\":{\"color\":\"#2a3f5f\"}},\"ternary\":{\"aaxis\":{\"gridcolor\":\"white\",\"linecolor\":\"white\",\"ticks\":\"\"},\"baxis\":{\"gridcolor\":\"white\",\"linecolor\":\"white\",\"ticks\":\"\"},\"bgcolor\":\"#E5ECF6\",\"caxis\":{\"gridcolor\":\"white\",\"linecolor\":\"white\",\"ticks\":\"\"}},\"title\":{\"x\":0.05},\"xaxis\":{\"automargin\":true,\"gridcolor\":\"white\",\"linecolor\":\"white\",\"ticks\":\"\",\"title\":{\"standoff\":15},\"zerolinecolor\":\"white\",\"zerolinewidth\":2},\"yaxis\":{\"automargin\":true,\"gridcolor\":\"white\",\"linecolor\":\"white\",\"ticks\":\"\",\"title\":{\"standoff\":15},\"zerolinecolor\":\"white\",\"zerolinewidth\":2}}},\"title\":{\"font\":{\"color\":\"#4D5663\"}},\"xaxis\":{\"gridcolor\":\"#E1E5ED\",\"showgrid\":true,\"tickfont\":{\"color\":\"#4D5663\"},\"title\":{\"font\":{\"color\":\"#4D5663\"},\"text\":\"\"},\"zerolinecolor\":\"#E1E5ED\"},\"yaxis\":{\"gridcolor\":\"#E1E5ED\",\"showgrid\":true,\"tickfont\":{\"color\":\"#4D5663\"},\"title\":{\"font\":{\"color\":\"#4D5663\"},\"text\":\"\"},\"zerolinecolor\":\"#E1E5ED\"}},                        {\"showLink\": true, \"linkText\": \"Export to plot.ly\", \"plotlyServerURL\": \"https://plot.ly\", \"responsive\": true}                    ).then(function(){\n",
       "                            \n",
       "var gd = document.getElementById('6ed3dd9b-311f-4d2c-bcd9-bc29c37ad452');\n",
       "var x = new MutationObserver(function (mutations, observer) {{\n",
       "        var display = window.getComputedStyle(gd).display;\n",
       "        if (!display || display === 'none') {{\n",
       "            console.log([gd, 'removed!']);\n",
       "            Plotly.purge(gd);\n",
       "            observer.disconnect();\n",
       "        }}\n",
       "}});\n",
       "\n",
       "// Listen for the removal of the full notebook cells\n",
       "var notebookContainer = gd.closest('#notebook-container');\n",
       "if (notebookContainer) {{\n",
       "    x.observe(notebookContainer, {childList: true});\n",
       "}}\n",
       "\n",
       "// Listen for the clearing of the current output cell\n",
       "var outputEl = gd.closest('.output');\n",
       "if (outputEl) {{\n",
       "    x.observe(outputEl, {childList: true});\n",
       "}}\n",
       "\n",
       "                        })                };                });            </script>        </div>"
      ]
     },
     "metadata": {},
     "output_type": "display_data"
    }
   ],
   "source": [
    "df2.iplot(kind='bar',x='Category',y='Values')"
   ]
  },
  {
   "cell_type": "code",
   "execution_count": 16,
   "metadata": {},
   "outputs": [
    {
     "data": {
      "application/vnd.plotly.v1+json": {
       "config": {
        "linkText": "Export to plot.ly",
        "plotlyServerURL": "https://plot.ly",
        "showLink": true
       },
       "data": [
        {
         "marker": {
          "color": "rgba(255, 153, 51, 0.6)",
          "line": {
           "color": "rgba(255, 153, 51, 1.0)",
           "width": 1
          }
         },
         "name": "None",
         "orientation": "v",
         "text": "",
         "type": "bar",
         "x": [
          "A",
          "B",
          "C",
          "D"
         ],
         "y": [
          100,
          100,
          100,
          100
         ]
        }
       ],
       "layout": {
        "legend": {
         "bgcolor": "#F5F6F9",
         "font": {
          "color": "#4D5663"
         }
        },
        "paper_bgcolor": "#F5F6F9",
        "plot_bgcolor": "#F5F6F9",
        "template": {
         "data": {
          "bar": [
           {
            "error_x": {
             "color": "#2a3f5f"
            },
            "error_y": {
             "color": "#2a3f5f"
            },
            "marker": {
             "line": {
              "color": "#E5ECF6",
              "width": 0.5
             },
             "pattern": {
              "fillmode": "overlay",
              "size": 10,
              "solidity": 0.2
             }
            },
            "type": "bar"
           }
          ],
          "barpolar": [
           {
            "marker": {
             "line": {
              "color": "#E5ECF6",
              "width": 0.5
             },
             "pattern": {
              "fillmode": "overlay",
              "size": 10,
              "solidity": 0.2
             }
            },
            "type": "barpolar"
           }
          ],
          "carpet": [
           {
            "aaxis": {
             "endlinecolor": "#2a3f5f",
             "gridcolor": "white",
             "linecolor": "white",
             "minorgridcolor": "white",
             "startlinecolor": "#2a3f5f"
            },
            "baxis": {
             "endlinecolor": "#2a3f5f",
             "gridcolor": "white",
             "linecolor": "white",
             "minorgridcolor": "white",
             "startlinecolor": "#2a3f5f"
            },
            "type": "carpet"
           }
          ],
          "choropleth": [
           {
            "colorbar": {
             "outlinewidth": 0,
             "ticks": ""
            },
            "type": "choropleth"
           }
          ],
          "contour": [
           {
            "colorbar": {
             "outlinewidth": 0,
             "ticks": ""
            },
            "colorscale": [
             [
              0,
              "#0d0887"
             ],
             [
              0.1111111111111111,
              "#46039f"
             ],
             [
              0.2222222222222222,
              "#7201a8"
             ],
             [
              0.3333333333333333,
              "#9c179e"
             ],
             [
              0.4444444444444444,
              "#bd3786"
             ],
             [
              0.5555555555555556,
              "#d8576b"
             ],
             [
              0.6666666666666666,
              "#ed7953"
             ],
             [
              0.7777777777777778,
              "#fb9f3a"
             ],
             [
              0.8888888888888888,
              "#fdca26"
             ],
             [
              1,
              "#f0f921"
             ]
            ],
            "type": "contour"
           }
          ],
          "contourcarpet": [
           {
            "colorbar": {
             "outlinewidth": 0,
             "ticks": ""
            },
            "type": "contourcarpet"
           }
          ],
          "heatmap": [
           {
            "colorbar": {
             "outlinewidth": 0,
             "ticks": ""
            },
            "colorscale": [
             [
              0,
              "#0d0887"
             ],
             [
              0.1111111111111111,
              "#46039f"
             ],
             [
              0.2222222222222222,
              "#7201a8"
             ],
             [
              0.3333333333333333,
              "#9c179e"
             ],
             [
              0.4444444444444444,
              "#bd3786"
             ],
             [
              0.5555555555555556,
              "#d8576b"
             ],
             [
              0.6666666666666666,
              "#ed7953"
             ],
             [
              0.7777777777777778,
              "#fb9f3a"
             ],
             [
              0.8888888888888888,
              "#fdca26"
             ],
             [
              1,
              "#f0f921"
             ]
            ],
            "type": "heatmap"
           }
          ],
          "heatmapgl": [
           {
            "colorbar": {
             "outlinewidth": 0,
             "ticks": ""
            },
            "colorscale": [
             [
              0,
              "#0d0887"
             ],
             [
              0.1111111111111111,
              "#46039f"
             ],
             [
              0.2222222222222222,
              "#7201a8"
             ],
             [
              0.3333333333333333,
              "#9c179e"
             ],
             [
              0.4444444444444444,
              "#bd3786"
             ],
             [
              0.5555555555555556,
              "#d8576b"
             ],
             [
              0.6666666666666666,
              "#ed7953"
             ],
             [
              0.7777777777777778,
              "#fb9f3a"
             ],
             [
              0.8888888888888888,
              "#fdca26"
             ],
             [
              1,
              "#f0f921"
             ]
            ],
            "type": "heatmapgl"
           }
          ],
          "histogram": [
           {
            "marker": {
             "pattern": {
              "fillmode": "overlay",
              "size": 10,
              "solidity": 0.2
             }
            },
            "type": "histogram"
           }
          ],
          "histogram2d": [
           {
            "colorbar": {
             "outlinewidth": 0,
             "ticks": ""
            },
            "colorscale": [
             [
              0,
              "#0d0887"
             ],
             [
              0.1111111111111111,
              "#46039f"
             ],
             [
              0.2222222222222222,
              "#7201a8"
             ],
             [
              0.3333333333333333,
              "#9c179e"
             ],
             [
              0.4444444444444444,
              "#bd3786"
             ],
             [
              0.5555555555555556,
              "#d8576b"
             ],
             [
              0.6666666666666666,
              "#ed7953"
             ],
             [
              0.7777777777777778,
              "#fb9f3a"
             ],
             [
              0.8888888888888888,
              "#fdca26"
             ],
             [
              1,
              "#f0f921"
             ]
            ],
            "type": "histogram2d"
           }
          ],
          "histogram2dcontour": [
           {
            "colorbar": {
             "outlinewidth": 0,
             "ticks": ""
            },
            "colorscale": [
             [
              0,
              "#0d0887"
             ],
             [
              0.1111111111111111,
              "#46039f"
             ],
             [
              0.2222222222222222,
              "#7201a8"
             ],
             [
              0.3333333333333333,
              "#9c179e"
             ],
             [
              0.4444444444444444,
              "#bd3786"
             ],
             [
              0.5555555555555556,
              "#d8576b"
             ],
             [
              0.6666666666666666,
              "#ed7953"
             ],
             [
              0.7777777777777778,
              "#fb9f3a"
             ],
             [
              0.8888888888888888,
              "#fdca26"
             ],
             [
              1,
              "#f0f921"
             ]
            ],
            "type": "histogram2dcontour"
           }
          ],
          "mesh3d": [
           {
            "colorbar": {
             "outlinewidth": 0,
             "ticks": ""
            },
            "type": "mesh3d"
           }
          ],
          "parcoords": [
           {
            "line": {
             "colorbar": {
              "outlinewidth": 0,
              "ticks": ""
             }
            },
            "type": "parcoords"
           }
          ],
          "pie": [
           {
            "automargin": true,
            "type": "pie"
           }
          ],
          "scatter": [
           {
            "marker": {
             "colorbar": {
              "outlinewidth": 0,
              "ticks": ""
             }
            },
            "type": "scatter"
           }
          ],
          "scatter3d": [
           {
            "line": {
             "colorbar": {
              "outlinewidth": 0,
              "ticks": ""
             }
            },
            "marker": {
             "colorbar": {
              "outlinewidth": 0,
              "ticks": ""
             }
            },
            "type": "scatter3d"
           }
          ],
          "scattercarpet": [
           {
            "marker": {
             "colorbar": {
              "outlinewidth": 0,
              "ticks": ""
             }
            },
            "type": "scattercarpet"
           }
          ],
          "scattergeo": [
           {
            "marker": {
             "colorbar": {
              "outlinewidth": 0,
              "ticks": ""
             }
            },
            "type": "scattergeo"
           }
          ],
          "scattergl": [
           {
            "marker": {
             "colorbar": {
              "outlinewidth": 0,
              "ticks": ""
             }
            },
            "type": "scattergl"
           }
          ],
          "scattermapbox": [
           {
            "marker": {
             "colorbar": {
              "outlinewidth": 0,
              "ticks": ""
             }
            },
            "type": "scattermapbox"
           }
          ],
          "scatterpolar": [
           {
            "marker": {
             "colorbar": {
              "outlinewidth": 0,
              "ticks": ""
             }
            },
            "type": "scatterpolar"
           }
          ],
          "scatterpolargl": [
           {
            "marker": {
             "colorbar": {
              "outlinewidth": 0,
              "ticks": ""
             }
            },
            "type": "scatterpolargl"
           }
          ],
          "scatterternary": [
           {
            "marker": {
             "colorbar": {
              "outlinewidth": 0,
              "ticks": ""
             }
            },
            "type": "scatterternary"
           }
          ],
          "surface": [
           {
            "colorbar": {
             "outlinewidth": 0,
             "ticks": ""
            },
            "colorscale": [
             [
              0,
              "#0d0887"
             ],
             [
              0.1111111111111111,
              "#46039f"
             ],
             [
              0.2222222222222222,
              "#7201a8"
             ],
             [
              0.3333333333333333,
              "#9c179e"
             ],
             [
              0.4444444444444444,
              "#bd3786"
             ],
             [
              0.5555555555555556,
              "#d8576b"
             ],
             [
              0.6666666666666666,
              "#ed7953"
             ],
             [
              0.7777777777777778,
              "#fb9f3a"
             ],
             [
              0.8888888888888888,
              "#fdca26"
             ],
             [
              1,
              "#f0f921"
             ]
            ],
            "type": "surface"
           }
          ],
          "table": [
           {
            "cells": {
             "fill": {
              "color": "#EBF0F8"
             },
             "line": {
              "color": "white"
             }
            },
            "header": {
             "fill": {
              "color": "#C8D4E3"
             },
             "line": {
              "color": "white"
             }
            },
            "type": "table"
           }
          ]
         },
         "layout": {
          "annotationdefaults": {
           "arrowcolor": "#2a3f5f",
           "arrowhead": 0,
           "arrowwidth": 1
          },
          "autotypenumbers": "strict",
          "coloraxis": {
           "colorbar": {
            "outlinewidth": 0,
            "ticks": ""
           }
          },
          "colorscale": {
           "diverging": [
            [
             0,
             "#8e0152"
            ],
            [
             0.1,
             "#c51b7d"
            ],
            [
             0.2,
             "#de77ae"
            ],
            [
             0.3,
             "#f1b6da"
            ],
            [
             0.4,
             "#fde0ef"
            ],
            [
             0.5,
             "#f7f7f7"
            ],
            [
             0.6,
             "#e6f5d0"
            ],
            [
             0.7,
             "#b8e186"
            ],
            [
             0.8,
             "#7fbc41"
            ],
            [
             0.9,
             "#4d9221"
            ],
            [
             1,
             "#276419"
            ]
           ],
           "sequential": [
            [
             0,
             "#0d0887"
            ],
            [
             0.1111111111111111,
             "#46039f"
            ],
            [
             0.2222222222222222,
             "#7201a8"
            ],
            [
             0.3333333333333333,
             "#9c179e"
            ],
            [
             0.4444444444444444,
             "#bd3786"
            ],
            [
             0.5555555555555556,
             "#d8576b"
            ],
            [
             0.6666666666666666,
             "#ed7953"
            ],
            [
             0.7777777777777778,
             "#fb9f3a"
            ],
            [
             0.8888888888888888,
             "#fdca26"
            ],
            [
             1,
             "#f0f921"
            ]
           ],
           "sequentialminus": [
            [
             0,
             "#0d0887"
            ],
            [
             0.1111111111111111,
             "#46039f"
            ],
            [
             0.2222222222222222,
             "#7201a8"
            ],
            [
             0.3333333333333333,
             "#9c179e"
            ],
            [
             0.4444444444444444,
             "#bd3786"
            ],
            [
             0.5555555555555556,
             "#d8576b"
            ],
            [
             0.6666666666666666,
             "#ed7953"
            ],
            [
             0.7777777777777778,
             "#fb9f3a"
            ],
            [
             0.8888888888888888,
             "#fdca26"
            ],
            [
             1,
             "#f0f921"
            ]
           ]
          },
          "colorway": [
           "#636efa",
           "#EF553B",
           "#00cc96",
           "#ab63fa",
           "#FFA15A",
           "#19d3f3",
           "#FF6692",
           "#B6E880",
           "#FF97FF",
           "#FECB52"
          ],
          "font": {
           "color": "#2a3f5f"
          },
          "geo": {
           "bgcolor": "white",
           "lakecolor": "white",
           "landcolor": "#E5ECF6",
           "showlakes": true,
           "showland": true,
           "subunitcolor": "white"
          },
          "hoverlabel": {
           "align": "left"
          },
          "hovermode": "closest",
          "mapbox": {
           "style": "light"
          },
          "paper_bgcolor": "white",
          "plot_bgcolor": "#E5ECF6",
          "polar": {
           "angularaxis": {
            "gridcolor": "white",
            "linecolor": "white",
            "ticks": ""
           },
           "bgcolor": "#E5ECF6",
           "radialaxis": {
            "gridcolor": "white",
            "linecolor": "white",
            "ticks": ""
           }
          },
          "scene": {
           "xaxis": {
            "backgroundcolor": "#E5ECF6",
            "gridcolor": "white",
            "gridwidth": 2,
            "linecolor": "white",
            "showbackground": true,
            "ticks": "",
            "zerolinecolor": "white"
           },
           "yaxis": {
            "backgroundcolor": "#E5ECF6",
            "gridcolor": "white",
            "gridwidth": 2,
            "linecolor": "white",
            "showbackground": true,
            "ticks": "",
            "zerolinecolor": "white"
           },
           "zaxis": {
            "backgroundcolor": "#E5ECF6",
            "gridcolor": "white",
            "gridwidth": 2,
            "linecolor": "white",
            "showbackground": true,
            "ticks": "",
            "zerolinecolor": "white"
           }
          },
          "shapedefaults": {
           "line": {
            "color": "#2a3f5f"
           }
          },
          "ternary": {
           "aaxis": {
            "gridcolor": "white",
            "linecolor": "white",
            "ticks": ""
           },
           "baxis": {
            "gridcolor": "white",
            "linecolor": "white",
            "ticks": ""
           },
           "bgcolor": "#E5ECF6",
           "caxis": {
            "gridcolor": "white",
            "linecolor": "white",
            "ticks": ""
           }
          },
          "title": {
           "x": 0.05
          },
          "xaxis": {
           "automargin": true,
           "gridcolor": "white",
           "linecolor": "white",
           "ticks": "",
           "title": {
            "standoff": 15
           },
           "zerolinecolor": "white",
           "zerolinewidth": 2
          },
          "yaxis": {
           "automargin": true,
           "gridcolor": "white",
           "linecolor": "white",
           "ticks": "",
           "title": {
            "standoff": 15
           },
           "zerolinecolor": "white",
           "zerolinewidth": 2
          }
         }
        },
        "title": {
         "font": {
          "color": "#4D5663"
         }
        },
        "xaxis": {
         "gridcolor": "#E1E5ED",
         "showgrid": true,
         "tickfont": {
          "color": "#4D5663"
         },
         "title": {
          "font": {
           "color": "#4D5663"
          },
          "text": ""
         },
         "zerolinecolor": "#E1E5ED"
        },
        "yaxis": {
         "gridcolor": "#E1E5ED",
         "showgrid": true,
         "tickfont": {
          "color": "#4D5663"
         },
         "title": {
          "font": {
           "color": "#4D5663"
          },
          "text": ""
         },
         "zerolinecolor": "#E1E5ED"
        }
       }
      },
      "text/html": [
       "<div>                            <div id=\"2249890d-cadf-4386-8736-03168b41a201\" class=\"plotly-graph-div\" style=\"height:525px; width:100%;\"></div>            <script type=\"text/javascript\">                require([\"plotly\"], function(Plotly) {                    window.PLOTLYENV=window.PLOTLYENV || {};\n",
       "                    window.PLOTLYENV.BASE_URL='https://plot.ly';                                    if (document.getElementById(\"2249890d-cadf-4386-8736-03168b41a201\")) {                    Plotly.newPlot(                        \"2249890d-cadf-4386-8736-03168b41a201\",                        [{\"marker\":{\"color\":\"rgba(255, 153, 51, 0.6)\",\"line\":{\"color\":\"rgba(255, 153, 51, 1.0)\",\"width\":1}},\"name\":\"None\",\"orientation\":\"v\",\"text\":\"\",\"x\":[\"A\",\"B\",\"C\",\"D\"],\"y\":[100,100,100,100],\"type\":\"bar\"}],                        {\"legend\":{\"bgcolor\":\"#F5F6F9\",\"font\":{\"color\":\"#4D5663\"}},\"paper_bgcolor\":\"#F5F6F9\",\"plot_bgcolor\":\"#F5F6F9\",\"template\":{\"data\":{\"barpolar\":[{\"marker\":{\"line\":{\"color\":\"#E5ECF6\",\"width\":0.5},\"pattern\":{\"fillmode\":\"overlay\",\"size\":10,\"solidity\":0.2}},\"type\":\"barpolar\"}],\"bar\":[{\"error_x\":{\"color\":\"#2a3f5f\"},\"error_y\":{\"color\":\"#2a3f5f\"},\"marker\":{\"line\":{\"color\":\"#E5ECF6\",\"width\":0.5},\"pattern\":{\"fillmode\":\"overlay\",\"size\":10,\"solidity\":0.2}},\"type\":\"bar\"}],\"carpet\":[{\"aaxis\":{\"endlinecolor\":\"#2a3f5f\",\"gridcolor\":\"white\",\"linecolor\":\"white\",\"minorgridcolor\":\"white\",\"startlinecolor\":\"#2a3f5f\"},\"baxis\":{\"endlinecolor\":\"#2a3f5f\",\"gridcolor\":\"white\",\"linecolor\":\"white\",\"minorgridcolor\":\"white\",\"startlinecolor\":\"#2a3f5f\"},\"type\":\"carpet\"}],\"choropleth\":[{\"colorbar\":{\"outlinewidth\":0,\"ticks\":\"\"},\"type\":\"choropleth\"}],\"contourcarpet\":[{\"colorbar\":{\"outlinewidth\":0,\"ticks\":\"\"},\"type\":\"contourcarpet\"}],\"contour\":[{\"colorbar\":{\"outlinewidth\":0,\"ticks\":\"\"},\"colorscale\":[[0.0,\"#0d0887\"],[0.1111111111111111,\"#46039f\"],[0.2222222222222222,\"#7201a8\"],[0.3333333333333333,\"#9c179e\"],[0.4444444444444444,\"#bd3786\"],[0.5555555555555556,\"#d8576b\"],[0.6666666666666666,\"#ed7953\"],[0.7777777777777778,\"#fb9f3a\"],[0.8888888888888888,\"#fdca26\"],[1.0,\"#f0f921\"]],\"type\":\"contour\"}],\"heatmapgl\":[{\"colorbar\":{\"outlinewidth\":0,\"ticks\":\"\"},\"colorscale\":[[0.0,\"#0d0887\"],[0.1111111111111111,\"#46039f\"],[0.2222222222222222,\"#7201a8\"],[0.3333333333333333,\"#9c179e\"],[0.4444444444444444,\"#bd3786\"],[0.5555555555555556,\"#d8576b\"],[0.6666666666666666,\"#ed7953\"],[0.7777777777777778,\"#fb9f3a\"],[0.8888888888888888,\"#fdca26\"],[1.0,\"#f0f921\"]],\"type\":\"heatmapgl\"}],\"heatmap\":[{\"colorbar\":{\"outlinewidth\":0,\"ticks\":\"\"},\"colorscale\":[[0.0,\"#0d0887\"],[0.1111111111111111,\"#46039f\"],[0.2222222222222222,\"#7201a8\"],[0.3333333333333333,\"#9c179e\"],[0.4444444444444444,\"#bd3786\"],[0.5555555555555556,\"#d8576b\"],[0.6666666666666666,\"#ed7953\"],[0.7777777777777778,\"#fb9f3a\"],[0.8888888888888888,\"#fdca26\"],[1.0,\"#f0f921\"]],\"type\":\"heatmap\"}],\"histogram2dcontour\":[{\"colorbar\":{\"outlinewidth\":0,\"ticks\":\"\"},\"colorscale\":[[0.0,\"#0d0887\"],[0.1111111111111111,\"#46039f\"],[0.2222222222222222,\"#7201a8\"],[0.3333333333333333,\"#9c179e\"],[0.4444444444444444,\"#bd3786\"],[0.5555555555555556,\"#d8576b\"],[0.6666666666666666,\"#ed7953\"],[0.7777777777777778,\"#fb9f3a\"],[0.8888888888888888,\"#fdca26\"],[1.0,\"#f0f921\"]],\"type\":\"histogram2dcontour\"}],\"histogram2d\":[{\"colorbar\":{\"outlinewidth\":0,\"ticks\":\"\"},\"colorscale\":[[0.0,\"#0d0887\"],[0.1111111111111111,\"#46039f\"],[0.2222222222222222,\"#7201a8\"],[0.3333333333333333,\"#9c179e\"],[0.4444444444444444,\"#bd3786\"],[0.5555555555555556,\"#d8576b\"],[0.6666666666666666,\"#ed7953\"],[0.7777777777777778,\"#fb9f3a\"],[0.8888888888888888,\"#fdca26\"],[1.0,\"#f0f921\"]],\"type\":\"histogram2d\"}],\"histogram\":[{\"marker\":{\"pattern\":{\"fillmode\":\"overlay\",\"size\":10,\"solidity\":0.2}},\"type\":\"histogram\"}],\"mesh3d\":[{\"colorbar\":{\"outlinewidth\":0,\"ticks\":\"\"},\"type\":\"mesh3d\"}],\"parcoords\":[{\"line\":{\"colorbar\":{\"outlinewidth\":0,\"ticks\":\"\"}},\"type\":\"parcoords\"}],\"pie\":[{\"automargin\":true,\"type\":\"pie\"}],\"scatter3d\":[{\"line\":{\"colorbar\":{\"outlinewidth\":0,\"ticks\":\"\"}},\"marker\":{\"colorbar\":{\"outlinewidth\":0,\"ticks\":\"\"}},\"type\":\"scatter3d\"}],\"scattercarpet\":[{\"marker\":{\"colorbar\":{\"outlinewidth\":0,\"ticks\":\"\"}},\"type\":\"scattercarpet\"}],\"scattergeo\":[{\"marker\":{\"colorbar\":{\"outlinewidth\":0,\"ticks\":\"\"}},\"type\":\"scattergeo\"}],\"scattergl\":[{\"marker\":{\"colorbar\":{\"outlinewidth\":0,\"ticks\":\"\"}},\"type\":\"scattergl\"}],\"scattermapbox\":[{\"marker\":{\"colorbar\":{\"outlinewidth\":0,\"ticks\":\"\"}},\"type\":\"scattermapbox\"}],\"scatterpolargl\":[{\"marker\":{\"colorbar\":{\"outlinewidth\":0,\"ticks\":\"\"}},\"type\":\"scatterpolargl\"}],\"scatterpolar\":[{\"marker\":{\"colorbar\":{\"outlinewidth\":0,\"ticks\":\"\"}},\"type\":\"scatterpolar\"}],\"scatter\":[{\"marker\":{\"colorbar\":{\"outlinewidth\":0,\"ticks\":\"\"}},\"type\":\"scatter\"}],\"scatterternary\":[{\"marker\":{\"colorbar\":{\"outlinewidth\":0,\"ticks\":\"\"}},\"type\":\"scatterternary\"}],\"surface\":[{\"colorbar\":{\"outlinewidth\":0,\"ticks\":\"\"},\"colorscale\":[[0.0,\"#0d0887\"],[0.1111111111111111,\"#46039f\"],[0.2222222222222222,\"#7201a8\"],[0.3333333333333333,\"#9c179e\"],[0.4444444444444444,\"#bd3786\"],[0.5555555555555556,\"#d8576b\"],[0.6666666666666666,\"#ed7953\"],[0.7777777777777778,\"#fb9f3a\"],[0.8888888888888888,\"#fdca26\"],[1.0,\"#f0f921\"]],\"type\":\"surface\"}],\"table\":[{\"cells\":{\"fill\":{\"color\":\"#EBF0F8\"},\"line\":{\"color\":\"white\"}},\"header\":{\"fill\":{\"color\":\"#C8D4E3\"},\"line\":{\"color\":\"white\"}},\"type\":\"table\"}]},\"layout\":{\"annotationdefaults\":{\"arrowcolor\":\"#2a3f5f\",\"arrowhead\":0,\"arrowwidth\":1},\"autotypenumbers\":\"strict\",\"coloraxis\":{\"colorbar\":{\"outlinewidth\":0,\"ticks\":\"\"}},\"colorscale\":{\"diverging\":[[0,\"#8e0152\"],[0.1,\"#c51b7d\"],[0.2,\"#de77ae\"],[0.3,\"#f1b6da\"],[0.4,\"#fde0ef\"],[0.5,\"#f7f7f7\"],[0.6,\"#e6f5d0\"],[0.7,\"#b8e186\"],[0.8,\"#7fbc41\"],[0.9,\"#4d9221\"],[1,\"#276419\"]],\"sequential\":[[0.0,\"#0d0887\"],[0.1111111111111111,\"#46039f\"],[0.2222222222222222,\"#7201a8\"],[0.3333333333333333,\"#9c179e\"],[0.4444444444444444,\"#bd3786\"],[0.5555555555555556,\"#d8576b\"],[0.6666666666666666,\"#ed7953\"],[0.7777777777777778,\"#fb9f3a\"],[0.8888888888888888,\"#fdca26\"],[1.0,\"#f0f921\"]],\"sequentialminus\":[[0.0,\"#0d0887\"],[0.1111111111111111,\"#46039f\"],[0.2222222222222222,\"#7201a8\"],[0.3333333333333333,\"#9c179e\"],[0.4444444444444444,\"#bd3786\"],[0.5555555555555556,\"#d8576b\"],[0.6666666666666666,\"#ed7953\"],[0.7777777777777778,\"#fb9f3a\"],[0.8888888888888888,\"#fdca26\"],[1.0,\"#f0f921\"]]},\"colorway\":[\"#636efa\",\"#EF553B\",\"#00cc96\",\"#ab63fa\",\"#FFA15A\",\"#19d3f3\",\"#FF6692\",\"#B6E880\",\"#FF97FF\",\"#FECB52\"],\"font\":{\"color\":\"#2a3f5f\"},\"geo\":{\"bgcolor\":\"white\",\"lakecolor\":\"white\",\"landcolor\":\"#E5ECF6\",\"showlakes\":true,\"showland\":true,\"subunitcolor\":\"white\"},\"hoverlabel\":{\"align\":\"left\"},\"hovermode\":\"closest\",\"mapbox\":{\"style\":\"light\"},\"paper_bgcolor\":\"white\",\"plot_bgcolor\":\"#E5ECF6\",\"polar\":{\"angularaxis\":{\"gridcolor\":\"white\",\"linecolor\":\"white\",\"ticks\":\"\"},\"bgcolor\":\"#E5ECF6\",\"radialaxis\":{\"gridcolor\":\"white\",\"linecolor\":\"white\",\"ticks\":\"\"}},\"scene\":{\"xaxis\":{\"backgroundcolor\":\"#E5ECF6\",\"gridcolor\":\"white\",\"gridwidth\":2,\"linecolor\":\"white\",\"showbackground\":true,\"ticks\":\"\",\"zerolinecolor\":\"white\"},\"yaxis\":{\"backgroundcolor\":\"#E5ECF6\",\"gridcolor\":\"white\",\"gridwidth\":2,\"linecolor\":\"white\",\"showbackground\":true,\"ticks\":\"\",\"zerolinecolor\":\"white\"},\"zaxis\":{\"backgroundcolor\":\"#E5ECF6\",\"gridcolor\":\"white\",\"gridwidth\":2,\"linecolor\":\"white\",\"showbackground\":true,\"ticks\":\"\",\"zerolinecolor\":\"white\"}},\"shapedefaults\":{\"line\":{\"color\":\"#2a3f5f\"}},\"ternary\":{\"aaxis\":{\"gridcolor\":\"white\",\"linecolor\":\"white\",\"ticks\":\"\"},\"baxis\":{\"gridcolor\":\"white\",\"linecolor\":\"white\",\"ticks\":\"\"},\"bgcolor\":\"#E5ECF6\",\"caxis\":{\"gridcolor\":\"white\",\"linecolor\":\"white\",\"ticks\":\"\"}},\"title\":{\"x\":0.05},\"xaxis\":{\"automargin\":true,\"gridcolor\":\"white\",\"linecolor\":\"white\",\"ticks\":\"\",\"title\":{\"standoff\":15},\"zerolinecolor\":\"white\",\"zerolinewidth\":2},\"yaxis\":{\"automargin\":true,\"gridcolor\":\"white\",\"linecolor\":\"white\",\"ticks\":\"\",\"title\":{\"standoff\":15},\"zerolinecolor\":\"white\",\"zerolinewidth\":2}}},\"title\":{\"font\":{\"color\":\"#4D5663\"}},\"xaxis\":{\"gridcolor\":\"#E1E5ED\",\"showgrid\":true,\"tickfont\":{\"color\":\"#4D5663\"},\"title\":{\"font\":{\"color\":\"#4D5663\"},\"text\":\"\"},\"zerolinecolor\":\"#E1E5ED\"},\"yaxis\":{\"gridcolor\":\"#E1E5ED\",\"showgrid\":true,\"tickfont\":{\"color\":\"#4D5663\"},\"title\":{\"font\":{\"color\":\"#4D5663\"},\"text\":\"\"},\"zerolinecolor\":\"#E1E5ED\"}},                        {\"showLink\": true, \"linkText\": \"Export to plot.ly\", \"plotlyServerURL\": \"https://plot.ly\", \"responsive\": true}                    ).then(function(){\n",
       "                            \n",
       "var gd = document.getElementById('2249890d-cadf-4386-8736-03168b41a201');\n",
       "var x = new MutationObserver(function (mutations, observer) {{\n",
       "        var display = window.getComputedStyle(gd).display;\n",
       "        if (!display || display === 'none') {{\n",
       "            console.log([gd, 'removed!']);\n",
       "            Plotly.purge(gd);\n",
       "            observer.disconnect();\n",
       "        }}\n",
       "}});\n",
       "\n",
       "// Listen for the removal of the full notebook cells\n",
       "var notebookContainer = gd.closest('#notebook-container');\n",
       "if (notebookContainer) {{\n",
       "    x.observe(notebookContainer, {childList: true});\n",
       "}}\n",
       "\n",
       "// Listen for the clearing of the current output cell\n",
       "var outputEl = gd.closest('.output');\n",
       "if (outputEl) {{\n",
       "    x.observe(outputEl, {childList: true});\n",
       "}}\n",
       "\n",
       "                        })                };                });            </script>        </div>"
      ]
     },
     "metadata": {},
     "output_type": "display_data"
    }
   ],
   "source": [
    "df.count().iplot(kind='bar')"
   ]
  },
  {
   "cell_type": "markdown",
   "metadata": {},
   "source": [
    "## Boxplots"
   ]
  },
  {
   "cell_type": "code",
   "execution_count": 17,
   "metadata": {},
   "outputs": [
    {
     "data": {
      "application/vnd.plotly.v1+json": {
       "config": {
        "linkText": "Export to plot.ly",
        "plotlyServerURL": "https://plot.ly",
        "showLink": true
       },
       "data": [
        {
         "boxpoints": false,
         "line": {
          "width": 1.3
         },
         "marker": {
          "color": "rgba(255, 153, 51, 1.0)"
         },
         "name": "A",
         "orientation": "v",
         "type": "box",
         "y": [
          0.9358246105456631,
          1.7358870536473954,
          1.6607725228273365,
          -1.130471045776182,
          -0.7397437542667784,
          -1.7628728637743711,
          0.6094641588563852,
          0.8397452447778285,
          1.5953723526350652,
          -0.24735699034521968,
          -1.0576749964782333,
          -0.585775052554457,
          -2.1005125763582106,
          0.3682807079472144,
          -0.8404456428786651,
          0.6416763293475042,
          0.1482332074357737,
          -0.5694215335178152,
          1.2625700226936711,
          0.17288919914789302,
          -1.2897772819048154,
          0.7258162007125682,
          1.428259807694575,
          -0.4118314894873909,
          0.6215843985226098,
          -0.13364968782372094,
          -0.8669258393056155,
          -0.4104472188076141,
          -1.5094372299519552,
          -1.1273371115446196,
          0.40222132922117726,
          0.21491591162534904,
          -0.2824254106167494,
          0.2893039247667468,
          1.177485905026769,
          0.5314194356194776,
          -1.3737936138152016,
          -0.302772243312889,
          -0.5548156187710866,
          1.293594170856257,
          1.3938922938949396,
          -0.7686784040548456,
          0.685016805624003,
          -1.2161323536626572,
          -0.22596418717228123,
          0.18445339856296444,
          -0.2988187906213368,
          0.8610646318330833,
          0.44714190373054974,
          1.7495683336940082,
          -0.02717780528520104,
          -0.2646657249625497,
          0.5528736598737768,
          0.108936244464817,
          -0.3886022132343513,
          -0.27858746269539825,
          0.5262142439594867,
          -0.17040945756285403,
          -0.29361928475042465,
          -1.6431153100987566,
          0.9820006875146906,
          1.1271311188321693,
          0.7712039159456711,
          -0.2722771350565949,
          -0.1016411044464088,
          0.055748472748957355,
          0.378212647536327,
          1.806354096998742,
          -1.0323484061684283,
          0.43925979581855623,
          -2.237534601976636,
          -1.2395199587124108,
          0.932423970331763,
          -2.0606245338146247,
          -0.7873413392426257,
          0.3839651190733875,
          -1.5476461051975592,
          0.6107385482338262,
          0.48118347644317017,
          -1.1417989169897207,
          -1.349276068996005,
          0.22286129253542264,
          1.1337133631024376,
          0.5105123805788733,
          -2.1901727666599475,
          1.241346098929264,
          -0.42842270573965463,
          1.1422020524149337,
          0.49284995297389594,
          -0.8232844489727227,
          0.994393546598194,
          -0.25744344885925907,
          0.24794327386048887,
          -1.0040059283046938,
          2.012619946272534,
          -1.3432393595521306,
          -0.4360965094981826,
          -1.4872629381033733,
          0.4425522864570553,
          -0.6358544606229273
         ]
        },
        {
         "boxpoints": false,
         "line": {
          "width": 1.3
         },
         "marker": {
          "color": "rgba(55, 128, 191, 1.0)"
         },
         "name": "B",
         "orientation": "v",
         "type": "box",
         "y": [
          2.4368836497567736,
          2.8061683063365512,
          -0.22598246884615092,
          1.6684583868678244,
          0.19964956910034146,
          -0.43630416534108574,
          -0.8149051143407005,
          0.644721914341229,
          -1.0970580613489138,
          0.563243707568396,
          -0.7151772352638627,
          1.7399384304314731,
          0.9333202141889357,
          -0.7603023225826924,
          -1.0055654371051497,
          0.9456803095792773,
          -0.6107014523115251,
          -0.24678977201906113,
          0.2272335649658569,
          1.1204859476935731,
          -1.7023803277503649,
          0.5321124440372906,
          -0.6808814973697076,
          -0.3119505168081398,
          -0.8729805709062626,
          -0.9422457171082959,
          0.9577546856737165,
          1.4350788901214124,
          -0.03629918533398791,
          1.1975549064480226,
          1.531036339029063,
          1.9561481466557051,
          -0.07722330639237676,
          1.2213207563919308,
          0.1425763768286601,
          0.4458905337457665,
          -0.23410678454089873,
          -0.7071305907929655,
          -0.41660092474178023,
          0.8290082481091184,
          -0.866406049479583,
          -0.9265270931596823,
          -0.5578107376513161,
          -1.1986778981863162,
          0.2994689192423883,
          -0.18672810450536445,
          0.29038117898481874,
          0.6513216905711007,
          0.727148313467212,
          -1.0957568440700851,
          1.0925119340978113,
          0.6622390315231806,
          1.0574259310596916,
          0.3317098628177242,
          -0.05553073769154664,
          -0.9799373977459516,
          1.3646046406526673,
          3.041346406084754,
          1.4011788801781775,
          -0.9386645547165704,
          1.3087610020904727,
          -0.80757066404421,
          1.1588354285400224,
          0.47883353179263977,
          -0.8055260309871897,
          -0.683537000716558,
          -0.015924935759425912,
          -0.29640901170335526,
          -0.19448603254895092,
          -0.46819474735927347,
          1.8067478953733844,
          -1.4112089594018427,
          0.6245328039650841,
          -0.8355962776719403,
          0.816316571373678,
          1.7830048482946426,
          -0.008152702171023115,
          0.10085636600272131,
          -1.432769049671953,
          0.4684985796561104,
          -1.1160089587194328,
          -0.6077303609075121,
          0.2628666457754549,
          0.26500314736339087,
          -0.15473373323700454,
          0.33691884019198975,
          0.9049159014238233,
          -0.2989352825315451,
          0.05106865858649614,
          2.738846305525453,
          0.5785002560282373,
          -0.4813514985369238,
          0.9711303120138106,
          -0.6753593361118425,
          -0.10288292581607655,
          1.1242169310713244,
          0.08995296684595894,
          1.2807328759536576,
          -0.33848014424263445,
          0.700807256895827
         ]
        },
        {
         "boxpoints": false,
         "line": {
          "width": 1.3
         },
         "marker": {
          "color": "rgba(50, 171, 96, 1.0)"
         },
         "name": "C",
         "orientation": "v",
         "type": "box",
         "y": [
          0.8347964621978526,
          0.7422619849660557,
          0.9421059046693261,
          -0.8287663091084667,
          -1.5872247614942994,
          0.3096679676095925,
          1.0066599607678481,
          0.6400723276288252,
          -0.4616667584145362,
          -0.458297403125597,
          0.5741152744780673,
          1.3587337389371734,
          -1.1067774961716534,
          -1.935996244110975,
          0.7777194054502217,
          0.39425389226378726,
          0.1841081434387239,
          -0.9575857037749891,
          0.9975865238218852,
          0.6016316037478396,
          -1.1496089432371979,
          0.6958881857987933,
          1.6681252130704827,
          0.36681196627548485,
          -1.9078136995537738,
          -1.030713373835496,
          0.5119207586273357,
          1.0215942717456032,
          -0.7613725093295172,
          -0.7626177245782716,
          -0.977106249385318,
          -1.3905124581215762,
          0.4198154806602653,
          -0.8332328241034221,
          2.0232969011466264,
          0.8761650856571784,
          0.604383451200056,
          -0.055397334207476036,
          2.235340360896873,
          0.2127535535306071,
          -1.0936907857756157,
          -1.095127127911492,
          -0.036983872331810094,
          0.1405845991744449,
          0.9990811980995024,
          -0.38133164054122687,
          0.4188828292150607,
          0.7639415389965162,
          -1.5363182614760473,
          -0.5836306055561737,
          -0.5564802891642523,
          0.27355942667249133,
          -0.19143222578973443,
          2.2662149960086935,
          0.5749447538886344,
          -1.2753637372850788,
          1.9287221634387093,
          0.7099186452912636,
          0.004229094356319363,
          -2.25020330548462,
          -0.9815861634693895,
          -0.08923749356744987,
          -1.3372009872447732,
          -0.1323376247539866,
          -0.39730967369732084,
          -0.9156689796933062,
          0.5631677363355335,
          -0.7795866286804178,
          -0.204854748351753,
          -0.9623752418290115,
          -0.6277110368908078,
          0.8179132872244542,
          -1.3841106590099894,
          -1.691269656360695,
          0.5343258529217656,
          -0.25680254083887394,
          2.627165072906644,
          -0.14763476004978585,
          -0.17257057163101136,
          -0.2056432080272134,
          1.6223879450819967,
          -0.21783483144740098,
          0.7354681172994999,
          -0.11318274664317976,
          0.21886584953230323,
          -0.18174933433188084,
          -2.9726490611652165,
          -1.1346417759642426,
          -0.4987540998712413,
          1.3673123446330104,
          1.6218714880270613,
          -0.04047039466792415,
          0.96694327486157,
          -0.8954153268487087,
          0.1825169937934882,
          0.8839934709951787,
          1.4288035335316298,
          0.3227495759096064,
          -0.3908280472876743,
          -0.46664169633794633
         ]
        },
        {
         "boxpoints": false,
         "line": {
          "width": 1.3
         },
         "marker": {
          "color": "rgba(128, 0, 128, 1.0)"
         },
         "name": "D",
         "orientation": "v",
         "type": "box",
         "y": [
          0.3483890581129721,
          -0.888182699729952,
          0.46718461601091094,
          -1.0417530361610983,
          -1.6250608910439461,
          -0.2248852748373986,
          -1.281688014536062,
          -0.8514976337743849,
          -0.6883683187600665,
          -0.20667615740811776,
          -0.3767448429923869,
          -0.9843008168119253,
          -0.31277817100762895,
          0.8468924252669293,
          -1.0727728388254159,
          0.30008791805319524,
          1.8879604124582612,
          1.2660810398323776,
          0.45609129801939463,
          0.6726147657822424,
          0.8241665028317623,
          -0.3518181535052042,
          -0.5080330525938204,
          1.5963785365652088,
          -0.5547215770586273,
          -1.7006030658476257,
          0.4850139462154026,
          -0.12641952295975467,
          0.10593177255142132,
          -0.31045383083644296,
          -2.215447530809033,
          0.3328245871913032,
          0.16542739736732404,
          2.279149262740099,
          0.1464903933485164,
          -0.8981473637269928,
          0.011316903987620362,
          0.3740268469448724,
          0.00600595347178172,
          -0.5455397405384034,
          1.1053757913750353,
          0.9809228411435073,
          -0.8688567153887097,
          -0.1411299275245519,
          0.7693973235242795,
          1.6730057520225377,
          -1.024431996891845,
          1.110540384593331,
          -1.5050331148984104,
          0.25335284519577395,
          -0.19363896658984323,
          -0.8086363725025757,
          -0.479998946736685,
          1.4642522113562635,
          -0.6281189642664279,
          -0.5226430926304726,
          0.6919866248911934,
          1.9232786601198262,
          0.5876327968957331,
          -0.0046343931432081915,
          1.443041936933062,
          1.5460271692153054,
          0.2840617527281839,
          -0.716096743201206,
          1.1274681102723925,
          -0.249539933808164,
          0.11432698616093034,
          0.3167643160240619,
          -0.8629581773182998,
          0.7177258044323274,
          -1.8537797335432495,
          -0.5901892401603281,
          -2.4525226498278077,
          1.6417672188323253,
          -1.3908212668743931,
          0.1205347838088376,
          1.4238760368657009,
          0.6350831586659941,
          -0.046506600815857,
          0.03312983193434833,
          -1.8399107242066985,
          0.18831190190361355,
          -0.6509961953618276,
          0.4348223970672755,
          0.41112806027556253,
          0.3007244133349498,
          -0.9814848471200649,
          -0.6904048067419298,
          0.335953220225626,
          -0.982965209353212,
          0.9270554220126782,
          0.975930458103786,
          -0.6030240850918889,
          -0.8665862123881608,
          0.5155234509956301,
          -0.2769171373345841,
          -1.200537929111223,
          -0.2466425746771957,
          -1.4015084783507177,
          0.1579469233065905
         ]
        }
       ],
       "layout": {
        "legend": {
         "bgcolor": "#F5F6F9",
         "font": {
          "color": "#4D5663"
         }
        },
        "paper_bgcolor": "#F5F6F9",
        "plot_bgcolor": "#F5F6F9",
        "template": {
         "data": {
          "bar": [
           {
            "error_x": {
             "color": "#2a3f5f"
            },
            "error_y": {
             "color": "#2a3f5f"
            },
            "marker": {
             "line": {
              "color": "#E5ECF6",
              "width": 0.5
             },
             "pattern": {
              "fillmode": "overlay",
              "size": 10,
              "solidity": 0.2
             }
            },
            "type": "bar"
           }
          ],
          "barpolar": [
           {
            "marker": {
             "line": {
              "color": "#E5ECF6",
              "width": 0.5
             },
             "pattern": {
              "fillmode": "overlay",
              "size": 10,
              "solidity": 0.2
             }
            },
            "type": "barpolar"
           }
          ],
          "carpet": [
           {
            "aaxis": {
             "endlinecolor": "#2a3f5f",
             "gridcolor": "white",
             "linecolor": "white",
             "minorgridcolor": "white",
             "startlinecolor": "#2a3f5f"
            },
            "baxis": {
             "endlinecolor": "#2a3f5f",
             "gridcolor": "white",
             "linecolor": "white",
             "minorgridcolor": "white",
             "startlinecolor": "#2a3f5f"
            },
            "type": "carpet"
           }
          ],
          "choropleth": [
           {
            "colorbar": {
             "outlinewidth": 0,
             "ticks": ""
            },
            "type": "choropleth"
           }
          ],
          "contour": [
           {
            "colorbar": {
             "outlinewidth": 0,
             "ticks": ""
            },
            "colorscale": [
             [
              0,
              "#0d0887"
             ],
             [
              0.1111111111111111,
              "#46039f"
             ],
             [
              0.2222222222222222,
              "#7201a8"
             ],
             [
              0.3333333333333333,
              "#9c179e"
             ],
             [
              0.4444444444444444,
              "#bd3786"
             ],
             [
              0.5555555555555556,
              "#d8576b"
             ],
             [
              0.6666666666666666,
              "#ed7953"
             ],
             [
              0.7777777777777778,
              "#fb9f3a"
             ],
             [
              0.8888888888888888,
              "#fdca26"
             ],
             [
              1,
              "#f0f921"
             ]
            ],
            "type": "contour"
           }
          ],
          "contourcarpet": [
           {
            "colorbar": {
             "outlinewidth": 0,
             "ticks": ""
            },
            "type": "contourcarpet"
           }
          ],
          "heatmap": [
           {
            "colorbar": {
             "outlinewidth": 0,
             "ticks": ""
            },
            "colorscale": [
             [
              0,
              "#0d0887"
             ],
             [
              0.1111111111111111,
              "#46039f"
             ],
             [
              0.2222222222222222,
              "#7201a8"
             ],
             [
              0.3333333333333333,
              "#9c179e"
             ],
             [
              0.4444444444444444,
              "#bd3786"
             ],
             [
              0.5555555555555556,
              "#d8576b"
             ],
             [
              0.6666666666666666,
              "#ed7953"
             ],
             [
              0.7777777777777778,
              "#fb9f3a"
             ],
             [
              0.8888888888888888,
              "#fdca26"
             ],
             [
              1,
              "#f0f921"
             ]
            ],
            "type": "heatmap"
           }
          ],
          "heatmapgl": [
           {
            "colorbar": {
             "outlinewidth": 0,
             "ticks": ""
            },
            "colorscale": [
             [
              0,
              "#0d0887"
             ],
             [
              0.1111111111111111,
              "#46039f"
             ],
             [
              0.2222222222222222,
              "#7201a8"
             ],
             [
              0.3333333333333333,
              "#9c179e"
             ],
             [
              0.4444444444444444,
              "#bd3786"
             ],
             [
              0.5555555555555556,
              "#d8576b"
             ],
             [
              0.6666666666666666,
              "#ed7953"
             ],
             [
              0.7777777777777778,
              "#fb9f3a"
             ],
             [
              0.8888888888888888,
              "#fdca26"
             ],
             [
              1,
              "#f0f921"
             ]
            ],
            "type": "heatmapgl"
           }
          ],
          "histogram": [
           {
            "marker": {
             "pattern": {
              "fillmode": "overlay",
              "size": 10,
              "solidity": 0.2
             }
            },
            "type": "histogram"
           }
          ],
          "histogram2d": [
           {
            "colorbar": {
             "outlinewidth": 0,
             "ticks": ""
            },
            "colorscale": [
             [
              0,
              "#0d0887"
             ],
             [
              0.1111111111111111,
              "#46039f"
             ],
             [
              0.2222222222222222,
              "#7201a8"
             ],
             [
              0.3333333333333333,
              "#9c179e"
             ],
             [
              0.4444444444444444,
              "#bd3786"
             ],
             [
              0.5555555555555556,
              "#d8576b"
             ],
             [
              0.6666666666666666,
              "#ed7953"
             ],
             [
              0.7777777777777778,
              "#fb9f3a"
             ],
             [
              0.8888888888888888,
              "#fdca26"
             ],
             [
              1,
              "#f0f921"
             ]
            ],
            "type": "histogram2d"
           }
          ],
          "histogram2dcontour": [
           {
            "colorbar": {
             "outlinewidth": 0,
             "ticks": ""
            },
            "colorscale": [
             [
              0,
              "#0d0887"
             ],
             [
              0.1111111111111111,
              "#46039f"
             ],
             [
              0.2222222222222222,
              "#7201a8"
             ],
             [
              0.3333333333333333,
              "#9c179e"
             ],
             [
              0.4444444444444444,
              "#bd3786"
             ],
             [
              0.5555555555555556,
              "#d8576b"
             ],
             [
              0.6666666666666666,
              "#ed7953"
             ],
             [
              0.7777777777777778,
              "#fb9f3a"
             ],
             [
              0.8888888888888888,
              "#fdca26"
             ],
             [
              1,
              "#f0f921"
             ]
            ],
            "type": "histogram2dcontour"
           }
          ],
          "mesh3d": [
           {
            "colorbar": {
             "outlinewidth": 0,
             "ticks": ""
            },
            "type": "mesh3d"
           }
          ],
          "parcoords": [
           {
            "line": {
             "colorbar": {
              "outlinewidth": 0,
              "ticks": ""
             }
            },
            "type": "parcoords"
           }
          ],
          "pie": [
           {
            "automargin": true,
            "type": "pie"
           }
          ],
          "scatter": [
           {
            "marker": {
             "colorbar": {
              "outlinewidth": 0,
              "ticks": ""
             }
            },
            "type": "scatter"
           }
          ],
          "scatter3d": [
           {
            "line": {
             "colorbar": {
              "outlinewidth": 0,
              "ticks": ""
             }
            },
            "marker": {
             "colorbar": {
              "outlinewidth": 0,
              "ticks": ""
             }
            },
            "type": "scatter3d"
           }
          ],
          "scattercarpet": [
           {
            "marker": {
             "colorbar": {
              "outlinewidth": 0,
              "ticks": ""
             }
            },
            "type": "scattercarpet"
           }
          ],
          "scattergeo": [
           {
            "marker": {
             "colorbar": {
              "outlinewidth": 0,
              "ticks": ""
             }
            },
            "type": "scattergeo"
           }
          ],
          "scattergl": [
           {
            "marker": {
             "colorbar": {
              "outlinewidth": 0,
              "ticks": ""
             }
            },
            "type": "scattergl"
           }
          ],
          "scattermapbox": [
           {
            "marker": {
             "colorbar": {
              "outlinewidth": 0,
              "ticks": ""
             }
            },
            "type": "scattermapbox"
           }
          ],
          "scatterpolar": [
           {
            "marker": {
             "colorbar": {
              "outlinewidth": 0,
              "ticks": ""
             }
            },
            "type": "scatterpolar"
           }
          ],
          "scatterpolargl": [
           {
            "marker": {
             "colorbar": {
              "outlinewidth": 0,
              "ticks": ""
             }
            },
            "type": "scatterpolargl"
           }
          ],
          "scatterternary": [
           {
            "marker": {
             "colorbar": {
              "outlinewidth": 0,
              "ticks": ""
             }
            },
            "type": "scatterternary"
           }
          ],
          "surface": [
           {
            "colorbar": {
             "outlinewidth": 0,
             "ticks": ""
            },
            "colorscale": [
             [
              0,
              "#0d0887"
             ],
             [
              0.1111111111111111,
              "#46039f"
             ],
             [
              0.2222222222222222,
              "#7201a8"
             ],
             [
              0.3333333333333333,
              "#9c179e"
             ],
             [
              0.4444444444444444,
              "#bd3786"
             ],
             [
              0.5555555555555556,
              "#d8576b"
             ],
             [
              0.6666666666666666,
              "#ed7953"
             ],
             [
              0.7777777777777778,
              "#fb9f3a"
             ],
             [
              0.8888888888888888,
              "#fdca26"
             ],
             [
              1,
              "#f0f921"
             ]
            ],
            "type": "surface"
           }
          ],
          "table": [
           {
            "cells": {
             "fill": {
              "color": "#EBF0F8"
             },
             "line": {
              "color": "white"
             }
            },
            "header": {
             "fill": {
              "color": "#C8D4E3"
             },
             "line": {
              "color": "white"
             }
            },
            "type": "table"
           }
          ]
         },
         "layout": {
          "annotationdefaults": {
           "arrowcolor": "#2a3f5f",
           "arrowhead": 0,
           "arrowwidth": 1
          },
          "autotypenumbers": "strict",
          "coloraxis": {
           "colorbar": {
            "outlinewidth": 0,
            "ticks": ""
           }
          },
          "colorscale": {
           "diverging": [
            [
             0,
             "#8e0152"
            ],
            [
             0.1,
             "#c51b7d"
            ],
            [
             0.2,
             "#de77ae"
            ],
            [
             0.3,
             "#f1b6da"
            ],
            [
             0.4,
             "#fde0ef"
            ],
            [
             0.5,
             "#f7f7f7"
            ],
            [
             0.6,
             "#e6f5d0"
            ],
            [
             0.7,
             "#b8e186"
            ],
            [
             0.8,
             "#7fbc41"
            ],
            [
             0.9,
             "#4d9221"
            ],
            [
             1,
             "#276419"
            ]
           ],
           "sequential": [
            [
             0,
             "#0d0887"
            ],
            [
             0.1111111111111111,
             "#46039f"
            ],
            [
             0.2222222222222222,
             "#7201a8"
            ],
            [
             0.3333333333333333,
             "#9c179e"
            ],
            [
             0.4444444444444444,
             "#bd3786"
            ],
            [
             0.5555555555555556,
             "#d8576b"
            ],
            [
             0.6666666666666666,
             "#ed7953"
            ],
            [
             0.7777777777777778,
             "#fb9f3a"
            ],
            [
             0.8888888888888888,
             "#fdca26"
            ],
            [
             1,
             "#f0f921"
            ]
           ],
           "sequentialminus": [
            [
             0,
             "#0d0887"
            ],
            [
             0.1111111111111111,
             "#46039f"
            ],
            [
             0.2222222222222222,
             "#7201a8"
            ],
            [
             0.3333333333333333,
             "#9c179e"
            ],
            [
             0.4444444444444444,
             "#bd3786"
            ],
            [
             0.5555555555555556,
             "#d8576b"
            ],
            [
             0.6666666666666666,
             "#ed7953"
            ],
            [
             0.7777777777777778,
             "#fb9f3a"
            ],
            [
             0.8888888888888888,
             "#fdca26"
            ],
            [
             1,
             "#f0f921"
            ]
           ]
          },
          "colorway": [
           "#636efa",
           "#EF553B",
           "#00cc96",
           "#ab63fa",
           "#FFA15A",
           "#19d3f3",
           "#FF6692",
           "#B6E880",
           "#FF97FF",
           "#FECB52"
          ],
          "font": {
           "color": "#2a3f5f"
          },
          "geo": {
           "bgcolor": "white",
           "lakecolor": "white",
           "landcolor": "#E5ECF6",
           "showlakes": true,
           "showland": true,
           "subunitcolor": "white"
          },
          "hoverlabel": {
           "align": "left"
          },
          "hovermode": "closest",
          "mapbox": {
           "style": "light"
          },
          "paper_bgcolor": "white",
          "plot_bgcolor": "#E5ECF6",
          "polar": {
           "angularaxis": {
            "gridcolor": "white",
            "linecolor": "white",
            "ticks": ""
           },
           "bgcolor": "#E5ECF6",
           "radialaxis": {
            "gridcolor": "white",
            "linecolor": "white",
            "ticks": ""
           }
          },
          "scene": {
           "xaxis": {
            "backgroundcolor": "#E5ECF6",
            "gridcolor": "white",
            "gridwidth": 2,
            "linecolor": "white",
            "showbackground": true,
            "ticks": "",
            "zerolinecolor": "white"
           },
           "yaxis": {
            "backgroundcolor": "#E5ECF6",
            "gridcolor": "white",
            "gridwidth": 2,
            "linecolor": "white",
            "showbackground": true,
            "ticks": "",
            "zerolinecolor": "white"
           },
           "zaxis": {
            "backgroundcolor": "#E5ECF6",
            "gridcolor": "white",
            "gridwidth": 2,
            "linecolor": "white",
            "showbackground": true,
            "ticks": "",
            "zerolinecolor": "white"
           }
          },
          "shapedefaults": {
           "line": {
            "color": "#2a3f5f"
           }
          },
          "ternary": {
           "aaxis": {
            "gridcolor": "white",
            "linecolor": "white",
            "ticks": ""
           },
           "baxis": {
            "gridcolor": "white",
            "linecolor": "white",
            "ticks": ""
           },
           "bgcolor": "#E5ECF6",
           "caxis": {
            "gridcolor": "white",
            "linecolor": "white",
            "ticks": ""
           }
          },
          "title": {
           "x": 0.05
          },
          "xaxis": {
           "automargin": true,
           "gridcolor": "white",
           "linecolor": "white",
           "ticks": "",
           "title": {
            "standoff": 15
           },
           "zerolinecolor": "white",
           "zerolinewidth": 2
          },
          "yaxis": {
           "automargin": true,
           "gridcolor": "white",
           "linecolor": "white",
           "ticks": "",
           "title": {
            "standoff": 15
           },
           "zerolinecolor": "white",
           "zerolinewidth": 2
          }
         }
        },
        "title": {
         "font": {
          "color": "#4D5663"
         }
        },
        "xaxis": {
         "gridcolor": "#E1E5ED",
         "showgrid": true,
         "tickfont": {
          "color": "#4D5663"
         },
         "title": {
          "font": {
           "color": "#4D5663"
          },
          "text": ""
         },
         "zerolinecolor": "#E1E5ED"
        },
        "yaxis": {
         "gridcolor": "#E1E5ED",
         "showgrid": true,
         "tickfont": {
          "color": "#4D5663"
         },
         "title": {
          "font": {
           "color": "#4D5663"
          },
          "text": ""
         },
         "zerolinecolor": "#E1E5ED"
        }
       }
      },
      "text/html": [
       "<div>                            <div id=\"478ca866-72d9-43b8-a7d6-98e90fbdb70d\" class=\"plotly-graph-div\" style=\"height:525px; width:100%;\"></div>            <script type=\"text/javascript\">                require([\"plotly\"], function(Plotly) {                    window.PLOTLYENV=window.PLOTLYENV || {};\n",
       "                    window.PLOTLYENV.BASE_URL='https://plot.ly';                                    if (document.getElementById(\"478ca866-72d9-43b8-a7d6-98e90fbdb70d\")) {                    Plotly.newPlot(                        \"478ca866-72d9-43b8-a7d6-98e90fbdb70d\",                        [{\"boxpoints\":false,\"line\":{\"width\":1.3},\"marker\":{\"color\":\"rgba(255, 153, 51, 1.0)\"},\"name\":\"A\",\"orientation\":\"v\",\"y\":[0.9358246105456631,1.7358870536473954,1.6607725228273365,-1.130471045776182,-0.7397437542667784,-1.7628728637743711,0.6094641588563852,0.8397452447778285,1.5953723526350652,-0.24735699034521968,-1.0576749964782333,-0.585775052554457,-2.1005125763582106,0.3682807079472144,-0.8404456428786651,0.6416763293475042,0.1482332074357737,-0.5694215335178152,1.2625700226936711,0.17288919914789302,-1.2897772819048154,0.7258162007125682,1.428259807694575,-0.4118314894873909,0.6215843985226098,-0.13364968782372094,-0.8669258393056155,-0.4104472188076141,-1.5094372299519552,-1.1273371115446196,0.40222132922117726,0.21491591162534904,-0.2824254106167494,0.2893039247667468,1.177485905026769,0.5314194356194776,-1.3737936138152016,-0.302772243312889,-0.5548156187710866,1.293594170856257,1.3938922938949396,-0.7686784040548456,0.685016805624003,-1.2161323536626572,-0.22596418717228123,0.18445339856296444,-0.2988187906213368,0.8610646318330833,0.44714190373054974,1.7495683336940082,-0.02717780528520104,-0.2646657249625497,0.5528736598737768,0.108936244464817,-0.3886022132343513,-0.27858746269539825,0.5262142439594867,-0.17040945756285403,-0.29361928475042465,-1.6431153100987566,0.9820006875146906,1.1271311188321693,0.7712039159456711,-0.2722771350565949,-0.1016411044464088,0.055748472748957355,0.378212647536327,1.806354096998742,-1.0323484061684283,0.43925979581855623,-2.237534601976636,-1.2395199587124108,0.932423970331763,-2.0606245338146247,-0.7873413392426257,0.3839651190733875,-1.5476461051975592,0.6107385482338262,0.48118347644317017,-1.1417989169897207,-1.349276068996005,0.22286129253542264,1.1337133631024376,0.5105123805788733,-2.1901727666599475,1.241346098929264,-0.42842270573965463,1.1422020524149337,0.49284995297389594,-0.8232844489727227,0.994393546598194,-0.25744344885925907,0.24794327386048887,-1.0040059283046938,2.012619946272534,-1.3432393595521306,-0.4360965094981826,-1.4872629381033733,0.4425522864570553,-0.6358544606229273],\"type\":\"box\"},{\"boxpoints\":false,\"line\":{\"width\":1.3},\"marker\":{\"color\":\"rgba(55, 128, 191, 1.0)\"},\"name\":\"B\",\"orientation\":\"v\",\"y\":[2.4368836497567736,2.8061683063365512,-0.22598246884615092,1.6684583868678244,0.19964956910034146,-0.43630416534108574,-0.8149051143407005,0.644721914341229,-1.0970580613489138,0.563243707568396,-0.7151772352638627,1.7399384304314731,0.9333202141889357,-0.7603023225826924,-1.0055654371051497,0.9456803095792773,-0.6107014523115251,-0.24678977201906113,0.2272335649658569,1.1204859476935731,-1.7023803277503649,0.5321124440372906,-0.6808814973697076,-0.3119505168081398,-0.8729805709062626,-0.9422457171082959,0.9577546856737165,1.4350788901214124,-0.03629918533398791,1.1975549064480226,1.531036339029063,1.9561481466557051,-0.07722330639237676,1.2213207563919308,0.1425763768286601,0.4458905337457665,-0.23410678454089873,-0.7071305907929655,-0.41660092474178023,0.8290082481091184,-0.866406049479583,-0.9265270931596823,-0.5578107376513161,-1.1986778981863162,0.2994689192423883,-0.18672810450536445,0.29038117898481874,0.6513216905711007,0.727148313467212,-1.0957568440700851,1.0925119340978113,0.6622390315231806,1.0574259310596916,0.3317098628177242,-0.05553073769154664,-0.9799373977459516,1.3646046406526673,3.041346406084754,1.4011788801781775,-0.9386645547165704,1.3087610020904727,-0.80757066404421,1.1588354285400224,0.47883353179263977,-0.8055260309871897,-0.683537000716558,-0.015924935759425912,-0.29640901170335526,-0.19448603254895092,-0.46819474735927347,1.8067478953733844,-1.4112089594018427,0.6245328039650841,-0.8355962776719403,0.816316571373678,1.7830048482946426,-0.008152702171023115,0.10085636600272131,-1.432769049671953,0.4684985796561104,-1.1160089587194328,-0.6077303609075121,0.2628666457754549,0.26500314736339087,-0.15473373323700454,0.33691884019198975,0.9049159014238233,-0.2989352825315451,0.05106865858649614,2.738846305525453,0.5785002560282373,-0.4813514985369238,0.9711303120138106,-0.6753593361118425,-0.10288292581607655,1.1242169310713244,0.08995296684595894,1.2807328759536576,-0.33848014424263445,0.700807256895827],\"type\":\"box\"},{\"boxpoints\":false,\"line\":{\"width\":1.3},\"marker\":{\"color\":\"rgba(50, 171, 96, 1.0)\"},\"name\":\"C\",\"orientation\":\"v\",\"y\":[0.8347964621978526,0.7422619849660557,0.9421059046693261,-0.8287663091084667,-1.5872247614942994,0.3096679676095925,1.0066599607678481,0.6400723276288252,-0.4616667584145362,-0.458297403125597,0.5741152744780673,1.3587337389371734,-1.1067774961716534,-1.935996244110975,0.7777194054502217,0.39425389226378726,0.1841081434387239,-0.9575857037749891,0.9975865238218852,0.6016316037478396,-1.1496089432371979,0.6958881857987933,1.6681252130704827,0.36681196627548485,-1.9078136995537738,-1.030713373835496,0.5119207586273357,1.0215942717456032,-0.7613725093295172,-0.7626177245782716,-0.977106249385318,-1.3905124581215762,0.4198154806602653,-0.8332328241034221,2.0232969011466264,0.8761650856571784,0.604383451200056,-0.055397334207476036,2.235340360896873,0.2127535535306071,-1.0936907857756157,-1.095127127911492,-0.036983872331810094,0.1405845991744449,0.9990811980995024,-0.38133164054122687,0.4188828292150607,0.7639415389965162,-1.5363182614760473,-0.5836306055561737,-0.5564802891642523,0.27355942667249133,-0.19143222578973443,2.2662149960086935,0.5749447538886344,-1.2753637372850788,1.9287221634387093,0.7099186452912636,0.004229094356319363,-2.25020330548462,-0.9815861634693895,-0.08923749356744987,-1.3372009872447732,-0.1323376247539866,-0.39730967369732084,-0.9156689796933062,0.5631677363355335,-0.7795866286804178,-0.204854748351753,-0.9623752418290115,-0.6277110368908078,0.8179132872244542,-1.3841106590099894,-1.691269656360695,0.5343258529217656,-0.25680254083887394,2.627165072906644,-0.14763476004978585,-0.17257057163101136,-0.2056432080272134,1.6223879450819967,-0.21783483144740098,0.7354681172994999,-0.11318274664317976,0.21886584953230323,-0.18174933433188084,-2.9726490611652165,-1.1346417759642426,-0.4987540998712413,1.3673123446330104,1.6218714880270613,-0.04047039466792415,0.96694327486157,-0.8954153268487087,0.1825169937934882,0.8839934709951787,1.4288035335316298,0.3227495759096064,-0.3908280472876743,-0.46664169633794633],\"type\":\"box\"},{\"boxpoints\":false,\"line\":{\"width\":1.3},\"marker\":{\"color\":\"rgba(128, 0, 128, 1.0)\"},\"name\":\"D\",\"orientation\":\"v\",\"y\":[0.3483890581129721,-0.888182699729952,0.46718461601091094,-1.0417530361610983,-1.6250608910439461,-0.2248852748373986,-1.281688014536062,-0.8514976337743849,-0.6883683187600665,-0.20667615740811776,-0.3767448429923869,-0.9843008168119253,-0.31277817100762895,0.8468924252669293,-1.0727728388254159,0.30008791805319524,1.8879604124582612,1.2660810398323776,0.45609129801939463,0.6726147657822424,0.8241665028317623,-0.3518181535052042,-0.5080330525938204,1.5963785365652088,-0.5547215770586273,-1.7006030658476257,0.4850139462154026,-0.12641952295975467,0.10593177255142132,-0.31045383083644296,-2.215447530809033,0.3328245871913032,0.16542739736732404,2.279149262740099,0.1464903933485164,-0.8981473637269928,0.011316903987620362,0.3740268469448724,0.00600595347178172,-0.5455397405384034,1.1053757913750353,0.9809228411435073,-0.8688567153887097,-0.1411299275245519,0.7693973235242795,1.6730057520225377,-1.024431996891845,1.110540384593331,-1.5050331148984104,0.25335284519577395,-0.19363896658984323,-0.8086363725025757,-0.479998946736685,1.4642522113562635,-0.6281189642664279,-0.5226430926304726,0.6919866248911934,1.9232786601198262,0.5876327968957331,-0.0046343931432081915,1.443041936933062,1.5460271692153054,0.2840617527281839,-0.716096743201206,1.1274681102723925,-0.249539933808164,0.11432698616093034,0.3167643160240619,-0.8629581773182998,0.7177258044323274,-1.8537797335432495,-0.5901892401603281,-2.4525226498278077,1.6417672188323253,-1.3908212668743931,0.1205347838088376,1.4238760368657009,0.6350831586659941,-0.046506600815857,0.03312983193434833,-1.8399107242066985,0.18831190190361355,-0.6509961953618276,0.4348223970672755,0.41112806027556253,0.3007244133349498,-0.9814848471200649,-0.6904048067419298,0.335953220225626,-0.982965209353212,0.9270554220126782,0.975930458103786,-0.6030240850918889,-0.8665862123881608,0.5155234509956301,-0.2769171373345841,-1.200537929111223,-0.2466425746771957,-1.4015084783507177,0.1579469233065905],\"type\":\"box\"}],                        {\"legend\":{\"bgcolor\":\"#F5F6F9\",\"font\":{\"color\":\"#4D5663\"}},\"paper_bgcolor\":\"#F5F6F9\",\"plot_bgcolor\":\"#F5F6F9\",\"template\":{\"data\":{\"barpolar\":[{\"marker\":{\"line\":{\"color\":\"#E5ECF6\",\"width\":0.5},\"pattern\":{\"fillmode\":\"overlay\",\"size\":10,\"solidity\":0.2}},\"type\":\"barpolar\"}],\"bar\":[{\"error_x\":{\"color\":\"#2a3f5f\"},\"error_y\":{\"color\":\"#2a3f5f\"},\"marker\":{\"line\":{\"color\":\"#E5ECF6\",\"width\":0.5},\"pattern\":{\"fillmode\":\"overlay\",\"size\":10,\"solidity\":0.2}},\"type\":\"bar\"}],\"carpet\":[{\"aaxis\":{\"endlinecolor\":\"#2a3f5f\",\"gridcolor\":\"white\",\"linecolor\":\"white\",\"minorgridcolor\":\"white\",\"startlinecolor\":\"#2a3f5f\"},\"baxis\":{\"endlinecolor\":\"#2a3f5f\",\"gridcolor\":\"white\",\"linecolor\":\"white\",\"minorgridcolor\":\"white\",\"startlinecolor\":\"#2a3f5f\"},\"type\":\"carpet\"}],\"choropleth\":[{\"colorbar\":{\"outlinewidth\":0,\"ticks\":\"\"},\"type\":\"choropleth\"}],\"contourcarpet\":[{\"colorbar\":{\"outlinewidth\":0,\"ticks\":\"\"},\"type\":\"contourcarpet\"}],\"contour\":[{\"colorbar\":{\"outlinewidth\":0,\"ticks\":\"\"},\"colorscale\":[[0.0,\"#0d0887\"],[0.1111111111111111,\"#46039f\"],[0.2222222222222222,\"#7201a8\"],[0.3333333333333333,\"#9c179e\"],[0.4444444444444444,\"#bd3786\"],[0.5555555555555556,\"#d8576b\"],[0.6666666666666666,\"#ed7953\"],[0.7777777777777778,\"#fb9f3a\"],[0.8888888888888888,\"#fdca26\"],[1.0,\"#f0f921\"]],\"type\":\"contour\"}],\"heatmapgl\":[{\"colorbar\":{\"outlinewidth\":0,\"ticks\":\"\"},\"colorscale\":[[0.0,\"#0d0887\"],[0.1111111111111111,\"#46039f\"],[0.2222222222222222,\"#7201a8\"],[0.3333333333333333,\"#9c179e\"],[0.4444444444444444,\"#bd3786\"],[0.5555555555555556,\"#d8576b\"],[0.6666666666666666,\"#ed7953\"],[0.7777777777777778,\"#fb9f3a\"],[0.8888888888888888,\"#fdca26\"],[1.0,\"#f0f921\"]],\"type\":\"heatmapgl\"}],\"heatmap\":[{\"colorbar\":{\"outlinewidth\":0,\"ticks\":\"\"},\"colorscale\":[[0.0,\"#0d0887\"],[0.1111111111111111,\"#46039f\"],[0.2222222222222222,\"#7201a8\"],[0.3333333333333333,\"#9c179e\"],[0.4444444444444444,\"#bd3786\"],[0.5555555555555556,\"#d8576b\"],[0.6666666666666666,\"#ed7953\"],[0.7777777777777778,\"#fb9f3a\"],[0.8888888888888888,\"#fdca26\"],[1.0,\"#f0f921\"]],\"type\":\"heatmap\"}],\"histogram2dcontour\":[{\"colorbar\":{\"outlinewidth\":0,\"ticks\":\"\"},\"colorscale\":[[0.0,\"#0d0887\"],[0.1111111111111111,\"#46039f\"],[0.2222222222222222,\"#7201a8\"],[0.3333333333333333,\"#9c179e\"],[0.4444444444444444,\"#bd3786\"],[0.5555555555555556,\"#d8576b\"],[0.6666666666666666,\"#ed7953\"],[0.7777777777777778,\"#fb9f3a\"],[0.8888888888888888,\"#fdca26\"],[1.0,\"#f0f921\"]],\"type\":\"histogram2dcontour\"}],\"histogram2d\":[{\"colorbar\":{\"outlinewidth\":0,\"ticks\":\"\"},\"colorscale\":[[0.0,\"#0d0887\"],[0.1111111111111111,\"#46039f\"],[0.2222222222222222,\"#7201a8\"],[0.3333333333333333,\"#9c179e\"],[0.4444444444444444,\"#bd3786\"],[0.5555555555555556,\"#d8576b\"],[0.6666666666666666,\"#ed7953\"],[0.7777777777777778,\"#fb9f3a\"],[0.8888888888888888,\"#fdca26\"],[1.0,\"#f0f921\"]],\"type\":\"histogram2d\"}],\"histogram\":[{\"marker\":{\"pattern\":{\"fillmode\":\"overlay\",\"size\":10,\"solidity\":0.2}},\"type\":\"histogram\"}],\"mesh3d\":[{\"colorbar\":{\"outlinewidth\":0,\"ticks\":\"\"},\"type\":\"mesh3d\"}],\"parcoords\":[{\"line\":{\"colorbar\":{\"outlinewidth\":0,\"ticks\":\"\"}},\"type\":\"parcoords\"}],\"pie\":[{\"automargin\":true,\"type\":\"pie\"}],\"scatter3d\":[{\"line\":{\"colorbar\":{\"outlinewidth\":0,\"ticks\":\"\"}},\"marker\":{\"colorbar\":{\"outlinewidth\":0,\"ticks\":\"\"}},\"type\":\"scatter3d\"}],\"scattercarpet\":[{\"marker\":{\"colorbar\":{\"outlinewidth\":0,\"ticks\":\"\"}},\"type\":\"scattercarpet\"}],\"scattergeo\":[{\"marker\":{\"colorbar\":{\"outlinewidth\":0,\"ticks\":\"\"}},\"type\":\"scattergeo\"}],\"scattergl\":[{\"marker\":{\"colorbar\":{\"outlinewidth\":0,\"ticks\":\"\"}},\"type\":\"scattergl\"}],\"scattermapbox\":[{\"marker\":{\"colorbar\":{\"outlinewidth\":0,\"ticks\":\"\"}},\"type\":\"scattermapbox\"}],\"scatterpolargl\":[{\"marker\":{\"colorbar\":{\"outlinewidth\":0,\"ticks\":\"\"}},\"type\":\"scatterpolargl\"}],\"scatterpolar\":[{\"marker\":{\"colorbar\":{\"outlinewidth\":0,\"ticks\":\"\"}},\"type\":\"scatterpolar\"}],\"scatter\":[{\"marker\":{\"colorbar\":{\"outlinewidth\":0,\"ticks\":\"\"}},\"type\":\"scatter\"}],\"scatterternary\":[{\"marker\":{\"colorbar\":{\"outlinewidth\":0,\"ticks\":\"\"}},\"type\":\"scatterternary\"}],\"surface\":[{\"colorbar\":{\"outlinewidth\":0,\"ticks\":\"\"},\"colorscale\":[[0.0,\"#0d0887\"],[0.1111111111111111,\"#46039f\"],[0.2222222222222222,\"#7201a8\"],[0.3333333333333333,\"#9c179e\"],[0.4444444444444444,\"#bd3786\"],[0.5555555555555556,\"#d8576b\"],[0.6666666666666666,\"#ed7953\"],[0.7777777777777778,\"#fb9f3a\"],[0.8888888888888888,\"#fdca26\"],[1.0,\"#f0f921\"]],\"type\":\"surface\"}],\"table\":[{\"cells\":{\"fill\":{\"color\":\"#EBF0F8\"},\"line\":{\"color\":\"white\"}},\"header\":{\"fill\":{\"color\":\"#C8D4E3\"},\"line\":{\"color\":\"white\"}},\"type\":\"table\"}]},\"layout\":{\"annotationdefaults\":{\"arrowcolor\":\"#2a3f5f\",\"arrowhead\":0,\"arrowwidth\":1},\"autotypenumbers\":\"strict\",\"coloraxis\":{\"colorbar\":{\"outlinewidth\":0,\"ticks\":\"\"}},\"colorscale\":{\"diverging\":[[0,\"#8e0152\"],[0.1,\"#c51b7d\"],[0.2,\"#de77ae\"],[0.3,\"#f1b6da\"],[0.4,\"#fde0ef\"],[0.5,\"#f7f7f7\"],[0.6,\"#e6f5d0\"],[0.7,\"#b8e186\"],[0.8,\"#7fbc41\"],[0.9,\"#4d9221\"],[1,\"#276419\"]],\"sequential\":[[0.0,\"#0d0887\"],[0.1111111111111111,\"#46039f\"],[0.2222222222222222,\"#7201a8\"],[0.3333333333333333,\"#9c179e\"],[0.4444444444444444,\"#bd3786\"],[0.5555555555555556,\"#d8576b\"],[0.6666666666666666,\"#ed7953\"],[0.7777777777777778,\"#fb9f3a\"],[0.8888888888888888,\"#fdca26\"],[1.0,\"#f0f921\"]],\"sequentialminus\":[[0.0,\"#0d0887\"],[0.1111111111111111,\"#46039f\"],[0.2222222222222222,\"#7201a8\"],[0.3333333333333333,\"#9c179e\"],[0.4444444444444444,\"#bd3786\"],[0.5555555555555556,\"#d8576b\"],[0.6666666666666666,\"#ed7953\"],[0.7777777777777778,\"#fb9f3a\"],[0.8888888888888888,\"#fdca26\"],[1.0,\"#f0f921\"]]},\"colorway\":[\"#636efa\",\"#EF553B\",\"#00cc96\",\"#ab63fa\",\"#FFA15A\",\"#19d3f3\",\"#FF6692\",\"#B6E880\",\"#FF97FF\",\"#FECB52\"],\"font\":{\"color\":\"#2a3f5f\"},\"geo\":{\"bgcolor\":\"white\",\"lakecolor\":\"white\",\"landcolor\":\"#E5ECF6\",\"showlakes\":true,\"showland\":true,\"subunitcolor\":\"white\"},\"hoverlabel\":{\"align\":\"left\"},\"hovermode\":\"closest\",\"mapbox\":{\"style\":\"light\"},\"paper_bgcolor\":\"white\",\"plot_bgcolor\":\"#E5ECF6\",\"polar\":{\"angularaxis\":{\"gridcolor\":\"white\",\"linecolor\":\"white\",\"ticks\":\"\"},\"bgcolor\":\"#E5ECF6\",\"radialaxis\":{\"gridcolor\":\"white\",\"linecolor\":\"white\",\"ticks\":\"\"}},\"scene\":{\"xaxis\":{\"backgroundcolor\":\"#E5ECF6\",\"gridcolor\":\"white\",\"gridwidth\":2,\"linecolor\":\"white\",\"showbackground\":true,\"ticks\":\"\",\"zerolinecolor\":\"white\"},\"yaxis\":{\"backgroundcolor\":\"#E5ECF6\",\"gridcolor\":\"white\",\"gridwidth\":2,\"linecolor\":\"white\",\"showbackground\":true,\"ticks\":\"\",\"zerolinecolor\":\"white\"},\"zaxis\":{\"backgroundcolor\":\"#E5ECF6\",\"gridcolor\":\"white\",\"gridwidth\":2,\"linecolor\":\"white\",\"showbackground\":true,\"ticks\":\"\",\"zerolinecolor\":\"white\"}},\"shapedefaults\":{\"line\":{\"color\":\"#2a3f5f\"}},\"ternary\":{\"aaxis\":{\"gridcolor\":\"white\",\"linecolor\":\"white\",\"ticks\":\"\"},\"baxis\":{\"gridcolor\":\"white\",\"linecolor\":\"white\",\"ticks\":\"\"},\"bgcolor\":\"#E5ECF6\",\"caxis\":{\"gridcolor\":\"white\",\"linecolor\":\"white\",\"ticks\":\"\"}},\"title\":{\"x\":0.05},\"xaxis\":{\"automargin\":true,\"gridcolor\":\"white\",\"linecolor\":\"white\",\"ticks\":\"\",\"title\":{\"standoff\":15},\"zerolinecolor\":\"white\",\"zerolinewidth\":2},\"yaxis\":{\"automargin\":true,\"gridcolor\":\"white\",\"linecolor\":\"white\",\"ticks\":\"\",\"title\":{\"standoff\":15},\"zerolinecolor\":\"white\",\"zerolinewidth\":2}}},\"title\":{\"font\":{\"color\":\"#4D5663\"}},\"xaxis\":{\"gridcolor\":\"#E1E5ED\",\"showgrid\":true,\"tickfont\":{\"color\":\"#4D5663\"},\"title\":{\"font\":{\"color\":\"#4D5663\"},\"text\":\"\"},\"zerolinecolor\":\"#E1E5ED\"},\"yaxis\":{\"gridcolor\":\"#E1E5ED\",\"showgrid\":true,\"tickfont\":{\"color\":\"#4D5663\"},\"title\":{\"font\":{\"color\":\"#4D5663\"},\"text\":\"\"},\"zerolinecolor\":\"#E1E5ED\"}},                        {\"showLink\": true, \"linkText\": \"Export to plot.ly\", \"plotlyServerURL\": \"https://plot.ly\", \"responsive\": true}                    ).then(function(){\n",
       "                            \n",
       "var gd = document.getElementById('478ca866-72d9-43b8-a7d6-98e90fbdb70d');\n",
       "var x = new MutationObserver(function (mutations, observer) {{\n",
       "        var display = window.getComputedStyle(gd).display;\n",
       "        if (!display || display === 'none') {{\n",
       "            console.log([gd, 'removed!']);\n",
       "            Plotly.purge(gd);\n",
       "            observer.disconnect();\n",
       "        }}\n",
       "}});\n",
       "\n",
       "// Listen for the removal of the full notebook cells\n",
       "var notebookContainer = gd.closest('#notebook-container');\n",
       "if (notebookContainer) {{\n",
       "    x.observe(notebookContainer, {childList: true});\n",
       "}}\n",
       "\n",
       "// Listen for the clearing of the current output cell\n",
       "var outputEl = gd.closest('.output');\n",
       "if (outputEl) {{\n",
       "    x.observe(outputEl, {childList: true});\n",
       "}}\n",
       "\n",
       "                        })                };                });            </script>        </div>"
      ]
     },
     "metadata": {},
     "output_type": "display_data"
    }
   ],
   "source": [
    "df.iplot(kind='box')"
   ]
  },
  {
   "cell_type": "markdown",
   "metadata": {},
   "source": [
    "## Superficie 3D"
   ]
  },
  {
   "cell_type": "code",
   "execution_count": 18,
   "metadata": {},
   "outputs": [
    {
     "data": {
      "application/vnd.plotly.v1+json": {
       "config": {
        "linkText": "Export to plot.ly",
        "plotlyServerURL": "https://plot.ly",
        "showLink": true
       },
       "data": [
        {
         "colorscale": [
          [
           0,
           "rgb(165,0,38)"
          ],
          [
           0.1,
           "rgb(215,48,39)"
          ],
          [
           0.2,
           "rgb(244,109,67)"
          ],
          [
           0.3,
           "rgb(253,174,97)"
          ],
          [
           0.4,
           "rgb(254,224,144)"
          ],
          [
           0.5,
           "rgb(255,255,191)"
          ],
          [
           0.6,
           "rgb(224,243,248)"
          ],
          [
           0.7,
           "rgb(171,217,233)"
          ],
          [
           0.8,
           "rgb(116,173,209)"
          ],
          [
           0.9,
           "rgb(69,117,180)"
          ],
          [
           1,
           "rgb(49,54,149)"
          ]
         ],
         "type": "surface",
         "x": [
          0,
          1,
          2,
          3,
          4
         ],
         "y": [
          "x",
          "y",
          "z"
         ],
         "z": [
          [
           1,
           2,
           3,
           4,
           5
          ],
          [
           10,
           20,
           30,
           20,
           10
          ],
          [
           5,
           4,
           3,
           2,
           1
          ]
         ]
        }
       ],
       "layout": {
        "legend": {
         "bgcolor": "#F5F6F9",
         "font": {
          "color": "#4D5663"
         }
        },
        "paper_bgcolor": "#F5F6F9",
        "plot_bgcolor": "#F5F6F9",
        "template": {
         "data": {
          "bar": [
           {
            "error_x": {
             "color": "#2a3f5f"
            },
            "error_y": {
             "color": "#2a3f5f"
            },
            "marker": {
             "line": {
              "color": "#E5ECF6",
              "width": 0.5
             },
             "pattern": {
              "fillmode": "overlay",
              "size": 10,
              "solidity": 0.2
             }
            },
            "type": "bar"
           }
          ],
          "barpolar": [
           {
            "marker": {
             "line": {
              "color": "#E5ECF6",
              "width": 0.5
             },
             "pattern": {
              "fillmode": "overlay",
              "size": 10,
              "solidity": 0.2
             }
            },
            "type": "barpolar"
           }
          ],
          "carpet": [
           {
            "aaxis": {
             "endlinecolor": "#2a3f5f",
             "gridcolor": "white",
             "linecolor": "white",
             "minorgridcolor": "white",
             "startlinecolor": "#2a3f5f"
            },
            "baxis": {
             "endlinecolor": "#2a3f5f",
             "gridcolor": "white",
             "linecolor": "white",
             "minorgridcolor": "white",
             "startlinecolor": "#2a3f5f"
            },
            "type": "carpet"
           }
          ],
          "choropleth": [
           {
            "colorbar": {
             "outlinewidth": 0,
             "ticks": ""
            },
            "type": "choropleth"
           }
          ],
          "contour": [
           {
            "colorbar": {
             "outlinewidth": 0,
             "ticks": ""
            },
            "colorscale": [
             [
              0,
              "#0d0887"
             ],
             [
              0.1111111111111111,
              "#46039f"
             ],
             [
              0.2222222222222222,
              "#7201a8"
             ],
             [
              0.3333333333333333,
              "#9c179e"
             ],
             [
              0.4444444444444444,
              "#bd3786"
             ],
             [
              0.5555555555555556,
              "#d8576b"
             ],
             [
              0.6666666666666666,
              "#ed7953"
             ],
             [
              0.7777777777777778,
              "#fb9f3a"
             ],
             [
              0.8888888888888888,
              "#fdca26"
             ],
             [
              1,
              "#f0f921"
             ]
            ],
            "type": "contour"
           }
          ],
          "contourcarpet": [
           {
            "colorbar": {
             "outlinewidth": 0,
             "ticks": ""
            },
            "type": "contourcarpet"
           }
          ],
          "heatmap": [
           {
            "colorbar": {
             "outlinewidth": 0,
             "ticks": ""
            },
            "colorscale": [
             [
              0,
              "#0d0887"
             ],
             [
              0.1111111111111111,
              "#46039f"
             ],
             [
              0.2222222222222222,
              "#7201a8"
             ],
             [
              0.3333333333333333,
              "#9c179e"
             ],
             [
              0.4444444444444444,
              "#bd3786"
             ],
             [
              0.5555555555555556,
              "#d8576b"
             ],
             [
              0.6666666666666666,
              "#ed7953"
             ],
             [
              0.7777777777777778,
              "#fb9f3a"
             ],
             [
              0.8888888888888888,
              "#fdca26"
             ],
             [
              1,
              "#f0f921"
             ]
            ],
            "type": "heatmap"
           }
          ],
          "heatmapgl": [
           {
            "colorbar": {
             "outlinewidth": 0,
             "ticks": ""
            },
            "colorscale": [
             [
              0,
              "#0d0887"
             ],
             [
              0.1111111111111111,
              "#46039f"
             ],
             [
              0.2222222222222222,
              "#7201a8"
             ],
             [
              0.3333333333333333,
              "#9c179e"
             ],
             [
              0.4444444444444444,
              "#bd3786"
             ],
             [
              0.5555555555555556,
              "#d8576b"
             ],
             [
              0.6666666666666666,
              "#ed7953"
             ],
             [
              0.7777777777777778,
              "#fb9f3a"
             ],
             [
              0.8888888888888888,
              "#fdca26"
             ],
             [
              1,
              "#f0f921"
             ]
            ],
            "type": "heatmapgl"
           }
          ],
          "histogram": [
           {
            "marker": {
             "pattern": {
              "fillmode": "overlay",
              "size": 10,
              "solidity": 0.2
             }
            },
            "type": "histogram"
           }
          ],
          "histogram2d": [
           {
            "colorbar": {
             "outlinewidth": 0,
             "ticks": ""
            },
            "colorscale": [
             [
              0,
              "#0d0887"
             ],
             [
              0.1111111111111111,
              "#46039f"
             ],
             [
              0.2222222222222222,
              "#7201a8"
             ],
             [
              0.3333333333333333,
              "#9c179e"
             ],
             [
              0.4444444444444444,
              "#bd3786"
             ],
             [
              0.5555555555555556,
              "#d8576b"
             ],
             [
              0.6666666666666666,
              "#ed7953"
             ],
             [
              0.7777777777777778,
              "#fb9f3a"
             ],
             [
              0.8888888888888888,
              "#fdca26"
             ],
             [
              1,
              "#f0f921"
             ]
            ],
            "type": "histogram2d"
           }
          ],
          "histogram2dcontour": [
           {
            "colorbar": {
             "outlinewidth": 0,
             "ticks": ""
            },
            "colorscale": [
             [
              0,
              "#0d0887"
             ],
             [
              0.1111111111111111,
              "#46039f"
             ],
             [
              0.2222222222222222,
              "#7201a8"
             ],
             [
              0.3333333333333333,
              "#9c179e"
             ],
             [
              0.4444444444444444,
              "#bd3786"
             ],
             [
              0.5555555555555556,
              "#d8576b"
             ],
             [
              0.6666666666666666,
              "#ed7953"
             ],
             [
              0.7777777777777778,
              "#fb9f3a"
             ],
             [
              0.8888888888888888,
              "#fdca26"
             ],
             [
              1,
              "#f0f921"
             ]
            ],
            "type": "histogram2dcontour"
           }
          ],
          "mesh3d": [
           {
            "colorbar": {
             "outlinewidth": 0,
             "ticks": ""
            },
            "type": "mesh3d"
           }
          ],
          "parcoords": [
           {
            "line": {
             "colorbar": {
              "outlinewidth": 0,
              "ticks": ""
             }
            },
            "type": "parcoords"
           }
          ],
          "pie": [
           {
            "automargin": true,
            "type": "pie"
           }
          ],
          "scatter": [
           {
            "marker": {
             "colorbar": {
              "outlinewidth": 0,
              "ticks": ""
             }
            },
            "type": "scatter"
           }
          ],
          "scatter3d": [
           {
            "line": {
             "colorbar": {
              "outlinewidth": 0,
              "ticks": ""
             }
            },
            "marker": {
             "colorbar": {
              "outlinewidth": 0,
              "ticks": ""
             }
            },
            "type": "scatter3d"
           }
          ],
          "scattercarpet": [
           {
            "marker": {
             "colorbar": {
              "outlinewidth": 0,
              "ticks": ""
             }
            },
            "type": "scattercarpet"
           }
          ],
          "scattergeo": [
           {
            "marker": {
             "colorbar": {
              "outlinewidth": 0,
              "ticks": ""
             }
            },
            "type": "scattergeo"
           }
          ],
          "scattergl": [
           {
            "marker": {
             "colorbar": {
              "outlinewidth": 0,
              "ticks": ""
             }
            },
            "type": "scattergl"
           }
          ],
          "scattermapbox": [
           {
            "marker": {
             "colorbar": {
              "outlinewidth": 0,
              "ticks": ""
             }
            },
            "type": "scattermapbox"
           }
          ],
          "scatterpolar": [
           {
            "marker": {
             "colorbar": {
              "outlinewidth": 0,
              "ticks": ""
             }
            },
            "type": "scatterpolar"
           }
          ],
          "scatterpolargl": [
           {
            "marker": {
             "colorbar": {
              "outlinewidth": 0,
              "ticks": ""
             }
            },
            "type": "scatterpolargl"
           }
          ],
          "scatterternary": [
           {
            "marker": {
             "colorbar": {
              "outlinewidth": 0,
              "ticks": ""
             }
            },
            "type": "scatterternary"
           }
          ],
          "surface": [
           {
            "colorbar": {
             "outlinewidth": 0,
             "ticks": ""
            },
            "colorscale": [
             [
              0,
              "#0d0887"
             ],
             [
              0.1111111111111111,
              "#46039f"
             ],
             [
              0.2222222222222222,
              "#7201a8"
             ],
             [
              0.3333333333333333,
              "#9c179e"
             ],
             [
              0.4444444444444444,
              "#bd3786"
             ],
             [
              0.5555555555555556,
              "#d8576b"
             ],
             [
              0.6666666666666666,
              "#ed7953"
             ],
             [
              0.7777777777777778,
              "#fb9f3a"
             ],
             [
              0.8888888888888888,
              "#fdca26"
             ],
             [
              1,
              "#f0f921"
             ]
            ],
            "type": "surface"
           }
          ],
          "table": [
           {
            "cells": {
             "fill": {
              "color": "#EBF0F8"
             },
             "line": {
              "color": "white"
             }
            },
            "header": {
             "fill": {
              "color": "#C8D4E3"
             },
             "line": {
              "color": "white"
             }
            },
            "type": "table"
           }
          ]
         },
         "layout": {
          "annotationdefaults": {
           "arrowcolor": "#2a3f5f",
           "arrowhead": 0,
           "arrowwidth": 1
          },
          "autotypenumbers": "strict",
          "coloraxis": {
           "colorbar": {
            "outlinewidth": 0,
            "ticks": ""
           }
          },
          "colorscale": {
           "diverging": [
            [
             0,
             "#8e0152"
            ],
            [
             0.1,
             "#c51b7d"
            ],
            [
             0.2,
             "#de77ae"
            ],
            [
             0.3,
             "#f1b6da"
            ],
            [
             0.4,
             "#fde0ef"
            ],
            [
             0.5,
             "#f7f7f7"
            ],
            [
             0.6,
             "#e6f5d0"
            ],
            [
             0.7,
             "#b8e186"
            ],
            [
             0.8,
             "#7fbc41"
            ],
            [
             0.9,
             "#4d9221"
            ],
            [
             1,
             "#276419"
            ]
           ],
           "sequential": [
            [
             0,
             "#0d0887"
            ],
            [
             0.1111111111111111,
             "#46039f"
            ],
            [
             0.2222222222222222,
             "#7201a8"
            ],
            [
             0.3333333333333333,
             "#9c179e"
            ],
            [
             0.4444444444444444,
             "#bd3786"
            ],
            [
             0.5555555555555556,
             "#d8576b"
            ],
            [
             0.6666666666666666,
             "#ed7953"
            ],
            [
             0.7777777777777778,
             "#fb9f3a"
            ],
            [
             0.8888888888888888,
             "#fdca26"
            ],
            [
             1,
             "#f0f921"
            ]
           ],
           "sequentialminus": [
            [
             0,
             "#0d0887"
            ],
            [
             0.1111111111111111,
             "#46039f"
            ],
            [
             0.2222222222222222,
             "#7201a8"
            ],
            [
             0.3333333333333333,
             "#9c179e"
            ],
            [
             0.4444444444444444,
             "#bd3786"
            ],
            [
             0.5555555555555556,
             "#d8576b"
            ],
            [
             0.6666666666666666,
             "#ed7953"
            ],
            [
             0.7777777777777778,
             "#fb9f3a"
            ],
            [
             0.8888888888888888,
             "#fdca26"
            ],
            [
             1,
             "#f0f921"
            ]
           ]
          },
          "colorway": [
           "#636efa",
           "#EF553B",
           "#00cc96",
           "#ab63fa",
           "#FFA15A",
           "#19d3f3",
           "#FF6692",
           "#B6E880",
           "#FF97FF",
           "#FECB52"
          ],
          "font": {
           "color": "#2a3f5f"
          },
          "geo": {
           "bgcolor": "white",
           "lakecolor": "white",
           "landcolor": "#E5ECF6",
           "showlakes": true,
           "showland": true,
           "subunitcolor": "white"
          },
          "hoverlabel": {
           "align": "left"
          },
          "hovermode": "closest",
          "mapbox": {
           "style": "light"
          },
          "paper_bgcolor": "white",
          "plot_bgcolor": "#E5ECF6",
          "polar": {
           "angularaxis": {
            "gridcolor": "white",
            "linecolor": "white",
            "ticks": ""
           },
           "bgcolor": "#E5ECF6",
           "radialaxis": {
            "gridcolor": "white",
            "linecolor": "white",
            "ticks": ""
           }
          },
          "scene": {
           "xaxis": {
            "backgroundcolor": "#E5ECF6",
            "gridcolor": "white",
            "gridwidth": 2,
            "linecolor": "white",
            "showbackground": true,
            "ticks": "",
            "zerolinecolor": "white"
           },
           "yaxis": {
            "backgroundcolor": "#E5ECF6",
            "gridcolor": "white",
            "gridwidth": 2,
            "linecolor": "white",
            "showbackground": true,
            "ticks": "",
            "zerolinecolor": "white"
           },
           "zaxis": {
            "backgroundcolor": "#E5ECF6",
            "gridcolor": "white",
            "gridwidth": 2,
            "linecolor": "white",
            "showbackground": true,
            "ticks": "",
            "zerolinecolor": "white"
           }
          },
          "shapedefaults": {
           "line": {
            "color": "#2a3f5f"
           }
          },
          "ternary": {
           "aaxis": {
            "gridcolor": "white",
            "linecolor": "white",
            "ticks": ""
           },
           "baxis": {
            "gridcolor": "white",
            "linecolor": "white",
            "ticks": ""
           },
           "bgcolor": "#E5ECF6",
           "caxis": {
            "gridcolor": "white",
            "linecolor": "white",
            "ticks": ""
           }
          },
          "title": {
           "x": 0.05
          },
          "xaxis": {
           "automargin": true,
           "gridcolor": "white",
           "linecolor": "white",
           "ticks": "",
           "title": {
            "standoff": 15
           },
           "zerolinecolor": "white",
           "zerolinewidth": 2
          },
          "yaxis": {
           "automargin": true,
           "gridcolor": "white",
           "linecolor": "white",
           "ticks": "",
           "title": {
            "standoff": 15
           },
           "zerolinecolor": "white",
           "zerolinewidth": 2
          }
         }
        },
        "title": {
         "font": {
          "color": "#4D5663"
         }
        },
        "xaxis": {
         "gridcolor": "#E1E5ED",
         "showgrid": true,
         "tickfont": {
          "color": "#4D5663"
         },
         "title": {
          "font": {
           "color": "#4D5663"
          },
          "text": ""
         },
         "zerolinecolor": "#E1E5ED"
        },
        "yaxis": {
         "gridcolor": "#E1E5ED",
         "showgrid": true,
         "tickfont": {
          "color": "#4D5663"
         },
         "title": {
          "font": {
           "color": "#4D5663"
          },
          "text": ""
         },
         "zerolinecolor": "#E1E5ED"
        }
       }
      },
      "text/html": [
       "<div>                            <div id=\"d19e4d08-c509-4332-b08d-6b3ede62371f\" class=\"plotly-graph-div\" style=\"height:525px; width:100%;\"></div>            <script type=\"text/javascript\">                require([\"plotly\"], function(Plotly) {                    window.PLOTLYENV=window.PLOTLYENV || {};\n",
       "                    window.PLOTLYENV.BASE_URL='https://plot.ly';                                    if (document.getElementById(\"d19e4d08-c509-4332-b08d-6b3ede62371f\")) {                    Plotly.newPlot(                        \"d19e4d08-c509-4332-b08d-6b3ede62371f\",                        [{\"colorscale\":[[0.0,\"rgb(165,0,38)\"],[0.1,\"rgb(215,48,39)\"],[0.2,\"rgb(244,109,67)\"],[0.3,\"rgb(253,174,97)\"],[0.4,\"rgb(254,224,144)\"],[0.5,\"rgb(255,255,191)\"],[0.6,\"rgb(224,243,248)\"],[0.7,\"rgb(171,217,233)\"],[0.8,\"rgb(116,173,209)\"],[0.9,\"rgb(69,117,180)\"],[1.0,\"rgb(49,54,149)\"]],\"x\":[0,1,2,3,4],\"y\":[\"x\",\"y\",\"z\"],\"z\":[[1,2,3,4,5],[10,20,30,20,10],[5,4,3,2,1]],\"type\":\"surface\"}],                        {\"legend\":{\"bgcolor\":\"#F5F6F9\",\"font\":{\"color\":\"#4D5663\"}},\"paper_bgcolor\":\"#F5F6F9\",\"plot_bgcolor\":\"#F5F6F9\",\"template\":{\"data\":{\"barpolar\":[{\"marker\":{\"line\":{\"color\":\"#E5ECF6\",\"width\":0.5},\"pattern\":{\"fillmode\":\"overlay\",\"size\":10,\"solidity\":0.2}},\"type\":\"barpolar\"}],\"bar\":[{\"error_x\":{\"color\":\"#2a3f5f\"},\"error_y\":{\"color\":\"#2a3f5f\"},\"marker\":{\"line\":{\"color\":\"#E5ECF6\",\"width\":0.5},\"pattern\":{\"fillmode\":\"overlay\",\"size\":10,\"solidity\":0.2}},\"type\":\"bar\"}],\"carpet\":[{\"aaxis\":{\"endlinecolor\":\"#2a3f5f\",\"gridcolor\":\"white\",\"linecolor\":\"white\",\"minorgridcolor\":\"white\",\"startlinecolor\":\"#2a3f5f\"},\"baxis\":{\"endlinecolor\":\"#2a3f5f\",\"gridcolor\":\"white\",\"linecolor\":\"white\",\"minorgridcolor\":\"white\",\"startlinecolor\":\"#2a3f5f\"},\"type\":\"carpet\"}],\"choropleth\":[{\"colorbar\":{\"outlinewidth\":0,\"ticks\":\"\"},\"type\":\"choropleth\"}],\"contourcarpet\":[{\"colorbar\":{\"outlinewidth\":0,\"ticks\":\"\"},\"type\":\"contourcarpet\"}],\"contour\":[{\"colorbar\":{\"outlinewidth\":0,\"ticks\":\"\"},\"colorscale\":[[0.0,\"#0d0887\"],[0.1111111111111111,\"#46039f\"],[0.2222222222222222,\"#7201a8\"],[0.3333333333333333,\"#9c179e\"],[0.4444444444444444,\"#bd3786\"],[0.5555555555555556,\"#d8576b\"],[0.6666666666666666,\"#ed7953\"],[0.7777777777777778,\"#fb9f3a\"],[0.8888888888888888,\"#fdca26\"],[1.0,\"#f0f921\"]],\"type\":\"contour\"}],\"heatmapgl\":[{\"colorbar\":{\"outlinewidth\":0,\"ticks\":\"\"},\"colorscale\":[[0.0,\"#0d0887\"],[0.1111111111111111,\"#46039f\"],[0.2222222222222222,\"#7201a8\"],[0.3333333333333333,\"#9c179e\"],[0.4444444444444444,\"#bd3786\"],[0.5555555555555556,\"#d8576b\"],[0.6666666666666666,\"#ed7953\"],[0.7777777777777778,\"#fb9f3a\"],[0.8888888888888888,\"#fdca26\"],[1.0,\"#f0f921\"]],\"type\":\"heatmapgl\"}],\"heatmap\":[{\"colorbar\":{\"outlinewidth\":0,\"ticks\":\"\"},\"colorscale\":[[0.0,\"#0d0887\"],[0.1111111111111111,\"#46039f\"],[0.2222222222222222,\"#7201a8\"],[0.3333333333333333,\"#9c179e\"],[0.4444444444444444,\"#bd3786\"],[0.5555555555555556,\"#d8576b\"],[0.6666666666666666,\"#ed7953\"],[0.7777777777777778,\"#fb9f3a\"],[0.8888888888888888,\"#fdca26\"],[1.0,\"#f0f921\"]],\"type\":\"heatmap\"}],\"histogram2dcontour\":[{\"colorbar\":{\"outlinewidth\":0,\"ticks\":\"\"},\"colorscale\":[[0.0,\"#0d0887\"],[0.1111111111111111,\"#46039f\"],[0.2222222222222222,\"#7201a8\"],[0.3333333333333333,\"#9c179e\"],[0.4444444444444444,\"#bd3786\"],[0.5555555555555556,\"#d8576b\"],[0.6666666666666666,\"#ed7953\"],[0.7777777777777778,\"#fb9f3a\"],[0.8888888888888888,\"#fdca26\"],[1.0,\"#f0f921\"]],\"type\":\"histogram2dcontour\"}],\"histogram2d\":[{\"colorbar\":{\"outlinewidth\":0,\"ticks\":\"\"},\"colorscale\":[[0.0,\"#0d0887\"],[0.1111111111111111,\"#46039f\"],[0.2222222222222222,\"#7201a8\"],[0.3333333333333333,\"#9c179e\"],[0.4444444444444444,\"#bd3786\"],[0.5555555555555556,\"#d8576b\"],[0.6666666666666666,\"#ed7953\"],[0.7777777777777778,\"#fb9f3a\"],[0.8888888888888888,\"#fdca26\"],[1.0,\"#f0f921\"]],\"type\":\"histogram2d\"}],\"histogram\":[{\"marker\":{\"pattern\":{\"fillmode\":\"overlay\",\"size\":10,\"solidity\":0.2}},\"type\":\"histogram\"}],\"mesh3d\":[{\"colorbar\":{\"outlinewidth\":0,\"ticks\":\"\"},\"type\":\"mesh3d\"}],\"parcoords\":[{\"line\":{\"colorbar\":{\"outlinewidth\":0,\"ticks\":\"\"}},\"type\":\"parcoords\"}],\"pie\":[{\"automargin\":true,\"type\":\"pie\"}],\"scatter3d\":[{\"line\":{\"colorbar\":{\"outlinewidth\":0,\"ticks\":\"\"}},\"marker\":{\"colorbar\":{\"outlinewidth\":0,\"ticks\":\"\"}},\"type\":\"scatter3d\"}],\"scattercarpet\":[{\"marker\":{\"colorbar\":{\"outlinewidth\":0,\"ticks\":\"\"}},\"type\":\"scattercarpet\"}],\"scattergeo\":[{\"marker\":{\"colorbar\":{\"outlinewidth\":0,\"ticks\":\"\"}},\"type\":\"scattergeo\"}],\"scattergl\":[{\"marker\":{\"colorbar\":{\"outlinewidth\":0,\"ticks\":\"\"}},\"type\":\"scattergl\"}],\"scattermapbox\":[{\"marker\":{\"colorbar\":{\"outlinewidth\":0,\"ticks\":\"\"}},\"type\":\"scattermapbox\"}],\"scatterpolargl\":[{\"marker\":{\"colorbar\":{\"outlinewidth\":0,\"ticks\":\"\"}},\"type\":\"scatterpolargl\"}],\"scatterpolar\":[{\"marker\":{\"colorbar\":{\"outlinewidth\":0,\"ticks\":\"\"}},\"type\":\"scatterpolar\"}],\"scatter\":[{\"marker\":{\"colorbar\":{\"outlinewidth\":0,\"ticks\":\"\"}},\"type\":\"scatter\"}],\"scatterternary\":[{\"marker\":{\"colorbar\":{\"outlinewidth\":0,\"ticks\":\"\"}},\"type\":\"scatterternary\"}],\"surface\":[{\"colorbar\":{\"outlinewidth\":0,\"ticks\":\"\"},\"colorscale\":[[0.0,\"#0d0887\"],[0.1111111111111111,\"#46039f\"],[0.2222222222222222,\"#7201a8\"],[0.3333333333333333,\"#9c179e\"],[0.4444444444444444,\"#bd3786\"],[0.5555555555555556,\"#d8576b\"],[0.6666666666666666,\"#ed7953\"],[0.7777777777777778,\"#fb9f3a\"],[0.8888888888888888,\"#fdca26\"],[1.0,\"#f0f921\"]],\"type\":\"surface\"}],\"table\":[{\"cells\":{\"fill\":{\"color\":\"#EBF0F8\"},\"line\":{\"color\":\"white\"}},\"header\":{\"fill\":{\"color\":\"#C8D4E3\"},\"line\":{\"color\":\"white\"}},\"type\":\"table\"}]},\"layout\":{\"annotationdefaults\":{\"arrowcolor\":\"#2a3f5f\",\"arrowhead\":0,\"arrowwidth\":1},\"autotypenumbers\":\"strict\",\"coloraxis\":{\"colorbar\":{\"outlinewidth\":0,\"ticks\":\"\"}},\"colorscale\":{\"diverging\":[[0,\"#8e0152\"],[0.1,\"#c51b7d\"],[0.2,\"#de77ae\"],[0.3,\"#f1b6da\"],[0.4,\"#fde0ef\"],[0.5,\"#f7f7f7\"],[0.6,\"#e6f5d0\"],[0.7,\"#b8e186\"],[0.8,\"#7fbc41\"],[0.9,\"#4d9221\"],[1,\"#276419\"]],\"sequential\":[[0.0,\"#0d0887\"],[0.1111111111111111,\"#46039f\"],[0.2222222222222222,\"#7201a8\"],[0.3333333333333333,\"#9c179e\"],[0.4444444444444444,\"#bd3786\"],[0.5555555555555556,\"#d8576b\"],[0.6666666666666666,\"#ed7953\"],[0.7777777777777778,\"#fb9f3a\"],[0.8888888888888888,\"#fdca26\"],[1.0,\"#f0f921\"]],\"sequentialminus\":[[0.0,\"#0d0887\"],[0.1111111111111111,\"#46039f\"],[0.2222222222222222,\"#7201a8\"],[0.3333333333333333,\"#9c179e\"],[0.4444444444444444,\"#bd3786\"],[0.5555555555555556,\"#d8576b\"],[0.6666666666666666,\"#ed7953\"],[0.7777777777777778,\"#fb9f3a\"],[0.8888888888888888,\"#fdca26\"],[1.0,\"#f0f921\"]]},\"colorway\":[\"#636efa\",\"#EF553B\",\"#00cc96\",\"#ab63fa\",\"#FFA15A\",\"#19d3f3\",\"#FF6692\",\"#B6E880\",\"#FF97FF\",\"#FECB52\"],\"font\":{\"color\":\"#2a3f5f\"},\"geo\":{\"bgcolor\":\"white\",\"lakecolor\":\"white\",\"landcolor\":\"#E5ECF6\",\"showlakes\":true,\"showland\":true,\"subunitcolor\":\"white\"},\"hoverlabel\":{\"align\":\"left\"},\"hovermode\":\"closest\",\"mapbox\":{\"style\":\"light\"},\"paper_bgcolor\":\"white\",\"plot_bgcolor\":\"#E5ECF6\",\"polar\":{\"angularaxis\":{\"gridcolor\":\"white\",\"linecolor\":\"white\",\"ticks\":\"\"},\"bgcolor\":\"#E5ECF6\",\"radialaxis\":{\"gridcolor\":\"white\",\"linecolor\":\"white\",\"ticks\":\"\"}},\"scene\":{\"xaxis\":{\"backgroundcolor\":\"#E5ECF6\",\"gridcolor\":\"white\",\"gridwidth\":2,\"linecolor\":\"white\",\"showbackground\":true,\"ticks\":\"\",\"zerolinecolor\":\"white\"},\"yaxis\":{\"backgroundcolor\":\"#E5ECF6\",\"gridcolor\":\"white\",\"gridwidth\":2,\"linecolor\":\"white\",\"showbackground\":true,\"ticks\":\"\",\"zerolinecolor\":\"white\"},\"zaxis\":{\"backgroundcolor\":\"#E5ECF6\",\"gridcolor\":\"white\",\"gridwidth\":2,\"linecolor\":\"white\",\"showbackground\":true,\"ticks\":\"\",\"zerolinecolor\":\"white\"}},\"shapedefaults\":{\"line\":{\"color\":\"#2a3f5f\"}},\"ternary\":{\"aaxis\":{\"gridcolor\":\"white\",\"linecolor\":\"white\",\"ticks\":\"\"},\"baxis\":{\"gridcolor\":\"white\",\"linecolor\":\"white\",\"ticks\":\"\"},\"bgcolor\":\"#E5ECF6\",\"caxis\":{\"gridcolor\":\"white\",\"linecolor\":\"white\",\"ticks\":\"\"}},\"title\":{\"x\":0.05},\"xaxis\":{\"automargin\":true,\"gridcolor\":\"white\",\"linecolor\":\"white\",\"ticks\":\"\",\"title\":{\"standoff\":15},\"zerolinecolor\":\"white\",\"zerolinewidth\":2},\"yaxis\":{\"automargin\":true,\"gridcolor\":\"white\",\"linecolor\":\"white\",\"ticks\":\"\",\"title\":{\"standoff\":15},\"zerolinecolor\":\"white\",\"zerolinewidth\":2}}},\"title\":{\"font\":{\"color\":\"#4D5663\"}},\"xaxis\":{\"gridcolor\":\"#E1E5ED\",\"showgrid\":true,\"tickfont\":{\"color\":\"#4D5663\"},\"title\":{\"font\":{\"color\":\"#4D5663\"},\"text\":\"\"},\"zerolinecolor\":\"#E1E5ED\"},\"yaxis\":{\"gridcolor\":\"#E1E5ED\",\"showgrid\":true,\"tickfont\":{\"color\":\"#4D5663\"},\"title\":{\"font\":{\"color\":\"#4D5663\"},\"text\":\"\"},\"zerolinecolor\":\"#E1E5ED\"}},                        {\"showLink\": true, \"linkText\": \"Export to plot.ly\", \"plotlyServerURL\": \"https://plot.ly\", \"responsive\": true}                    ).then(function(){\n",
       "                            \n",
       "var gd = document.getElementById('d19e4d08-c509-4332-b08d-6b3ede62371f');\n",
       "var x = new MutationObserver(function (mutations, observer) {{\n",
       "        var display = window.getComputedStyle(gd).display;\n",
       "        if (!display || display === 'none') {{\n",
       "            console.log([gd, 'removed!']);\n",
       "            Plotly.purge(gd);\n",
       "            observer.disconnect();\n",
       "        }}\n",
       "}});\n",
       "\n",
       "// Listen for the removal of the full notebook cells\n",
       "var notebookContainer = gd.closest('#notebook-container');\n",
       "if (notebookContainer) {{\n",
       "    x.observe(notebookContainer, {childList: true});\n",
       "}}\n",
       "\n",
       "// Listen for the clearing of the current output cell\n",
       "var outputEl = gd.closest('.output');\n",
       "if (outputEl) {{\n",
       "    x.observe(outputEl, {childList: true});\n",
       "}}\n",
       "\n",
       "                        })                };                });            </script>        </div>"
      ]
     },
     "metadata": {},
     "output_type": "display_data"
    }
   ],
   "source": [
    "df3 = pd.DataFrame({'x':[1,2,3,4,5],'y':[10,20,30,20,10],'z':[5,4,3,2,1]})\n",
    "df3.iplot(kind='surface',colorscale='rdylbu')"
   ]
  },
  {
   "cell_type": "markdown",
   "metadata": {},
   "source": [
    "## histogram"
   ]
  },
  {
   "cell_type": "code",
   "execution_count": 19,
   "metadata": {},
   "outputs": [
    {
     "data": {
      "application/vnd.plotly.v1+json": {
       "config": {
        "linkText": "Export to plot.ly",
        "plotlyServerURL": "https://plot.ly",
        "showLink": true
       },
       "data": [
        {
         "histfunc": "count",
         "histnorm": "",
         "marker": {
          "color": "rgba(255, 153, 51, 1.0)",
          "line": {
           "color": "#4D5663",
           "width": 1.3
          }
         },
         "name": "A",
         "nbinsx": 25,
         "opacity": 0.8,
         "orientation": "v",
         "type": "histogram",
         "x": [
          0.9358246105456631,
          1.7358870536473954,
          1.6607725228273365,
          -1.130471045776182,
          -0.7397437542667784,
          -1.7628728637743711,
          0.6094641588563852,
          0.8397452447778285,
          1.5953723526350652,
          -0.24735699034521968,
          -1.0576749964782333,
          -0.585775052554457,
          -2.1005125763582106,
          0.3682807079472144,
          -0.8404456428786651,
          0.6416763293475042,
          0.1482332074357737,
          -0.5694215335178152,
          1.2625700226936711,
          0.17288919914789302,
          -1.2897772819048154,
          0.7258162007125682,
          1.428259807694575,
          -0.4118314894873909,
          0.6215843985226098,
          -0.13364968782372094,
          -0.8669258393056155,
          -0.4104472188076141,
          -1.5094372299519552,
          -1.1273371115446196,
          0.40222132922117726,
          0.21491591162534904,
          -0.2824254106167494,
          0.2893039247667468,
          1.177485905026769,
          0.5314194356194776,
          -1.3737936138152016,
          -0.302772243312889,
          -0.5548156187710866,
          1.293594170856257,
          1.3938922938949396,
          -0.7686784040548456,
          0.685016805624003,
          -1.2161323536626572,
          -0.22596418717228123,
          0.18445339856296444,
          -0.2988187906213368,
          0.8610646318330833,
          0.44714190373054974,
          1.7495683336940082,
          -0.02717780528520104,
          -0.2646657249625497,
          0.5528736598737768,
          0.108936244464817,
          -0.3886022132343513,
          -0.27858746269539825,
          0.5262142439594867,
          -0.17040945756285403,
          -0.29361928475042465,
          -1.6431153100987566,
          0.9820006875146906,
          1.1271311188321693,
          0.7712039159456711,
          -0.2722771350565949,
          -0.1016411044464088,
          0.055748472748957355,
          0.378212647536327,
          1.806354096998742,
          -1.0323484061684283,
          0.43925979581855623,
          -2.237534601976636,
          -1.2395199587124108,
          0.932423970331763,
          -2.0606245338146247,
          -0.7873413392426257,
          0.3839651190733875,
          -1.5476461051975592,
          0.6107385482338262,
          0.48118347644317017,
          -1.1417989169897207,
          -1.349276068996005,
          0.22286129253542264,
          1.1337133631024376,
          0.5105123805788733,
          -2.1901727666599475,
          1.241346098929264,
          -0.42842270573965463,
          1.1422020524149337,
          0.49284995297389594,
          -0.8232844489727227,
          0.994393546598194,
          -0.25744344885925907,
          0.24794327386048887,
          -1.0040059283046938,
          2.012619946272534,
          -1.3432393595521306,
          -0.4360965094981826,
          -1.4872629381033733,
          0.4425522864570553,
          -0.6358544606229273
         ]
        }
       ],
       "layout": {
        "barmode": "overlay",
        "legend": {
         "bgcolor": "#F5F6F9",
         "font": {
          "color": "#4D5663"
         }
        },
        "paper_bgcolor": "#F5F6F9",
        "plot_bgcolor": "#F5F6F9",
        "template": {
         "data": {
          "bar": [
           {
            "error_x": {
             "color": "#2a3f5f"
            },
            "error_y": {
             "color": "#2a3f5f"
            },
            "marker": {
             "line": {
              "color": "#E5ECF6",
              "width": 0.5
             },
             "pattern": {
              "fillmode": "overlay",
              "size": 10,
              "solidity": 0.2
             }
            },
            "type": "bar"
           }
          ],
          "barpolar": [
           {
            "marker": {
             "line": {
              "color": "#E5ECF6",
              "width": 0.5
             },
             "pattern": {
              "fillmode": "overlay",
              "size": 10,
              "solidity": 0.2
             }
            },
            "type": "barpolar"
           }
          ],
          "carpet": [
           {
            "aaxis": {
             "endlinecolor": "#2a3f5f",
             "gridcolor": "white",
             "linecolor": "white",
             "minorgridcolor": "white",
             "startlinecolor": "#2a3f5f"
            },
            "baxis": {
             "endlinecolor": "#2a3f5f",
             "gridcolor": "white",
             "linecolor": "white",
             "minorgridcolor": "white",
             "startlinecolor": "#2a3f5f"
            },
            "type": "carpet"
           }
          ],
          "choropleth": [
           {
            "colorbar": {
             "outlinewidth": 0,
             "ticks": ""
            },
            "type": "choropleth"
           }
          ],
          "contour": [
           {
            "colorbar": {
             "outlinewidth": 0,
             "ticks": ""
            },
            "colorscale": [
             [
              0,
              "#0d0887"
             ],
             [
              0.1111111111111111,
              "#46039f"
             ],
             [
              0.2222222222222222,
              "#7201a8"
             ],
             [
              0.3333333333333333,
              "#9c179e"
             ],
             [
              0.4444444444444444,
              "#bd3786"
             ],
             [
              0.5555555555555556,
              "#d8576b"
             ],
             [
              0.6666666666666666,
              "#ed7953"
             ],
             [
              0.7777777777777778,
              "#fb9f3a"
             ],
             [
              0.8888888888888888,
              "#fdca26"
             ],
             [
              1,
              "#f0f921"
             ]
            ],
            "type": "contour"
           }
          ],
          "contourcarpet": [
           {
            "colorbar": {
             "outlinewidth": 0,
             "ticks": ""
            },
            "type": "contourcarpet"
           }
          ],
          "heatmap": [
           {
            "colorbar": {
             "outlinewidth": 0,
             "ticks": ""
            },
            "colorscale": [
             [
              0,
              "#0d0887"
             ],
             [
              0.1111111111111111,
              "#46039f"
             ],
             [
              0.2222222222222222,
              "#7201a8"
             ],
             [
              0.3333333333333333,
              "#9c179e"
             ],
             [
              0.4444444444444444,
              "#bd3786"
             ],
             [
              0.5555555555555556,
              "#d8576b"
             ],
             [
              0.6666666666666666,
              "#ed7953"
             ],
             [
              0.7777777777777778,
              "#fb9f3a"
             ],
             [
              0.8888888888888888,
              "#fdca26"
             ],
             [
              1,
              "#f0f921"
             ]
            ],
            "type": "heatmap"
           }
          ],
          "heatmapgl": [
           {
            "colorbar": {
             "outlinewidth": 0,
             "ticks": ""
            },
            "colorscale": [
             [
              0,
              "#0d0887"
             ],
             [
              0.1111111111111111,
              "#46039f"
             ],
             [
              0.2222222222222222,
              "#7201a8"
             ],
             [
              0.3333333333333333,
              "#9c179e"
             ],
             [
              0.4444444444444444,
              "#bd3786"
             ],
             [
              0.5555555555555556,
              "#d8576b"
             ],
             [
              0.6666666666666666,
              "#ed7953"
             ],
             [
              0.7777777777777778,
              "#fb9f3a"
             ],
             [
              0.8888888888888888,
              "#fdca26"
             ],
             [
              1,
              "#f0f921"
             ]
            ],
            "type": "heatmapgl"
           }
          ],
          "histogram": [
           {
            "marker": {
             "pattern": {
              "fillmode": "overlay",
              "size": 10,
              "solidity": 0.2
             }
            },
            "type": "histogram"
           }
          ],
          "histogram2d": [
           {
            "colorbar": {
             "outlinewidth": 0,
             "ticks": ""
            },
            "colorscale": [
             [
              0,
              "#0d0887"
             ],
             [
              0.1111111111111111,
              "#46039f"
             ],
             [
              0.2222222222222222,
              "#7201a8"
             ],
             [
              0.3333333333333333,
              "#9c179e"
             ],
             [
              0.4444444444444444,
              "#bd3786"
             ],
             [
              0.5555555555555556,
              "#d8576b"
             ],
             [
              0.6666666666666666,
              "#ed7953"
             ],
             [
              0.7777777777777778,
              "#fb9f3a"
             ],
             [
              0.8888888888888888,
              "#fdca26"
             ],
             [
              1,
              "#f0f921"
             ]
            ],
            "type": "histogram2d"
           }
          ],
          "histogram2dcontour": [
           {
            "colorbar": {
             "outlinewidth": 0,
             "ticks": ""
            },
            "colorscale": [
             [
              0,
              "#0d0887"
             ],
             [
              0.1111111111111111,
              "#46039f"
             ],
             [
              0.2222222222222222,
              "#7201a8"
             ],
             [
              0.3333333333333333,
              "#9c179e"
             ],
             [
              0.4444444444444444,
              "#bd3786"
             ],
             [
              0.5555555555555556,
              "#d8576b"
             ],
             [
              0.6666666666666666,
              "#ed7953"
             ],
             [
              0.7777777777777778,
              "#fb9f3a"
             ],
             [
              0.8888888888888888,
              "#fdca26"
             ],
             [
              1,
              "#f0f921"
             ]
            ],
            "type": "histogram2dcontour"
           }
          ],
          "mesh3d": [
           {
            "colorbar": {
             "outlinewidth": 0,
             "ticks": ""
            },
            "type": "mesh3d"
           }
          ],
          "parcoords": [
           {
            "line": {
             "colorbar": {
              "outlinewidth": 0,
              "ticks": ""
             }
            },
            "type": "parcoords"
           }
          ],
          "pie": [
           {
            "automargin": true,
            "type": "pie"
           }
          ],
          "scatter": [
           {
            "marker": {
             "colorbar": {
              "outlinewidth": 0,
              "ticks": ""
             }
            },
            "type": "scatter"
           }
          ],
          "scatter3d": [
           {
            "line": {
             "colorbar": {
              "outlinewidth": 0,
              "ticks": ""
             }
            },
            "marker": {
             "colorbar": {
              "outlinewidth": 0,
              "ticks": ""
             }
            },
            "type": "scatter3d"
           }
          ],
          "scattercarpet": [
           {
            "marker": {
             "colorbar": {
              "outlinewidth": 0,
              "ticks": ""
             }
            },
            "type": "scattercarpet"
           }
          ],
          "scattergeo": [
           {
            "marker": {
             "colorbar": {
              "outlinewidth": 0,
              "ticks": ""
             }
            },
            "type": "scattergeo"
           }
          ],
          "scattergl": [
           {
            "marker": {
             "colorbar": {
              "outlinewidth": 0,
              "ticks": ""
             }
            },
            "type": "scattergl"
           }
          ],
          "scattermapbox": [
           {
            "marker": {
             "colorbar": {
              "outlinewidth": 0,
              "ticks": ""
             }
            },
            "type": "scattermapbox"
           }
          ],
          "scatterpolar": [
           {
            "marker": {
             "colorbar": {
              "outlinewidth": 0,
              "ticks": ""
             }
            },
            "type": "scatterpolar"
           }
          ],
          "scatterpolargl": [
           {
            "marker": {
             "colorbar": {
              "outlinewidth": 0,
              "ticks": ""
             }
            },
            "type": "scatterpolargl"
           }
          ],
          "scatterternary": [
           {
            "marker": {
             "colorbar": {
              "outlinewidth": 0,
              "ticks": ""
             }
            },
            "type": "scatterternary"
           }
          ],
          "surface": [
           {
            "colorbar": {
             "outlinewidth": 0,
             "ticks": ""
            },
            "colorscale": [
             [
              0,
              "#0d0887"
             ],
             [
              0.1111111111111111,
              "#46039f"
             ],
             [
              0.2222222222222222,
              "#7201a8"
             ],
             [
              0.3333333333333333,
              "#9c179e"
             ],
             [
              0.4444444444444444,
              "#bd3786"
             ],
             [
              0.5555555555555556,
              "#d8576b"
             ],
             [
              0.6666666666666666,
              "#ed7953"
             ],
             [
              0.7777777777777778,
              "#fb9f3a"
             ],
             [
              0.8888888888888888,
              "#fdca26"
             ],
             [
              1,
              "#f0f921"
             ]
            ],
            "type": "surface"
           }
          ],
          "table": [
           {
            "cells": {
             "fill": {
              "color": "#EBF0F8"
             },
             "line": {
              "color": "white"
             }
            },
            "header": {
             "fill": {
              "color": "#C8D4E3"
             },
             "line": {
              "color": "white"
             }
            },
            "type": "table"
           }
          ]
         },
         "layout": {
          "annotationdefaults": {
           "arrowcolor": "#2a3f5f",
           "arrowhead": 0,
           "arrowwidth": 1
          },
          "autotypenumbers": "strict",
          "coloraxis": {
           "colorbar": {
            "outlinewidth": 0,
            "ticks": ""
           }
          },
          "colorscale": {
           "diverging": [
            [
             0,
             "#8e0152"
            ],
            [
             0.1,
             "#c51b7d"
            ],
            [
             0.2,
             "#de77ae"
            ],
            [
             0.3,
             "#f1b6da"
            ],
            [
             0.4,
             "#fde0ef"
            ],
            [
             0.5,
             "#f7f7f7"
            ],
            [
             0.6,
             "#e6f5d0"
            ],
            [
             0.7,
             "#b8e186"
            ],
            [
             0.8,
             "#7fbc41"
            ],
            [
             0.9,
             "#4d9221"
            ],
            [
             1,
             "#276419"
            ]
           ],
           "sequential": [
            [
             0,
             "#0d0887"
            ],
            [
             0.1111111111111111,
             "#46039f"
            ],
            [
             0.2222222222222222,
             "#7201a8"
            ],
            [
             0.3333333333333333,
             "#9c179e"
            ],
            [
             0.4444444444444444,
             "#bd3786"
            ],
            [
             0.5555555555555556,
             "#d8576b"
            ],
            [
             0.6666666666666666,
             "#ed7953"
            ],
            [
             0.7777777777777778,
             "#fb9f3a"
            ],
            [
             0.8888888888888888,
             "#fdca26"
            ],
            [
             1,
             "#f0f921"
            ]
           ],
           "sequentialminus": [
            [
             0,
             "#0d0887"
            ],
            [
             0.1111111111111111,
             "#46039f"
            ],
            [
             0.2222222222222222,
             "#7201a8"
            ],
            [
             0.3333333333333333,
             "#9c179e"
            ],
            [
             0.4444444444444444,
             "#bd3786"
            ],
            [
             0.5555555555555556,
             "#d8576b"
            ],
            [
             0.6666666666666666,
             "#ed7953"
            ],
            [
             0.7777777777777778,
             "#fb9f3a"
            ],
            [
             0.8888888888888888,
             "#fdca26"
            ],
            [
             1,
             "#f0f921"
            ]
           ]
          },
          "colorway": [
           "#636efa",
           "#EF553B",
           "#00cc96",
           "#ab63fa",
           "#FFA15A",
           "#19d3f3",
           "#FF6692",
           "#B6E880",
           "#FF97FF",
           "#FECB52"
          ],
          "font": {
           "color": "#2a3f5f"
          },
          "geo": {
           "bgcolor": "white",
           "lakecolor": "white",
           "landcolor": "#E5ECF6",
           "showlakes": true,
           "showland": true,
           "subunitcolor": "white"
          },
          "hoverlabel": {
           "align": "left"
          },
          "hovermode": "closest",
          "mapbox": {
           "style": "light"
          },
          "paper_bgcolor": "white",
          "plot_bgcolor": "#E5ECF6",
          "polar": {
           "angularaxis": {
            "gridcolor": "white",
            "linecolor": "white",
            "ticks": ""
           },
           "bgcolor": "#E5ECF6",
           "radialaxis": {
            "gridcolor": "white",
            "linecolor": "white",
            "ticks": ""
           }
          },
          "scene": {
           "xaxis": {
            "backgroundcolor": "#E5ECF6",
            "gridcolor": "white",
            "gridwidth": 2,
            "linecolor": "white",
            "showbackground": true,
            "ticks": "",
            "zerolinecolor": "white"
           },
           "yaxis": {
            "backgroundcolor": "#E5ECF6",
            "gridcolor": "white",
            "gridwidth": 2,
            "linecolor": "white",
            "showbackground": true,
            "ticks": "",
            "zerolinecolor": "white"
           },
           "zaxis": {
            "backgroundcolor": "#E5ECF6",
            "gridcolor": "white",
            "gridwidth": 2,
            "linecolor": "white",
            "showbackground": true,
            "ticks": "",
            "zerolinecolor": "white"
           }
          },
          "shapedefaults": {
           "line": {
            "color": "#2a3f5f"
           }
          },
          "ternary": {
           "aaxis": {
            "gridcolor": "white",
            "linecolor": "white",
            "ticks": ""
           },
           "baxis": {
            "gridcolor": "white",
            "linecolor": "white",
            "ticks": ""
           },
           "bgcolor": "#E5ECF6",
           "caxis": {
            "gridcolor": "white",
            "linecolor": "white",
            "ticks": ""
           }
          },
          "title": {
           "x": 0.05
          },
          "xaxis": {
           "automargin": true,
           "gridcolor": "white",
           "linecolor": "white",
           "ticks": "",
           "title": {
            "standoff": 15
           },
           "zerolinecolor": "white",
           "zerolinewidth": 2
          },
          "yaxis": {
           "automargin": true,
           "gridcolor": "white",
           "linecolor": "white",
           "ticks": "",
           "title": {
            "standoff": 15
           },
           "zerolinecolor": "white",
           "zerolinewidth": 2
          }
         }
        },
        "title": {
         "font": {
          "color": "#4D5663"
         }
        },
        "xaxis": {
         "gridcolor": "#E1E5ED",
         "showgrid": true,
         "tickfont": {
          "color": "#4D5663"
         },
         "title": {
          "font": {
           "color": "#4D5663"
          },
          "text": ""
         },
         "zerolinecolor": "#E1E5ED"
        },
        "yaxis": {
         "gridcolor": "#E1E5ED",
         "showgrid": true,
         "tickfont": {
          "color": "#4D5663"
         },
         "title": {
          "font": {
           "color": "#4D5663"
          },
          "text": ""
         },
         "zerolinecolor": "#E1E5ED"
        }
       }
      },
      "text/html": [
       "<div>                            <div id=\"da5da887-b373-46ff-baa1-399d769da711\" class=\"plotly-graph-div\" style=\"height:525px; width:100%;\"></div>            <script type=\"text/javascript\">                require([\"plotly\"], function(Plotly) {                    window.PLOTLYENV=window.PLOTLYENV || {};\n",
       "                    window.PLOTLYENV.BASE_URL='https://plot.ly';                                    if (document.getElementById(\"da5da887-b373-46ff-baa1-399d769da711\")) {                    Plotly.newPlot(                        \"da5da887-b373-46ff-baa1-399d769da711\",                        [{\"histfunc\":\"count\",\"histnorm\":\"\",\"marker\":{\"color\":\"rgba(255, 153, 51, 1.0)\",\"line\":{\"color\":\"#4D5663\",\"width\":1.3}},\"name\":\"A\",\"nbinsx\":25,\"opacity\":0.8,\"orientation\":\"v\",\"x\":[0.9358246105456631,1.7358870536473954,1.6607725228273365,-1.130471045776182,-0.7397437542667784,-1.7628728637743711,0.6094641588563852,0.8397452447778285,1.5953723526350652,-0.24735699034521968,-1.0576749964782333,-0.585775052554457,-2.1005125763582106,0.3682807079472144,-0.8404456428786651,0.6416763293475042,0.1482332074357737,-0.5694215335178152,1.2625700226936711,0.17288919914789302,-1.2897772819048154,0.7258162007125682,1.428259807694575,-0.4118314894873909,0.6215843985226098,-0.13364968782372094,-0.8669258393056155,-0.4104472188076141,-1.5094372299519552,-1.1273371115446196,0.40222132922117726,0.21491591162534904,-0.2824254106167494,0.2893039247667468,1.177485905026769,0.5314194356194776,-1.3737936138152016,-0.302772243312889,-0.5548156187710866,1.293594170856257,1.3938922938949396,-0.7686784040548456,0.685016805624003,-1.2161323536626572,-0.22596418717228123,0.18445339856296444,-0.2988187906213368,0.8610646318330833,0.44714190373054974,1.7495683336940082,-0.02717780528520104,-0.2646657249625497,0.5528736598737768,0.108936244464817,-0.3886022132343513,-0.27858746269539825,0.5262142439594867,-0.17040945756285403,-0.29361928475042465,-1.6431153100987566,0.9820006875146906,1.1271311188321693,0.7712039159456711,-0.2722771350565949,-0.1016411044464088,0.055748472748957355,0.378212647536327,1.806354096998742,-1.0323484061684283,0.43925979581855623,-2.237534601976636,-1.2395199587124108,0.932423970331763,-2.0606245338146247,-0.7873413392426257,0.3839651190733875,-1.5476461051975592,0.6107385482338262,0.48118347644317017,-1.1417989169897207,-1.349276068996005,0.22286129253542264,1.1337133631024376,0.5105123805788733,-2.1901727666599475,1.241346098929264,-0.42842270573965463,1.1422020524149337,0.49284995297389594,-0.8232844489727227,0.994393546598194,-0.25744344885925907,0.24794327386048887,-1.0040059283046938,2.012619946272534,-1.3432393595521306,-0.4360965094981826,-1.4872629381033733,0.4425522864570553,-0.6358544606229273],\"type\":\"histogram\"}],                        {\"barmode\":\"overlay\",\"legend\":{\"bgcolor\":\"#F5F6F9\",\"font\":{\"color\":\"#4D5663\"}},\"paper_bgcolor\":\"#F5F6F9\",\"plot_bgcolor\":\"#F5F6F9\",\"template\":{\"data\":{\"barpolar\":[{\"marker\":{\"line\":{\"color\":\"#E5ECF6\",\"width\":0.5},\"pattern\":{\"fillmode\":\"overlay\",\"size\":10,\"solidity\":0.2}},\"type\":\"barpolar\"}],\"bar\":[{\"error_x\":{\"color\":\"#2a3f5f\"},\"error_y\":{\"color\":\"#2a3f5f\"},\"marker\":{\"line\":{\"color\":\"#E5ECF6\",\"width\":0.5},\"pattern\":{\"fillmode\":\"overlay\",\"size\":10,\"solidity\":0.2}},\"type\":\"bar\"}],\"carpet\":[{\"aaxis\":{\"endlinecolor\":\"#2a3f5f\",\"gridcolor\":\"white\",\"linecolor\":\"white\",\"minorgridcolor\":\"white\",\"startlinecolor\":\"#2a3f5f\"},\"baxis\":{\"endlinecolor\":\"#2a3f5f\",\"gridcolor\":\"white\",\"linecolor\":\"white\",\"minorgridcolor\":\"white\",\"startlinecolor\":\"#2a3f5f\"},\"type\":\"carpet\"}],\"choropleth\":[{\"colorbar\":{\"outlinewidth\":0,\"ticks\":\"\"},\"type\":\"choropleth\"}],\"contourcarpet\":[{\"colorbar\":{\"outlinewidth\":0,\"ticks\":\"\"},\"type\":\"contourcarpet\"}],\"contour\":[{\"colorbar\":{\"outlinewidth\":0,\"ticks\":\"\"},\"colorscale\":[[0.0,\"#0d0887\"],[0.1111111111111111,\"#46039f\"],[0.2222222222222222,\"#7201a8\"],[0.3333333333333333,\"#9c179e\"],[0.4444444444444444,\"#bd3786\"],[0.5555555555555556,\"#d8576b\"],[0.6666666666666666,\"#ed7953\"],[0.7777777777777778,\"#fb9f3a\"],[0.8888888888888888,\"#fdca26\"],[1.0,\"#f0f921\"]],\"type\":\"contour\"}],\"heatmapgl\":[{\"colorbar\":{\"outlinewidth\":0,\"ticks\":\"\"},\"colorscale\":[[0.0,\"#0d0887\"],[0.1111111111111111,\"#46039f\"],[0.2222222222222222,\"#7201a8\"],[0.3333333333333333,\"#9c179e\"],[0.4444444444444444,\"#bd3786\"],[0.5555555555555556,\"#d8576b\"],[0.6666666666666666,\"#ed7953\"],[0.7777777777777778,\"#fb9f3a\"],[0.8888888888888888,\"#fdca26\"],[1.0,\"#f0f921\"]],\"type\":\"heatmapgl\"}],\"heatmap\":[{\"colorbar\":{\"outlinewidth\":0,\"ticks\":\"\"},\"colorscale\":[[0.0,\"#0d0887\"],[0.1111111111111111,\"#46039f\"],[0.2222222222222222,\"#7201a8\"],[0.3333333333333333,\"#9c179e\"],[0.4444444444444444,\"#bd3786\"],[0.5555555555555556,\"#d8576b\"],[0.6666666666666666,\"#ed7953\"],[0.7777777777777778,\"#fb9f3a\"],[0.8888888888888888,\"#fdca26\"],[1.0,\"#f0f921\"]],\"type\":\"heatmap\"}],\"histogram2dcontour\":[{\"colorbar\":{\"outlinewidth\":0,\"ticks\":\"\"},\"colorscale\":[[0.0,\"#0d0887\"],[0.1111111111111111,\"#46039f\"],[0.2222222222222222,\"#7201a8\"],[0.3333333333333333,\"#9c179e\"],[0.4444444444444444,\"#bd3786\"],[0.5555555555555556,\"#d8576b\"],[0.6666666666666666,\"#ed7953\"],[0.7777777777777778,\"#fb9f3a\"],[0.8888888888888888,\"#fdca26\"],[1.0,\"#f0f921\"]],\"type\":\"histogram2dcontour\"}],\"histogram2d\":[{\"colorbar\":{\"outlinewidth\":0,\"ticks\":\"\"},\"colorscale\":[[0.0,\"#0d0887\"],[0.1111111111111111,\"#46039f\"],[0.2222222222222222,\"#7201a8\"],[0.3333333333333333,\"#9c179e\"],[0.4444444444444444,\"#bd3786\"],[0.5555555555555556,\"#d8576b\"],[0.6666666666666666,\"#ed7953\"],[0.7777777777777778,\"#fb9f3a\"],[0.8888888888888888,\"#fdca26\"],[1.0,\"#f0f921\"]],\"type\":\"histogram2d\"}],\"histogram\":[{\"marker\":{\"pattern\":{\"fillmode\":\"overlay\",\"size\":10,\"solidity\":0.2}},\"type\":\"histogram\"}],\"mesh3d\":[{\"colorbar\":{\"outlinewidth\":0,\"ticks\":\"\"},\"type\":\"mesh3d\"}],\"parcoords\":[{\"line\":{\"colorbar\":{\"outlinewidth\":0,\"ticks\":\"\"}},\"type\":\"parcoords\"}],\"pie\":[{\"automargin\":true,\"type\":\"pie\"}],\"scatter3d\":[{\"line\":{\"colorbar\":{\"outlinewidth\":0,\"ticks\":\"\"}},\"marker\":{\"colorbar\":{\"outlinewidth\":0,\"ticks\":\"\"}},\"type\":\"scatter3d\"}],\"scattercarpet\":[{\"marker\":{\"colorbar\":{\"outlinewidth\":0,\"ticks\":\"\"}},\"type\":\"scattercarpet\"}],\"scattergeo\":[{\"marker\":{\"colorbar\":{\"outlinewidth\":0,\"ticks\":\"\"}},\"type\":\"scattergeo\"}],\"scattergl\":[{\"marker\":{\"colorbar\":{\"outlinewidth\":0,\"ticks\":\"\"}},\"type\":\"scattergl\"}],\"scattermapbox\":[{\"marker\":{\"colorbar\":{\"outlinewidth\":0,\"ticks\":\"\"}},\"type\":\"scattermapbox\"}],\"scatterpolargl\":[{\"marker\":{\"colorbar\":{\"outlinewidth\":0,\"ticks\":\"\"}},\"type\":\"scatterpolargl\"}],\"scatterpolar\":[{\"marker\":{\"colorbar\":{\"outlinewidth\":0,\"ticks\":\"\"}},\"type\":\"scatterpolar\"}],\"scatter\":[{\"marker\":{\"colorbar\":{\"outlinewidth\":0,\"ticks\":\"\"}},\"type\":\"scatter\"}],\"scatterternary\":[{\"marker\":{\"colorbar\":{\"outlinewidth\":0,\"ticks\":\"\"}},\"type\":\"scatterternary\"}],\"surface\":[{\"colorbar\":{\"outlinewidth\":0,\"ticks\":\"\"},\"colorscale\":[[0.0,\"#0d0887\"],[0.1111111111111111,\"#46039f\"],[0.2222222222222222,\"#7201a8\"],[0.3333333333333333,\"#9c179e\"],[0.4444444444444444,\"#bd3786\"],[0.5555555555555556,\"#d8576b\"],[0.6666666666666666,\"#ed7953\"],[0.7777777777777778,\"#fb9f3a\"],[0.8888888888888888,\"#fdca26\"],[1.0,\"#f0f921\"]],\"type\":\"surface\"}],\"table\":[{\"cells\":{\"fill\":{\"color\":\"#EBF0F8\"},\"line\":{\"color\":\"white\"}},\"header\":{\"fill\":{\"color\":\"#C8D4E3\"},\"line\":{\"color\":\"white\"}},\"type\":\"table\"}]},\"layout\":{\"annotationdefaults\":{\"arrowcolor\":\"#2a3f5f\",\"arrowhead\":0,\"arrowwidth\":1},\"autotypenumbers\":\"strict\",\"coloraxis\":{\"colorbar\":{\"outlinewidth\":0,\"ticks\":\"\"}},\"colorscale\":{\"diverging\":[[0,\"#8e0152\"],[0.1,\"#c51b7d\"],[0.2,\"#de77ae\"],[0.3,\"#f1b6da\"],[0.4,\"#fde0ef\"],[0.5,\"#f7f7f7\"],[0.6,\"#e6f5d0\"],[0.7,\"#b8e186\"],[0.8,\"#7fbc41\"],[0.9,\"#4d9221\"],[1,\"#276419\"]],\"sequential\":[[0.0,\"#0d0887\"],[0.1111111111111111,\"#46039f\"],[0.2222222222222222,\"#7201a8\"],[0.3333333333333333,\"#9c179e\"],[0.4444444444444444,\"#bd3786\"],[0.5555555555555556,\"#d8576b\"],[0.6666666666666666,\"#ed7953\"],[0.7777777777777778,\"#fb9f3a\"],[0.8888888888888888,\"#fdca26\"],[1.0,\"#f0f921\"]],\"sequentialminus\":[[0.0,\"#0d0887\"],[0.1111111111111111,\"#46039f\"],[0.2222222222222222,\"#7201a8\"],[0.3333333333333333,\"#9c179e\"],[0.4444444444444444,\"#bd3786\"],[0.5555555555555556,\"#d8576b\"],[0.6666666666666666,\"#ed7953\"],[0.7777777777777778,\"#fb9f3a\"],[0.8888888888888888,\"#fdca26\"],[1.0,\"#f0f921\"]]},\"colorway\":[\"#636efa\",\"#EF553B\",\"#00cc96\",\"#ab63fa\",\"#FFA15A\",\"#19d3f3\",\"#FF6692\",\"#B6E880\",\"#FF97FF\",\"#FECB52\"],\"font\":{\"color\":\"#2a3f5f\"},\"geo\":{\"bgcolor\":\"white\",\"lakecolor\":\"white\",\"landcolor\":\"#E5ECF6\",\"showlakes\":true,\"showland\":true,\"subunitcolor\":\"white\"},\"hoverlabel\":{\"align\":\"left\"},\"hovermode\":\"closest\",\"mapbox\":{\"style\":\"light\"},\"paper_bgcolor\":\"white\",\"plot_bgcolor\":\"#E5ECF6\",\"polar\":{\"angularaxis\":{\"gridcolor\":\"white\",\"linecolor\":\"white\",\"ticks\":\"\"},\"bgcolor\":\"#E5ECF6\",\"radialaxis\":{\"gridcolor\":\"white\",\"linecolor\":\"white\",\"ticks\":\"\"}},\"scene\":{\"xaxis\":{\"backgroundcolor\":\"#E5ECF6\",\"gridcolor\":\"white\",\"gridwidth\":2,\"linecolor\":\"white\",\"showbackground\":true,\"ticks\":\"\",\"zerolinecolor\":\"white\"},\"yaxis\":{\"backgroundcolor\":\"#E5ECF6\",\"gridcolor\":\"white\",\"gridwidth\":2,\"linecolor\":\"white\",\"showbackground\":true,\"ticks\":\"\",\"zerolinecolor\":\"white\"},\"zaxis\":{\"backgroundcolor\":\"#E5ECF6\",\"gridcolor\":\"white\",\"gridwidth\":2,\"linecolor\":\"white\",\"showbackground\":true,\"ticks\":\"\",\"zerolinecolor\":\"white\"}},\"shapedefaults\":{\"line\":{\"color\":\"#2a3f5f\"}},\"ternary\":{\"aaxis\":{\"gridcolor\":\"white\",\"linecolor\":\"white\",\"ticks\":\"\"},\"baxis\":{\"gridcolor\":\"white\",\"linecolor\":\"white\",\"ticks\":\"\"},\"bgcolor\":\"#E5ECF6\",\"caxis\":{\"gridcolor\":\"white\",\"linecolor\":\"white\",\"ticks\":\"\"}},\"title\":{\"x\":0.05},\"xaxis\":{\"automargin\":true,\"gridcolor\":\"white\",\"linecolor\":\"white\",\"ticks\":\"\",\"title\":{\"standoff\":15},\"zerolinecolor\":\"white\",\"zerolinewidth\":2},\"yaxis\":{\"automargin\":true,\"gridcolor\":\"white\",\"linecolor\":\"white\",\"ticks\":\"\",\"title\":{\"standoff\":15},\"zerolinecolor\":\"white\",\"zerolinewidth\":2}}},\"title\":{\"font\":{\"color\":\"#4D5663\"}},\"xaxis\":{\"gridcolor\":\"#E1E5ED\",\"showgrid\":true,\"tickfont\":{\"color\":\"#4D5663\"},\"title\":{\"font\":{\"color\":\"#4D5663\"},\"text\":\"\"},\"zerolinecolor\":\"#E1E5ED\"},\"yaxis\":{\"gridcolor\":\"#E1E5ED\",\"showgrid\":true,\"tickfont\":{\"color\":\"#4D5663\"},\"title\":{\"font\":{\"color\":\"#4D5663\"},\"text\":\"\"},\"zerolinecolor\":\"#E1E5ED\"}},                        {\"showLink\": true, \"linkText\": \"Export to plot.ly\", \"plotlyServerURL\": \"https://plot.ly\", \"responsive\": true}                    ).then(function(){\n",
       "                            \n",
       "var gd = document.getElementById('da5da887-b373-46ff-baa1-399d769da711');\n",
       "var x = new MutationObserver(function (mutations, observer) {{\n",
       "        var display = window.getComputedStyle(gd).display;\n",
       "        if (!display || display === 'none') {{\n",
       "            console.log([gd, 'removed!']);\n",
       "            Plotly.purge(gd);\n",
       "            observer.disconnect();\n",
       "        }}\n",
       "}});\n",
       "\n",
       "// Listen for the removal of the full notebook cells\n",
       "var notebookContainer = gd.closest('#notebook-container');\n",
       "if (notebookContainer) {{\n",
       "    x.observe(notebookContainer, {childList: true});\n",
       "}}\n",
       "\n",
       "// Listen for the clearing of the current output cell\n",
       "var outputEl = gd.closest('.output');\n",
       "if (outputEl) {{\n",
       "    x.observe(outputEl, {childList: true});\n",
       "}}\n",
       "\n",
       "                        })                };                });            </script>        </div>"
      ]
     },
     "metadata": {},
     "output_type": "display_data"
    }
   ],
   "source": [
    "df['A'].iplot(kind='hist',bins=25)"
   ]
  },
  {
   "cell_type": "code",
   "execution_count": 20,
   "metadata": {},
   "outputs": [
    {
     "data": {
      "application/vnd.plotly.v1+json": {
       "config": {
        "linkText": "Export to plot.ly",
        "plotlyServerURL": "https://plot.ly",
        "showLink": true
       },
       "data": [
        {
         "marker": {
          "color": [
           "rgb(255, 153, 51)",
           "rgb(55, 128, 191)",
           "rgb(50, 171, 96)",
           "rgb(128, 0, 128)",
           "rgb(219, 64, 82)",
           "rgb(0, 128, 128)",
           "rgb(255, 255, 51)",
           "rgb(128, 128, 0)",
           "rgb(251, 128, 114)",
           "rgb(128, 177, 211)"
          ],
          "line": {
           "width": 1.3
          },
          "size": [
           79,
           78,
           81,
           50,
           36,
           70,
           83,
           76,
           56,
           56,
           75,
           89,
           45,
           30,
           78,
           72,
           68,
           47,
           82,
           75,
           44,
           77,
           94,
           71,
           31,
           46,
           74,
           83,
           51,
           51,
           47,
           40,
           72,
           50,
           101,
           80,
           75,
           64,
           105,
           68,
           45,
           45,
           64,
           67,
           82,
           58,
           72,
           78,
           37,
           54,
           55,
           69,
           61,
           105,
           75,
           42,
           99,
           77,
           65,
           24,
           47,
           63,
           41,
           62,
           57,
           48,
           75,
           51,
           61,
           47,
           53,
           79,
           40,
           34,
           74,
           60,
           112,
           62,
           62,
           61,
           94,
           61,
           78,
           63,
           68,
           61,
           12,
           44,
           56,
           89,
           94,
           64,
           82,
           49,
           68,
           80,
           90,
           70,
           58,
           56
          ],
          "symbol": "circle"
         },
         "mode": "markers",
         "text": "",
         "type": "scatter",
         "x": [
          0.9358246105456631,
          1.7358870536473954,
          1.6607725228273365,
          -1.130471045776182,
          -0.7397437542667784,
          -1.7628728637743711,
          0.6094641588563852,
          0.8397452447778285,
          1.5953723526350652,
          -0.24735699034521968,
          -1.0576749964782333,
          -0.585775052554457,
          -2.1005125763582106,
          0.3682807079472144,
          -0.8404456428786651,
          0.6416763293475042,
          0.1482332074357737,
          -0.5694215335178152,
          1.2625700226936711,
          0.17288919914789302,
          -1.2897772819048154,
          0.7258162007125682,
          1.428259807694575,
          -0.4118314894873909,
          0.6215843985226098,
          -0.13364968782372094,
          -0.8669258393056155,
          -0.4104472188076141,
          -1.5094372299519552,
          -1.1273371115446196,
          0.40222132922117726,
          0.21491591162534904,
          -0.2824254106167494,
          0.2893039247667468,
          1.177485905026769,
          0.5314194356194776,
          -1.3737936138152016,
          -0.302772243312889,
          -0.5548156187710866,
          1.293594170856257,
          1.3938922938949396,
          -0.7686784040548456,
          0.685016805624003,
          -1.2161323536626572,
          -0.22596418717228123,
          0.18445339856296444,
          -0.2988187906213368,
          0.8610646318330833,
          0.44714190373054974,
          1.7495683336940082,
          -0.02717780528520104,
          -0.2646657249625497,
          0.5528736598737768,
          0.108936244464817,
          -0.3886022132343513,
          -0.27858746269539825,
          0.5262142439594867,
          -0.17040945756285403,
          -0.29361928475042465,
          -1.6431153100987566,
          0.9820006875146906,
          1.1271311188321693,
          0.7712039159456711,
          -0.2722771350565949,
          -0.1016411044464088,
          0.055748472748957355,
          0.378212647536327,
          1.806354096998742,
          -1.0323484061684283,
          0.43925979581855623,
          -2.237534601976636,
          -1.2395199587124108,
          0.932423970331763,
          -2.0606245338146247,
          -0.7873413392426257,
          0.3839651190733875,
          -1.5476461051975592,
          0.6107385482338262,
          0.48118347644317017,
          -1.1417989169897207,
          -1.349276068996005,
          0.22286129253542264,
          1.1337133631024376,
          0.5105123805788733,
          -2.1901727666599475,
          1.241346098929264,
          -0.42842270573965463,
          1.1422020524149337,
          0.49284995297389594,
          -0.8232844489727227,
          0.994393546598194,
          -0.25744344885925907,
          0.24794327386048887,
          -1.0040059283046938,
          2.012619946272534,
          -1.3432393595521306,
          -0.4360965094981826,
          -1.4872629381033733,
          0.4425522864570553,
          -0.6358544606229273
         ],
         "y": [
          2.4368836497567736,
          2.8061683063365512,
          -0.22598246884615092,
          1.6684583868678244,
          0.19964956910034146,
          -0.43630416534108574,
          -0.8149051143407005,
          0.644721914341229,
          -1.0970580613489138,
          0.563243707568396,
          -0.7151772352638627,
          1.7399384304314731,
          0.9333202141889357,
          -0.7603023225826924,
          -1.0055654371051497,
          0.9456803095792773,
          -0.6107014523115251,
          -0.24678977201906113,
          0.2272335649658569,
          1.1204859476935731,
          -1.7023803277503649,
          0.5321124440372906,
          -0.6808814973697076,
          -0.3119505168081398,
          -0.8729805709062626,
          -0.9422457171082959,
          0.9577546856737165,
          1.4350788901214124,
          -0.03629918533398791,
          1.1975549064480226,
          1.531036339029063,
          1.9561481466557051,
          -0.07722330639237676,
          1.2213207563919308,
          0.1425763768286601,
          0.4458905337457665,
          -0.23410678454089873,
          -0.7071305907929655,
          -0.41660092474178023,
          0.8290082481091184,
          -0.866406049479583,
          -0.9265270931596823,
          -0.5578107376513161,
          -1.1986778981863162,
          0.2994689192423883,
          -0.18672810450536445,
          0.29038117898481874,
          0.6513216905711007,
          0.727148313467212,
          -1.0957568440700851,
          1.0925119340978113,
          0.6622390315231806,
          1.0574259310596916,
          0.3317098628177242,
          -0.05553073769154664,
          -0.9799373977459516,
          1.3646046406526673,
          3.041346406084754,
          1.4011788801781775,
          -0.9386645547165704,
          1.3087610020904727,
          -0.80757066404421,
          1.1588354285400224,
          0.47883353179263977,
          -0.8055260309871897,
          -0.683537000716558,
          -0.015924935759425912,
          -0.29640901170335526,
          -0.19448603254895092,
          -0.46819474735927347,
          1.8067478953733844,
          -1.4112089594018427,
          0.6245328039650841,
          -0.8355962776719403,
          0.816316571373678,
          1.7830048482946426,
          -0.008152702171023115,
          0.10085636600272131,
          -1.432769049671953,
          0.4684985796561104,
          -1.1160089587194328,
          -0.6077303609075121,
          0.2628666457754549,
          0.26500314736339087,
          -0.15473373323700454,
          0.33691884019198975,
          0.9049159014238233,
          -0.2989352825315451,
          0.05106865858649614,
          2.738846305525453,
          0.5785002560282373,
          -0.4813514985369238,
          0.9711303120138106,
          -0.6753593361118425,
          -0.10288292581607655,
          1.1242169310713244,
          0.08995296684595894,
          1.2807328759536576,
          -0.33848014424263445,
          0.700807256895827
         ]
        }
       ],
       "layout": {
        "legend": {
         "bgcolor": "#F5F6F9",
         "font": {
          "color": "#4D5663"
         }
        },
        "paper_bgcolor": "#F5F6F9",
        "plot_bgcolor": "#F5F6F9",
        "template": {
         "data": {
          "bar": [
           {
            "error_x": {
             "color": "#2a3f5f"
            },
            "error_y": {
             "color": "#2a3f5f"
            },
            "marker": {
             "line": {
              "color": "#E5ECF6",
              "width": 0.5
             },
             "pattern": {
              "fillmode": "overlay",
              "size": 10,
              "solidity": 0.2
             }
            },
            "type": "bar"
           }
          ],
          "barpolar": [
           {
            "marker": {
             "line": {
              "color": "#E5ECF6",
              "width": 0.5
             },
             "pattern": {
              "fillmode": "overlay",
              "size": 10,
              "solidity": 0.2
             }
            },
            "type": "barpolar"
           }
          ],
          "carpet": [
           {
            "aaxis": {
             "endlinecolor": "#2a3f5f",
             "gridcolor": "white",
             "linecolor": "white",
             "minorgridcolor": "white",
             "startlinecolor": "#2a3f5f"
            },
            "baxis": {
             "endlinecolor": "#2a3f5f",
             "gridcolor": "white",
             "linecolor": "white",
             "minorgridcolor": "white",
             "startlinecolor": "#2a3f5f"
            },
            "type": "carpet"
           }
          ],
          "choropleth": [
           {
            "colorbar": {
             "outlinewidth": 0,
             "ticks": ""
            },
            "type": "choropleth"
           }
          ],
          "contour": [
           {
            "colorbar": {
             "outlinewidth": 0,
             "ticks": ""
            },
            "colorscale": [
             [
              0,
              "#0d0887"
             ],
             [
              0.1111111111111111,
              "#46039f"
             ],
             [
              0.2222222222222222,
              "#7201a8"
             ],
             [
              0.3333333333333333,
              "#9c179e"
             ],
             [
              0.4444444444444444,
              "#bd3786"
             ],
             [
              0.5555555555555556,
              "#d8576b"
             ],
             [
              0.6666666666666666,
              "#ed7953"
             ],
             [
              0.7777777777777778,
              "#fb9f3a"
             ],
             [
              0.8888888888888888,
              "#fdca26"
             ],
             [
              1,
              "#f0f921"
             ]
            ],
            "type": "contour"
           }
          ],
          "contourcarpet": [
           {
            "colorbar": {
             "outlinewidth": 0,
             "ticks": ""
            },
            "type": "contourcarpet"
           }
          ],
          "heatmap": [
           {
            "colorbar": {
             "outlinewidth": 0,
             "ticks": ""
            },
            "colorscale": [
             [
              0,
              "#0d0887"
             ],
             [
              0.1111111111111111,
              "#46039f"
             ],
             [
              0.2222222222222222,
              "#7201a8"
             ],
             [
              0.3333333333333333,
              "#9c179e"
             ],
             [
              0.4444444444444444,
              "#bd3786"
             ],
             [
              0.5555555555555556,
              "#d8576b"
             ],
             [
              0.6666666666666666,
              "#ed7953"
             ],
             [
              0.7777777777777778,
              "#fb9f3a"
             ],
             [
              0.8888888888888888,
              "#fdca26"
             ],
             [
              1,
              "#f0f921"
             ]
            ],
            "type": "heatmap"
           }
          ],
          "heatmapgl": [
           {
            "colorbar": {
             "outlinewidth": 0,
             "ticks": ""
            },
            "colorscale": [
             [
              0,
              "#0d0887"
             ],
             [
              0.1111111111111111,
              "#46039f"
             ],
             [
              0.2222222222222222,
              "#7201a8"
             ],
             [
              0.3333333333333333,
              "#9c179e"
             ],
             [
              0.4444444444444444,
              "#bd3786"
             ],
             [
              0.5555555555555556,
              "#d8576b"
             ],
             [
              0.6666666666666666,
              "#ed7953"
             ],
             [
              0.7777777777777778,
              "#fb9f3a"
             ],
             [
              0.8888888888888888,
              "#fdca26"
             ],
             [
              1,
              "#f0f921"
             ]
            ],
            "type": "heatmapgl"
           }
          ],
          "histogram": [
           {
            "marker": {
             "pattern": {
              "fillmode": "overlay",
              "size": 10,
              "solidity": 0.2
             }
            },
            "type": "histogram"
           }
          ],
          "histogram2d": [
           {
            "colorbar": {
             "outlinewidth": 0,
             "ticks": ""
            },
            "colorscale": [
             [
              0,
              "#0d0887"
             ],
             [
              0.1111111111111111,
              "#46039f"
             ],
             [
              0.2222222222222222,
              "#7201a8"
             ],
             [
              0.3333333333333333,
              "#9c179e"
             ],
             [
              0.4444444444444444,
              "#bd3786"
             ],
             [
              0.5555555555555556,
              "#d8576b"
             ],
             [
              0.6666666666666666,
              "#ed7953"
             ],
             [
              0.7777777777777778,
              "#fb9f3a"
             ],
             [
              0.8888888888888888,
              "#fdca26"
             ],
             [
              1,
              "#f0f921"
             ]
            ],
            "type": "histogram2d"
           }
          ],
          "histogram2dcontour": [
           {
            "colorbar": {
             "outlinewidth": 0,
             "ticks": ""
            },
            "colorscale": [
             [
              0,
              "#0d0887"
             ],
             [
              0.1111111111111111,
              "#46039f"
             ],
             [
              0.2222222222222222,
              "#7201a8"
             ],
             [
              0.3333333333333333,
              "#9c179e"
             ],
             [
              0.4444444444444444,
              "#bd3786"
             ],
             [
              0.5555555555555556,
              "#d8576b"
             ],
             [
              0.6666666666666666,
              "#ed7953"
             ],
             [
              0.7777777777777778,
              "#fb9f3a"
             ],
             [
              0.8888888888888888,
              "#fdca26"
             ],
             [
              1,
              "#f0f921"
             ]
            ],
            "type": "histogram2dcontour"
           }
          ],
          "mesh3d": [
           {
            "colorbar": {
             "outlinewidth": 0,
             "ticks": ""
            },
            "type": "mesh3d"
           }
          ],
          "parcoords": [
           {
            "line": {
             "colorbar": {
              "outlinewidth": 0,
              "ticks": ""
             }
            },
            "type": "parcoords"
           }
          ],
          "pie": [
           {
            "automargin": true,
            "type": "pie"
           }
          ],
          "scatter": [
           {
            "marker": {
             "colorbar": {
              "outlinewidth": 0,
              "ticks": ""
             }
            },
            "type": "scatter"
           }
          ],
          "scatter3d": [
           {
            "line": {
             "colorbar": {
              "outlinewidth": 0,
              "ticks": ""
             }
            },
            "marker": {
             "colorbar": {
              "outlinewidth": 0,
              "ticks": ""
             }
            },
            "type": "scatter3d"
           }
          ],
          "scattercarpet": [
           {
            "marker": {
             "colorbar": {
              "outlinewidth": 0,
              "ticks": ""
             }
            },
            "type": "scattercarpet"
           }
          ],
          "scattergeo": [
           {
            "marker": {
             "colorbar": {
              "outlinewidth": 0,
              "ticks": ""
             }
            },
            "type": "scattergeo"
           }
          ],
          "scattergl": [
           {
            "marker": {
             "colorbar": {
              "outlinewidth": 0,
              "ticks": ""
             }
            },
            "type": "scattergl"
           }
          ],
          "scattermapbox": [
           {
            "marker": {
             "colorbar": {
              "outlinewidth": 0,
              "ticks": ""
             }
            },
            "type": "scattermapbox"
           }
          ],
          "scatterpolar": [
           {
            "marker": {
             "colorbar": {
              "outlinewidth": 0,
              "ticks": ""
             }
            },
            "type": "scatterpolar"
           }
          ],
          "scatterpolargl": [
           {
            "marker": {
             "colorbar": {
              "outlinewidth": 0,
              "ticks": ""
             }
            },
            "type": "scatterpolargl"
           }
          ],
          "scatterternary": [
           {
            "marker": {
             "colorbar": {
              "outlinewidth": 0,
              "ticks": ""
             }
            },
            "type": "scatterternary"
           }
          ],
          "surface": [
           {
            "colorbar": {
             "outlinewidth": 0,
             "ticks": ""
            },
            "colorscale": [
             [
              0,
              "#0d0887"
             ],
             [
              0.1111111111111111,
              "#46039f"
             ],
             [
              0.2222222222222222,
              "#7201a8"
             ],
             [
              0.3333333333333333,
              "#9c179e"
             ],
             [
              0.4444444444444444,
              "#bd3786"
             ],
             [
              0.5555555555555556,
              "#d8576b"
             ],
             [
              0.6666666666666666,
              "#ed7953"
             ],
             [
              0.7777777777777778,
              "#fb9f3a"
             ],
             [
              0.8888888888888888,
              "#fdca26"
             ],
             [
              1,
              "#f0f921"
             ]
            ],
            "type": "surface"
           }
          ],
          "table": [
           {
            "cells": {
             "fill": {
              "color": "#EBF0F8"
             },
             "line": {
              "color": "white"
             }
            },
            "header": {
             "fill": {
              "color": "#C8D4E3"
             },
             "line": {
              "color": "white"
             }
            },
            "type": "table"
           }
          ]
         },
         "layout": {
          "annotationdefaults": {
           "arrowcolor": "#2a3f5f",
           "arrowhead": 0,
           "arrowwidth": 1
          },
          "autotypenumbers": "strict",
          "coloraxis": {
           "colorbar": {
            "outlinewidth": 0,
            "ticks": ""
           }
          },
          "colorscale": {
           "diverging": [
            [
             0,
             "#8e0152"
            ],
            [
             0.1,
             "#c51b7d"
            ],
            [
             0.2,
             "#de77ae"
            ],
            [
             0.3,
             "#f1b6da"
            ],
            [
             0.4,
             "#fde0ef"
            ],
            [
             0.5,
             "#f7f7f7"
            ],
            [
             0.6,
             "#e6f5d0"
            ],
            [
             0.7,
             "#b8e186"
            ],
            [
             0.8,
             "#7fbc41"
            ],
            [
             0.9,
             "#4d9221"
            ],
            [
             1,
             "#276419"
            ]
           ],
           "sequential": [
            [
             0,
             "#0d0887"
            ],
            [
             0.1111111111111111,
             "#46039f"
            ],
            [
             0.2222222222222222,
             "#7201a8"
            ],
            [
             0.3333333333333333,
             "#9c179e"
            ],
            [
             0.4444444444444444,
             "#bd3786"
            ],
            [
             0.5555555555555556,
             "#d8576b"
            ],
            [
             0.6666666666666666,
             "#ed7953"
            ],
            [
             0.7777777777777778,
             "#fb9f3a"
            ],
            [
             0.8888888888888888,
             "#fdca26"
            ],
            [
             1,
             "#f0f921"
            ]
           ],
           "sequentialminus": [
            [
             0,
             "#0d0887"
            ],
            [
             0.1111111111111111,
             "#46039f"
            ],
            [
             0.2222222222222222,
             "#7201a8"
            ],
            [
             0.3333333333333333,
             "#9c179e"
            ],
            [
             0.4444444444444444,
             "#bd3786"
            ],
            [
             0.5555555555555556,
             "#d8576b"
            ],
            [
             0.6666666666666666,
             "#ed7953"
            ],
            [
             0.7777777777777778,
             "#fb9f3a"
            ],
            [
             0.8888888888888888,
             "#fdca26"
            ],
            [
             1,
             "#f0f921"
            ]
           ]
          },
          "colorway": [
           "#636efa",
           "#EF553B",
           "#00cc96",
           "#ab63fa",
           "#FFA15A",
           "#19d3f3",
           "#FF6692",
           "#B6E880",
           "#FF97FF",
           "#FECB52"
          ],
          "font": {
           "color": "#2a3f5f"
          },
          "geo": {
           "bgcolor": "white",
           "lakecolor": "white",
           "landcolor": "#E5ECF6",
           "showlakes": true,
           "showland": true,
           "subunitcolor": "white"
          },
          "hoverlabel": {
           "align": "left"
          },
          "hovermode": "closest",
          "mapbox": {
           "style": "light"
          },
          "paper_bgcolor": "white",
          "plot_bgcolor": "#E5ECF6",
          "polar": {
           "angularaxis": {
            "gridcolor": "white",
            "linecolor": "white",
            "ticks": ""
           },
           "bgcolor": "#E5ECF6",
           "radialaxis": {
            "gridcolor": "white",
            "linecolor": "white",
            "ticks": ""
           }
          },
          "scene": {
           "xaxis": {
            "backgroundcolor": "#E5ECF6",
            "gridcolor": "white",
            "gridwidth": 2,
            "linecolor": "white",
            "showbackground": true,
            "ticks": "",
            "zerolinecolor": "white"
           },
           "yaxis": {
            "backgroundcolor": "#E5ECF6",
            "gridcolor": "white",
            "gridwidth": 2,
            "linecolor": "white",
            "showbackground": true,
            "ticks": "",
            "zerolinecolor": "white"
           },
           "zaxis": {
            "backgroundcolor": "#E5ECF6",
            "gridcolor": "white",
            "gridwidth": 2,
            "linecolor": "white",
            "showbackground": true,
            "ticks": "",
            "zerolinecolor": "white"
           }
          },
          "shapedefaults": {
           "line": {
            "color": "#2a3f5f"
           }
          },
          "ternary": {
           "aaxis": {
            "gridcolor": "white",
            "linecolor": "white",
            "ticks": ""
           },
           "baxis": {
            "gridcolor": "white",
            "linecolor": "white",
            "ticks": ""
           },
           "bgcolor": "#E5ECF6",
           "caxis": {
            "gridcolor": "white",
            "linecolor": "white",
            "ticks": ""
           }
          },
          "title": {
           "x": 0.05
          },
          "xaxis": {
           "automargin": true,
           "gridcolor": "white",
           "linecolor": "white",
           "ticks": "",
           "title": {
            "standoff": 15
           },
           "zerolinecolor": "white",
           "zerolinewidth": 2
          },
          "yaxis": {
           "automargin": true,
           "gridcolor": "white",
           "linecolor": "white",
           "ticks": "",
           "title": {
            "standoff": 15
           },
           "zerolinecolor": "white",
           "zerolinewidth": 2
          }
         }
        },
        "title": {
         "font": {
          "color": "#4D5663"
         }
        },
        "xaxis": {
         "gridcolor": "#E1E5ED",
         "showgrid": true,
         "tickfont": {
          "color": "#4D5663"
         },
         "title": {
          "font": {
           "color": "#4D5663"
          },
          "text": ""
         },
         "zerolinecolor": "#E1E5ED"
        },
        "yaxis": {
         "gridcolor": "#E1E5ED",
         "showgrid": true,
         "tickfont": {
          "color": "#4D5663"
         },
         "title": {
          "font": {
           "color": "#4D5663"
          },
          "text": ""
         },
         "zerolinecolor": "#E1E5ED"
        }
       }
      },
      "text/html": [
       "<div>                            <div id=\"d2453345-1110-4074-bbfc-7502cdd027a1\" class=\"plotly-graph-div\" style=\"height:525px; width:100%;\"></div>            <script type=\"text/javascript\">                require([\"plotly\"], function(Plotly) {                    window.PLOTLYENV=window.PLOTLYENV || {};\n",
       "                    window.PLOTLYENV.BASE_URL='https://plot.ly';                                    if (document.getElementById(\"d2453345-1110-4074-bbfc-7502cdd027a1\")) {                    Plotly.newPlot(                        \"d2453345-1110-4074-bbfc-7502cdd027a1\",                        [{\"marker\":{\"color\":[\"rgb(255, 153, 51)\",\"rgb(55, 128, 191)\",\"rgb(50, 171, 96)\",\"rgb(128, 0, 128)\",\"rgb(219, 64, 82)\",\"rgb(0, 128, 128)\",\"rgb(255, 255, 51)\",\"rgb(128, 128, 0)\",\"rgb(251, 128, 114)\",\"rgb(128, 177, 211)\"],\"line\":{\"width\":1.3},\"size\":[79,78,81,50,36,70,83,76,56,56,75,89,45,30,78,72,68,47,82,75,44,77,94,71,31,46,74,83,51,51,47,40,72,50,101,80,75,64,105,68,45,45,64,67,82,58,72,78,37,54,55,69,61,105,75,42,99,77,65,24,47,63,41,62,57,48,75,51,61,47,53,79,40,34,74,60,112,62,62,61,94,61,78,63,68,61,12,44,56,89,94,64,82,49,68,80,90,70,58,56],\"symbol\":\"circle\"},\"mode\":\"markers\",\"text\":\"\",\"x\":[0.9358246105456631,1.7358870536473954,1.6607725228273365,-1.130471045776182,-0.7397437542667784,-1.7628728637743711,0.6094641588563852,0.8397452447778285,1.5953723526350652,-0.24735699034521968,-1.0576749964782333,-0.585775052554457,-2.1005125763582106,0.3682807079472144,-0.8404456428786651,0.6416763293475042,0.1482332074357737,-0.5694215335178152,1.2625700226936711,0.17288919914789302,-1.2897772819048154,0.7258162007125682,1.428259807694575,-0.4118314894873909,0.6215843985226098,-0.13364968782372094,-0.8669258393056155,-0.4104472188076141,-1.5094372299519552,-1.1273371115446196,0.40222132922117726,0.21491591162534904,-0.2824254106167494,0.2893039247667468,1.177485905026769,0.5314194356194776,-1.3737936138152016,-0.302772243312889,-0.5548156187710866,1.293594170856257,1.3938922938949396,-0.7686784040548456,0.685016805624003,-1.2161323536626572,-0.22596418717228123,0.18445339856296444,-0.2988187906213368,0.8610646318330833,0.44714190373054974,1.7495683336940082,-0.02717780528520104,-0.2646657249625497,0.5528736598737768,0.108936244464817,-0.3886022132343513,-0.27858746269539825,0.5262142439594867,-0.17040945756285403,-0.29361928475042465,-1.6431153100987566,0.9820006875146906,1.1271311188321693,0.7712039159456711,-0.2722771350565949,-0.1016411044464088,0.055748472748957355,0.378212647536327,1.806354096998742,-1.0323484061684283,0.43925979581855623,-2.237534601976636,-1.2395199587124108,0.932423970331763,-2.0606245338146247,-0.7873413392426257,0.3839651190733875,-1.5476461051975592,0.6107385482338262,0.48118347644317017,-1.1417989169897207,-1.349276068996005,0.22286129253542264,1.1337133631024376,0.5105123805788733,-2.1901727666599475,1.241346098929264,-0.42842270573965463,1.1422020524149337,0.49284995297389594,-0.8232844489727227,0.994393546598194,-0.25744344885925907,0.24794327386048887,-1.0040059283046938,2.012619946272534,-1.3432393595521306,-0.4360965094981826,-1.4872629381033733,0.4425522864570553,-0.6358544606229273],\"y\":[2.4368836497567736,2.8061683063365512,-0.22598246884615092,1.6684583868678244,0.19964956910034146,-0.43630416534108574,-0.8149051143407005,0.644721914341229,-1.0970580613489138,0.563243707568396,-0.7151772352638627,1.7399384304314731,0.9333202141889357,-0.7603023225826924,-1.0055654371051497,0.9456803095792773,-0.6107014523115251,-0.24678977201906113,0.2272335649658569,1.1204859476935731,-1.7023803277503649,0.5321124440372906,-0.6808814973697076,-0.3119505168081398,-0.8729805709062626,-0.9422457171082959,0.9577546856737165,1.4350788901214124,-0.03629918533398791,1.1975549064480226,1.531036339029063,1.9561481466557051,-0.07722330639237676,1.2213207563919308,0.1425763768286601,0.4458905337457665,-0.23410678454089873,-0.7071305907929655,-0.41660092474178023,0.8290082481091184,-0.866406049479583,-0.9265270931596823,-0.5578107376513161,-1.1986778981863162,0.2994689192423883,-0.18672810450536445,0.29038117898481874,0.6513216905711007,0.727148313467212,-1.0957568440700851,1.0925119340978113,0.6622390315231806,1.0574259310596916,0.3317098628177242,-0.05553073769154664,-0.9799373977459516,1.3646046406526673,3.041346406084754,1.4011788801781775,-0.9386645547165704,1.3087610020904727,-0.80757066404421,1.1588354285400224,0.47883353179263977,-0.8055260309871897,-0.683537000716558,-0.015924935759425912,-0.29640901170335526,-0.19448603254895092,-0.46819474735927347,1.8067478953733844,-1.4112089594018427,0.6245328039650841,-0.8355962776719403,0.816316571373678,1.7830048482946426,-0.008152702171023115,0.10085636600272131,-1.432769049671953,0.4684985796561104,-1.1160089587194328,-0.6077303609075121,0.2628666457754549,0.26500314736339087,-0.15473373323700454,0.33691884019198975,0.9049159014238233,-0.2989352825315451,0.05106865858649614,2.738846305525453,0.5785002560282373,-0.4813514985369238,0.9711303120138106,-0.6753593361118425,-0.10288292581607655,1.1242169310713244,0.08995296684595894,1.2807328759536576,-0.33848014424263445,0.700807256895827],\"type\":\"scatter\"}],                        {\"legend\":{\"bgcolor\":\"#F5F6F9\",\"font\":{\"color\":\"#4D5663\"}},\"paper_bgcolor\":\"#F5F6F9\",\"plot_bgcolor\":\"#F5F6F9\",\"template\":{\"data\":{\"barpolar\":[{\"marker\":{\"line\":{\"color\":\"#E5ECF6\",\"width\":0.5},\"pattern\":{\"fillmode\":\"overlay\",\"size\":10,\"solidity\":0.2}},\"type\":\"barpolar\"}],\"bar\":[{\"error_x\":{\"color\":\"#2a3f5f\"},\"error_y\":{\"color\":\"#2a3f5f\"},\"marker\":{\"line\":{\"color\":\"#E5ECF6\",\"width\":0.5},\"pattern\":{\"fillmode\":\"overlay\",\"size\":10,\"solidity\":0.2}},\"type\":\"bar\"}],\"carpet\":[{\"aaxis\":{\"endlinecolor\":\"#2a3f5f\",\"gridcolor\":\"white\",\"linecolor\":\"white\",\"minorgridcolor\":\"white\",\"startlinecolor\":\"#2a3f5f\"},\"baxis\":{\"endlinecolor\":\"#2a3f5f\",\"gridcolor\":\"white\",\"linecolor\":\"white\",\"minorgridcolor\":\"white\",\"startlinecolor\":\"#2a3f5f\"},\"type\":\"carpet\"}],\"choropleth\":[{\"colorbar\":{\"outlinewidth\":0,\"ticks\":\"\"},\"type\":\"choropleth\"}],\"contourcarpet\":[{\"colorbar\":{\"outlinewidth\":0,\"ticks\":\"\"},\"type\":\"contourcarpet\"}],\"contour\":[{\"colorbar\":{\"outlinewidth\":0,\"ticks\":\"\"},\"colorscale\":[[0.0,\"#0d0887\"],[0.1111111111111111,\"#46039f\"],[0.2222222222222222,\"#7201a8\"],[0.3333333333333333,\"#9c179e\"],[0.4444444444444444,\"#bd3786\"],[0.5555555555555556,\"#d8576b\"],[0.6666666666666666,\"#ed7953\"],[0.7777777777777778,\"#fb9f3a\"],[0.8888888888888888,\"#fdca26\"],[1.0,\"#f0f921\"]],\"type\":\"contour\"}],\"heatmapgl\":[{\"colorbar\":{\"outlinewidth\":0,\"ticks\":\"\"},\"colorscale\":[[0.0,\"#0d0887\"],[0.1111111111111111,\"#46039f\"],[0.2222222222222222,\"#7201a8\"],[0.3333333333333333,\"#9c179e\"],[0.4444444444444444,\"#bd3786\"],[0.5555555555555556,\"#d8576b\"],[0.6666666666666666,\"#ed7953\"],[0.7777777777777778,\"#fb9f3a\"],[0.8888888888888888,\"#fdca26\"],[1.0,\"#f0f921\"]],\"type\":\"heatmapgl\"}],\"heatmap\":[{\"colorbar\":{\"outlinewidth\":0,\"ticks\":\"\"},\"colorscale\":[[0.0,\"#0d0887\"],[0.1111111111111111,\"#46039f\"],[0.2222222222222222,\"#7201a8\"],[0.3333333333333333,\"#9c179e\"],[0.4444444444444444,\"#bd3786\"],[0.5555555555555556,\"#d8576b\"],[0.6666666666666666,\"#ed7953\"],[0.7777777777777778,\"#fb9f3a\"],[0.8888888888888888,\"#fdca26\"],[1.0,\"#f0f921\"]],\"type\":\"heatmap\"}],\"histogram2dcontour\":[{\"colorbar\":{\"outlinewidth\":0,\"ticks\":\"\"},\"colorscale\":[[0.0,\"#0d0887\"],[0.1111111111111111,\"#46039f\"],[0.2222222222222222,\"#7201a8\"],[0.3333333333333333,\"#9c179e\"],[0.4444444444444444,\"#bd3786\"],[0.5555555555555556,\"#d8576b\"],[0.6666666666666666,\"#ed7953\"],[0.7777777777777778,\"#fb9f3a\"],[0.8888888888888888,\"#fdca26\"],[1.0,\"#f0f921\"]],\"type\":\"histogram2dcontour\"}],\"histogram2d\":[{\"colorbar\":{\"outlinewidth\":0,\"ticks\":\"\"},\"colorscale\":[[0.0,\"#0d0887\"],[0.1111111111111111,\"#46039f\"],[0.2222222222222222,\"#7201a8\"],[0.3333333333333333,\"#9c179e\"],[0.4444444444444444,\"#bd3786\"],[0.5555555555555556,\"#d8576b\"],[0.6666666666666666,\"#ed7953\"],[0.7777777777777778,\"#fb9f3a\"],[0.8888888888888888,\"#fdca26\"],[1.0,\"#f0f921\"]],\"type\":\"histogram2d\"}],\"histogram\":[{\"marker\":{\"pattern\":{\"fillmode\":\"overlay\",\"size\":10,\"solidity\":0.2}},\"type\":\"histogram\"}],\"mesh3d\":[{\"colorbar\":{\"outlinewidth\":0,\"ticks\":\"\"},\"type\":\"mesh3d\"}],\"parcoords\":[{\"line\":{\"colorbar\":{\"outlinewidth\":0,\"ticks\":\"\"}},\"type\":\"parcoords\"}],\"pie\":[{\"automargin\":true,\"type\":\"pie\"}],\"scatter3d\":[{\"line\":{\"colorbar\":{\"outlinewidth\":0,\"ticks\":\"\"}},\"marker\":{\"colorbar\":{\"outlinewidth\":0,\"ticks\":\"\"}},\"type\":\"scatter3d\"}],\"scattercarpet\":[{\"marker\":{\"colorbar\":{\"outlinewidth\":0,\"ticks\":\"\"}},\"type\":\"scattercarpet\"}],\"scattergeo\":[{\"marker\":{\"colorbar\":{\"outlinewidth\":0,\"ticks\":\"\"}},\"type\":\"scattergeo\"}],\"scattergl\":[{\"marker\":{\"colorbar\":{\"outlinewidth\":0,\"ticks\":\"\"}},\"type\":\"scattergl\"}],\"scattermapbox\":[{\"marker\":{\"colorbar\":{\"outlinewidth\":0,\"ticks\":\"\"}},\"type\":\"scattermapbox\"}],\"scatterpolargl\":[{\"marker\":{\"colorbar\":{\"outlinewidth\":0,\"ticks\":\"\"}},\"type\":\"scatterpolargl\"}],\"scatterpolar\":[{\"marker\":{\"colorbar\":{\"outlinewidth\":0,\"ticks\":\"\"}},\"type\":\"scatterpolar\"}],\"scatter\":[{\"marker\":{\"colorbar\":{\"outlinewidth\":0,\"ticks\":\"\"}},\"type\":\"scatter\"}],\"scatterternary\":[{\"marker\":{\"colorbar\":{\"outlinewidth\":0,\"ticks\":\"\"}},\"type\":\"scatterternary\"}],\"surface\":[{\"colorbar\":{\"outlinewidth\":0,\"ticks\":\"\"},\"colorscale\":[[0.0,\"#0d0887\"],[0.1111111111111111,\"#46039f\"],[0.2222222222222222,\"#7201a8\"],[0.3333333333333333,\"#9c179e\"],[0.4444444444444444,\"#bd3786\"],[0.5555555555555556,\"#d8576b\"],[0.6666666666666666,\"#ed7953\"],[0.7777777777777778,\"#fb9f3a\"],[0.8888888888888888,\"#fdca26\"],[1.0,\"#f0f921\"]],\"type\":\"surface\"}],\"table\":[{\"cells\":{\"fill\":{\"color\":\"#EBF0F8\"},\"line\":{\"color\":\"white\"}},\"header\":{\"fill\":{\"color\":\"#C8D4E3\"},\"line\":{\"color\":\"white\"}},\"type\":\"table\"}]},\"layout\":{\"annotationdefaults\":{\"arrowcolor\":\"#2a3f5f\",\"arrowhead\":0,\"arrowwidth\":1},\"autotypenumbers\":\"strict\",\"coloraxis\":{\"colorbar\":{\"outlinewidth\":0,\"ticks\":\"\"}},\"colorscale\":{\"diverging\":[[0,\"#8e0152\"],[0.1,\"#c51b7d\"],[0.2,\"#de77ae\"],[0.3,\"#f1b6da\"],[0.4,\"#fde0ef\"],[0.5,\"#f7f7f7\"],[0.6,\"#e6f5d0\"],[0.7,\"#b8e186\"],[0.8,\"#7fbc41\"],[0.9,\"#4d9221\"],[1,\"#276419\"]],\"sequential\":[[0.0,\"#0d0887\"],[0.1111111111111111,\"#46039f\"],[0.2222222222222222,\"#7201a8\"],[0.3333333333333333,\"#9c179e\"],[0.4444444444444444,\"#bd3786\"],[0.5555555555555556,\"#d8576b\"],[0.6666666666666666,\"#ed7953\"],[0.7777777777777778,\"#fb9f3a\"],[0.8888888888888888,\"#fdca26\"],[1.0,\"#f0f921\"]],\"sequentialminus\":[[0.0,\"#0d0887\"],[0.1111111111111111,\"#46039f\"],[0.2222222222222222,\"#7201a8\"],[0.3333333333333333,\"#9c179e\"],[0.4444444444444444,\"#bd3786\"],[0.5555555555555556,\"#d8576b\"],[0.6666666666666666,\"#ed7953\"],[0.7777777777777778,\"#fb9f3a\"],[0.8888888888888888,\"#fdca26\"],[1.0,\"#f0f921\"]]},\"colorway\":[\"#636efa\",\"#EF553B\",\"#00cc96\",\"#ab63fa\",\"#FFA15A\",\"#19d3f3\",\"#FF6692\",\"#B6E880\",\"#FF97FF\",\"#FECB52\"],\"font\":{\"color\":\"#2a3f5f\"},\"geo\":{\"bgcolor\":\"white\",\"lakecolor\":\"white\",\"landcolor\":\"#E5ECF6\",\"showlakes\":true,\"showland\":true,\"subunitcolor\":\"white\"},\"hoverlabel\":{\"align\":\"left\"},\"hovermode\":\"closest\",\"mapbox\":{\"style\":\"light\"},\"paper_bgcolor\":\"white\",\"plot_bgcolor\":\"#E5ECF6\",\"polar\":{\"angularaxis\":{\"gridcolor\":\"white\",\"linecolor\":\"white\",\"ticks\":\"\"},\"bgcolor\":\"#E5ECF6\",\"radialaxis\":{\"gridcolor\":\"white\",\"linecolor\":\"white\",\"ticks\":\"\"}},\"scene\":{\"xaxis\":{\"backgroundcolor\":\"#E5ECF6\",\"gridcolor\":\"white\",\"gridwidth\":2,\"linecolor\":\"white\",\"showbackground\":true,\"ticks\":\"\",\"zerolinecolor\":\"white\"},\"yaxis\":{\"backgroundcolor\":\"#E5ECF6\",\"gridcolor\":\"white\",\"gridwidth\":2,\"linecolor\":\"white\",\"showbackground\":true,\"ticks\":\"\",\"zerolinecolor\":\"white\"},\"zaxis\":{\"backgroundcolor\":\"#E5ECF6\",\"gridcolor\":\"white\",\"gridwidth\":2,\"linecolor\":\"white\",\"showbackground\":true,\"ticks\":\"\",\"zerolinecolor\":\"white\"}},\"shapedefaults\":{\"line\":{\"color\":\"#2a3f5f\"}},\"ternary\":{\"aaxis\":{\"gridcolor\":\"white\",\"linecolor\":\"white\",\"ticks\":\"\"},\"baxis\":{\"gridcolor\":\"white\",\"linecolor\":\"white\",\"ticks\":\"\"},\"bgcolor\":\"#E5ECF6\",\"caxis\":{\"gridcolor\":\"white\",\"linecolor\":\"white\",\"ticks\":\"\"}},\"title\":{\"x\":0.05},\"xaxis\":{\"automargin\":true,\"gridcolor\":\"white\",\"linecolor\":\"white\",\"ticks\":\"\",\"title\":{\"standoff\":15},\"zerolinecolor\":\"white\",\"zerolinewidth\":2},\"yaxis\":{\"automargin\":true,\"gridcolor\":\"white\",\"linecolor\":\"white\",\"ticks\":\"\",\"title\":{\"standoff\":15},\"zerolinecolor\":\"white\",\"zerolinewidth\":2}}},\"title\":{\"font\":{\"color\":\"#4D5663\"}},\"xaxis\":{\"gridcolor\":\"#E1E5ED\",\"showgrid\":true,\"tickfont\":{\"color\":\"#4D5663\"},\"title\":{\"font\":{\"color\":\"#4D5663\"},\"text\":\"\"},\"zerolinecolor\":\"#E1E5ED\"},\"yaxis\":{\"gridcolor\":\"#E1E5ED\",\"showgrid\":true,\"tickfont\":{\"color\":\"#4D5663\"},\"title\":{\"font\":{\"color\":\"#4D5663\"},\"text\":\"\"},\"zerolinecolor\":\"#E1E5ED\"}},                        {\"showLink\": true, \"linkText\": \"Export to plot.ly\", \"plotlyServerURL\": \"https://plot.ly\", \"responsive\": true}                    ).then(function(){\n",
       "                            \n",
       "var gd = document.getElementById('d2453345-1110-4074-bbfc-7502cdd027a1');\n",
       "var x = new MutationObserver(function (mutations, observer) {{\n",
       "        var display = window.getComputedStyle(gd).display;\n",
       "        if (!display || display === 'none') {{\n",
       "            console.log([gd, 'removed!']);\n",
       "            Plotly.purge(gd);\n",
       "            observer.disconnect();\n",
       "        }}\n",
       "}});\n",
       "\n",
       "// Listen for the removal of the full notebook cells\n",
       "var notebookContainer = gd.closest('#notebook-container');\n",
       "if (notebookContainer) {{\n",
       "    x.observe(notebookContainer, {childList: true});\n",
       "}}\n",
       "\n",
       "// Listen for the clearing of the current output cell\n",
       "var outputEl = gd.closest('.output');\n",
       "if (outputEl) {{\n",
       "    x.observe(outputEl, {childList: true});\n",
       "}}\n",
       "\n",
       "                        })                };                });            </script>        </div>"
      ]
     },
     "metadata": {},
     "output_type": "display_data"
    }
   ],
   "source": [
    "df.iplot(kind='bubble',x='A',y='B',size='C')"
   ]
  },
  {
   "cell_type": "markdown",
   "metadata": {},
   "source": [
    "## scatter_matrix()\n",
    "\n",
    "Similar a sns.pairplot()"
   ]
  },
  {
   "cell_type": "code",
   "execution_count": 21,
   "metadata": {},
   "outputs": [
    {
     "data": {
      "application/vnd.plotly.v1+json": {
       "config": {
        "linkText": "Export to plot.ly",
        "plotlyServerURL": "https://plot.ly",
        "showLink": true
       },
       "data": [
        {
         "histfunc": "count",
         "histnorm": "",
         "marker": {
          "color": "rgba(255, 153, 51, 1.0)",
          "line": {
           "color": "#4D5663",
           "width": 1.3
          }
         },
         "name": "A",
         "nbinsx": 10,
         "opacity": 0.8,
         "orientation": "v",
         "type": "histogram",
         "x": [
          0.9358246105456631,
          1.7358870536473954,
          1.6607725228273365,
          -1.130471045776182,
          -0.7397437542667784,
          -1.7628728637743711,
          0.6094641588563852,
          0.8397452447778285,
          1.5953723526350652,
          -0.24735699034521968,
          -1.0576749964782333,
          -0.585775052554457,
          -2.1005125763582106,
          0.3682807079472144,
          -0.8404456428786651,
          0.6416763293475042,
          0.1482332074357737,
          -0.5694215335178152,
          1.2625700226936711,
          0.17288919914789302,
          -1.2897772819048154,
          0.7258162007125682,
          1.428259807694575,
          -0.4118314894873909,
          0.6215843985226098,
          -0.13364968782372094,
          -0.8669258393056155,
          -0.4104472188076141,
          -1.5094372299519552,
          -1.1273371115446196,
          0.40222132922117726,
          0.21491591162534904,
          -0.2824254106167494,
          0.2893039247667468,
          1.177485905026769,
          0.5314194356194776,
          -1.3737936138152016,
          -0.302772243312889,
          -0.5548156187710866,
          1.293594170856257,
          1.3938922938949396,
          -0.7686784040548456,
          0.685016805624003,
          -1.2161323536626572,
          -0.22596418717228123,
          0.18445339856296444,
          -0.2988187906213368,
          0.8610646318330833,
          0.44714190373054974,
          1.7495683336940082,
          -0.02717780528520104,
          -0.2646657249625497,
          0.5528736598737768,
          0.108936244464817,
          -0.3886022132343513,
          -0.27858746269539825,
          0.5262142439594867,
          -0.17040945756285403,
          -0.29361928475042465,
          -1.6431153100987566,
          0.9820006875146906,
          1.1271311188321693,
          0.7712039159456711,
          -0.2722771350565949,
          -0.1016411044464088,
          0.055748472748957355,
          0.378212647536327,
          1.806354096998742,
          -1.0323484061684283,
          0.43925979581855623,
          -2.237534601976636,
          -1.2395199587124108,
          0.932423970331763,
          -2.0606245338146247,
          -0.7873413392426257,
          0.3839651190733875,
          -1.5476461051975592,
          0.6107385482338262,
          0.48118347644317017,
          -1.1417989169897207,
          -1.349276068996005,
          0.22286129253542264,
          1.1337133631024376,
          0.5105123805788733,
          -2.1901727666599475,
          1.241346098929264,
          -0.42842270573965463,
          1.1422020524149337,
          0.49284995297389594,
          -0.8232844489727227,
          0.994393546598194,
          -0.25744344885925907,
          0.24794327386048887,
          -1.0040059283046938,
          2.012619946272534,
          -1.3432393595521306,
          -0.4360965094981826,
          -1.4872629381033733,
          0.4425522864570553,
          -0.6358544606229273
         ],
         "xaxis": "x",
         "yaxis": "y"
        },
        {
         "line": {
          "color": "rgba(128, 128, 128, 1.0)",
          "dash": "solid",
          "shape": "linear",
          "width": 1.3
         },
         "marker": {
          "size": 2,
          "symbol": "circle"
         },
         "mode": "markers",
         "name": "A",
         "text": "",
         "type": "scatter",
         "x": [
          2.4368836497567736,
          2.8061683063365512,
          -0.22598246884615092,
          1.6684583868678244,
          0.19964956910034146,
          -0.43630416534108574,
          -0.8149051143407005,
          0.644721914341229,
          -1.0970580613489138,
          0.563243707568396,
          -0.7151772352638627,
          1.7399384304314731,
          0.9333202141889357,
          -0.7603023225826924,
          -1.0055654371051497,
          0.9456803095792773,
          -0.6107014523115251,
          -0.24678977201906113,
          0.2272335649658569,
          1.1204859476935731,
          -1.7023803277503649,
          0.5321124440372906,
          -0.6808814973697076,
          -0.3119505168081398,
          -0.8729805709062626,
          -0.9422457171082959,
          0.9577546856737165,
          1.4350788901214124,
          -0.03629918533398791,
          1.1975549064480226,
          1.531036339029063,
          1.9561481466557051,
          -0.07722330639237676,
          1.2213207563919308,
          0.1425763768286601,
          0.4458905337457665,
          -0.23410678454089873,
          -0.7071305907929655,
          -0.41660092474178023,
          0.8290082481091184,
          -0.866406049479583,
          -0.9265270931596823,
          -0.5578107376513161,
          -1.1986778981863162,
          0.2994689192423883,
          -0.18672810450536445,
          0.29038117898481874,
          0.6513216905711007,
          0.727148313467212,
          -1.0957568440700851,
          1.0925119340978113,
          0.6622390315231806,
          1.0574259310596916,
          0.3317098628177242,
          -0.05553073769154664,
          -0.9799373977459516,
          1.3646046406526673,
          3.041346406084754,
          1.4011788801781775,
          -0.9386645547165704,
          1.3087610020904727,
          -0.80757066404421,
          1.1588354285400224,
          0.47883353179263977,
          -0.8055260309871897,
          -0.683537000716558,
          -0.015924935759425912,
          -0.29640901170335526,
          -0.19448603254895092,
          -0.46819474735927347,
          1.8067478953733844,
          -1.4112089594018427,
          0.6245328039650841,
          -0.8355962776719403,
          0.816316571373678,
          1.7830048482946426,
          -0.008152702171023115,
          0.10085636600272131,
          -1.432769049671953,
          0.4684985796561104,
          -1.1160089587194328,
          -0.6077303609075121,
          0.2628666457754549,
          0.26500314736339087,
          -0.15473373323700454,
          0.33691884019198975,
          0.9049159014238233,
          -0.2989352825315451,
          0.05106865858649614,
          2.738846305525453,
          0.5785002560282373,
          -0.4813514985369238,
          0.9711303120138106,
          -0.6753593361118425,
          -0.10288292581607655,
          1.1242169310713244,
          0.08995296684595894,
          1.2807328759536576,
          -0.33848014424263445,
          0.700807256895827
         ],
         "xaxis": "x2",
         "y": [
          0.9358246105456631,
          1.7358870536473954,
          1.6607725228273365,
          -1.130471045776182,
          -0.7397437542667784,
          -1.7628728637743711,
          0.6094641588563852,
          0.8397452447778285,
          1.5953723526350652,
          -0.24735699034521968,
          -1.0576749964782333,
          -0.585775052554457,
          -2.1005125763582106,
          0.3682807079472144,
          -0.8404456428786651,
          0.6416763293475042,
          0.1482332074357737,
          -0.5694215335178152,
          1.2625700226936711,
          0.17288919914789302,
          -1.2897772819048154,
          0.7258162007125682,
          1.428259807694575,
          -0.4118314894873909,
          0.6215843985226098,
          -0.13364968782372094,
          -0.8669258393056155,
          -0.4104472188076141,
          -1.5094372299519552,
          -1.1273371115446196,
          0.40222132922117726,
          0.21491591162534904,
          -0.2824254106167494,
          0.2893039247667468,
          1.177485905026769,
          0.5314194356194776,
          -1.3737936138152016,
          -0.302772243312889,
          -0.5548156187710866,
          1.293594170856257,
          1.3938922938949396,
          -0.7686784040548456,
          0.685016805624003,
          -1.2161323536626572,
          -0.22596418717228123,
          0.18445339856296444,
          -0.2988187906213368,
          0.8610646318330833,
          0.44714190373054974,
          1.7495683336940082,
          -0.02717780528520104,
          -0.2646657249625497,
          0.5528736598737768,
          0.108936244464817,
          -0.3886022132343513,
          -0.27858746269539825,
          0.5262142439594867,
          -0.17040945756285403,
          -0.29361928475042465,
          -1.6431153100987566,
          0.9820006875146906,
          1.1271311188321693,
          0.7712039159456711,
          -0.2722771350565949,
          -0.1016411044464088,
          0.055748472748957355,
          0.378212647536327,
          1.806354096998742,
          -1.0323484061684283,
          0.43925979581855623,
          -2.237534601976636,
          -1.2395199587124108,
          0.932423970331763,
          -2.0606245338146247,
          -0.7873413392426257,
          0.3839651190733875,
          -1.5476461051975592,
          0.6107385482338262,
          0.48118347644317017,
          -1.1417989169897207,
          -1.349276068996005,
          0.22286129253542264,
          1.1337133631024376,
          0.5105123805788733,
          -2.1901727666599475,
          1.241346098929264,
          -0.42842270573965463,
          1.1422020524149337,
          0.49284995297389594,
          -0.8232844489727227,
          0.994393546598194,
          -0.25744344885925907,
          0.24794327386048887,
          -1.0040059283046938,
          2.012619946272534,
          -1.3432393595521306,
          -0.4360965094981826,
          -1.4872629381033733,
          0.4425522864570553,
          -0.6358544606229273
         ],
         "yaxis": "y2"
        },
        {
         "line": {
          "color": "rgba(128, 128, 128, 1.0)",
          "dash": "solid",
          "shape": "linear",
          "width": 1.3
         },
         "marker": {
          "size": 2,
          "symbol": "circle"
         },
         "mode": "markers",
         "name": "A",
         "text": "",
         "type": "scatter",
         "x": [
          0.8347964621978526,
          0.7422619849660557,
          0.9421059046693261,
          -0.8287663091084667,
          -1.5872247614942994,
          0.3096679676095925,
          1.0066599607678481,
          0.6400723276288252,
          -0.4616667584145362,
          -0.458297403125597,
          0.5741152744780673,
          1.3587337389371734,
          -1.1067774961716534,
          -1.935996244110975,
          0.7777194054502217,
          0.39425389226378726,
          0.1841081434387239,
          -0.9575857037749891,
          0.9975865238218852,
          0.6016316037478396,
          -1.1496089432371979,
          0.6958881857987933,
          1.6681252130704827,
          0.36681196627548485,
          -1.9078136995537738,
          -1.030713373835496,
          0.5119207586273357,
          1.0215942717456032,
          -0.7613725093295172,
          -0.7626177245782716,
          -0.977106249385318,
          -1.3905124581215762,
          0.4198154806602653,
          -0.8332328241034221,
          2.0232969011466264,
          0.8761650856571784,
          0.604383451200056,
          -0.055397334207476036,
          2.235340360896873,
          0.2127535535306071,
          -1.0936907857756157,
          -1.095127127911492,
          -0.036983872331810094,
          0.1405845991744449,
          0.9990811980995024,
          -0.38133164054122687,
          0.4188828292150607,
          0.7639415389965162,
          -1.5363182614760473,
          -0.5836306055561737,
          -0.5564802891642523,
          0.27355942667249133,
          -0.19143222578973443,
          2.2662149960086935,
          0.5749447538886344,
          -1.2753637372850788,
          1.9287221634387093,
          0.7099186452912636,
          0.004229094356319363,
          -2.25020330548462,
          -0.9815861634693895,
          -0.08923749356744987,
          -1.3372009872447732,
          -0.1323376247539866,
          -0.39730967369732084,
          -0.9156689796933062,
          0.5631677363355335,
          -0.7795866286804178,
          -0.204854748351753,
          -0.9623752418290115,
          -0.6277110368908078,
          0.8179132872244542,
          -1.3841106590099894,
          -1.691269656360695,
          0.5343258529217656,
          -0.25680254083887394,
          2.627165072906644,
          -0.14763476004978585,
          -0.17257057163101136,
          -0.2056432080272134,
          1.6223879450819967,
          -0.21783483144740098,
          0.7354681172994999,
          -0.11318274664317976,
          0.21886584953230323,
          -0.18174933433188084,
          -2.9726490611652165,
          -1.1346417759642426,
          -0.4987540998712413,
          1.3673123446330104,
          1.6218714880270613,
          -0.04047039466792415,
          0.96694327486157,
          -0.8954153268487087,
          0.1825169937934882,
          0.8839934709951787,
          1.4288035335316298,
          0.3227495759096064,
          -0.3908280472876743,
          -0.46664169633794633
         ],
         "xaxis": "x3",
         "y": [
          0.9358246105456631,
          1.7358870536473954,
          1.6607725228273365,
          -1.130471045776182,
          -0.7397437542667784,
          -1.7628728637743711,
          0.6094641588563852,
          0.8397452447778285,
          1.5953723526350652,
          -0.24735699034521968,
          -1.0576749964782333,
          -0.585775052554457,
          -2.1005125763582106,
          0.3682807079472144,
          -0.8404456428786651,
          0.6416763293475042,
          0.1482332074357737,
          -0.5694215335178152,
          1.2625700226936711,
          0.17288919914789302,
          -1.2897772819048154,
          0.7258162007125682,
          1.428259807694575,
          -0.4118314894873909,
          0.6215843985226098,
          -0.13364968782372094,
          -0.8669258393056155,
          -0.4104472188076141,
          -1.5094372299519552,
          -1.1273371115446196,
          0.40222132922117726,
          0.21491591162534904,
          -0.2824254106167494,
          0.2893039247667468,
          1.177485905026769,
          0.5314194356194776,
          -1.3737936138152016,
          -0.302772243312889,
          -0.5548156187710866,
          1.293594170856257,
          1.3938922938949396,
          -0.7686784040548456,
          0.685016805624003,
          -1.2161323536626572,
          -0.22596418717228123,
          0.18445339856296444,
          -0.2988187906213368,
          0.8610646318330833,
          0.44714190373054974,
          1.7495683336940082,
          -0.02717780528520104,
          -0.2646657249625497,
          0.5528736598737768,
          0.108936244464817,
          -0.3886022132343513,
          -0.27858746269539825,
          0.5262142439594867,
          -0.17040945756285403,
          -0.29361928475042465,
          -1.6431153100987566,
          0.9820006875146906,
          1.1271311188321693,
          0.7712039159456711,
          -0.2722771350565949,
          -0.1016411044464088,
          0.055748472748957355,
          0.378212647536327,
          1.806354096998742,
          -1.0323484061684283,
          0.43925979581855623,
          -2.237534601976636,
          -1.2395199587124108,
          0.932423970331763,
          -2.0606245338146247,
          -0.7873413392426257,
          0.3839651190733875,
          -1.5476461051975592,
          0.6107385482338262,
          0.48118347644317017,
          -1.1417989169897207,
          -1.349276068996005,
          0.22286129253542264,
          1.1337133631024376,
          0.5105123805788733,
          -2.1901727666599475,
          1.241346098929264,
          -0.42842270573965463,
          1.1422020524149337,
          0.49284995297389594,
          -0.8232844489727227,
          0.994393546598194,
          -0.25744344885925907,
          0.24794327386048887,
          -1.0040059283046938,
          2.012619946272534,
          -1.3432393595521306,
          -0.4360965094981826,
          -1.4872629381033733,
          0.4425522864570553,
          -0.6358544606229273
         ],
         "yaxis": "y3"
        },
        {
         "line": {
          "color": "rgba(128, 128, 128, 1.0)",
          "dash": "solid",
          "shape": "linear",
          "width": 1.3
         },
         "marker": {
          "size": 2,
          "symbol": "circle"
         },
         "mode": "markers",
         "name": "A",
         "text": "",
         "type": "scatter",
         "x": [
          0.3483890581129721,
          -0.888182699729952,
          0.46718461601091094,
          -1.0417530361610983,
          -1.6250608910439461,
          -0.2248852748373986,
          -1.281688014536062,
          -0.8514976337743849,
          -0.6883683187600665,
          -0.20667615740811776,
          -0.3767448429923869,
          -0.9843008168119253,
          -0.31277817100762895,
          0.8468924252669293,
          -1.0727728388254159,
          0.30008791805319524,
          1.8879604124582612,
          1.2660810398323776,
          0.45609129801939463,
          0.6726147657822424,
          0.8241665028317623,
          -0.3518181535052042,
          -0.5080330525938204,
          1.5963785365652088,
          -0.5547215770586273,
          -1.7006030658476257,
          0.4850139462154026,
          -0.12641952295975467,
          0.10593177255142132,
          -0.31045383083644296,
          -2.215447530809033,
          0.3328245871913032,
          0.16542739736732404,
          2.279149262740099,
          0.1464903933485164,
          -0.8981473637269928,
          0.011316903987620362,
          0.3740268469448724,
          0.00600595347178172,
          -0.5455397405384034,
          1.1053757913750353,
          0.9809228411435073,
          -0.8688567153887097,
          -0.1411299275245519,
          0.7693973235242795,
          1.6730057520225377,
          -1.024431996891845,
          1.110540384593331,
          -1.5050331148984104,
          0.25335284519577395,
          -0.19363896658984323,
          -0.8086363725025757,
          -0.479998946736685,
          1.4642522113562635,
          -0.6281189642664279,
          -0.5226430926304726,
          0.6919866248911934,
          1.9232786601198262,
          0.5876327968957331,
          -0.0046343931432081915,
          1.443041936933062,
          1.5460271692153054,
          0.2840617527281839,
          -0.716096743201206,
          1.1274681102723925,
          -0.249539933808164,
          0.11432698616093034,
          0.3167643160240619,
          -0.8629581773182998,
          0.7177258044323274,
          -1.8537797335432495,
          -0.5901892401603281,
          -2.4525226498278077,
          1.6417672188323253,
          -1.3908212668743931,
          0.1205347838088376,
          1.4238760368657009,
          0.6350831586659941,
          -0.046506600815857,
          0.03312983193434833,
          -1.8399107242066985,
          0.18831190190361355,
          -0.6509961953618276,
          0.4348223970672755,
          0.41112806027556253,
          0.3007244133349498,
          -0.9814848471200649,
          -0.6904048067419298,
          0.335953220225626,
          -0.982965209353212,
          0.9270554220126782,
          0.975930458103786,
          -0.6030240850918889,
          -0.8665862123881608,
          0.5155234509956301,
          -0.2769171373345841,
          -1.200537929111223,
          -0.2466425746771957,
          -1.4015084783507177,
          0.1579469233065905
         ],
         "xaxis": "x4",
         "y": [
          0.9358246105456631,
          1.7358870536473954,
          1.6607725228273365,
          -1.130471045776182,
          -0.7397437542667784,
          -1.7628728637743711,
          0.6094641588563852,
          0.8397452447778285,
          1.5953723526350652,
          -0.24735699034521968,
          -1.0576749964782333,
          -0.585775052554457,
          -2.1005125763582106,
          0.3682807079472144,
          -0.8404456428786651,
          0.6416763293475042,
          0.1482332074357737,
          -0.5694215335178152,
          1.2625700226936711,
          0.17288919914789302,
          -1.2897772819048154,
          0.7258162007125682,
          1.428259807694575,
          -0.4118314894873909,
          0.6215843985226098,
          -0.13364968782372094,
          -0.8669258393056155,
          -0.4104472188076141,
          -1.5094372299519552,
          -1.1273371115446196,
          0.40222132922117726,
          0.21491591162534904,
          -0.2824254106167494,
          0.2893039247667468,
          1.177485905026769,
          0.5314194356194776,
          -1.3737936138152016,
          -0.302772243312889,
          -0.5548156187710866,
          1.293594170856257,
          1.3938922938949396,
          -0.7686784040548456,
          0.685016805624003,
          -1.2161323536626572,
          -0.22596418717228123,
          0.18445339856296444,
          -0.2988187906213368,
          0.8610646318330833,
          0.44714190373054974,
          1.7495683336940082,
          -0.02717780528520104,
          -0.2646657249625497,
          0.5528736598737768,
          0.108936244464817,
          -0.3886022132343513,
          -0.27858746269539825,
          0.5262142439594867,
          -0.17040945756285403,
          -0.29361928475042465,
          -1.6431153100987566,
          0.9820006875146906,
          1.1271311188321693,
          0.7712039159456711,
          -0.2722771350565949,
          -0.1016411044464088,
          0.055748472748957355,
          0.378212647536327,
          1.806354096998742,
          -1.0323484061684283,
          0.43925979581855623,
          -2.237534601976636,
          -1.2395199587124108,
          0.932423970331763,
          -2.0606245338146247,
          -0.7873413392426257,
          0.3839651190733875,
          -1.5476461051975592,
          0.6107385482338262,
          0.48118347644317017,
          -1.1417989169897207,
          -1.349276068996005,
          0.22286129253542264,
          1.1337133631024376,
          0.5105123805788733,
          -2.1901727666599475,
          1.241346098929264,
          -0.42842270573965463,
          1.1422020524149337,
          0.49284995297389594,
          -0.8232844489727227,
          0.994393546598194,
          -0.25744344885925907,
          0.24794327386048887,
          -1.0040059283046938,
          2.012619946272534,
          -1.3432393595521306,
          -0.4360965094981826,
          -1.4872629381033733,
          0.4425522864570553,
          -0.6358544606229273
         ],
         "yaxis": "y4"
        },
        {
         "line": {
          "color": "rgba(128, 128, 128, 1.0)",
          "dash": "solid",
          "shape": "linear",
          "width": 1.3
         },
         "marker": {
          "size": 2,
          "symbol": "circle"
         },
         "mode": "markers",
         "name": "B",
         "text": "",
         "type": "scatter",
         "x": [
          0.9358246105456631,
          1.7358870536473954,
          1.6607725228273365,
          -1.130471045776182,
          -0.7397437542667784,
          -1.7628728637743711,
          0.6094641588563852,
          0.8397452447778285,
          1.5953723526350652,
          -0.24735699034521968,
          -1.0576749964782333,
          -0.585775052554457,
          -2.1005125763582106,
          0.3682807079472144,
          -0.8404456428786651,
          0.6416763293475042,
          0.1482332074357737,
          -0.5694215335178152,
          1.2625700226936711,
          0.17288919914789302,
          -1.2897772819048154,
          0.7258162007125682,
          1.428259807694575,
          -0.4118314894873909,
          0.6215843985226098,
          -0.13364968782372094,
          -0.8669258393056155,
          -0.4104472188076141,
          -1.5094372299519552,
          -1.1273371115446196,
          0.40222132922117726,
          0.21491591162534904,
          -0.2824254106167494,
          0.2893039247667468,
          1.177485905026769,
          0.5314194356194776,
          -1.3737936138152016,
          -0.302772243312889,
          -0.5548156187710866,
          1.293594170856257,
          1.3938922938949396,
          -0.7686784040548456,
          0.685016805624003,
          -1.2161323536626572,
          -0.22596418717228123,
          0.18445339856296444,
          -0.2988187906213368,
          0.8610646318330833,
          0.44714190373054974,
          1.7495683336940082,
          -0.02717780528520104,
          -0.2646657249625497,
          0.5528736598737768,
          0.108936244464817,
          -0.3886022132343513,
          -0.27858746269539825,
          0.5262142439594867,
          -0.17040945756285403,
          -0.29361928475042465,
          -1.6431153100987566,
          0.9820006875146906,
          1.1271311188321693,
          0.7712039159456711,
          -0.2722771350565949,
          -0.1016411044464088,
          0.055748472748957355,
          0.378212647536327,
          1.806354096998742,
          -1.0323484061684283,
          0.43925979581855623,
          -2.237534601976636,
          -1.2395199587124108,
          0.932423970331763,
          -2.0606245338146247,
          -0.7873413392426257,
          0.3839651190733875,
          -1.5476461051975592,
          0.6107385482338262,
          0.48118347644317017,
          -1.1417989169897207,
          -1.349276068996005,
          0.22286129253542264,
          1.1337133631024376,
          0.5105123805788733,
          -2.1901727666599475,
          1.241346098929264,
          -0.42842270573965463,
          1.1422020524149337,
          0.49284995297389594,
          -0.8232844489727227,
          0.994393546598194,
          -0.25744344885925907,
          0.24794327386048887,
          -1.0040059283046938,
          2.012619946272534,
          -1.3432393595521306,
          -0.4360965094981826,
          -1.4872629381033733,
          0.4425522864570553,
          -0.6358544606229273
         ],
         "xaxis": "x5",
         "y": [
          2.4368836497567736,
          2.8061683063365512,
          -0.22598246884615092,
          1.6684583868678244,
          0.19964956910034146,
          -0.43630416534108574,
          -0.8149051143407005,
          0.644721914341229,
          -1.0970580613489138,
          0.563243707568396,
          -0.7151772352638627,
          1.7399384304314731,
          0.9333202141889357,
          -0.7603023225826924,
          -1.0055654371051497,
          0.9456803095792773,
          -0.6107014523115251,
          -0.24678977201906113,
          0.2272335649658569,
          1.1204859476935731,
          -1.7023803277503649,
          0.5321124440372906,
          -0.6808814973697076,
          -0.3119505168081398,
          -0.8729805709062626,
          -0.9422457171082959,
          0.9577546856737165,
          1.4350788901214124,
          -0.03629918533398791,
          1.1975549064480226,
          1.531036339029063,
          1.9561481466557051,
          -0.07722330639237676,
          1.2213207563919308,
          0.1425763768286601,
          0.4458905337457665,
          -0.23410678454089873,
          -0.7071305907929655,
          -0.41660092474178023,
          0.8290082481091184,
          -0.866406049479583,
          -0.9265270931596823,
          -0.5578107376513161,
          -1.1986778981863162,
          0.2994689192423883,
          -0.18672810450536445,
          0.29038117898481874,
          0.6513216905711007,
          0.727148313467212,
          -1.0957568440700851,
          1.0925119340978113,
          0.6622390315231806,
          1.0574259310596916,
          0.3317098628177242,
          -0.05553073769154664,
          -0.9799373977459516,
          1.3646046406526673,
          3.041346406084754,
          1.4011788801781775,
          -0.9386645547165704,
          1.3087610020904727,
          -0.80757066404421,
          1.1588354285400224,
          0.47883353179263977,
          -0.8055260309871897,
          -0.683537000716558,
          -0.015924935759425912,
          -0.29640901170335526,
          -0.19448603254895092,
          -0.46819474735927347,
          1.8067478953733844,
          -1.4112089594018427,
          0.6245328039650841,
          -0.8355962776719403,
          0.816316571373678,
          1.7830048482946426,
          -0.008152702171023115,
          0.10085636600272131,
          -1.432769049671953,
          0.4684985796561104,
          -1.1160089587194328,
          -0.6077303609075121,
          0.2628666457754549,
          0.26500314736339087,
          -0.15473373323700454,
          0.33691884019198975,
          0.9049159014238233,
          -0.2989352825315451,
          0.05106865858649614,
          2.738846305525453,
          0.5785002560282373,
          -0.4813514985369238,
          0.9711303120138106,
          -0.6753593361118425,
          -0.10288292581607655,
          1.1242169310713244,
          0.08995296684595894,
          1.2807328759536576,
          -0.33848014424263445,
          0.700807256895827
         ],
         "yaxis": "y5"
        },
        {
         "histfunc": "count",
         "histnorm": "",
         "marker": {
          "color": "rgba(55, 128, 191, 1.0)",
          "line": {
           "color": "#4D5663",
           "width": 1.3
          }
         },
         "name": "B",
         "nbinsx": 10,
         "opacity": 0.8,
         "orientation": "v",
         "type": "histogram",
         "x": [
          2.4368836497567736,
          2.8061683063365512,
          -0.22598246884615092,
          1.6684583868678244,
          0.19964956910034146,
          -0.43630416534108574,
          -0.8149051143407005,
          0.644721914341229,
          -1.0970580613489138,
          0.563243707568396,
          -0.7151772352638627,
          1.7399384304314731,
          0.9333202141889357,
          -0.7603023225826924,
          -1.0055654371051497,
          0.9456803095792773,
          -0.6107014523115251,
          -0.24678977201906113,
          0.2272335649658569,
          1.1204859476935731,
          -1.7023803277503649,
          0.5321124440372906,
          -0.6808814973697076,
          -0.3119505168081398,
          -0.8729805709062626,
          -0.9422457171082959,
          0.9577546856737165,
          1.4350788901214124,
          -0.03629918533398791,
          1.1975549064480226,
          1.531036339029063,
          1.9561481466557051,
          -0.07722330639237676,
          1.2213207563919308,
          0.1425763768286601,
          0.4458905337457665,
          -0.23410678454089873,
          -0.7071305907929655,
          -0.41660092474178023,
          0.8290082481091184,
          -0.866406049479583,
          -0.9265270931596823,
          -0.5578107376513161,
          -1.1986778981863162,
          0.2994689192423883,
          -0.18672810450536445,
          0.29038117898481874,
          0.6513216905711007,
          0.727148313467212,
          -1.0957568440700851,
          1.0925119340978113,
          0.6622390315231806,
          1.0574259310596916,
          0.3317098628177242,
          -0.05553073769154664,
          -0.9799373977459516,
          1.3646046406526673,
          3.041346406084754,
          1.4011788801781775,
          -0.9386645547165704,
          1.3087610020904727,
          -0.80757066404421,
          1.1588354285400224,
          0.47883353179263977,
          -0.8055260309871897,
          -0.683537000716558,
          -0.015924935759425912,
          -0.29640901170335526,
          -0.19448603254895092,
          -0.46819474735927347,
          1.8067478953733844,
          -1.4112089594018427,
          0.6245328039650841,
          -0.8355962776719403,
          0.816316571373678,
          1.7830048482946426,
          -0.008152702171023115,
          0.10085636600272131,
          -1.432769049671953,
          0.4684985796561104,
          -1.1160089587194328,
          -0.6077303609075121,
          0.2628666457754549,
          0.26500314736339087,
          -0.15473373323700454,
          0.33691884019198975,
          0.9049159014238233,
          -0.2989352825315451,
          0.05106865858649614,
          2.738846305525453,
          0.5785002560282373,
          -0.4813514985369238,
          0.9711303120138106,
          -0.6753593361118425,
          -0.10288292581607655,
          1.1242169310713244,
          0.08995296684595894,
          1.2807328759536576,
          -0.33848014424263445,
          0.700807256895827
         ],
         "xaxis": "x6",
         "yaxis": "y6"
        },
        {
         "line": {
          "color": "rgba(128, 128, 128, 1.0)",
          "dash": "solid",
          "shape": "linear",
          "width": 1.3
         },
         "marker": {
          "size": 2,
          "symbol": "circle"
         },
         "mode": "markers",
         "name": "B",
         "text": "",
         "type": "scatter",
         "x": [
          0.8347964621978526,
          0.7422619849660557,
          0.9421059046693261,
          -0.8287663091084667,
          -1.5872247614942994,
          0.3096679676095925,
          1.0066599607678481,
          0.6400723276288252,
          -0.4616667584145362,
          -0.458297403125597,
          0.5741152744780673,
          1.3587337389371734,
          -1.1067774961716534,
          -1.935996244110975,
          0.7777194054502217,
          0.39425389226378726,
          0.1841081434387239,
          -0.9575857037749891,
          0.9975865238218852,
          0.6016316037478396,
          -1.1496089432371979,
          0.6958881857987933,
          1.6681252130704827,
          0.36681196627548485,
          -1.9078136995537738,
          -1.030713373835496,
          0.5119207586273357,
          1.0215942717456032,
          -0.7613725093295172,
          -0.7626177245782716,
          -0.977106249385318,
          -1.3905124581215762,
          0.4198154806602653,
          -0.8332328241034221,
          2.0232969011466264,
          0.8761650856571784,
          0.604383451200056,
          -0.055397334207476036,
          2.235340360896873,
          0.2127535535306071,
          -1.0936907857756157,
          -1.095127127911492,
          -0.036983872331810094,
          0.1405845991744449,
          0.9990811980995024,
          -0.38133164054122687,
          0.4188828292150607,
          0.7639415389965162,
          -1.5363182614760473,
          -0.5836306055561737,
          -0.5564802891642523,
          0.27355942667249133,
          -0.19143222578973443,
          2.2662149960086935,
          0.5749447538886344,
          -1.2753637372850788,
          1.9287221634387093,
          0.7099186452912636,
          0.004229094356319363,
          -2.25020330548462,
          -0.9815861634693895,
          -0.08923749356744987,
          -1.3372009872447732,
          -0.1323376247539866,
          -0.39730967369732084,
          -0.9156689796933062,
          0.5631677363355335,
          -0.7795866286804178,
          -0.204854748351753,
          -0.9623752418290115,
          -0.6277110368908078,
          0.8179132872244542,
          -1.3841106590099894,
          -1.691269656360695,
          0.5343258529217656,
          -0.25680254083887394,
          2.627165072906644,
          -0.14763476004978585,
          -0.17257057163101136,
          -0.2056432080272134,
          1.6223879450819967,
          -0.21783483144740098,
          0.7354681172994999,
          -0.11318274664317976,
          0.21886584953230323,
          -0.18174933433188084,
          -2.9726490611652165,
          -1.1346417759642426,
          -0.4987540998712413,
          1.3673123446330104,
          1.6218714880270613,
          -0.04047039466792415,
          0.96694327486157,
          -0.8954153268487087,
          0.1825169937934882,
          0.8839934709951787,
          1.4288035335316298,
          0.3227495759096064,
          -0.3908280472876743,
          -0.46664169633794633
         ],
         "xaxis": "x7",
         "y": [
          2.4368836497567736,
          2.8061683063365512,
          -0.22598246884615092,
          1.6684583868678244,
          0.19964956910034146,
          -0.43630416534108574,
          -0.8149051143407005,
          0.644721914341229,
          -1.0970580613489138,
          0.563243707568396,
          -0.7151772352638627,
          1.7399384304314731,
          0.9333202141889357,
          -0.7603023225826924,
          -1.0055654371051497,
          0.9456803095792773,
          -0.6107014523115251,
          -0.24678977201906113,
          0.2272335649658569,
          1.1204859476935731,
          -1.7023803277503649,
          0.5321124440372906,
          -0.6808814973697076,
          -0.3119505168081398,
          -0.8729805709062626,
          -0.9422457171082959,
          0.9577546856737165,
          1.4350788901214124,
          -0.03629918533398791,
          1.1975549064480226,
          1.531036339029063,
          1.9561481466557051,
          -0.07722330639237676,
          1.2213207563919308,
          0.1425763768286601,
          0.4458905337457665,
          -0.23410678454089873,
          -0.7071305907929655,
          -0.41660092474178023,
          0.8290082481091184,
          -0.866406049479583,
          -0.9265270931596823,
          -0.5578107376513161,
          -1.1986778981863162,
          0.2994689192423883,
          -0.18672810450536445,
          0.29038117898481874,
          0.6513216905711007,
          0.727148313467212,
          -1.0957568440700851,
          1.0925119340978113,
          0.6622390315231806,
          1.0574259310596916,
          0.3317098628177242,
          -0.05553073769154664,
          -0.9799373977459516,
          1.3646046406526673,
          3.041346406084754,
          1.4011788801781775,
          -0.9386645547165704,
          1.3087610020904727,
          -0.80757066404421,
          1.1588354285400224,
          0.47883353179263977,
          -0.8055260309871897,
          -0.683537000716558,
          -0.015924935759425912,
          -0.29640901170335526,
          -0.19448603254895092,
          -0.46819474735927347,
          1.8067478953733844,
          -1.4112089594018427,
          0.6245328039650841,
          -0.8355962776719403,
          0.816316571373678,
          1.7830048482946426,
          -0.008152702171023115,
          0.10085636600272131,
          -1.432769049671953,
          0.4684985796561104,
          -1.1160089587194328,
          -0.6077303609075121,
          0.2628666457754549,
          0.26500314736339087,
          -0.15473373323700454,
          0.33691884019198975,
          0.9049159014238233,
          -0.2989352825315451,
          0.05106865858649614,
          2.738846305525453,
          0.5785002560282373,
          -0.4813514985369238,
          0.9711303120138106,
          -0.6753593361118425,
          -0.10288292581607655,
          1.1242169310713244,
          0.08995296684595894,
          1.2807328759536576,
          -0.33848014424263445,
          0.700807256895827
         ],
         "yaxis": "y7"
        },
        {
         "line": {
          "color": "rgba(128, 128, 128, 1.0)",
          "dash": "solid",
          "shape": "linear",
          "width": 1.3
         },
         "marker": {
          "size": 2,
          "symbol": "circle"
         },
         "mode": "markers",
         "name": "B",
         "text": "",
         "type": "scatter",
         "x": [
          0.3483890581129721,
          -0.888182699729952,
          0.46718461601091094,
          -1.0417530361610983,
          -1.6250608910439461,
          -0.2248852748373986,
          -1.281688014536062,
          -0.8514976337743849,
          -0.6883683187600665,
          -0.20667615740811776,
          -0.3767448429923869,
          -0.9843008168119253,
          -0.31277817100762895,
          0.8468924252669293,
          -1.0727728388254159,
          0.30008791805319524,
          1.8879604124582612,
          1.2660810398323776,
          0.45609129801939463,
          0.6726147657822424,
          0.8241665028317623,
          -0.3518181535052042,
          -0.5080330525938204,
          1.5963785365652088,
          -0.5547215770586273,
          -1.7006030658476257,
          0.4850139462154026,
          -0.12641952295975467,
          0.10593177255142132,
          -0.31045383083644296,
          -2.215447530809033,
          0.3328245871913032,
          0.16542739736732404,
          2.279149262740099,
          0.1464903933485164,
          -0.8981473637269928,
          0.011316903987620362,
          0.3740268469448724,
          0.00600595347178172,
          -0.5455397405384034,
          1.1053757913750353,
          0.9809228411435073,
          -0.8688567153887097,
          -0.1411299275245519,
          0.7693973235242795,
          1.6730057520225377,
          -1.024431996891845,
          1.110540384593331,
          -1.5050331148984104,
          0.25335284519577395,
          -0.19363896658984323,
          -0.8086363725025757,
          -0.479998946736685,
          1.4642522113562635,
          -0.6281189642664279,
          -0.5226430926304726,
          0.6919866248911934,
          1.9232786601198262,
          0.5876327968957331,
          -0.0046343931432081915,
          1.443041936933062,
          1.5460271692153054,
          0.2840617527281839,
          -0.716096743201206,
          1.1274681102723925,
          -0.249539933808164,
          0.11432698616093034,
          0.3167643160240619,
          -0.8629581773182998,
          0.7177258044323274,
          -1.8537797335432495,
          -0.5901892401603281,
          -2.4525226498278077,
          1.6417672188323253,
          -1.3908212668743931,
          0.1205347838088376,
          1.4238760368657009,
          0.6350831586659941,
          -0.046506600815857,
          0.03312983193434833,
          -1.8399107242066985,
          0.18831190190361355,
          -0.6509961953618276,
          0.4348223970672755,
          0.41112806027556253,
          0.3007244133349498,
          -0.9814848471200649,
          -0.6904048067419298,
          0.335953220225626,
          -0.982965209353212,
          0.9270554220126782,
          0.975930458103786,
          -0.6030240850918889,
          -0.8665862123881608,
          0.5155234509956301,
          -0.2769171373345841,
          -1.200537929111223,
          -0.2466425746771957,
          -1.4015084783507177,
          0.1579469233065905
         ],
         "xaxis": "x8",
         "y": [
          2.4368836497567736,
          2.8061683063365512,
          -0.22598246884615092,
          1.6684583868678244,
          0.19964956910034146,
          -0.43630416534108574,
          -0.8149051143407005,
          0.644721914341229,
          -1.0970580613489138,
          0.563243707568396,
          -0.7151772352638627,
          1.7399384304314731,
          0.9333202141889357,
          -0.7603023225826924,
          -1.0055654371051497,
          0.9456803095792773,
          -0.6107014523115251,
          -0.24678977201906113,
          0.2272335649658569,
          1.1204859476935731,
          -1.7023803277503649,
          0.5321124440372906,
          -0.6808814973697076,
          -0.3119505168081398,
          -0.8729805709062626,
          -0.9422457171082959,
          0.9577546856737165,
          1.4350788901214124,
          -0.03629918533398791,
          1.1975549064480226,
          1.531036339029063,
          1.9561481466557051,
          -0.07722330639237676,
          1.2213207563919308,
          0.1425763768286601,
          0.4458905337457665,
          -0.23410678454089873,
          -0.7071305907929655,
          -0.41660092474178023,
          0.8290082481091184,
          -0.866406049479583,
          -0.9265270931596823,
          -0.5578107376513161,
          -1.1986778981863162,
          0.2994689192423883,
          -0.18672810450536445,
          0.29038117898481874,
          0.6513216905711007,
          0.727148313467212,
          -1.0957568440700851,
          1.0925119340978113,
          0.6622390315231806,
          1.0574259310596916,
          0.3317098628177242,
          -0.05553073769154664,
          -0.9799373977459516,
          1.3646046406526673,
          3.041346406084754,
          1.4011788801781775,
          -0.9386645547165704,
          1.3087610020904727,
          -0.80757066404421,
          1.1588354285400224,
          0.47883353179263977,
          -0.8055260309871897,
          -0.683537000716558,
          -0.015924935759425912,
          -0.29640901170335526,
          -0.19448603254895092,
          -0.46819474735927347,
          1.8067478953733844,
          -1.4112089594018427,
          0.6245328039650841,
          -0.8355962776719403,
          0.816316571373678,
          1.7830048482946426,
          -0.008152702171023115,
          0.10085636600272131,
          -1.432769049671953,
          0.4684985796561104,
          -1.1160089587194328,
          -0.6077303609075121,
          0.2628666457754549,
          0.26500314736339087,
          -0.15473373323700454,
          0.33691884019198975,
          0.9049159014238233,
          -0.2989352825315451,
          0.05106865858649614,
          2.738846305525453,
          0.5785002560282373,
          -0.4813514985369238,
          0.9711303120138106,
          -0.6753593361118425,
          -0.10288292581607655,
          1.1242169310713244,
          0.08995296684595894,
          1.2807328759536576,
          -0.33848014424263445,
          0.700807256895827
         ],
         "yaxis": "y8"
        },
        {
         "line": {
          "color": "rgba(128, 128, 128, 1.0)",
          "dash": "solid",
          "shape": "linear",
          "width": 1.3
         },
         "marker": {
          "size": 2,
          "symbol": "circle"
         },
         "mode": "markers",
         "name": "C",
         "text": "",
         "type": "scatter",
         "x": [
          0.9358246105456631,
          1.7358870536473954,
          1.6607725228273365,
          -1.130471045776182,
          -0.7397437542667784,
          -1.7628728637743711,
          0.6094641588563852,
          0.8397452447778285,
          1.5953723526350652,
          -0.24735699034521968,
          -1.0576749964782333,
          -0.585775052554457,
          -2.1005125763582106,
          0.3682807079472144,
          -0.8404456428786651,
          0.6416763293475042,
          0.1482332074357737,
          -0.5694215335178152,
          1.2625700226936711,
          0.17288919914789302,
          -1.2897772819048154,
          0.7258162007125682,
          1.428259807694575,
          -0.4118314894873909,
          0.6215843985226098,
          -0.13364968782372094,
          -0.8669258393056155,
          -0.4104472188076141,
          -1.5094372299519552,
          -1.1273371115446196,
          0.40222132922117726,
          0.21491591162534904,
          -0.2824254106167494,
          0.2893039247667468,
          1.177485905026769,
          0.5314194356194776,
          -1.3737936138152016,
          -0.302772243312889,
          -0.5548156187710866,
          1.293594170856257,
          1.3938922938949396,
          -0.7686784040548456,
          0.685016805624003,
          -1.2161323536626572,
          -0.22596418717228123,
          0.18445339856296444,
          -0.2988187906213368,
          0.8610646318330833,
          0.44714190373054974,
          1.7495683336940082,
          -0.02717780528520104,
          -0.2646657249625497,
          0.5528736598737768,
          0.108936244464817,
          -0.3886022132343513,
          -0.27858746269539825,
          0.5262142439594867,
          -0.17040945756285403,
          -0.29361928475042465,
          -1.6431153100987566,
          0.9820006875146906,
          1.1271311188321693,
          0.7712039159456711,
          -0.2722771350565949,
          -0.1016411044464088,
          0.055748472748957355,
          0.378212647536327,
          1.806354096998742,
          -1.0323484061684283,
          0.43925979581855623,
          -2.237534601976636,
          -1.2395199587124108,
          0.932423970331763,
          -2.0606245338146247,
          -0.7873413392426257,
          0.3839651190733875,
          -1.5476461051975592,
          0.6107385482338262,
          0.48118347644317017,
          -1.1417989169897207,
          -1.349276068996005,
          0.22286129253542264,
          1.1337133631024376,
          0.5105123805788733,
          -2.1901727666599475,
          1.241346098929264,
          -0.42842270573965463,
          1.1422020524149337,
          0.49284995297389594,
          -0.8232844489727227,
          0.994393546598194,
          -0.25744344885925907,
          0.24794327386048887,
          -1.0040059283046938,
          2.012619946272534,
          -1.3432393595521306,
          -0.4360965094981826,
          -1.4872629381033733,
          0.4425522864570553,
          -0.6358544606229273
         ],
         "xaxis": "x9",
         "y": [
          0.8347964621978526,
          0.7422619849660557,
          0.9421059046693261,
          -0.8287663091084667,
          -1.5872247614942994,
          0.3096679676095925,
          1.0066599607678481,
          0.6400723276288252,
          -0.4616667584145362,
          -0.458297403125597,
          0.5741152744780673,
          1.3587337389371734,
          -1.1067774961716534,
          -1.935996244110975,
          0.7777194054502217,
          0.39425389226378726,
          0.1841081434387239,
          -0.9575857037749891,
          0.9975865238218852,
          0.6016316037478396,
          -1.1496089432371979,
          0.6958881857987933,
          1.6681252130704827,
          0.36681196627548485,
          -1.9078136995537738,
          -1.030713373835496,
          0.5119207586273357,
          1.0215942717456032,
          -0.7613725093295172,
          -0.7626177245782716,
          -0.977106249385318,
          -1.3905124581215762,
          0.4198154806602653,
          -0.8332328241034221,
          2.0232969011466264,
          0.8761650856571784,
          0.604383451200056,
          -0.055397334207476036,
          2.235340360896873,
          0.2127535535306071,
          -1.0936907857756157,
          -1.095127127911492,
          -0.036983872331810094,
          0.1405845991744449,
          0.9990811980995024,
          -0.38133164054122687,
          0.4188828292150607,
          0.7639415389965162,
          -1.5363182614760473,
          -0.5836306055561737,
          -0.5564802891642523,
          0.27355942667249133,
          -0.19143222578973443,
          2.2662149960086935,
          0.5749447538886344,
          -1.2753637372850788,
          1.9287221634387093,
          0.7099186452912636,
          0.004229094356319363,
          -2.25020330548462,
          -0.9815861634693895,
          -0.08923749356744987,
          -1.3372009872447732,
          -0.1323376247539866,
          -0.39730967369732084,
          -0.9156689796933062,
          0.5631677363355335,
          -0.7795866286804178,
          -0.204854748351753,
          -0.9623752418290115,
          -0.6277110368908078,
          0.8179132872244542,
          -1.3841106590099894,
          -1.691269656360695,
          0.5343258529217656,
          -0.25680254083887394,
          2.627165072906644,
          -0.14763476004978585,
          -0.17257057163101136,
          -0.2056432080272134,
          1.6223879450819967,
          -0.21783483144740098,
          0.7354681172994999,
          -0.11318274664317976,
          0.21886584953230323,
          -0.18174933433188084,
          -2.9726490611652165,
          -1.1346417759642426,
          -0.4987540998712413,
          1.3673123446330104,
          1.6218714880270613,
          -0.04047039466792415,
          0.96694327486157,
          -0.8954153268487087,
          0.1825169937934882,
          0.8839934709951787,
          1.4288035335316298,
          0.3227495759096064,
          -0.3908280472876743,
          -0.46664169633794633
         ],
         "yaxis": "y9"
        },
        {
         "line": {
          "color": "rgba(128, 128, 128, 1.0)",
          "dash": "solid",
          "shape": "linear",
          "width": 1.3
         },
         "marker": {
          "size": 2,
          "symbol": "circle"
         },
         "mode": "markers",
         "name": "C",
         "text": "",
         "type": "scatter",
         "x": [
          2.4368836497567736,
          2.8061683063365512,
          -0.22598246884615092,
          1.6684583868678244,
          0.19964956910034146,
          -0.43630416534108574,
          -0.8149051143407005,
          0.644721914341229,
          -1.0970580613489138,
          0.563243707568396,
          -0.7151772352638627,
          1.7399384304314731,
          0.9333202141889357,
          -0.7603023225826924,
          -1.0055654371051497,
          0.9456803095792773,
          -0.6107014523115251,
          -0.24678977201906113,
          0.2272335649658569,
          1.1204859476935731,
          -1.7023803277503649,
          0.5321124440372906,
          -0.6808814973697076,
          -0.3119505168081398,
          -0.8729805709062626,
          -0.9422457171082959,
          0.9577546856737165,
          1.4350788901214124,
          -0.03629918533398791,
          1.1975549064480226,
          1.531036339029063,
          1.9561481466557051,
          -0.07722330639237676,
          1.2213207563919308,
          0.1425763768286601,
          0.4458905337457665,
          -0.23410678454089873,
          -0.7071305907929655,
          -0.41660092474178023,
          0.8290082481091184,
          -0.866406049479583,
          -0.9265270931596823,
          -0.5578107376513161,
          -1.1986778981863162,
          0.2994689192423883,
          -0.18672810450536445,
          0.29038117898481874,
          0.6513216905711007,
          0.727148313467212,
          -1.0957568440700851,
          1.0925119340978113,
          0.6622390315231806,
          1.0574259310596916,
          0.3317098628177242,
          -0.05553073769154664,
          -0.9799373977459516,
          1.3646046406526673,
          3.041346406084754,
          1.4011788801781775,
          -0.9386645547165704,
          1.3087610020904727,
          -0.80757066404421,
          1.1588354285400224,
          0.47883353179263977,
          -0.8055260309871897,
          -0.683537000716558,
          -0.015924935759425912,
          -0.29640901170335526,
          -0.19448603254895092,
          -0.46819474735927347,
          1.8067478953733844,
          -1.4112089594018427,
          0.6245328039650841,
          -0.8355962776719403,
          0.816316571373678,
          1.7830048482946426,
          -0.008152702171023115,
          0.10085636600272131,
          -1.432769049671953,
          0.4684985796561104,
          -1.1160089587194328,
          -0.6077303609075121,
          0.2628666457754549,
          0.26500314736339087,
          -0.15473373323700454,
          0.33691884019198975,
          0.9049159014238233,
          -0.2989352825315451,
          0.05106865858649614,
          2.738846305525453,
          0.5785002560282373,
          -0.4813514985369238,
          0.9711303120138106,
          -0.6753593361118425,
          -0.10288292581607655,
          1.1242169310713244,
          0.08995296684595894,
          1.2807328759536576,
          -0.33848014424263445,
          0.700807256895827
         ],
         "xaxis": "x10",
         "y": [
          0.8347964621978526,
          0.7422619849660557,
          0.9421059046693261,
          -0.8287663091084667,
          -1.5872247614942994,
          0.3096679676095925,
          1.0066599607678481,
          0.6400723276288252,
          -0.4616667584145362,
          -0.458297403125597,
          0.5741152744780673,
          1.3587337389371734,
          -1.1067774961716534,
          -1.935996244110975,
          0.7777194054502217,
          0.39425389226378726,
          0.1841081434387239,
          -0.9575857037749891,
          0.9975865238218852,
          0.6016316037478396,
          -1.1496089432371979,
          0.6958881857987933,
          1.6681252130704827,
          0.36681196627548485,
          -1.9078136995537738,
          -1.030713373835496,
          0.5119207586273357,
          1.0215942717456032,
          -0.7613725093295172,
          -0.7626177245782716,
          -0.977106249385318,
          -1.3905124581215762,
          0.4198154806602653,
          -0.8332328241034221,
          2.0232969011466264,
          0.8761650856571784,
          0.604383451200056,
          -0.055397334207476036,
          2.235340360896873,
          0.2127535535306071,
          -1.0936907857756157,
          -1.095127127911492,
          -0.036983872331810094,
          0.1405845991744449,
          0.9990811980995024,
          -0.38133164054122687,
          0.4188828292150607,
          0.7639415389965162,
          -1.5363182614760473,
          -0.5836306055561737,
          -0.5564802891642523,
          0.27355942667249133,
          -0.19143222578973443,
          2.2662149960086935,
          0.5749447538886344,
          -1.2753637372850788,
          1.9287221634387093,
          0.7099186452912636,
          0.004229094356319363,
          -2.25020330548462,
          -0.9815861634693895,
          -0.08923749356744987,
          -1.3372009872447732,
          -0.1323376247539866,
          -0.39730967369732084,
          -0.9156689796933062,
          0.5631677363355335,
          -0.7795866286804178,
          -0.204854748351753,
          -0.9623752418290115,
          -0.6277110368908078,
          0.8179132872244542,
          -1.3841106590099894,
          -1.691269656360695,
          0.5343258529217656,
          -0.25680254083887394,
          2.627165072906644,
          -0.14763476004978585,
          -0.17257057163101136,
          -0.2056432080272134,
          1.6223879450819967,
          -0.21783483144740098,
          0.7354681172994999,
          -0.11318274664317976,
          0.21886584953230323,
          -0.18174933433188084,
          -2.9726490611652165,
          -1.1346417759642426,
          -0.4987540998712413,
          1.3673123446330104,
          1.6218714880270613,
          -0.04047039466792415,
          0.96694327486157,
          -0.8954153268487087,
          0.1825169937934882,
          0.8839934709951787,
          1.4288035335316298,
          0.3227495759096064,
          -0.3908280472876743,
          -0.46664169633794633
         ],
         "yaxis": "y10"
        },
        {
         "histfunc": "count",
         "histnorm": "",
         "marker": {
          "color": "rgba(50, 171, 96, 1.0)",
          "line": {
           "color": "#4D5663",
           "width": 1.3
          }
         },
         "name": "C",
         "nbinsx": 10,
         "opacity": 0.8,
         "orientation": "v",
         "type": "histogram",
         "x": [
          0.8347964621978526,
          0.7422619849660557,
          0.9421059046693261,
          -0.8287663091084667,
          -1.5872247614942994,
          0.3096679676095925,
          1.0066599607678481,
          0.6400723276288252,
          -0.4616667584145362,
          -0.458297403125597,
          0.5741152744780673,
          1.3587337389371734,
          -1.1067774961716534,
          -1.935996244110975,
          0.7777194054502217,
          0.39425389226378726,
          0.1841081434387239,
          -0.9575857037749891,
          0.9975865238218852,
          0.6016316037478396,
          -1.1496089432371979,
          0.6958881857987933,
          1.6681252130704827,
          0.36681196627548485,
          -1.9078136995537738,
          -1.030713373835496,
          0.5119207586273357,
          1.0215942717456032,
          -0.7613725093295172,
          -0.7626177245782716,
          -0.977106249385318,
          -1.3905124581215762,
          0.4198154806602653,
          -0.8332328241034221,
          2.0232969011466264,
          0.8761650856571784,
          0.604383451200056,
          -0.055397334207476036,
          2.235340360896873,
          0.2127535535306071,
          -1.0936907857756157,
          -1.095127127911492,
          -0.036983872331810094,
          0.1405845991744449,
          0.9990811980995024,
          -0.38133164054122687,
          0.4188828292150607,
          0.7639415389965162,
          -1.5363182614760473,
          -0.5836306055561737,
          -0.5564802891642523,
          0.27355942667249133,
          -0.19143222578973443,
          2.2662149960086935,
          0.5749447538886344,
          -1.2753637372850788,
          1.9287221634387093,
          0.7099186452912636,
          0.004229094356319363,
          -2.25020330548462,
          -0.9815861634693895,
          -0.08923749356744987,
          -1.3372009872447732,
          -0.1323376247539866,
          -0.39730967369732084,
          -0.9156689796933062,
          0.5631677363355335,
          -0.7795866286804178,
          -0.204854748351753,
          -0.9623752418290115,
          -0.6277110368908078,
          0.8179132872244542,
          -1.3841106590099894,
          -1.691269656360695,
          0.5343258529217656,
          -0.25680254083887394,
          2.627165072906644,
          -0.14763476004978585,
          -0.17257057163101136,
          -0.2056432080272134,
          1.6223879450819967,
          -0.21783483144740098,
          0.7354681172994999,
          -0.11318274664317976,
          0.21886584953230323,
          -0.18174933433188084,
          -2.9726490611652165,
          -1.1346417759642426,
          -0.4987540998712413,
          1.3673123446330104,
          1.6218714880270613,
          -0.04047039466792415,
          0.96694327486157,
          -0.8954153268487087,
          0.1825169937934882,
          0.8839934709951787,
          1.4288035335316298,
          0.3227495759096064,
          -0.3908280472876743,
          -0.46664169633794633
         ],
         "xaxis": "x11",
         "yaxis": "y11"
        },
        {
         "line": {
          "color": "rgba(128, 128, 128, 1.0)",
          "dash": "solid",
          "shape": "linear",
          "width": 1.3
         },
         "marker": {
          "size": 2,
          "symbol": "circle"
         },
         "mode": "markers",
         "name": "C",
         "text": "",
         "type": "scatter",
         "x": [
          0.3483890581129721,
          -0.888182699729952,
          0.46718461601091094,
          -1.0417530361610983,
          -1.6250608910439461,
          -0.2248852748373986,
          -1.281688014536062,
          -0.8514976337743849,
          -0.6883683187600665,
          -0.20667615740811776,
          -0.3767448429923869,
          -0.9843008168119253,
          -0.31277817100762895,
          0.8468924252669293,
          -1.0727728388254159,
          0.30008791805319524,
          1.8879604124582612,
          1.2660810398323776,
          0.45609129801939463,
          0.6726147657822424,
          0.8241665028317623,
          -0.3518181535052042,
          -0.5080330525938204,
          1.5963785365652088,
          -0.5547215770586273,
          -1.7006030658476257,
          0.4850139462154026,
          -0.12641952295975467,
          0.10593177255142132,
          -0.31045383083644296,
          -2.215447530809033,
          0.3328245871913032,
          0.16542739736732404,
          2.279149262740099,
          0.1464903933485164,
          -0.8981473637269928,
          0.011316903987620362,
          0.3740268469448724,
          0.00600595347178172,
          -0.5455397405384034,
          1.1053757913750353,
          0.9809228411435073,
          -0.8688567153887097,
          -0.1411299275245519,
          0.7693973235242795,
          1.6730057520225377,
          -1.024431996891845,
          1.110540384593331,
          -1.5050331148984104,
          0.25335284519577395,
          -0.19363896658984323,
          -0.8086363725025757,
          -0.479998946736685,
          1.4642522113562635,
          -0.6281189642664279,
          -0.5226430926304726,
          0.6919866248911934,
          1.9232786601198262,
          0.5876327968957331,
          -0.0046343931432081915,
          1.443041936933062,
          1.5460271692153054,
          0.2840617527281839,
          -0.716096743201206,
          1.1274681102723925,
          -0.249539933808164,
          0.11432698616093034,
          0.3167643160240619,
          -0.8629581773182998,
          0.7177258044323274,
          -1.8537797335432495,
          -0.5901892401603281,
          -2.4525226498278077,
          1.6417672188323253,
          -1.3908212668743931,
          0.1205347838088376,
          1.4238760368657009,
          0.6350831586659941,
          -0.046506600815857,
          0.03312983193434833,
          -1.8399107242066985,
          0.18831190190361355,
          -0.6509961953618276,
          0.4348223970672755,
          0.41112806027556253,
          0.3007244133349498,
          -0.9814848471200649,
          -0.6904048067419298,
          0.335953220225626,
          -0.982965209353212,
          0.9270554220126782,
          0.975930458103786,
          -0.6030240850918889,
          -0.8665862123881608,
          0.5155234509956301,
          -0.2769171373345841,
          -1.200537929111223,
          -0.2466425746771957,
          -1.4015084783507177,
          0.1579469233065905
         ],
         "xaxis": "x12",
         "y": [
          0.8347964621978526,
          0.7422619849660557,
          0.9421059046693261,
          -0.8287663091084667,
          -1.5872247614942994,
          0.3096679676095925,
          1.0066599607678481,
          0.6400723276288252,
          -0.4616667584145362,
          -0.458297403125597,
          0.5741152744780673,
          1.3587337389371734,
          -1.1067774961716534,
          -1.935996244110975,
          0.7777194054502217,
          0.39425389226378726,
          0.1841081434387239,
          -0.9575857037749891,
          0.9975865238218852,
          0.6016316037478396,
          -1.1496089432371979,
          0.6958881857987933,
          1.6681252130704827,
          0.36681196627548485,
          -1.9078136995537738,
          -1.030713373835496,
          0.5119207586273357,
          1.0215942717456032,
          -0.7613725093295172,
          -0.7626177245782716,
          -0.977106249385318,
          -1.3905124581215762,
          0.4198154806602653,
          -0.8332328241034221,
          2.0232969011466264,
          0.8761650856571784,
          0.604383451200056,
          -0.055397334207476036,
          2.235340360896873,
          0.2127535535306071,
          -1.0936907857756157,
          -1.095127127911492,
          -0.036983872331810094,
          0.1405845991744449,
          0.9990811980995024,
          -0.38133164054122687,
          0.4188828292150607,
          0.7639415389965162,
          -1.5363182614760473,
          -0.5836306055561737,
          -0.5564802891642523,
          0.27355942667249133,
          -0.19143222578973443,
          2.2662149960086935,
          0.5749447538886344,
          -1.2753637372850788,
          1.9287221634387093,
          0.7099186452912636,
          0.004229094356319363,
          -2.25020330548462,
          -0.9815861634693895,
          -0.08923749356744987,
          -1.3372009872447732,
          -0.1323376247539866,
          -0.39730967369732084,
          -0.9156689796933062,
          0.5631677363355335,
          -0.7795866286804178,
          -0.204854748351753,
          -0.9623752418290115,
          -0.6277110368908078,
          0.8179132872244542,
          -1.3841106590099894,
          -1.691269656360695,
          0.5343258529217656,
          -0.25680254083887394,
          2.627165072906644,
          -0.14763476004978585,
          -0.17257057163101136,
          -0.2056432080272134,
          1.6223879450819967,
          -0.21783483144740098,
          0.7354681172994999,
          -0.11318274664317976,
          0.21886584953230323,
          -0.18174933433188084,
          -2.9726490611652165,
          -1.1346417759642426,
          -0.4987540998712413,
          1.3673123446330104,
          1.6218714880270613,
          -0.04047039466792415,
          0.96694327486157,
          -0.8954153268487087,
          0.1825169937934882,
          0.8839934709951787,
          1.4288035335316298,
          0.3227495759096064,
          -0.3908280472876743,
          -0.46664169633794633
         ],
         "yaxis": "y12"
        },
        {
         "line": {
          "color": "rgba(128, 128, 128, 1.0)",
          "dash": "solid",
          "shape": "linear",
          "width": 1.3
         },
         "marker": {
          "size": 2,
          "symbol": "circle"
         },
         "mode": "markers",
         "name": "D",
         "text": "",
         "type": "scatter",
         "x": [
          0.9358246105456631,
          1.7358870536473954,
          1.6607725228273365,
          -1.130471045776182,
          -0.7397437542667784,
          -1.7628728637743711,
          0.6094641588563852,
          0.8397452447778285,
          1.5953723526350652,
          -0.24735699034521968,
          -1.0576749964782333,
          -0.585775052554457,
          -2.1005125763582106,
          0.3682807079472144,
          -0.8404456428786651,
          0.6416763293475042,
          0.1482332074357737,
          -0.5694215335178152,
          1.2625700226936711,
          0.17288919914789302,
          -1.2897772819048154,
          0.7258162007125682,
          1.428259807694575,
          -0.4118314894873909,
          0.6215843985226098,
          -0.13364968782372094,
          -0.8669258393056155,
          -0.4104472188076141,
          -1.5094372299519552,
          -1.1273371115446196,
          0.40222132922117726,
          0.21491591162534904,
          -0.2824254106167494,
          0.2893039247667468,
          1.177485905026769,
          0.5314194356194776,
          -1.3737936138152016,
          -0.302772243312889,
          -0.5548156187710866,
          1.293594170856257,
          1.3938922938949396,
          -0.7686784040548456,
          0.685016805624003,
          -1.2161323536626572,
          -0.22596418717228123,
          0.18445339856296444,
          -0.2988187906213368,
          0.8610646318330833,
          0.44714190373054974,
          1.7495683336940082,
          -0.02717780528520104,
          -0.2646657249625497,
          0.5528736598737768,
          0.108936244464817,
          -0.3886022132343513,
          -0.27858746269539825,
          0.5262142439594867,
          -0.17040945756285403,
          -0.29361928475042465,
          -1.6431153100987566,
          0.9820006875146906,
          1.1271311188321693,
          0.7712039159456711,
          -0.2722771350565949,
          -0.1016411044464088,
          0.055748472748957355,
          0.378212647536327,
          1.806354096998742,
          -1.0323484061684283,
          0.43925979581855623,
          -2.237534601976636,
          -1.2395199587124108,
          0.932423970331763,
          -2.0606245338146247,
          -0.7873413392426257,
          0.3839651190733875,
          -1.5476461051975592,
          0.6107385482338262,
          0.48118347644317017,
          -1.1417989169897207,
          -1.349276068996005,
          0.22286129253542264,
          1.1337133631024376,
          0.5105123805788733,
          -2.1901727666599475,
          1.241346098929264,
          -0.42842270573965463,
          1.1422020524149337,
          0.49284995297389594,
          -0.8232844489727227,
          0.994393546598194,
          -0.25744344885925907,
          0.24794327386048887,
          -1.0040059283046938,
          2.012619946272534,
          -1.3432393595521306,
          -0.4360965094981826,
          -1.4872629381033733,
          0.4425522864570553,
          -0.6358544606229273
         ],
         "xaxis": "x13",
         "y": [
          0.3483890581129721,
          -0.888182699729952,
          0.46718461601091094,
          -1.0417530361610983,
          -1.6250608910439461,
          -0.2248852748373986,
          -1.281688014536062,
          -0.8514976337743849,
          -0.6883683187600665,
          -0.20667615740811776,
          -0.3767448429923869,
          -0.9843008168119253,
          -0.31277817100762895,
          0.8468924252669293,
          -1.0727728388254159,
          0.30008791805319524,
          1.8879604124582612,
          1.2660810398323776,
          0.45609129801939463,
          0.6726147657822424,
          0.8241665028317623,
          -0.3518181535052042,
          -0.5080330525938204,
          1.5963785365652088,
          -0.5547215770586273,
          -1.7006030658476257,
          0.4850139462154026,
          -0.12641952295975467,
          0.10593177255142132,
          -0.31045383083644296,
          -2.215447530809033,
          0.3328245871913032,
          0.16542739736732404,
          2.279149262740099,
          0.1464903933485164,
          -0.8981473637269928,
          0.011316903987620362,
          0.3740268469448724,
          0.00600595347178172,
          -0.5455397405384034,
          1.1053757913750353,
          0.9809228411435073,
          -0.8688567153887097,
          -0.1411299275245519,
          0.7693973235242795,
          1.6730057520225377,
          -1.024431996891845,
          1.110540384593331,
          -1.5050331148984104,
          0.25335284519577395,
          -0.19363896658984323,
          -0.8086363725025757,
          -0.479998946736685,
          1.4642522113562635,
          -0.6281189642664279,
          -0.5226430926304726,
          0.6919866248911934,
          1.9232786601198262,
          0.5876327968957331,
          -0.0046343931432081915,
          1.443041936933062,
          1.5460271692153054,
          0.2840617527281839,
          -0.716096743201206,
          1.1274681102723925,
          -0.249539933808164,
          0.11432698616093034,
          0.3167643160240619,
          -0.8629581773182998,
          0.7177258044323274,
          -1.8537797335432495,
          -0.5901892401603281,
          -2.4525226498278077,
          1.6417672188323253,
          -1.3908212668743931,
          0.1205347838088376,
          1.4238760368657009,
          0.6350831586659941,
          -0.046506600815857,
          0.03312983193434833,
          -1.8399107242066985,
          0.18831190190361355,
          -0.6509961953618276,
          0.4348223970672755,
          0.41112806027556253,
          0.3007244133349498,
          -0.9814848471200649,
          -0.6904048067419298,
          0.335953220225626,
          -0.982965209353212,
          0.9270554220126782,
          0.975930458103786,
          -0.6030240850918889,
          -0.8665862123881608,
          0.5155234509956301,
          -0.2769171373345841,
          -1.200537929111223,
          -0.2466425746771957,
          -1.4015084783507177,
          0.1579469233065905
         ],
         "yaxis": "y13"
        },
        {
         "line": {
          "color": "rgba(128, 128, 128, 1.0)",
          "dash": "solid",
          "shape": "linear",
          "width": 1.3
         },
         "marker": {
          "size": 2,
          "symbol": "circle"
         },
         "mode": "markers",
         "name": "D",
         "text": "",
         "type": "scatter",
         "x": [
          2.4368836497567736,
          2.8061683063365512,
          -0.22598246884615092,
          1.6684583868678244,
          0.19964956910034146,
          -0.43630416534108574,
          -0.8149051143407005,
          0.644721914341229,
          -1.0970580613489138,
          0.563243707568396,
          -0.7151772352638627,
          1.7399384304314731,
          0.9333202141889357,
          -0.7603023225826924,
          -1.0055654371051497,
          0.9456803095792773,
          -0.6107014523115251,
          -0.24678977201906113,
          0.2272335649658569,
          1.1204859476935731,
          -1.7023803277503649,
          0.5321124440372906,
          -0.6808814973697076,
          -0.3119505168081398,
          -0.8729805709062626,
          -0.9422457171082959,
          0.9577546856737165,
          1.4350788901214124,
          -0.03629918533398791,
          1.1975549064480226,
          1.531036339029063,
          1.9561481466557051,
          -0.07722330639237676,
          1.2213207563919308,
          0.1425763768286601,
          0.4458905337457665,
          -0.23410678454089873,
          -0.7071305907929655,
          -0.41660092474178023,
          0.8290082481091184,
          -0.866406049479583,
          -0.9265270931596823,
          -0.5578107376513161,
          -1.1986778981863162,
          0.2994689192423883,
          -0.18672810450536445,
          0.29038117898481874,
          0.6513216905711007,
          0.727148313467212,
          -1.0957568440700851,
          1.0925119340978113,
          0.6622390315231806,
          1.0574259310596916,
          0.3317098628177242,
          -0.05553073769154664,
          -0.9799373977459516,
          1.3646046406526673,
          3.041346406084754,
          1.4011788801781775,
          -0.9386645547165704,
          1.3087610020904727,
          -0.80757066404421,
          1.1588354285400224,
          0.47883353179263977,
          -0.8055260309871897,
          -0.683537000716558,
          -0.015924935759425912,
          -0.29640901170335526,
          -0.19448603254895092,
          -0.46819474735927347,
          1.8067478953733844,
          -1.4112089594018427,
          0.6245328039650841,
          -0.8355962776719403,
          0.816316571373678,
          1.7830048482946426,
          -0.008152702171023115,
          0.10085636600272131,
          -1.432769049671953,
          0.4684985796561104,
          -1.1160089587194328,
          -0.6077303609075121,
          0.2628666457754549,
          0.26500314736339087,
          -0.15473373323700454,
          0.33691884019198975,
          0.9049159014238233,
          -0.2989352825315451,
          0.05106865858649614,
          2.738846305525453,
          0.5785002560282373,
          -0.4813514985369238,
          0.9711303120138106,
          -0.6753593361118425,
          -0.10288292581607655,
          1.1242169310713244,
          0.08995296684595894,
          1.2807328759536576,
          -0.33848014424263445,
          0.700807256895827
         ],
         "xaxis": "x14",
         "y": [
          0.3483890581129721,
          -0.888182699729952,
          0.46718461601091094,
          -1.0417530361610983,
          -1.6250608910439461,
          -0.2248852748373986,
          -1.281688014536062,
          -0.8514976337743849,
          -0.6883683187600665,
          -0.20667615740811776,
          -0.3767448429923869,
          -0.9843008168119253,
          -0.31277817100762895,
          0.8468924252669293,
          -1.0727728388254159,
          0.30008791805319524,
          1.8879604124582612,
          1.2660810398323776,
          0.45609129801939463,
          0.6726147657822424,
          0.8241665028317623,
          -0.3518181535052042,
          -0.5080330525938204,
          1.5963785365652088,
          -0.5547215770586273,
          -1.7006030658476257,
          0.4850139462154026,
          -0.12641952295975467,
          0.10593177255142132,
          -0.31045383083644296,
          -2.215447530809033,
          0.3328245871913032,
          0.16542739736732404,
          2.279149262740099,
          0.1464903933485164,
          -0.8981473637269928,
          0.011316903987620362,
          0.3740268469448724,
          0.00600595347178172,
          -0.5455397405384034,
          1.1053757913750353,
          0.9809228411435073,
          -0.8688567153887097,
          -0.1411299275245519,
          0.7693973235242795,
          1.6730057520225377,
          -1.024431996891845,
          1.110540384593331,
          -1.5050331148984104,
          0.25335284519577395,
          -0.19363896658984323,
          -0.8086363725025757,
          -0.479998946736685,
          1.4642522113562635,
          -0.6281189642664279,
          -0.5226430926304726,
          0.6919866248911934,
          1.9232786601198262,
          0.5876327968957331,
          -0.0046343931432081915,
          1.443041936933062,
          1.5460271692153054,
          0.2840617527281839,
          -0.716096743201206,
          1.1274681102723925,
          -0.249539933808164,
          0.11432698616093034,
          0.3167643160240619,
          -0.8629581773182998,
          0.7177258044323274,
          -1.8537797335432495,
          -0.5901892401603281,
          -2.4525226498278077,
          1.6417672188323253,
          -1.3908212668743931,
          0.1205347838088376,
          1.4238760368657009,
          0.6350831586659941,
          -0.046506600815857,
          0.03312983193434833,
          -1.8399107242066985,
          0.18831190190361355,
          -0.6509961953618276,
          0.4348223970672755,
          0.41112806027556253,
          0.3007244133349498,
          -0.9814848471200649,
          -0.6904048067419298,
          0.335953220225626,
          -0.982965209353212,
          0.9270554220126782,
          0.975930458103786,
          -0.6030240850918889,
          -0.8665862123881608,
          0.5155234509956301,
          -0.2769171373345841,
          -1.200537929111223,
          -0.2466425746771957,
          -1.4015084783507177,
          0.1579469233065905
         ],
         "yaxis": "y14"
        },
        {
         "line": {
          "color": "rgba(128, 128, 128, 1.0)",
          "dash": "solid",
          "shape": "linear",
          "width": 1.3
         },
         "marker": {
          "size": 2,
          "symbol": "circle"
         },
         "mode": "markers",
         "name": "D",
         "text": "",
         "type": "scatter",
         "x": [
          0.8347964621978526,
          0.7422619849660557,
          0.9421059046693261,
          -0.8287663091084667,
          -1.5872247614942994,
          0.3096679676095925,
          1.0066599607678481,
          0.6400723276288252,
          -0.4616667584145362,
          -0.458297403125597,
          0.5741152744780673,
          1.3587337389371734,
          -1.1067774961716534,
          -1.935996244110975,
          0.7777194054502217,
          0.39425389226378726,
          0.1841081434387239,
          -0.9575857037749891,
          0.9975865238218852,
          0.6016316037478396,
          -1.1496089432371979,
          0.6958881857987933,
          1.6681252130704827,
          0.36681196627548485,
          -1.9078136995537738,
          -1.030713373835496,
          0.5119207586273357,
          1.0215942717456032,
          -0.7613725093295172,
          -0.7626177245782716,
          -0.977106249385318,
          -1.3905124581215762,
          0.4198154806602653,
          -0.8332328241034221,
          2.0232969011466264,
          0.8761650856571784,
          0.604383451200056,
          -0.055397334207476036,
          2.235340360896873,
          0.2127535535306071,
          -1.0936907857756157,
          -1.095127127911492,
          -0.036983872331810094,
          0.1405845991744449,
          0.9990811980995024,
          -0.38133164054122687,
          0.4188828292150607,
          0.7639415389965162,
          -1.5363182614760473,
          -0.5836306055561737,
          -0.5564802891642523,
          0.27355942667249133,
          -0.19143222578973443,
          2.2662149960086935,
          0.5749447538886344,
          -1.2753637372850788,
          1.9287221634387093,
          0.7099186452912636,
          0.004229094356319363,
          -2.25020330548462,
          -0.9815861634693895,
          -0.08923749356744987,
          -1.3372009872447732,
          -0.1323376247539866,
          -0.39730967369732084,
          -0.9156689796933062,
          0.5631677363355335,
          -0.7795866286804178,
          -0.204854748351753,
          -0.9623752418290115,
          -0.6277110368908078,
          0.8179132872244542,
          -1.3841106590099894,
          -1.691269656360695,
          0.5343258529217656,
          -0.25680254083887394,
          2.627165072906644,
          -0.14763476004978585,
          -0.17257057163101136,
          -0.2056432080272134,
          1.6223879450819967,
          -0.21783483144740098,
          0.7354681172994999,
          -0.11318274664317976,
          0.21886584953230323,
          -0.18174933433188084,
          -2.9726490611652165,
          -1.1346417759642426,
          -0.4987540998712413,
          1.3673123446330104,
          1.6218714880270613,
          -0.04047039466792415,
          0.96694327486157,
          -0.8954153268487087,
          0.1825169937934882,
          0.8839934709951787,
          1.4288035335316298,
          0.3227495759096064,
          -0.3908280472876743,
          -0.46664169633794633
         ],
         "xaxis": "x15",
         "y": [
          0.3483890581129721,
          -0.888182699729952,
          0.46718461601091094,
          -1.0417530361610983,
          -1.6250608910439461,
          -0.2248852748373986,
          -1.281688014536062,
          -0.8514976337743849,
          -0.6883683187600665,
          -0.20667615740811776,
          -0.3767448429923869,
          -0.9843008168119253,
          -0.31277817100762895,
          0.8468924252669293,
          -1.0727728388254159,
          0.30008791805319524,
          1.8879604124582612,
          1.2660810398323776,
          0.45609129801939463,
          0.6726147657822424,
          0.8241665028317623,
          -0.3518181535052042,
          -0.5080330525938204,
          1.5963785365652088,
          -0.5547215770586273,
          -1.7006030658476257,
          0.4850139462154026,
          -0.12641952295975467,
          0.10593177255142132,
          -0.31045383083644296,
          -2.215447530809033,
          0.3328245871913032,
          0.16542739736732404,
          2.279149262740099,
          0.1464903933485164,
          -0.8981473637269928,
          0.011316903987620362,
          0.3740268469448724,
          0.00600595347178172,
          -0.5455397405384034,
          1.1053757913750353,
          0.9809228411435073,
          -0.8688567153887097,
          -0.1411299275245519,
          0.7693973235242795,
          1.6730057520225377,
          -1.024431996891845,
          1.110540384593331,
          -1.5050331148984104,
          0.25335284519577395,
          -0.19363896658984323,
          -0.8086363725025757,
          -0.479998946736685,
          1.4642522113562635,
          -0.6281189642664279,
          -0.5226430926304726,
          0.6919866248911934,
          1.9232786601198262,
          0.5876327968957331,
          -0.0046343931432081915,
          1.443041936933062,
          1.5460271692153054,
          0.2840617527281839,
          -0.716096743201206,
          1.1274681102723925,
          -0.249539933808164,
          0.11432698616093034,
          0.3167643160240619,
          -0.8629581773182998,
          0.7177258044323274,
          -1.8537797335432495,
          -0.5901892401603281,
          -2.4525226498278077,
          1.6417672188323253,
          -1.3908212668743931,
          0.1205347838088376,
          1.4238760368657009,
          0.6350831586659941,
          -0.046506600815857,
          0.03312983193434833,
          -1.8399107242066985,
          0.18831190190361355,
          -0.6509961953618276,
          0.4348223970672755,
          0.41112806027556253,
          0.3007244133349498,
          -0.9814848471200649,
          -0.6904048067419298,
          0.335953220225626,
          -0.982965209353212,
          0.9270554220126782,
          0.975930458103786,
          -0.6030240850918889,
          -0.8665862123881608,
          0.5155234509956301,
          -0.2769171373345841,
          -1.200537929111223,
          -0.2466425746771957,
          -1.4015084783507177,
          0.1579469233065905
         ],
         "yaxis": "y15"
        },
        {
         "histfunc": "count",
         "histnorm": "",
         "marker": {
          "color": "rgba(128, 0, 128, 1.0)",
          "line": {
           "color": "#4D5663",
           "width": 1.3
          }
         },
         "name": "D",
         "nbinsx": 10,
         "opacity": 0.8,
         "orientation": "v",
         "type": "histogram",
         "x": [
          0.3483890581129721,
          -0.888182699729952,
          0.46718461601091094,
          -1.0417530361610983,
          -1.6250608910439461,
          -0.2248852748373986,
          -1.281688014536062,
          -0.8514976337743849,
          -0.6883683187600665,
          -0.20667615740811776,
          -0.3767448429923869,
          -0.9843008168119253,
          -0.31277817100762895,
          0.8468924252669293,
          -1.0727728388254159,
          0.30008791805319524,
          1.8879604124582612,
          1.2660810398323776,
          0.45609129801939463,
          0.6726147657822424,
          0.8241665028317623,
          -0.3518181535052042,
          -0.5080330525938204,
          1.5963785365652088,
          -0.5547215770586273,
          -1.7006030658476257,
          0.4850139462154026,
          -0.12641952295975467,
          0.10593177255142132,
          -0.31045383083644296,
          -2.215447530809033,
          0.3328245871913032,
          0.16542739736732404,
          2.279149262740099,
          0.1464903933485164,
          -0.8981473637269928,
          0.011316903987620362,
          0.3740268469448724,
          0.00600595347178172,
          -0.5455397405384034,
          1.1053757913750353,
          0.9809228411435073,
          -0.8688567153887097,
          -0.1411299275245519,
          0.7693973235242795,
          1.6730057520225377,
          -1.024431996891845,
          1.110540384593331,
          -1.5050331148984104,
          0.25335284519577395,
          -0.19363896658984323,
          -0.8086363725025757,
          -0.479998946736685,
          1.4642522113562635,
          -0.6281189642664279,
          -0.5226430926304726,
          0.6919866248911934,
          1.9232786601198262,
          0.5876327968957331,
          -0.0046343931432081915,
          1.443041936933062,
          1.5460271692153054,
          0.2840617527281839,
          -0.716096743201206,
          1.1274681102723925,
          -0.249539933808164,
          0.11432698616093034,
          0.3167643160240619,
          -0.8629581773182998,
          0.7177258044323274,
          -1.8537797335432495,
          -0.5901892401603281,
          -2.4525226498278077,
          1.6417672188323253,
          -1.3908212668743931,
          0.1205347838088376,
          1.4238760368657009,
          0.6350831586659941,
          -0.046506600815857,
          0.03312983193434833,
          -1.8399107242066985,
          0.18831190190361355,
          -0.6509961953618276,
          0.4348223970672755,
          0.41112806027556253,
          0.3007244133349498,
          -0.9814848471200649,
          -0.6904048067419298,
          0.335953220225626,
          -0.982965209353212,
          0.9270554220126782,
          0.975930458103786,
          -0.6030240850918889,
          -0.8665862123881608,
          0.5155234509956301,
          -0.2769171373345841,
          -1.200537929111223,
          -0.2466425746771957,
          -1.4015084783507177,
          0.1579469233065905
         ],
         "xaxis": "x16",
         "yaxis": "y16"
        }
       ],
       "layout": {
        "bargap": 0.02,
        "legend": {
         "bgcolor": "#F5F6F9",
         "font": {
          "color": "#4D5663"
         }
        },
        "paper_bgcolor": "#F5F6F9",
        "plot_bgcolor": "#F5F6F9",
        "showlegend": false,
        "template": {
         "data": {
          "bar": [
           {
            "error_x": {
             "color": "#2a3f5f"
            },
            "error_y": {
             "color": "#2a3f5f"
            },
            "marker": {
             "line": {
              "color": "#E5ECF6",
              "width": 0.5
             },
             "pattern": {
              "fillmode": "overlay",
              "size": 10,
              "solidity": 0.2
             }
            },
            "type": "bar"
           }
          ],
          "barpolar": [
           {
            "marker": {
             "line": {
              "color": "#E5ECF6",
              "width": 0.5
             },
             "pattern": {
              "fillmode": "overlay",
              "size": 10,
              "solidity": 0.2
             }
            },
            "type": "barpolar"
           }
          ],
          "carpet": [
           {
            "aaxis": {
             "endlinecolor": "#2a3f5f",
             "gridcolor": "white",
             "linecolor": "white",
             "minorgridcolor": "white",
             "startlinecolor": "#2a3f5f"
            },
            "baxis": {
             "endlinecolor": "#2a3f5f",
             "gridcolor": "white",
             "linecolor": "white",
             "minorgridcolor": "white",
             "startlinecolor": "#2a3f5f"
            },
            "type": "carpet"
           }
          ],
          "choropleth": [
           {
            "colorbar": {
             "outlinewidth": 0,
             "ticks": ""
            },
            "type": "choropleth"
           }
          ],
          "contour": [
           {
            "colorbar": {
             "outlinewidth": 0,
             "ticks": ""
            },
            "colorscale": [
             [
              0,
              "#0d0887"
             ],
             [
              0.1111111111111111,
              "#46039f"
             ],
             [
              0.2222222222222222,
              "#7201a8"
             ],
             [
              0.3333333333333333,
              "#9c179e"
             ],
             [
              0.4444444444444444,
              "#bd3786"
             ],
             [
              0.5555555555555556,
              "#d8576b"
             ],
             [
              0.6666666666666666,
              "#ed7953"
             ],
             [
              0.7777777777777778,
              "#fb9f3a"
             ],
             [
              0.8888888888888888,
              "#fdca26"
             ],
             [
              1,
              "#f0f921"
             ]
            ],
            "type": "contour"
           }
          ],
          "contourcarpet": [
           {
            "colorbar": {
             "outlinewidth": 0,
             "ticks": ""
            },
            "type": "contourcarpet"
           }
          ],
          "heatmap": [
           {
            "colorbar": {
             "outlinewidth": 0,
             "ticks": ""
            },
            "colorscale": [
             [
              0,
              "#0d0887"
             ],
             [
              0.1111111111111111,
              "#46039f"
             ],
             [
              0.2222222222222222,
              "#7201a8"
             ],
             [
              0.3333333333333333,
              "#9c179e"
             ],
             [
              0.4444444444444444,
              "#bd3786"
             ],
             [
              0.5555555555555556,
              "#d8576b"
             ],
             [
              0.6666666666666666,
              "#ed7953"
             ],
             [
              0.7777777777777778,
              "#fb9f3a"
             ],
             [
              0.8888888888888888,
              "#fdca26"
             ],
             [
              1,
              "#f0f921"
             ]
            ],
            "type": "heatmap"
           }
          ],
          "heatmapgl": [
           {
            "colorbar": {
             "outlinewidth": 0,
             "ticks": ""
            },
            "colorscale": [
             [
              0,
              "#0d0887"
             ],
             [
              0.1111111111111111,
              "#46039f"
             ],
             [
              0.2222222222222222,
              "#7201a8"
             ],
             [
              0.3333333333333333,
              "#9c179e"
             ],
             [
              0.4444444444444444,
              "#bd3786"
             ],
             [
              0.5555555555555556,
              "#d8576b"
             ],
             [
              0.6666666666666666,
              "#ed7953"
             ],
             [
              0.7777777777777778,
              "#fb9f3a"
             ],
             [
              0.8888888888888888,
              "#fdca26"
             ],
             [
              1,
              "#f0f921"
             ]
            ],
            "type": "heatmapgl"
           }
          ],
          "histogram": [
           {
            "marker": {
             "pattern": {
              "fillmode": "overlay",
              "size": 10,
              "solidity": 0.2
             }
            },
            "type": "histogram"
           }
          ],
          "histogram2d": [
           {
            "colorbar": {
             "outlinewidth": 0,
             "ticks": ""
            },
            "colorscale": [
             [
              0,
              "#0d0887"
             ],
             [
              0.1111111111111111,
              "#46039f"
             ],
             [
              0.2222222222222222,
              "#7201a8"
             ],
             [
              0.3333333333333333,
              "#9c179e"
             ],
             [
              0.4444444444444444,
              "#bd3786"
             ],
             [
              0.5555555555555556,
              "#d8576b"
             ],
             [
              0.6666666666666666,
              "#ed7953"
             ],
             [
              0.7777777777777778,
              "#fb9f3a"
             ],
             [
              0.8888888888888888,
              "#fdca26"
             ],
             [
              1,
              "#f0f921"
             ]
            ],
            "type": "histogram2d"
           }
          ],
          "histogram2dcontour": [
           {
            "colorbar": {
             "outlinewidth": 0,
             "ticks": ""
            },
            "colorscale": [
             [
              0,
              "#0d0887"
             ],
             [
              0.1111111111111111,
              "#46039f"
             ],
             [
              0.2222222222222222,
              "#7201a8"
             ],
             [
              0.3333333333333333,
              "#9c179e"
             ],
             [
              0.4444444444444444,
              "#bd3786"
             ],
             [
              0.5555555555555556,
              "#d8576b"
             ],
             [
              0.6666666666666666,
              "#ed7953"
             ],
             [
              0.7777777777777778,
              "#fb9f3a"
             ],
             [
              0.8888888888888888,
              "#fdca26"
             ],
             [
              1,
              "#f0f921"
             ]
            ],
            "type": "histogram2dcontour"
           }
          ],
          "mesh3d": [
           {
            "colorbar": {
             "outlinewidth": 0,
             "ticks": ""
            },
            "type": "mesh3d"
           }
          ],
          "parcoords": [
           {
            "line": {
             "colorbar": {
              "outlinewidth": 0,
              "ticks": ""
             }
            },
            "type": "parcoords"
           }
          ],
          "pie": [
           {
            "automargin": true,
            "type": "pie"
           }
          ],
          "scatter": [
           {
            "marker": {
             "colorbar": {
              "outlinewidth": 0,
              "ticks": ""
             }
            },
            "type": "scatter"
           }
          ],
          "scatter3d": [
           {
            "line": {
             "colorbar": {
              "outlinewidth": 0,
              "ticks": ""
             }
            },
            "marker": {
             "colorbar": {
              "outlinewidth": 0,
              "ticks": ""
             }
            },
            "type": "scatter3d"
           }
          ],
          "scattercarpet": [
           {
            "marker": {
             "colorbar": {
              "outlinewidth": 0,
              "ticks": ""
             }
            },
            "type": "scattercarpet"
           }
          ],
          "scattergeo": [
           {
            "marker": {
             "colorbar": {
              "outlinewidth": 0,
              "ticks": ""
             }
            },
            "type": "scattergeo"
           }
          ],
          "scattergl": [
           {
            "marker": {
             "colorbar": {
              "outlinewidth": 0,
              "ticks": ""
             }
            },
            "type": "scattergl"
           }
          ],
          "scattermapbox": [
           {
            "marker": {
             "colorbar": {
              "outlinewidth": 0,
              "ticks": ""
             }
            },
            "type": "scattermapbox"
           }
          ],
          "scatterpolar": [
           {
            "marker": {
             "colorbar": {
              "outlinewidth": 0,
              "ticks": ""
             }
            },
            "type": "scatterpolar"
           }
          ],
          "scatterpolargl": [
           {
            "marker": {
             "colorbar": {
              "outlinewidth": 0,
              "ticks": ""
             }
            },
            "type": "scatterpolargl"
           }
          ],
          "scatterternary": [
           {
            "marker": {
             "colorbar": {
              "outlinewidth": 0,
              "ticks": ""
             }
            },
            "type": "scatterternary"
           }
          ],
          "surface": [
           {
            "colorbar": {
             "outlinewidth": 0,
             "ticks": ""
            },
            "colorscale": [
             [
              0,
              "#0d0887"
             ],
             [
              0.1111111111111111,
              "#46039f"
             ],
             [
              0.2222222222222222,
              "#7201a8"
             ],
             [
              0.3333333333333333,
              "#9c179e"
             ],
             [
              0.4444444444444444,
              "#bd3786"
             ],
             [
              0.5555555555555556,
              "#d8576b"
             ],
             [
              0.6666666666666666,
              "#ed7953"
             ],
             [
              0.7777777777777778,
              "#fb9f3a"
             ],
             [
              0.8888888888888888,
              "#fdca26"
             ],
             [
              1,
              "#f0f921"
             ]
            ],
            "type": "surface"
           }
          ],
          "table": [
           {
            "cells": {
             "fill": {
              "color": "#EBF0F8"
             },
             "line": {
              "color": "white"
             }
            },
            "header": {
             "fill": {
              "color": "#C8D4E3"
             },
             "line": {
              "color": "white"
             }
            },
            "type": "table"
           }
          ]
         },
         "layout": {
          "annotationdefaults": {
           "arrowcolor": "#2a3f5f",
           "arrowhead": 0,
           "arrowwidth": 1
          },
          "autotypenumbers": "strict",
          "coloraxis": {
           "colorbar": {
            "outlinewidth": 0,
            "ticks": ""
           }
          },
          "colorscale": {
           "diverging": [
            [
             0,
             "#8e0152"
            ],
            [
             0.1,
             "#c51b7d"
            ],
            [
             0.2,
             "#de77ae"
            ],
            [
             0.3,
             "#f1b6da"
            ],
            [
             0.4,
             "#fde0ef"
            ],
            [
             0.5,
             "#f7f7f7"
            ],
            [
             0.6,
             "#e6f5d0"
            ],
            [
             0.7,
             "#b8e186"
            ],
            [
             0.8,
             "#7fbc41"
            ],
            [
             0.9,
             "#4d9221"
            ],
            [
             1,
             "#276419"
            ]
           ],
           "sequential": [
            [
             0,
             "#0d0887"
            ],
            [
             0.1111111111111111,
             "#46039f"
            ],
            [
             0.2222222222222222,
             "#7201a8"
            ],
            [
             0.3333333333333333,
             "#9c179e"
            ],
            [
             0.4444444444444444,
             "#bd3786"
            ],
            [
             0.5555555555555556,
             "#d8576b"
            ],
            [
             0.6666666666666666,
             "#ed7953"
            ],
            [
             0.7777777777777778,
             "#fb9f3a"
            ],
            [
             0.8888888888888888,
             "#fdca26"
            ],
            [
             1,
             "#f0f921"
            ]
           ],
           "sequentialminus": [
            [
             0,
             "#0d0887"
            ],
            [
             0.1111111111111111,
             "#46039f"
            ],
            [
             0.2222222222222222,
             "#7201a8"
            ],
            [
             0.3333333333333333,
             "#9c179e"
            ],
            [
             0.4444444444444444,
             "#bd3786"
            ],
            [
             0.5555555555555556,
             "#d8576b"
            ],
            [
             0.6666666666666666,
             "#ed7953"
            ],
            [
             0.7777777777777778,
             "#fb9f3a"
            ],
            [
             0.8888888888888888,
             "#fdca26"
            ],
            [
             1,
             "#f0f921"
            ]
           ]
          },
          "colorway": [
           "#636efa",
           "#EF553B",
           "#00cc96",
           "#ab63fa",
           "#FFA15A",
           "#19d3f3",
           "#FF6692",
           "#B6E880",
           "#FF97FF",
           "#FECB52"
          ],
          "font": {
           "color": "#2a3f5f"
          },
          "geo": {
           "bgcolor": "white",
           "lakecolor": "white",
           "landcolor": "#E5ECF6",
           "showlakes": true,
           "showland": true,
           "subunitcolor": "white"
          },
          "hoverlabel": {
           "align": "left"
          },
          "hovermode": "closest",
          "mapbox": {
           "style": "light"
          },
          "paper_bgcolor": "white",
          "plot_bgcolor": "#E5ECF6",
          "polar": {
           "angularaxis": {
            "gridcolor": "white",
            "linecolor": "white",
            "ticks": ""
           },
           "bgcolor": "#E5ECF6",
           "radialaxis": {
            "gridcolor": "white",
            "linecolor": "white",
            "ticks": ""
           }
          },
          "scene": {
           "xaxis": {
            "backgroundcolor": "#E5ECF6",
            "gridcolor": "white",
            "gridwidth": 2,
            "linecolor": "white",
            "showbackground": true,
            "ticks": "",
            "zerolinecolor": "white"
           },
           "yaxis": {
            "backgroundcolor": "#E5ECF6",
            "gridcolor": "white",
            "gridwidth": 2,
            "linecolor": "white",
            "showbackground": true,
            "ticks": "",
            "zerolinecolor": "white"
           },
           "zaxis": {
            "backgroundcolor": "#E5ECF6",
            "gridcolor": "white",
            "gridwidth": 2,
            "linecolor": "white",
            "showbackground": true,
            "ticks": "",
            "zerolinecolor": "white"
           }
          },
          "shapedefaults": {
           "line": {
            "color": "#2a3f5f"
           }
          },
          "ternary": {
           "aaxis": {
            "gridcolor": "white",
            "linecolor": "white",
            "ticks": ""
           },
           "baxis": {
            "gridcolor": "white",
            "linecolor": "white",
            "ticks": ""
           },
           "bgcolor": "#E5ECF6",
           "caxis": {
            "gridcolor": "white",
            "linecolor": "white",
            "ticks": ""
           }
          },
          "title": {
           "x": 0.05
          },
          "xaxis": {
           "automargin": true,
           "gridcolor": "white",
           "linecolor": "white",
           "ticks": "",
           "title": {
            "standoff": 15
           },
           "zerolinecolor": "white",
           "zerolinewidth": 2
          },
          "yaxis": {
           "automargin": true,
           "gridcolor": "white",
           "linecolor": "white",
           "ticks": "",
           "title": {
            "standoff": 15
           },
           "zerolinecolor": "white",
           "zerolinewidth": 2
          }
         }
        },
        "title": {
         "font": {
          "color": "#4D5663"
         }
        },
        "xaxis": {
         "anchor": "y",
         "domain": [
          0,
          0.2125
         ],
         "gridcolor": "#E1E5ED",
         "showgrid": false,
         "tickfont": {
          "color": "#4D5663"
         },
         "title": {
          "font": {
           "color": "#4D5663"
          },
          "text": ""
         },
         "zerolinecolor": "#E1E5ED"
        },
        "xaxis10": {
         "anchor": "y10",
         "domain": [
          0.2625,
          0.475
         ],
         "gridcolor": "#E1E5ED",
         "showgrid": false,
         "tickfont": {
          "color": "#4D5663"
         },
         "title": {
          "font": {
           "color": "#4D5663"
          },
          "text": ""
         },
         "zerolinecolor": "#E1E5ED"
        },
        "xaxis11": {
         "anchor": "y11",
         "domain": [
          0.525,
          0.7375
         ],
         "gridcolor": "#E1E5ED",
         "showgrid": false,
         "tickfont": {
          "color": "#4D5663"
         },
         "title": {
          "font": {
           "color": "#4D5663"
          },
          "text": ""
         },
         "zerolinecolor": "#E1E5ED"
        },
        "xaxis12": {
         "anchor": "y12",
         "domain": [
          0.7875,
          1
         ],
         "gridcolor": "#E1E5ED",
         "showgrid": false,
         "tickfont": {
          "color": "#4D5663"
         },
         "title": {
          "font": {
           "color": "#4D5663"
          },
          "text": ""
         },
         "zerolinecolor": "#E1E5ED"
        },
        "xaxis13": {
         "anchor": "y13",
         "domain": [
          0,
          0.2125
         ],
         "gridcolor": "#E1E5ED",
         "showgrid": false,
         "tickfont": {
          "color": "#4D5663"
         },
         "title": {
          "font": {
           "color": "#4D5663"
          },
          "text": ""
         },
         "zerolinecolor": "#E1E5ED"
        },
        "xaxis14": {
         "anchor": "y14",
         "domain": [
          0.2625,
          0.475
         ],
         "gridcolor": "#E1E5ED",
         "showgrid": false,
         "tickfont": {
          "color": "#4D5663"
         },
         "title": {
          "font": {
           "color": "#4D5663"
          },
          "text": ""
         },
         "zerolinecolor": "#E1E5ED"
        },
        "xaxis15": {
         "anchor": "y15",
         "domain": [
          0.525,
          0.7375
         ],
         "gridcolor": "#E1E5ED",
         "showgrid": false,
         "tickfont": {
          "color": "#4D5663"
         },
         "title": {
          "font": {
           "color": "#4D5663"
          },
          "text": ""
         },
         "zerolinecolor": "#E1E5ED"
        },
        "xaxis16": {
         "anchor": "y16",
         "domain": [
          0.7875,
          1
         ],
         "gridcolor": "#E1E5ED",
         "showgrid": false,
         "tickfont": {
          "color": "#4D5663"
         },
         "title": {
          "font": {
           "color": "#4D5663"
          },
          "text": ""
         },
         "zerolinecolor": "#E1E5ED"
        },
        "xaxis2": {
         "anchor": "y2",
         "domain": [
          0.2625,
          0.475
         ],
         "gridcolor": "#E1E5ED",
         "showgrid": false,
         "tickfont": {
          "color": "#4D5663"
         },
         "title": {
          "font": {
           "color": "#4D5663"
          },
          "text": ""
         },
         "zerolinecolor": "#E1E5ED"
        },
        "xaxis3": {
         "anchor": "y3",
         "domain": [
          0.525,
          0.7375
         ],
         "gridcolor": "#E1E5ED",
         "showgrid": false,
         "tickfont": {
          "color": "#4D5663"
         },
         "title": {
          "font": {
           "color": "#4D5663"
          },
          "text": ""
         },
         "zerolinecolor": "#E1E5ED"
        },
        "xaxis4": {
         "anchor": "y4",
         "domain": [
          0.7875,
          1
         ],
         "gridcolor": "#E1E5ED",
         "showgrid": false,
         "tickfont": {
          "color": "#4D5663"
         },
         "title": {
          "font": {
           "color": "#4D5663"
          },
          "text": ""
         },
         "zerolinecolor": "#E1E5ED"
        },
        "xaxis5": {
         "anchor": "y5",
         "domain": [
          0,
          0.2125
         ],
         "gridcolor": "#E1E5ED",
         "showgrid": false,
         "tickfont": {
          "color": "#4D5663"
         },
         "title": {
          "font": {
           "color": "#4D5663"
          },
          "text": ""
         },
         "zerolinecolor": "#E1E5ED"
        },
        "xaxis6": {
         "anchor": "y6",
         "domain": [
          0.2625,
          0.475
         ],
         "gridcolor": "#E1E5ED",
         "showgrid": false,
         "tickfont": {
          "color": "#4D5663"
         },
         "title": {
          "font": {
           "color": "#4D5663"
          },
          "text": ""
         },
         "zerolinecolor": "#E1E5ED"
        },
        "xaxis7": {
         "anchor": "y7",
         "domain": [
          0.525,
          0.7375
         ],
         "gridcolor": "#E1E5ED",
         "showgrid": false,
         "tickfont": {
          "color": "#4D5663"
         },
         "title": {
          "font": {
           "color": "#4D5663"
          },
          "text": ""
         },
         "zerolinecolor": "#E1E5ED"
        },
        "xaxis8": {
         "anchor": "y8",
         "domain": [
          0.7875,
          1
         ],
         "gridcolor": "#E1E5ED",
         "showgrid": false,
         "tickfont": {
          "color": "#4D5663"
         },
         "title": {
          "font": {
           "color": "#4D5663"
          },
          "text": ""
         },
         "zerolinecolor": "#E1E5ED"
        },
        "xaxis9": {
         "anchor": "y9",
         "domain": [
          0,
          0.2125
         ],
         "gridcolor": "#E1E5ED",
         "showgrid": false,
         "tickfont": {
          "color": "#4D5663"
         },
         "title": {
          "font": {
           "color": "#4D5663"
          },
          "text": ""
         },
         "zerolinecolor": "#E1E5ED"
        },
        "yaxis": {
         "anchor": "x",
         "domain": [
          0.8025,
          1
         ],
         "gridcolor": "#E1E5ED",
         "showgrid": false,
         "tickfont": {
          "color": "#4D5663"
         },
         "title": {
          "font": {
           "color": "#4D5663"
          },
          "text": ""
         },
         "zerolinecolor": "#E1E5ED"
        },
        "yaxis10": {
         "anchor": "x10",
         "domain": [
          0.2675,
          0.465
         ],
         "gridcolor": "#E1E5ED",
         "showgrid": false,
         "tickfont": {
          "color": "#4D5663"
         },
         "title": {
          "font": {
           "color": "#4D5663"
          },
          "text": ""
         },
         "zerolinecolor": "#E1E5ED"
        },
        "yaxis11": {
         "anchor": "x11",
         "domain": [
          0.2675,
          0.465
         ],
         "gridcolor": "#E1E5ED",
         "showgrid": false,
         "tickfont": {
          "color": "#4D5663"
         },
         "title": {
          "font": {
           "color": "#4D5663"
          },
          "text": ""
         },
         "zerolinecolor": "#E1E5ED"
        },
        "yaxis12": {
         "anchor": "x12",
         "domain": [
          0.2675,
          0.465
         ],
         "gridcolor": "#E1E5ED",
         "showgrid": false,
         "tickfont": {
          "color": "#4D5663"
         },
         "title": {
          "font": {
           "color": "#4D5663"
          },
          "text": ""
         },
         "zerolinecolor": "#E1E5ED"
        },
        "yaxis13": {
         "anchor": "x13",
         "domain": [
          0,
          0.1975
         ],
         "gridcolor": "#E1E5ED",
         "showgrid": false,
         "tickfont": {
          "color": "#4D5663"
         },
         "title": {
          "font": {
           "color": "#4D5663"
          },
          "text": ""
         },
         "zerolinecolor": "#E1E5ED"
        },
        "yaxis14": {
         "anchor": "x14",
         "domain": [
          0,
          0.1975
         ],
         "gridcolor": "#E1E5ED",
         "showgrid": false,
         "tickfont": {
          "color": "#4D5663"
         },
         "title": {
          "font": {
           "color": "#4D5663"
          },
          "text": ""
         },
         "zerolinecolor": "#E1E5ED"
        },
        "yaxis15": {
         "anchor": "x15",
         "domain": [
          0,
          0.1975
         ],
         "gridcolor": "#E1E5ED",
         "showgrid": false,
         "tickfont": {
          "color": "#4D5663"
         },
         "title": {
          "font": {
           "color": "#4D5663"
          },
          "text": ""
         },
         "zerolinecolor": "#E1E5ED"
        },
        "yaxis16": {
         "anchor": "x16",
         "domain": [
          0,
          0.1975
         ],
         "gridcolor": "#E1E5ED",
         "showgrid": false,
         "tickfont": {
          "color": "#4D5663"
         },
         "title": {
          "font": {
           "color": "#4D5663"
          },
          "text": ""
         },
         "zerolinecolor": "#E1E5ED"
        },
        "yaxis2": {
         "anchor": "x2",
         "domain": [
          0.8025,
          1
         ],
         "gridcolor": "#E1E5ED",
         "showgrid": false,
         "tickfont": {
          "color": "#4D5663"
         },
         "title": {
          "font": {
           "color": "#4D5663"
          },
          "text": ""
         },
         "zerolinecolor": "#E1E5ED"
        },
        "yaxis3": {
         "anchor": "x3",
         "domain": [
          0.8025,
          1
         ],
         "gridcolor": "#E1E5ED",
         "showgrid": false,
         "tickfont": {
          "color": "#4D5663"
         },
         "title": {
          "font": {
           "color": "#4D5663"
          },
          "text": ""
         },
         "zerolinecolor": "#E1E5ED"
        },
        "yaxis4": {
         "anchor": "x4",
         "domain": [
          0.8025,
          1
         ],
         "gridcolor": "#E1E5ED",
         "showgrid": false,
         "tickfont": {
          "color": "#4D5663"
         },
         "title": {
          "font": {
           "color": "#4D5663"
          },
          "text": ""
         },
         "zerolinecolor": "#E1E5ED"
        },
        "yaxis5": {
         "anchor": "x5",
         "domain": [
          0.535,
          0.7325
         ],
         "gridcolor": "#E1E5ED",
         "showgrid": false,
         "tickfont": {
          "color": "#4D5663"
         },
         "title": {
          "font": {
           "color": "#4D5663"
          },
          "text": ""
         },
         "zerolinecolor": "#E1E5ED"
        },
        "yaxis6": {
         "anchor": "x6",
         "domain": [
          0.535,
          0.7325
         ],
         "gridcolor": "#E1E5ED",
         "showgrid": false,
         "tickfont": {
          "color": "#4D5663"
         },
         "title": {
          "font": {
           "color": "#4D5663"
          },
          "text": ""
         },
         "zerolinecolor": "#E1E5ED"
        },
        "yaxis7": {
         "anchor": "x7",
         "domain": [
          0.535,
          0.7325
         ],
         "gridcolor": "#E1E5ED",
         "showgrid": false,
         "tickfont": {
          "color": "#4D5663"
         },
         "title": {
          "font": {
           "color": "#4D5663"
          },
          "text": ""
         },
         "zerolinecolor": "#E1E5ED"
        },
        "yaxis8": {
         "anchor": "x8",
         "domain": [
          0.535,
          0.7325
         ],
         "gridcolor": "#E1E5ED",
         "showgrid": false,
         "tickfont": {
          "color": "#4D5663"
         },
         "title": {
          "font": {
           "color": "#4D5663"
          },
          "text": ""
         },
         "zerolinecolor": "#E1E5ED"
        },
        "yaxis9": {
         "anchor": "x9",
         "domain": [
          0.2675,
          0.465
         ],
         "gridcolor": "#E1E5ED",
         "showgrid": false,
         "tickfont": {
          "color": "#4D5663"
         },
         "title": {
          "font": {
           "color": "#4D5663"
          },
          "text": ""
         },
         "zerolinecolor": "#E1E5ED"
        }
       }
      },
      "text/html": [
       "<div>                            <div id=\"0fdfb6e1-2062-4cdc-bb9f-3fd8295f535a\" class=\"plotly-graph-div\" style=\"height:525px; width:100%;\"></div>            <script type=\"text/javascript\">                require([\"plotly\"], function(Plotly) {                    window.PLOTLYENV=window.PLOTLYENV || {};\n",
       "                    window.PLOTLYENV.BASE_URL='https://plot.ly';                                    if (document.getElementById(\"0fdfb6e1-2062-4cdc-bb9f-3fd8295f535a\")) {                    Plotly.newPlot(                        \"0fdfb6e1-2062-4cdc-bb9f-3fd8295f535a\",                        [{\"histfunc\":\"count\",\"histnorm\":\"\",\"marker\":{\"color\":\"rgba(255, 153, 51, 1.0)\",\"line\":{\"color\":\"#4D5663\",\"width\":1.3}},\"name\":\"A\",\"nbinsx\":10,\"opacity\":0.8,\"orientation\":\"v\",\"x\":[0.9358246105456631,1.7358870536473954,1.6607725228273365,-1.130471045776182,-0.7397437542667784,-1.7628728637743711,0.6094641588563852,0.8397452447778285,1.5953723526350652,-0.24735699034521968,-1.0576749964782333,-0.585775052554457,-2.1005125763582106,0.3682807079472144,-0.8404456428786651,0.6416763293475042,0.1482332074357737,-0.5694215335178152,1.2625700226936711,0.17288919914789302,-1.2897772819048154,0.7258162007125682,1.428259807694575,-0.4118314894873909,0.6215843985226098,-0.13364968782372094,-0.8669258393056155,-0.4104472188076141,-1.5094372299519552,-1.1273371115446196,0.40222132922117726,0.21491591162534904,-0.2824254106167494,0.2893039247667468,1.177485905026769,0.5314194356194776,-1.3737936138152016,-0.302772243312889,-0.5548156187710866,1.293594170856257,1.3938922938949396,-0.7686784040548456,0.685016805624003,-1.2161323536626572,-0.22596418717228123,0.18445339856296444,-0.2988187906213368,0.8610646318330833,0.44714190373054974,1.7495683336940082,-0.02717780528520104,-0.2646657249625497,0.5528736598737768,0.108936244464817,-0.3886022132343513,-0.27858746269539825,0.5262142439594867,-0.17040945756285403,-0.29361928475042465,-1.6431153100987566,0.9820006875146906,1.1271311188321693,0.7712039159456711,-0.2722771350565949,-0.1016411044464088,0.055748472748957355,0.378212647536327,1.806354096998742,-1.0323484061684283,0.43925979581855623,-2.237534601976636,-1.2395199587124108,0.932423970331763,-2.0606245338146247,-0.7873413392426257,0.3839651190733875,-1.5476461051975592,0.6107385482338262,0.48118347644317017,-1.1417989169897207,-1.349276068996005,0.22286129253542264,1.1337133631024376,0.5105123805788733,-2.1901727666599475,1.241346098929264,-0.42842270573965463,1.1422020524149337,0.49284995297389594,-0.8232844489727227,0.994393546598194,-0.25744344885925907,0.24794327386048887,-1.0040059283046938,2.012619946272534,-1.3432393595521306,-0.4360965094981826,-1.4872629381033733,0.4425522864570553,-0.6358544606229273],\"xaxis\":\"x\",\"yaxis\":\"y\",\"type\":\"histogram\"},{\"line\":{\"color\":\"rgba(128, 128, 128, 1.0)\",\"dash\":\"solid\",\"shape\":\"linear\",\"width\":1.3},\"marker\":{\"size\":2,\"symbol\":\"circle\"},\"mode\":\"markers\",\"name\":\"A\",\"text\":\"\",\"x\":[2.4368836497567736,2.8061683063365512,-0.22598246884615092,1.6684583868678244,0.19964956910034146,-0.43630416534108574,-0.8149051143407005,0.644721914341229,-1.0970580613489138,0.563243707568396,-0.7151772352638627,1.7399384304314731,0.9333202141889357,-0.7603023225826924,-1.0055654371051497,0.9456803095792773,-0.6107014523115251,-0.24678977201906113,0.2272335649658569,1.1204859476935731,-1.7023803277503649,0.5321124440372906,-0.6808814973697076,-0.3119505168081398,-0.8729805709062626,-0.9422457171082959,0.9577546856737165,1.4350788901214124,-0.03629918533398791,1.1975549064480226,1.531036339029063,1.9561481466557051,-0.07722330639237676,1.2213207563919308,0.1425763768286601,0.4458905337457665,-0.23410678454089873,-0.7071305907929655,-0.41660092474178023,0.8290082481091184,-0.866406049479583,-0.9265270931596823,-0.5578107376513161,-1.1986778981863162,0.2994689192423883,-0.18672810450536445,0.29038117898481874,0.6513216905711007,0.727148313467212,-1.0957568440700851,1.0925119340978113,0.6622390315231806,1.0574259310596916,0.3317098628177242,-0.05553073769154664,-0.9799373977459516,1.3646046406526673,3.041346406084754,1.4011788801781775,-0.9386645547165704,1.3087610020904727,-0.80757066404421,1.1588354285400224,0.47883353179263977,-0.8055260309871897,-0.683537000716558,-0.015924935759425912,-0.29640901170335526,-0.19448603254895092,-0.46819474735927347,1.8067478953733844,-1.4112089594018427,0.6245328039650841,-0.8355962776719403,0.816316571373678,1.7830048482946426,-0.008152702171023115,0.10085636600272131,-1.432769049671953,0.4684985796561104,-1.1160089587194328,-0.6077303609075121,0.2628666457754549,0.26500314736339087,-0.15473373323700454,0.33691884019198975,0.9049159014238233,-0.2989352825315451,0.05106865858649614,2.738846305525453,0.5785002560282373,-0.4813514985369238,0.9711303120138106,-0.6753593361118425,-0.10288292581607655,1.1242169310713244,0.08995296684595894,1.2807328759536576,-0.33848014424263445,0.700807256895827],\"xaxis\":\"x2\",\"y\":[0.9358246105456631,1.7358870536473954,1.6607725228273365,-1.130471045776182,-0.7397437542667784,-1.7628728637743711,0.6094641588563852,0.8397452447778285,1.5953723526350652,-0.24735699034521968,-1.0576749964782333,-0.585775052554457,-2.1005125763582106,0.3682807079472144,-0.8404456428786651,0.6416763293475042,0.1482332074357737,-0.5694215335178152,1.2625700226936711,0.17288919914789302,-1.2897772819048154,0.7258162007125682,1.428259807694575,-0.4118314894873909,0.6215843985226098,-0.13364968782372094,-0.8669258393056155,-0.4104472188076141,-1.5094372299519552,-1.1273371115446196,0.40222132922117726,0.21491591162534904,-0.2824254106167494,0.2893039247667468,1.177485905026769,0.5314194356194776,-1.3737936138152016,-0.302772243312889,-0.5548156187710866,1.293594170856257,1.3938922938949396,-0.7686784040548456,0.685016805624003,-1.2161323536626572,-0.22596418717228123,0.18445339856296444,-0.2988187906213368,0.8610646318330833,0.44714190373054974,1.7495683336940082,-0.02717780528520104,-0.2646657249625497,0.5528736598737768,0.108936244464817,-0.3886022132343513,-0.27858746269539825,0.5262142439594867,-0.17040945756285403,-0.29361928475042465,-1.6431153100987566,0.9820006875146906,1.1271311188321693,0.7712039159456711,-0.2722771350565949,-0.1016411044464088,0.055748472748957355,0.378212647536327,1.806354096998742,-1.0323484061684283,0.43925979581855623,-2.237534601976636,-1.2395199587124108,0.932423970331763,-2.0606245338146247,-0.7873413392426257,0.3839651190733875,-1.5476461051975592,0.6107385482338262,0.48118347644317017,-1.1417989169897207,-1.349276068996005,0.22286129253542264,1.1337133631024376,0.5105123805788733,-2.1901727666599475,1.241346098929264,-0.42842270573965463,1.1422020524149337,0.49284995297389594,-0.8232844489727227,0.994393546598194,-0.25744344885925907,0.24794327386048887,-1.0040059283046938,2.012619946272534,-1.3432393595521306,-0.4360965094981826,-1.4872629381033733,0.4425522864570553,-0.6358544606229273],\"yaxis\":\"y2\",\"type\":\"scatter\"},{\"line\":{\"color\":\"rgba(128, 128, 128, 1.0)\",\"dash\":\"solid\",\"shape\":\"linear\",\"width\":1.3},\"marker\":{\"size\":2,\"symbol\":\"circle\"},\"mode\":\"markers\",\"name\":\"A\",\"text\":\"\",\"x\":[0.8347964621978526,0.7422619849660557,0.9421059046693261,-0.8287663091084667,-1.5872247614942994,0.3096679676095925,1.0066599607678481,0.6400723276288252,-0.4616667584145362,-0.458297403125597,0.5741152744780673,1.3587337389371734,-1.1067774961716534,-1.935996244110975,0.7777194054502217,0.39425389226378726,0.1841081434387239,-0.9575857037749891,0.9975865238218852,0.6016316037478396,-1.1496089432371979,0.6958881857987933,1.6681252130704827,0.36681196627548485,-1.9078136995537738,-1.030713373835496,0.5119207586273357,1.0215942717456032,-0.7613725093295172,-0.7626177245782716,-0.977106249385318,-1.3905124581215762,0.4198154806602653,-0.8332328241034221,2.0232969011466264,0.8761650856571784,0.604383451200056,-0.055397334207476036,2.235340360896873,0.2127535535306071,-1.0936907857756157,-1.095127127911492,-0.036983872331810094,0.1405845991744449,0.9990811980995024,-0.38133164054122687,0.4188828292150607,0.7639415389965162,-1.5363182614760473,-0.5836306055561737,-0.5564802891642523,0.27355942667249133,-0.19143222578973443,2.2662149960086935,0.5749447538886344,-1.2753637372850788,1.9287221634387093,0.7099186452912636,0.004229094356319363,-2.25020330548462,-0.9815861634693895,-0.08923749356744987,-1.3372009872447732,-0.1323376247539866,-0.39730967369732084,-0.9156689796933062,0.5631677363355335,-0.7795866286804178,-0.204854748351753,-0.9623752418290115,-0.6277110368908078,0.8179132872244542,-1.3841106590099894,-1.691269656360695,0.5343258529217656,-0.25680254083887394,2.627165072906644,-0.14763476004978585,-0.17257057163101136,-0.2056432080272134,1.6223879450819967,-0.21783483144740098,0.7354681172994999,-0.11318274664317976,0.21886584953230323,-0.18174933433188084,-2.9726490611652165,-1.1346417759642426,-0.4987540998712413,1.3673123446330104,1.6218714880270613,-0.04047039466792415,0.96694327486157,-0.8954153268487087,0.1825169937934882,0.8839934709951787,1.4288035335316298,0.3227495759096064,-0.3908280472876743,-0.46664169633794633],\"xaxis\":\"x3\",\"y\":[0.9358246105456631,1.7358870536473954,1.6607725228273365,-1.130471045776182,-0.7397437542667784,-1.7628728637743711,0.6094641588563852,0.8397452447778285,1.5953723526350652,-0.24735699034521968,-1.0576749964782333,-0.585775052554457,-2.1005125763582106,0.3682807079472144,-0.8404456428786651,0.6416763293475042,0.1482332074357737,-0.5694215335178152,1.2625700226936711,0.17288919914789302,-1.2897772819048154,0.7258162007125682,1.428259807694575,-0.4118314894873909,0.6215843985226098,-0.13364968782372094,-0.8669258393056155,-0.4104472188076141,-1.5094372299519552,-1.1273371115446196,0.40222132922117726,0.21491591162534904,-0.2824254106167494,0.2893039247667468,1.177485905026769,0.5314194356194776,-1.3737936138152016,-0.302772243312889,-0.5548156187710866,1.293594170856257,1.3938922938949396,-0.7686784040548456,0.685016805624003,-1.2161323536626572,-0.22596418717228123,0.18445339856296444,-0.2988187906213368,0.8610646318330833,0.44714190373054974,1.7495683336940082,-0.02717780528520104,-0.2646657249625497,0.5528736598737768,0.108936244464817,-0.3886022132343513,-0.27858746269539825,0.5262142439594867,-0.17040945756285403,-0.29361928475042465,-1.6431153100987566,0.9820006875146906,1.1271311188321693,0.7712039159456711,-0.2722771350565949,-0.1016411044464088,0.055748472748957355,0.378212647536327,1.806354096998742,-1.0323484061684283,0.43925979581855623,-2.237534601976636,-1.2395199587124108,0.932423970331763,-2.0606245338146247,-0.7873413392426257,0.3839651190733875,-1.5476461051975592,0.6107385482338262,0.48118347644317017,-1.1417989169897207,-1.349276068996005,0.22286129253542264,1.1337133631024376,0.5105123805788733,-2.1901727666599475,1.241346098929264,-0.42842270573965463,1.1422020524149337,0.49284995297389594,-0.8232844489727227,0.994393546598194,-0.25744344885925907,0.24794327386048887,-1.0040059283046938,2.012619946272534,-1.3432393595521306,-0.4360965094981826,-1.4872629381033733,0.4425522864570553,-0.6358544606229273],\"yaxis\":\"y3\",\"type\":\"scatter\"},{\"line\":{\"color\":\"rgba(128, 128, 128, 1.0)\",\"dash\":\"solid\",\"shape\":\"linear\",\"width\":1.3},\"marker\":{\"size\":2,\"symbol\":\"circle\"},\"mode\":\"markers\",\"name\":\"A\",\"text\":\"\",\"x\":[0.3483890581129721,-0.888182699729952,0.46718461601091094,-1.0417530361610983,-1.6250608910439461,-0.2248852748373986,-1.281688014536062,-0.8514976337743849,-0.6883683187600665,-0.20667615740811776,-0.3767448429923869,-0.9843008168119253,-0.31277817100762895,0.8468924252669293,-1.0727728388254159,0.30008791805319524,1.8879604124582612,1.2660810398323776,0.45609129801939463,0.6726147657822424,0.8241665028317623,-0.3518181535052042,-0.5080330525938204,1.5963785365652088,-0.5547215770586273,-1.7006030658476257,0.4850139462154026,-0.12641952295975467,0.10593177255142132,-0.31045383083644296,-2.215447530809033,0.3328245871913032,0.16542739736732404,2.279149262740099,0.1464903933485164,-0.8981473637269928,0.011316903987620362,0.3740268469448724,0.00600595347178172,-0.5455397405384034,1.1053757913750353,0.9809228411435073,-0.8688567153887097,-0.1411299275245519,0.7693973235242795,1.6730057520225377,-1.024431996891845,1.110540384593331,-1.5050331148984104,0.25335284519577395,-0.19363896658984323,-0.8086363725025757,-0.479998946736685,1.4642522113562635,-0.6281189642664279,-0.5226430926304726,0.6919866248911934,1.9232786601198262,0.5876327968957331,-0.0046343931432081915,1.443041936933062,1.5460271692153054,0.2840617527281839,-0.716096743201206,1.1274681102723925,-0.249539933808164,0.11432698616093034,0.3167643160240619,-0.8629581773182998,0.7177258044323274,-1.8537797335432495,-0.5901892401603281,-2.4525226498278077,1.6417672188323253,-1.3908212668743931,0.1205347838088376,1.4238760368657009,0.6350831586659941,-0.046506600815857,0.03312983193434833,-1.8399107242066985,0.18831190190361355,-0.6509961953618276,0.4348223970672755,0.41112806027556253,0.3007244133349498,-0.9814848471200649,-0.6904048067419298,0.335953220225626,-0.982965209353212,0.9270554220126782,0.975930458103786,-0.6030240850918889,-0.8665862123881608,0.5155234509956301,-0.2769171373345841,-1.200537929111223,-0.2466425746771957,-1.4015084783507177,0.1579469233065905],\"xaxis\":\"x4\",\"y\":[0.9358246105456631,1.7358870536473954,1.6607725228273365,-1.130471045776182,-0.7397437542667784,-1.7628728637743711,0.6094641588563852,0.8397452447778285,1.5953723526350652,-0.24735699034521968,-1.0576749964782333,-0.585775052554457,-2.1005125763582106,0.3682807079472144,-0.8404456428786651,0.6416763293475042,0.1482332074357737,-0.5694215335178152,1.2625700226936711,0.17288919914789302,-1.2897772819048154,0.7258162007125682,1.428259807694575,-0.4118314894873909,0.6215843985226098,-0.13364968782372094,-0.8669258393056155,-0.4104472188076141,-1.5094372299519552,-1.1273371115446196,0.40222132922117726,0.21491591162534904,-0.2824254106167494,0.2893039247667468,1.177485905026769,0.5314194356194776,-1.3737936138152016,-0.302772243312889,-0.5548156187710866,1.293594170856257,1.3938922938949396,-0.7686784040548456,0.685016805624003,-1.2161323536626572,-0.22596418717228123,0.18445339856296444,-0.2988187906213368,0.8610646318330833,0.44714190373054974,1.7495683336940082,-0.02717780528520104,-0.2646657249625497,0.5528736598737768,0.108936244464817,-0.3886022132343513,-0.27858746269539825,0.5262142439594867,-0.17040945756285403,-0.29361928475042465,-1.6431153100987566,0.9820006875146906,1.1271311188321693,0.7712039159456711,-0.2722771350565949,-0.1016411044464088,0.055748472748957355,0.378212647536327,1.806354096998742,-1.0323484061684283,0.43925979581855623,-2.237534601976636,-1.2395199587124108,0.932423970331763,-2.0606245338146247,-0.7873413392426257,0.3839651190733875,-1.5476461051975592,0.6107385482338262,0.48118347644317017,-1.1417989169897207,-1.349276068996005,0.22286129253542264,1.1337133631024376,0.5105123805788733,-2.1901727666599475,1.241346098929264,-0.42842270573965463,1.1422020524149337,0.49284995297389594,-0.8232844489727227,0.994393546598194,-0.25744344885925907,0.24794327386048887,-1.0040059283046938,2.012619946272534,-1.3432393595521306,-0.4360965094981826,-1.4872629381033733,0.4425522864570553,-0.6358544606229273],\"yaxis\":\"y4\",\"type\":\"scatter\"},{\"line\":{\"color\":\"rgba(128, 128, 128, 1.0)\",\"dash\":\"solid\",\"shape\":\"linear\",\"width\":1.3},\"marker\":{\"size\":2,\"symbol\":\"circle\"},\"mode\":\"markers\",\"name\":\"B\",\"text\":\"\",\"x\":[0.9358246105456631,1.7358870536473954,1.6607725228273365,-1.130471045776182,-0.7397437542667784,-1.7628728637743711,0.6094641588563852,0.8397452447778285,1.5953723526350652,-0.24735699034521968,-1.0576749964782333,-0.585775052554457,-2.1005125763582106,0.3682807079472144,-0.8404456428786651,0.6416763293475042,0.1482332074357737,-0.5694215335178152,1.2625700226936711,0.17288919914789302,-1.2897772819048154,0.7258162007125682,1.428259807694575,-0.4118314894873909,0.6215843985226098,-0.13364968782372094,-0.8669258393056155,-0.4104472188076141,-1.5094372299519552,-1.1273371115446196,0.40222132922117726,0.21491591162534904,-0.2824254106167494,0.2893039247667468,1.177485905026769,0.5314194356194776,-1.3737936138152016,-0.302772243312889,-0.5548156187710866,1.293594170856257,1.3938922938949396,-0.7686784040548456,0.685016805624003,-1.2161323536626572,-0.22596418717228123,0.18445339856296444,-0.2988187906213368,0.8610646318330833,0.44714190373054974,1.7495683336940082,-0.02717780528520104,-0.2646657249625497,0.5528736598737768,0.108936244464817,-0.3886022132343513,-0.27858746269539825,0.5262142439594867,-0.17040945756285403,-0.29361928475042465,-1.6431153100987566,0.9820006875146906,1.1271311188321693,0.7712039159456711,-0.2722771350565949,-0.1016411044464088,0.055748472748957355,0.378212647536327,1.806354096998742,-1.0323484061684283,0.43925979581855623,-2.237534601976636,-1.2395199587124108,0.932423970331763,-2.0606245338146247,-0.7873413392426257,0.3839651190733875,-1.5476461051975592,0.6107385482338262,0.48118347644317017,-1.1417989169897207,-1.349276068996005,0.22286129253542264,1.1337133631024376,0.5105123805788733,-2.1901727666599475,1.241346098929264,-0.42842270573965463,1.1422020524149337,0.49284995297389594,-0.8232844489727227,0.994393546598194,-0.25744344885925907,0.24794327386048887,-1.0040059283046938,2.012619946272534,-1.3432393595521306,-0.4360965094981826,-1.4872629381033733,0.4425522864570553,-0.6358544606229273],\"xaxis\":\"x5\",\"y\":[2.4368836497567736,2.8061683063365512,-0.22598246884615092,1.6684583868678244,0.19964956910034146,-0.43630416534108574,-0.8149051143407005,0.644721914341229,-1.0970580613489138,0.563243707568396,-0.7151772352638627,1.7399384304314731,0.9333202141889357,-0.7603023225826924,-1.0055654371051497,0.9456803095792773,-0.6107014523115251,-0.24678977201906113,0.2272335649658569,1.1204859476935731,-1.7023803277503649,0.5321124440372906,-0.6808814973697076,-0.3119505168081398,-0.8729805709062626,-0.9422457171082959,0.9577546856737165,1.4350788901214124,-0.03629918533398791,1.1975549064480226,1.531036339029063,1.9561481466557051,-0.07722330639237676,1.2213207563919308,0.1425763768286601,0.4458905337457665,-0.23410678454089873,-0.7071305907929655,-0.41660092474178023,0.8290082481091184,-0.866406049479583,-0.9265270931596823,-0.5578107376513161,-1.1986778981863162,0.2994689192423883,-0.18672810450536445,0.29038117898481874,0.6513216905711007,0.727148313467212,-1.0957568440700851,1.0925119340978113,0.6622390315231806,1.0574259310596916,0.3317098628177242,-0.05553073769154664,-0.9799373977459516,1.3646046406526673,3.041346406084754,1.4011788801781775,-0.9386645547165704,1.3087610020904727,-0.80757066404421,1.1588354285400224,0.47883353179263977,-0.8055260309871897,-0.683537000716558,-0.015924935759425912,-0.29640901170335526,-0.19448603254895092,-0.46819474735927347,1.8067478953733844,-1.4112089594018427,0.6245328039650841,-0.8355962776719403,0.816316571373678,1.7830048482946426,-0.008152702171023115,0.10085636600272131,-1.432769049671953,0.4684985796561104,-1.1160089587194328,-0.6077303609075121,0.2628666457754549,0.26500314736339087,-0.15473373323700454,0.33691884019198975,0.9049159014238233,-0.2989352825315451,0.05106865858649614,2.738846305525453,0.5785002560282373,-0.4813514985369238,0.9711303120138106,-0.6753593361118425,-0.10288292581607655,1.1242169310713244,0.08995296684595894,1.2807328759536576,-0.33848014424263445,0.700807256895827],\"yaxis\":\"y5\",\"type\":\"scatter\"},{\"histfunc\":\"count\",\"histnorm\":\"\",\"marker\":{\"color\":\"rgba(55, 128, 191, 1.0)\",\"line\":{\"color\":\"#4D5663\",\"width\":1.3}},\"name\":\"B\",\"nbinsx\":10,\"opacity\":0.8,\"orientation\":\"v\",\"x\":[2.4368836497567736,2.8061683063365512,-0.22598246884615092,1.6684583868678244,0.19964956910034146,-0.43630416534108574,-0.8149051143407005,0.644721914341229,-1.0970580613489138,0.563243707568396,-0.7151772352638627,1.7399384304314731,0.9333202141889357,-0.7603023225826924,-1.0055654371051497,0.9456803095792773,-0.6107014523115251,-0.24678977201906113,0.2272335649658569,1.1204859476935731,-1.7023803277503649,0.5321124440372906,-0.6808814973697076,-0.3119505168081398,-0.8729805709062626,-0.9422457171082959,0.9577546856737165,1.4350788901214124,-0.03629918533398791,1.1975549064480226,1.531036339029063,1.9561481466557051,-0.07722330639237676,1.2213207563919308,0.1425763768286601,0.4458905337457665,-0.23410678454089873,-0.7071305907929655,-0.41660092474178023,0.8290082481091184,-0.866406049479583,-0.9265270931596823,-0.5578107376513161,-1.1986778981863162,0.2994689192423883,-0.18672810450536445,0.29038117898481874,0.6513216905711007,0.727148313467212,-1.0957568440700851,1.0925119340978113,0.6622390315231806,1.0574259310596916,0.3317098628177242,-0.05553073769154664,-0.9799373977459516,1.3646046406526673,3.041346406084754,1.4011788801781775,-0.9386645547165704,1.3087610020904727,-0.80757066404421,1.1588354285400224,0.47883353179263977,-0.8055260309871897,-0.683537000716558,-0.015924935759425912,-0.29640901170335526,-0.19448603254895092,-0.46819474735927347,1.8067478953733844,-1.4112089594018427,0.6245328039650841,-0.8355962776719403,0.816316571373678,1.7830048482946426,-0.008152702171023115,0.10085636600272131,-1.432769049671953,0.4684985796561104,-1.1160089587194328,-0.6077303609075121,0.2628666457754549,0.26500314736339087,-0.15473373323700454,0.33691884019198975,0.9049159014238233,-0.2989352825315451,0.05106865858649614,2.738846305525453,0.5785002560282373,-0.4813514985369238,0.9711303120138106,-0.6753593361118425,-0.10288292581607655,1.1242169310713244,0.08995296684595894,1.2807328759536576,-0.33848014424263445,0.700807256895827],\"xaxis\":\"x6\",\"yaxis\":\"y6\",\"type\":\"histogram\"},{\"line\":{\"color\":\"rgba(128, 128, 128, 1.0)\",\"dash\":\"solid\",\"shape\":\"linear\",\"width\":1.3},\"marker\":{\"size\":2,\"symbol\":\"circle\"},\"mode\":\"markers\",\"name\":\"B\",\"text\":\"\",\"x\":[0.8347964621978526,0.7422619849660557,0.9421059046693261,-0.8287663091084667,-1.5872247614942994,0.3096679676095925,1.0066599607678481,0.6400723276288252,-0.4616667584145362,-0.458297403125597,0.5741152744780673,1.3587337389371734,-1.1067774961716534,-1.935996244110975,0.7777194054502217,0.39425389226378726,0.1841081434387239,-0.9575857037749891,0.9975865238218852,0.6016316037478396,-1.1496089432371979,0.6958881857987933,1.6681252130704827,0.36681196627548485,-1.9078136995537738,-1.030713373835496,0.5119207586273357,1.0215942717456032,-0.7613725093295172,-0.7626177245782716,-0.977106249385318,-1.3905124581215762,0.4198154806602653,-0.8332328241034221,2.0232969011466264,0.8761650856571784,0.604383451200056,-0.055397334207476036,2.235340360896873,0.2127535535306071,-1.0936907857756157,-1.095127127911492,-0.036983872331810094,0.1405845991744449,0.9990811980995024,-0.38133164054122687,0.4188828292150607,0.7639415389965162,-1.5363182614760473,-0.5836306055561737,-0.5564802891642523,0.27355942667249133,-0.19143222578973443,2.2662149960086935,0.5749447538886344,-1.2753637372850788,1.9287221634387093,0.7099186452912636,0.004229094356319363,-2.25020330548462,-0.9815861634693895,-0.08923749356744987,-1.3372009872447732,-0.1323376247539866,-0.39730967369732084,-0.9156689796933062,0.5631677363355335,-0.7795866286804178,-0.204854748351753,-0.9623752418290115,-0.6277110368908078,0.8179132872244542,-1.3841106590099894,-1.691269656360695,0.5343258529217656,-0.25680254083887394,2.627165072906644,-0.14763476004978585,-0.17257057163101136,-0.2056432080272134,1.6223879450819967,-0.21783483144740098,0.7354681172994999,-0.11318274664317976,0.21886584953230323,-0.18174933433188084,-2.9726490611652165,-1.1346417759642426,-0.4987540998712413,1.3673123446330104,1.6218714880270613,-0.04047039466792415,0.96694327486157,-0.8954153268487087,0.1825169937934882,0.8839934709951787,1.4288035335316298,0.3227495759096064,-0.3908280472876743,-0.46664169633794633],\"xaxis\":\"x7\",\"y\":[2.4368836497567736,2.8061683063365512,-0.22598246884615092,1.6684583868678244,0.19964956910034146,-0.43630416534108574,-0.8149051143407005,0.644721914341229,-1.0970580613489138,0.563243707568396,-0.7151772352638627,1.7399384304314731,0.9333202141889357,-0.7603023225826924,-1.0055654371051497,0.9456803095792773,-0.6107014523115251,-0.24678977201906113,0.2272335649658569,1.1204859476935731,-1.7023803277503649,0.5321124440372906,-0.6808814973697076,-0.3119505168081398,-0.8729805709062626,-0.9422457171082959,0.9577546856737165,1.4350788901214124,-0.03629918533398791,1.1975549064480226,1.531036339029063,1.9561481466557051,-0.07722330639237676,1.2213207563919308,0.1425763768286601,0.4458905337457665,-0.23410678454089873,-0.7071305907929655,-0.41660092474178023,0.8290082481091184,-0.866406049479583,-0.9265270931596823,-0.5578107376513161,-1.1986778981863162,0.2994689192423883,-0.18672810450536445,0.29038117898481874,0.6513216905711007,0.727148313467212,-1.0957568440700851,1.0925119340978113,0.6622390315231806,1.0574259310596916,0.3317098628177242,-0.05553073769154664,-0.9799373977459516,1.3646046406526673,3.041346406084754,1.4011788801781775,-0.9386645547165704,1.3087610020904727,-0.80757066404421,1.1588354285400224,0.47883353179263977,-0.8055260309871897,-0.683537000716558,-0.015924935759425912,-0.29640901170335526,-0.19448603254895092,-0.46819474735927347,1.8067478953733844,-1.4112089594018427,0.6245328039650841,-0.8355962776719403,0.816316571373678,1.7830048482946426,-0.008152702171023115,0.10085636600272131,-1.432769049671953,0.4684985796561104,-1.1160089587194328,-0.6077303609075121,0.2628666457754549,0.26500314736339087,-0.15473373323700454,0.33691884019198975,0.9049159014238233,-0.2989352825315451,0.05106865858649614,2.738846305525453,0.5785002560282373,-0.4813514985369238,0.9711303120138106,-0.6753593361118425,-0.10288292581607655,1.1242169310713244,0.08995296684595894,1.2807328759536576,-0.33848014424263445,0.700807256895827],\"yaxis\":\"y7\",\"type\":\"scatter\"},{\"line\":{\"color\":\"rgba(128, 128, 128, 1.0)\",\"dash\":\"solid\",\"shape\":\"linear\",\"width\":1.3},\"marker\":{\"size\":2,\"symbol\":\"circle\"},\"mode\":\"markers\",\"name\":\"B\",\"text\":\"\",\"x\":[0.3483890581129721,-0.888182699729952,0.46718461601091094,-1.0417530361610983,-1.6250608910439461,-0.2248852748373986,-1.281688014536062,-0.8514976337743849,-0.6883683187600665,-0.20667615740811776,-0.3767448429923869,-0.9843008168119253,-0.31277817100762895,0.8468924252669293,-1.0727728388254159,0.30008791805319524,1.8879604124582612,1.2660810398323776,0.45609129801939463,0.6726147657822424,0.8241665028317623,-0.3518181535052042,-0.5080330525938204,1.5963785365652088,-0.5547215770586273,-1.7006030658476257,0.4850139462154026,-0.12641952295975467,0.10593177255142132,-0.31045383083644296,-2.215447530809033,0.3328245871913032,0.16542739736732404,2.279149262740099,0.1464903933485164,-0.8981473637269928,0.011316903987620362,0.3740268469448724,0.00600595347178172,-0.5455397405384034,1.1053757913750353,0.9809228411435073,-0.8688567153887097,-0.1411299275245519,0.7693973235242795,1.6730057520225377,-1.024431996891845,1.110540384593331,-1.5050331148984104,0.25335284519577395,-0.19363896658984323,-0.8086363725025757,-0.479998946736685,1.4642522113562635,-0.6281189642664279,-0.5226430926304726,0.6919866248911934,1.9232786601198262,0.5876327968957331,-0.0046343931432081915,1.443041936933062,1.5460271692153054,0.2840617527281839,-0.716096743201206,1.1274681102723925,-0.249539933808164,0.11432698616093034,0.3167643160240619,-0.8629581773182998,0.7177258044323274,-1.8537797335432495,-0.5901892401603281,-2.4525226498278077,1.6417672188323253,-1.3908212668743931,0.1205347838088376,1.4238760368657009,0.6350831586659941,-0.046506600815857,0.03312983193434833,-1.8399107242066985,0.18831190190361355,-0.6509961953618276,0.4348223970672755,0.41112806027556253,0.3007244133349498,-0.9814848471200649,-0.6904048067419298,0.335953220225626,-0.982965209353212,0.9270554220126782,0.975930458103786,-0.6030240850918889,-0.8665862123881608,0.5155234509956301,-0.2769171373345841,-1.200537929111223,-0.2466425746771957,-1.4015084783507177,0.1579469233065905],\"xaxis\":\"x8\",\"y\":[2.4368836497567736,2.8061683063365512,-0.22598246884615092,1.6684583868678244,0.19964956910034146,-0.43630416534108574,-0.8149051143407005,0.644721914341229,-1.0970580613489138,0.563243707568396,-0.7151772352638627,1.7399384304314731,0.9333202141889357,-0.7603023225826924,-1.0055654371051497,0.9456803095792773,-0.6107014523115251,-0.24678977201906113,0.2272335649658569,1.1204859476935731,-1.7023803277503649,0.5321124440372906,-0.6808814973697076,-0.3119505168081398,-0.8729805709062626,-0.9422457171082959,0.9577546856737165,1.4350788901214124,-0.03629918533398791,1.1975549064480226,1.531036339029063,1.9561481466557051,-0.07722330639237676,1.2213207563919308,0.1425763768286601,0.4458905337457665,-0.23410678454089873,-0.7071305907929655,-0.41660092474178023,0.8290082481091184,-0.866406049479583,-0.9265270931596823,-0.5578107376513161,-1.1986778981863162,0.2994689192423883,-0.18672810450536445,0.29038117898481874,0.6513216905711007,0.727148313467212,-1.0957568440700851,1.0925119340978113,0.6622390315231806,1.0574259310596916,0.3317098628177242,-0.05553073769154664,-0.9799373977459516,1.3646046406526673,3.041346406084754,1.4011788801781775,-0.9386645547165704,1.3087610020904727,-0.80757066404421,1.1588354285400224,0.47883353179263977,-0.8055260309871897,-0.683537000716558,-0.015924935759425912,-0.29640901170335526,-0.19448603254895092,-0.46819474735927347,1.8067478953733844,-1.4112089594018427,0.6245328039650841,-0.8355962776719403,0.816316571373678,1.7830048482946426,-0.008152702171023115,0.10085636600272131,-1.432769049671953,0.4684985796561104,-1.1160089587194328,-0.6077303609075121,0.2628666457754549,0.26500314736339087,-0.15473373323700454,0.33691884019198975,0.9049159014238233,-0.2989352825315451,0.05106865858649614,2.738846305525453,0.5785002560282373,-0.4813514985369238,0.9711303120138106,-0.6753593361118425,-0.10288292581607655,1.1242169310713244,0.08995296684595894,1.2807328759536576,-0.33848014424263445,0.700807256895827],\"yaxis\":\"y8\",\"type\":\"scatter\"},{\"line\":{\"color\":\"rgba(128, 128, 128, 1.0)\",\"dash\":\"solid\",\"shape\":\"linear\",\"width\":1.3},\"marker\":{\"size\":2,\"symbol\":\"circle\"},\"mode\":\"markers\",\"name\":\"C\",\"text\":\"\",\"x\":[0.9358246105456631,1.7358870536473954,1.6607725228273365,-1.130471045776182,-0.7397437542667784,-1.7628728637743711,0.6094641588563852,0.8397452447778285,1.5953723526350652,-0.24735699034521968,-1.0576749964782333,-0.585775052554457,-2.1005125763582106,0.3682807079472144,-0.8404456428786651,0.6416763293475042,0.1482332074357737,-0.5694215335178152,1.2625700226936711,0.17288919914789302,-1.2897772819048154,0.7258162007125682,1.428259807694575,-0.4118314894873909,0.6215843985226098,-0.13364968782372094,-0.8669258393056155,-0.4104472188076141,-1.5094372299519552,-1.1273371115446196,0.40222132922117726,0.21491591162534904,-0.2824254106167494,0.2893039247667468,1.177485905026769,0.5314194356194776,-1.3737936138152016,-0.302772243312889,-0.5548156187710866,1.293594170856257,1.3938922938949396,-0.7686784040548456,0.685016805624003,-1.2161323536626572,-0.22596418717228123,0.18445339856296444,-0.2988187906213368,0.8610646318330833,0.44714190373054974,1.7495683336940082,-0.02717780528520104,-0.2646657249625497,0.5528736598737768,0.108936244464817,-0.3886022132343513,-0.27858746269539825,0.5262142439594867,-0.17040945756285403,-0.29361928475042465,-1.6431153100987566,0.9820006875146906,1.1271311188321693,0.7712039159456711,-0.2722771350565949,-0.1016411044464088,0.055748472748957355,0.378212647536327,1.806354096998742,-1.0323484061684283,0.43925979581855623,-2.237534601976636,-1.2395199587124108,0.932423970331763,-2.0606245338146247,-0.7873413392426257,0.3839651190733875,-1.5476461051975592,0.6107385482338262,0.48118347644317017,-1.1417989169897207,-1.349276068996005,0.22286129253542264,1.1337133631024376,0.5105123805788733,-2.1901727666599475,1.241346098929264,-0.42842270573965463,1.1422020524149337,0.49284995297389594,-0.8232844489727227,0.994393546598194,-0.25744344885925907,0.24794327386048887,-1.0040059283046938,2.012619946272534,-1.3432393595521306,-0.4360965094981826,-1.4872629381033733,0.4425522864570553,-0.6358544606229273],\"xaxis\":\"x9\",\"y\":[0.8347964621978526,0.7422619849660557,0.9421059046693261,-0.8287663091084667,-1.5872247614942994,0.3096679676095925,1.0066599607678481,0.6400723276288252,-0.4616667584145362,-0.458297403125597,0.5741152744780673,1.3587337389371734,-1.1067774961716534,-1.935996244110975,0.7777194054502217,0.39425389226378726,0.1841081434387239,-0.9575857037749891,0.9975865238218852,0.6016316037478396,-1.1496089432371979,0.6958881857987933,1.6681252130704827,0.36681196627548485,-1.9078136995537738,-1.030713373835496,0.5119207586273357,1.0215942717456032,-0.7613725093295172,-0.7626177245782716,-0.977106249385318,-1.3905124581215762,0.4198154806602653,-0.8332328241034221,2.0232969011466264,0.8761650856571784,0.604383451200056,-0.055397334207476036,2.235340360896873,0.2127535535306071,-1.0936907857756157,-1.095127127911492,-0.036983872331810094,0.1405845991744449,0.9990811980995024,-0.38133164054122687,0.4188828292150607,0.7639415389965162,-1.5363182614760473,-0.5836306055561737,-0.5564802891642523,0.27355942667249133,-0.19143222578973443,2.2662149960086935,0.5749447538886344,-1.2753637372850788,1.9287221634387093,0.7099186452912636,0.004229094356319363,-2.25020330548462,-0.9815861634693895,-0.08923749356744987,-1.3372009872447732,-0.1323376247539866,-0.39730967369732084,-0.9156689796933062,0.5631677363355335,-0.7795866286804178,-0.204854748351753,-0.9623752418290115,-0.6277110368908078,0.8179132872244542,-1.3841106590099894,-1.691269656360695,0.5343258529217656,-0.25680254083887394,2.627165072906644,-0.14763476004978585,-0.17257057163101136,-0.2056432080272134,1.6223879450819967,-0.21783483144740098,0.7354681172994999,-0.11318274664317976,0.21886584953230323,-0.18174933433188084,-2.9726490611652165,-1.1346417759642426,-0.4987540998712413,1.3673123446330104,1.6218714880270613,-0.04047039466792415,0.96694327486157,-0.8954153268487087,0.1825169937934882,0.8839934709951787,1.4288035335316298,0.3227495759096064,-0.3908280472876743,-0.46664169633794633],\"yaxis\":\"y9\",\"type\":\"scatter\"},{\"line\":{\"color\":\"rgba(128, 128, 128, 1.0)\",\"dash\":\"solid\",\"shape\":\"linear\",\"width\":1.3},\"marker\":{\"size\":2,\"symbol\":\"circle\"},\"mode\":\"markers\",\"name\":\"C\",\"text\":\"\",\"x\":[2.4368836497567736,2.8061683063365512,-0.22598246884615092,1.6684583868678244,0.19964956910034146,-0.43630416534108574,-0.8149051143407005,0.644721914341229,-1.0970580613489138,0.563243707568396,-0.7151772352638627,1.7399384304314731,0.9333202141889357,-0.7603023225826924,-1.0055654371051497,0.9456803095792773,-0.6107014523115251,-0.24678977201906113,0.2272335649658569,1.1204859476935731,-1.7023803277503649,0.5321124440372906,-0.6808814973697076,-0.3119505168081398,-0.8729805709062626,-0.9422457171082959,0.9577546856737165,1.4350788901214124,-0.03629918533398791,1.1975549064480226,1.531036339029063,1.9561481466557051,-0.07722330639237676,1.2213207563919308,0.1425763768286601,0.4458905337457665,-0.23410678454089873,-0.7071305907929655,-0.41660092474178023,0.8290082481091184,-0.866406049479583,-0.9265270931596823,-0.5578107376513161,-1.1986778981863162,0.2994689192423883,-0.18672810450536445,0.29038117898481874,0.6513216905711007,0.727148313467212,-1.0957568440700851,1.0925119340978113,0.6622390315231806,1.0574259310596916,0.3317098628177242,-0.05553073769154664,-0.9799373977459516,1.3646046406526673,3.041346406084754,1.4011788801781775,-0.9386645547165704,1.3087610020904727,-0.80757066404421,1.1588354285400224,0.47883353179263977,-0.8055260309871897,-0.683537000716558,-0.015924935759425912,-0.29640901170335526,-0.19448603254895092,-0.46819474735927347,1.8067478953733844,-1.4112089594018427,0.6245328039650841,-0.8355962776719403,0.816316571373678,1.7830048482946426,-0.008152702171023115,0.10085636600272131,-1.432769049671953,0.4684985796561104,-1.1160089587194328,-0.6077303609075121,0.2628666457754549,0.26500314736339087,-0.15473373323700454,0.33691884019198975,0.9049159014238233,-0.2989352825315451,0.05106865858649614,2.738846305525453,0.5785002560282373,-0.4813514985369238,0.9711303120138106,-0.6753593361118425,-0.10288292581607655,1.1242169310713244,0.08995296684595894,1.2807328759536576,-0.33848014424263445,0.700807256895827],\"xaxis\":\"x10\",\"y\":[0.8347964621978526,0.7422619849660557,0.9421059046693261,-0.8287663091084667,-1.5872247614942994,0.3096679676095925,1.0066599607678481,0.6400723276288252,-0.4616667584145362,-0.458297403125597,0.5741152744780673,1.3587337389371734,-1.1067774961716534,-1.935996244110975,0.7777194054502217,0.39425389226378726,0.1841081434387239,-0.9575857037749891,0.9975865238218852,0.6016316037478396,-1.1496089432371979,0.6958881857987933,1.6681252130704827,0.36681196627548485,-1.9078136995537738,-1.030713373835496,0.5119207586273357,1.0215942717456032,-0.7613725093295172,-0.7626177245782716,-0.977106249385318,-1.3905124581215762,0.4198154806602653,-0.8332328241034221,2.0232969011466264,0.8761650856571784,0.604383451200056,-0.055397334207476036,2.235340360896873,0.2127535535306071,-1.0936907857756157,-1.095127127911492,-0.036983872331810094,0.1405845991744449,0.9990811980995024,-0.38133164054122687,0.4188828292150607,0.7639415389965162,-1.5363182614760473,-0.5836306055561737,-0.5564802891642523,0.27355942667249133,-0.19143222578973443,2.2662149960086935,0.5749447538886344,-1.2753637372850788,1.9287221634387093,0.7099186452912636,0.004229094356319363,-2.25020330548462,-0.9815861634693895,-0.08923749356744987,-1.3372009872447732,-0.1323376247539866,-0.39730967369732084,-0.9156689796933062,0.5631677363355335,-0.7795866286804178,-0.204854748351753,-0.9623752418290115,-0.6277110368908078,0.8179132872244542,-1.3841106590099894,-1.691269656360695,0.5343258529217656,-0.25680254083887394,2.627165072906644,-0.14763476004978585,-0.17257057163101136,-0.2056432080272134,1.6223879450819967,-0.21783483144740098,0.7354681172994999,-0.11318274664317976,0.21886584953230323,-0.18174933433188084,-2.9726490611652165,-1.1346417759642426,-0.4987540998712413,1.3673123446330104,1.6218714880270613,-0.04047039466792415,0.96694327486157,-0.8954153268487087,0.1825169937934882,0.8839934709951787,1.4288035335316298,0.3227495759096064,-0.3908280472876743,-0.46664169633794633],\"yaxis\":\"y10\",\"type\":\"scatter\"},{\"histfunc\":\"count\",\"histnorm\":\"\",\"marker\":{\"color\":\"rgba(50, 171, 96, 1.0)\",\"line\":{\"color\":\"#4D5663\",\"width\":1.3}},\"name\":\"C\",\"nbinsx\":10,\"opacity\":0.8,\"orientation\":\"v\",\"x\":[0.8347964621978526,0.7422619849660557,0.9421059046693261,-0.8287663091084667,-1.5872247614942994,0.3096679676095925,1.0066599607678481,0.6400723276288252,-0.4616667584145362,-0.458297403125597,0.5741152744780673,1.3587337389371734,-1.1067774961716534,-1.935996244110975,0.7777194054502217,0.39425389226378726,0.1841081434387239,-0.9575857037749891,0.9975865238218852,0.6016316037478396,-1.1496089432371979,0.6958881857987933,1.6681252130704827,0.36681196627548485,-1.9078136995537738,-1.030713373835496,0.5119207586273357,1.0215942717456032,-0.7613725093295172,-0.7626177245782716,-0.977106249385318,-1.3905124581215762,0.4198154806602653,-0.8332328241034221,2.0232969011466264,0.8761650856571784,0.604383451200056,-0.055397334207476036,2.235340360896873,0.2127535535306071,-1.0936907857756157,-1.095127127911492,-0.036983872331810094,0.1405845991744449,0.9990811980995024,-0.38133164054122687,0.4188828292150607,0.7639415389965162,-1.5363182614760473,-0.5836306055561737,-0.5564802891642523,0.27355942667249133,-0.19143222578973443,2.2662149960086935,0.5749447538886344,-1.2753637372850788,1.9287221634387093,0.7099186452912636,0.004229094356319363,-2.25020330548462,-0.9815861634693895,-0.08923749356744987,-1.3372009872447732,-0.1323376247539866,-0.39730967369732084,-0.9156689796933062,0.5631677363355335,-0.7795866286804178,-0.204854748351753,-0.9623752418290115,-0.6277110368908078,0.8179132872244542,-1.3841106590099894,-1.691269656360695,0.5343258529217656,-0.25680254083887394,2.627165072906644,-0.14763476004978585,-0.17257057163101136,-0.2056432080272134,1.6223879450819967,-0.21783483144740098,0.7354681172994999,-0.11318274664317976,0.21886584953230323,-0.18174933433188084,-2.9726490611652165,-1.1346417759642426,-0.4987540998712413,1.3673123446330104,1.6218714880270613,-0.04047039466792415,0.96694327486157,-0.8954153268487087,0.1825169937934882,0.8839934709951787,1.4288035335316298,0.3227495759096064,-0.3908280472876743,-0.46664169633794633],\"xaxis\":\"x11\",\"yaxis\":\"y11\",\"type\":\"histogram\"},{\"line\":{\"color\":\"rgba(128, 128, 128, 1.0)\",\"dash\":\"solid\",\"shape\":\"linear\",\"width\":1.3},\"marker\":{\"size\":2,\"symbol\":\"circle\"},\"mode\":\"markers\",\"name\":\"C\",\"text\":\"\",\"x\":[0.3483890581129721,-0.888182699729952,0.46718461601091094,-1.0417530361610983,-1.6250608910439461,-0.2248852748373986,-1.281688014536062,-0.8514976337743849,-0.6883683187600665,-0.20667615740811776,-0.3767448429923869,-0.9843008168119253,-0.31277817100762895,0.8468924252669293,-1.0727728388254159,0.30008791805319524,1.8879604124582612,1.2660810398323776,0.45609129801939463,0.6726147657822424,0.8241665028317623,-0.3518181535052042,-0.5080330525938204,1.5963785365652088,-0.5547215770586273,-1.7006030658476257,0.4850139462154026,-0.12641952295975467,0.10593177255142132,-0.31045383083644296,-2.215447530809033,0.3328245871913032,0.16542739736732404,2.279149262740099,0.1464903933485164,-0.8981473637269928,0.011316903987620362,0.3740268469448724,0.00600595347178172,-0.5455397405384034,1.1053757913750353,0.9809228411435073,-0.8688567153887097,-0.1411299275245519,0.7693973235242795,1.6730057520225377,-1.024431996891845,1.110540384593331,-1.5050331148984104,0.25335284519577395,-0.19363896658984323,-0.8086363725025757,-0.479998946736685,1.4642522113562635,-0.6281189642664279,-0.5226430926304726,0.6919866248911934,1.9232786601198262,0.5876327968957331,-0.0046343931432081915,1.443041936933062,1.5460271692153054,0.2840617527281839,-0.716096743201206,1.1274681102723925,-0.249539933808164,0.11432698616093034,0.3167643160240619,-0.8629581773182998,0.7177258044323274,-1.8537797335432495,-0.5901892401603281,-2.4525226498278077,1.6417672188323253,-1.3908212668743931,0.1205347838088376,1.4238760368657009,0.6350831586659941,-0.046506600815857,0.03312983193434833,-1.8399107242066985,0.18831190190361355,-0.6509961953618276,0.4348223970672755,0.41112806027556253,0.3007244133349498,-0.9814848471200649,-0.6904048067419298,0.335953220225626,-0.982965209353212,0.9270554220126782,0.975930458103786,-0.6030240850918889,-0.8665862123881608,0.5155234509956301,-0.2769171373345841,-1.200537929111223,-0.2466425746771957,-1.4015084783507177,0.1579469233065905],\"xaxis\":\"x12\",\"y\":[0.8347964621978526,0.7422619849660557,0.9421059046693261,-0.8287663091084667,-1.5872247614942994,0.3096679676095925,1.0066599607678481,0.6400723276288252,-0.4616667584145362,-0.458297403125597,0.5741152744780673,1.3587337389371734,-1.1067774961716534,-1.935996244110975,0.7777194054502217,0.39425389226378726,0.1841081434387239,-0.9575857037749891,0.9975865238218852,0.6016316037478396,-1.1496089432371979,0.6958881857987933,1.6681252130704827,0.36681196627548485,-1.9078136995537738,-1.030713373835496,0.5119207586273357,1.0215942717456032,-0.7613725093295172,-0.7626177245782716,-0.977106249385318,-1.3905124581215762,0.4198154806602653,-0.8332328241034221,2.0232969011466264,0.8761650856571784,0.604383451200056,-0.055397334207476036,2.235340360896873,0.2127535535306071,-1.0936907857756157,-1.095127127911492,-0.036983872331810094,0.1405845991744449,0.9990811980995024,-0.38133164054122687,0.4188828292150607,0.7639415389965162,-1.5363182614760473,-0.5836306055561737,-0.5564802891642523,0.27355942667249133,-0.19143222578973443,2.2662149960086935,0.5749447538886344,-1.2753637372850788,1.9287221634387093,0.7099186452912636,0.004229094356319363,-2.25020330548462,-0.9815861634693895,-0.08923749356744987,-1.3372009872447732,-0.1323376247539866,-0.39730967369732084,-0.9156689796933062,0.5631677363355335,-0.7795866286804178,-0.204854748351753,-0.9623752418290115,-0.6277110368908078,0.8179132872244542,-1.3841106590099894,-1.691269656360695,0.5343258529217656,-0.25680254083887394,2.627165072906644,-0.14763476004978585,-0.17257057163101136,-0.2056432080272134,1.6223879450819967,-0.21783483144740098,0.7354681172994999,-0.11318274664317976,0.21886584953230323,-0.18174933433188084,-2.9726490611652165,-1.1346417759642426,-0.4987540998712413,1.3673123446330104,1.6218714880270613,-0.04047039466792415,0.96694327486157,-0.8954153268487087,0.1825169937934882,0.8839934709951787,1.4288035335316298,0.3227495759096064,-0.3908280472876743,-0.46664169633794633],\"yaxis\":\"y12\",\"type\":\"scatter\"},{\"line\":{\"color\":\"rgba(128, 128, 128, 1.0)\",\"dash\":\"solid\",\"shape\":\"linear\",\"width\":1.3},\"marker\":{\"size\":2,\"symbol\":\"circle\"},\"mode\":\"markers\",\"name\":\"D\",\"text\":\"\",\"x\":[0.9358246105456631,1.7358870536473954,1.6607725228273365,-1.130471045776182,-0.7397437542667784,-1.7628728637743711,0.6094641588563852,0.8397452447778285,1.5953723526350652,-0.24735699034521968,-1.0576749964782333,-0.585775052554457,-2.1005125763582106,0.3682807079472144,-0.8404456428786651,0.6416763293475042,0.1482332074357737,-0.5694215335178152,1.2625700226936711,0.17288919914789302,-1.2897772819048154,0.7258162007125682,1.428259807694575,-0.4118314894873909,0.6215843985226098,-0.13364968782372094,-0.8669258393056155,-0.4104472188076141,-1.5094372299519552,-1.1273371115446196,0.40222132922117726,0.21491591162534904,-0.2824254106167494,0.2893039247667468,1.177485905026769,0.5314194356194776,-1.3737936138152016,-0.302772243312889,-0.5548156187710866,1.293594170856257,1.3938922938949396,-0.7686784040548456,0.685016805624003,-1.2161323536626572,-0.22596418717228123,0.18445339856296444,-0.2988187906213368,0.8610646318330833,0.44714190373054974,1.7495683336940082,-0.02717780528520104,-0.2646657249625497,0.5528736598737768,0.108936244464817,-0.3886022132343513,-0.27858746269539825,0.5262142439594867,-0.17040945756285403,-0.29361928475042465,-1.6431153100987566,0.9820006875146906,1.1271311188321693,0.7712039159456711,-0.2722771350565949,-0.1016411044464088,0.055748472748957355,0.378212647536327,1.806354096998742,-1.0323484061684283,0.43925979581855623,-2.237534601976636,-1.2395199587124108,0.932423970331763,-2.0606245338146247,-0.7873413392426257,0.3839651190733875,-1.5476461051975592,0.6107385482338262,0.48118347644317017,-1.1417989169897207,-1.349276068996005,0.22286129253542264,1.1337133631024376,0.5105123805788733,-2.1901727666599475,1.241346098929264,-0.42842270573965463,1.1422020524149337,0.49284995297389594,-0.8232844489727227,0.994393546598194,-0.25744344885925907,0.24794327386048887,-1.0040059283046938,2.012619946272534,-1.3432393595521306,-0.4360965094981826,-1.4872629381033733,0.4425522864570553,-0.6358544606229273],\"xaxis\":\"x13\",\"y\":[0.3483890581129721,-0.888182699729952,0.46718461601091094,-1.0417530361610983,-1.6250608910439461,-0.2248852748373986,-1.281688014536062,-0.8514976337743849,-0.6883683187600665,-0.20667615740811776,-0.3767448429923869,-0.9843008168119253,-0.31277817100762895,0.8468924252669293,-1.0727728388254159,0.30008791805319524,1.8879604124582612,1.2660810398323776,0.45609129801939463,0.6726147657822424,0.8241665028317623,-0.3518181535052042,-0.5080330525938204,1.5963785365652088,-0.5547215770586273,-1.7006030658476257,0.4850139462154026,-0.12641952295975467,0.10593177255142132,-0.31045383083644296,-2.215447530809033,0.3328245871913032,0.16542739736732404,2.279149262740099,0.1464903933485164,-0.8981473637269928,0.011316903987620362,0.3740268469448724,0.00600595347178172,-0.5455397405384034,1.1053757913750353,0.9809228411435073,-0.8688567153887097,-0.1411299275245519,0.7693973235242795,1.6730057520225377,-1.024431996891845,1.110540384593331,-1.5050331148984104,0.25335284519577395,-0.19363896658984323,-0.8086363725025757,-0.479998946736685,1.4642522113562635,-0.6281189642664279,-0.5226430926304726,0.6919866248911934,1.9232786601198262,0.5876327968957331,-0.0046343931432081915,1.443041936933062,1.5460271692153054,0.2840617527281839,-0.716096743201206,1.1274681102723925,-0.249539933808164,0.11432698616093034,0.3167643160240619,-0.8629581773182998,0.7177258044323274,-1.8537797335432495,-0.5901892401603281,-2.4525226498278077,1.6417672188323253,-1.3908212668743931,0.1205347838088376,1.4238760368657009,0.6350831586659941,-0.046506600815857,0.03312983193434833,-1.8399107242066985,0.18831190190361355,-0.6509961953618276,0.4348223970672755,0.41112806027556253,0.3007244133349498,-0.9814848471200649,-0.6904048067419298,0.335953220225626,-0.982965209353212,0.9270554220126782,0.975930458103786,-0.6030240850918889,-0.8665862123881608,0.5155234509956301,-0.2769171373345841,-1.200537929111223,-0.2466425746771957,-1.4015084783507177,0.1579469233065905],\"yaxis\":\"y13\",\"type\":\"scatter\"},{\"line\":{\"color\":\"rgba(128, 128, 128, 1.0)\",\"dash\":\"solid\",\"shape\":\"linear\",\"width\":1.3},\"marker\":{\"size\":2,\"symbol\":\"circle\"},\"mode\":\"markers\",\"name\":\"D\",\"text\":\"\",\"x\":[2.4368836497567736,2.8061683063365512,-0.22598246884615092,1.6684583868678244,0.19964956910034146,-0.43630416534108574,-0.8149051143407005,0.644721914341229,-1.0970580613489138,0.563243707568396,-0.7151772352638627,1.7399384304314731,0.9333202141889357,-0.7603023225826924,-1.0055654371051497,0.9456803095792773,-0.6107014523115251,-0.24678977201906113,0.2272335649658569,1.1204859476935731,-1.7023803277503649,0.5321124440372906,-0.6808814973697076,-0.3119505168081398,-0.8729805709062626,-0.9422457171082959,0.9577546856737165,1.4350788901214124,-0.03629918533398791,1.1975549064480226,1.531036339029063,1.9561481466557051,-0.07722330639237676,1.2213207563919308,0.1425763768286601,0.4458905337457665,-0.23410678454089873,-0.7071305907929655,-0.41660092474178023,0.8290082481091184,-0.866406049479583,-0.9265270931596823,-0.5578107376513161,-1.1986778981863162,0.2994689192423883,-0.18672810450536445,0.29038117898481874,0.6513216905711007,0.727148313467212,-1.0957568440700851,1.0925119340978113,0.6622390315231806,1.0574259310596916,0.3317098628177242,-0.05553073769154664,-0.9799373977459516,1.3646046406526673,3.041346406084754,1.4011788801781775,-0.9386645547165704,1.3087610020904727,-0.80757066404421,1.1588354285400224,0.47883353179263977,-0.8055260309871897,-0.683537000716558,-0.015924935759425912,-0.29640901170335526,-0.19448603254895092,-0.46819474735927347,1.8067478953733844,-1.4112089594018427,0.6245328039650841,-0.8355962776719403,0.816316571373678,1.7830048482946426,-0.008152702171023115,0.10085636600272131,-1.432769049671953,0.4684985796561104,-1.1160089587194328,-0.6077303609075121,0.2628666457754549,0.26500314736339087,-0.15473373323700454,0.33691884019198975,0.9049159014238233,-0.2989352825315451,0.05106865858649614,2.738846305525453,0.5785002560282373,-0.4813514985369238,0.9711303120138106,-0.6753593361118425,-0.10288292581607655,1.1242169310713244,0.08995296684595894,1.2807328759536576,-0.33848014424263445,0.700807256895827],\"xaxis\":\"x14\",\"y\":[0.3483890581129721,-0.888182699729952,0.46718461601091094,-1.0417530361610983,-1.6250608910439461,-0.2248852748373986,-1.281688014536062,-0.8514976337743849,-0.6883683187600665,-0.20667615740811776,-0.3767448429923869,-0.9843008168119253,-0.31277817100762895,0.8468924252669293,-1.0727728388254159,0.30008791805319524,1.8879604124582612,1.2660810398323776,0.45609129801939463,0.6726147657822424,0.8241665028317623,-0.3518181535052042,-0.5080330525938204,1.5963785365652088,-0.5547215770586273,-1.7006030658476257,0.4850139462154026,-0.12641952295975467,0.10593177255142132,-0.31045383083644296,-2.215447530809033,0.3328245871913032,0.16542739736732404,2.279149262740099,0.1464903933485164,-0.8981473637269928,0.011316903987620362,0.3740268469448724,0.00600595347178172,-0.5455397405384034,1.1053757913750353,0.9809228411435073,-0.8688567153887097,-0.1411299275245519,0.7693973235242795,1.6730057520225377,-1.024431996891845,1.110540384593331,-1.5050331148984104,0.25335284519577395,-0.19363896658984323,-0.8086363725025757,-0.479998946736685,1.4642522113562635,-0.6281189642664279,-0.5226430926304726,0.6919866248911934,1.9232786601198262,0.5876327968957331,-0.0046343931432081915,1.443041936933062,1.5460271692153054,0.2840617527281839,-0.716096743201206,1.1274681102723925,-0.249539933808164,0.11432698616093034,0.3167643160240619,-0.8629581773182998,0.7177258044323274,-1.8537797335432495,-0.5901892401603281,-2.4525226498278077,1.6417672188323253,-1.3908212668743931,0.1205347838088376,1.4238760368657009,0.6350831586659941,-0.046506600815857,0.03312983193434833,-1.8399107242066985,0.18831190190361355,-0.6509961953618276,0.4348223970672755,0.41112806027556253,0.3007244133349498,-0.9814848471200649,-0.6904048067419298,0.335953220225626,-0.982965209353212,0.9270554220126782,0.975930458103786,-0.6030240850918889,-0.8665862123881608,0.5155234509956301,-0.2769171373345841,-1.200537929111223,-0.2466425746771957,-1.4015084783507177,0.1579469233065905],\"yaxis\":\"y14\",\"type\":\"scatter\"},{\"line\":{\"color\":\"rgba(128, 128, 128, 1.0)\",\"dash\":\"solid\",\"shape\":\"linear\",\"width\":1.3},\"marker\":{\"size\":2,\"symbol\":\"circle\"},\"mode\":\"markers\",\"name\":\"D\",\"text\":\"\",\"x\":[0.8347964621978526,0.7422619849660557,0.9421059046693261,-0.8287663091084667,-1.5872247614942994,0.3096679676095925,1.0066599607678481,0.6400723276288252,-0.4616667584145362,-0.458297403125597,0.5741152744780673,1.3587337389371734,-1.1067774961716534,-1.935996244110975,0.7777194054502217,0.39425389226378726,0.1841081434387239,-0.9575857037749891,0.9975865238218852,0.6016316037478396,-1.1496089432371979,0.6958881857987933,1.6681252130704827,0.36681196627548485,-1.9078136995537738,-1.030713373835496,0.5119207586273357,1.0215942717456032,-0.7613725093295172,-0.7626177245782716,-0.977106249385318,-1.3905124581215762,0.4198154806602653,-0.8332328241034221,2.0232969011466264,0.8761650856571784,0.604383451200056,-0.055397334207476036,2.235340360896873,0.2127535535306071,-1.0936907857756157,-1.095127127911492,-0.036983872331810094,0.1405845991744449,0.9990811980995024,-0.38133164054122687,0.4188828292150607,0.7639415389965162,-1.5363182614760473,-0.5836306055561737,-0.5564802891642523,0.27355942667249133,-0.19143222578973443,2.2662149960086935,0.5749447538886344,-1.2753637372850788,1.9287221634387093,0.7099186452912636,0.004229094356319363,-2.25020330548462,-0.9815861634693895,-0.08923749356744987,-1.3372009872447732,-0.1323376247539866,-0.39730967369732084,-0.9156689796933062,0.5631677363355335,-0.7795866286804178,-0.204854748351753,-0.9623752418290115,-0.6277110368908078,0.8179132872244542,-1.3841106590099894,-1.691269656360695,0.5343258529217656,-0.25680254083887394,2.627165072906644,-0.14763476004978585,-0.17257057163101136,-0.2056432080272134,1.6223879450819967,-0.21783483144740098,0.7354681172994999,-0.11318274664317976,0.21886584953230323,-0.18174933433188084,-2.9726490611652165,-1.1346417759642426,-0.4987540998712413,1.3673123446330104,1.6218714880270613,-0.04047039466792415,0.96694327486157,-0.8954153268487087,0.1825169937934882,0.8839934709951787,1.4288035335316298,0.3227495759096064,-0.3908280472876743,-0.46664169633794633],\"xaxis\":\"x15\",\"y\":[0.3483890581129721,-0.888182699729952,0.46718461601091094,-1.0417530361610983,-1.6250608910439461,-0.2248852748373986,-1.281688014536062,-0.8514976337743849,-0.6883683187600665,-0.20667615740811776,-0.3767448429923869,-0.9843008168119253,-0.31277817100762895,0.8468924252669293,-1.0727728388254159,0.30008791805319524,1.8879604124582612,1.2660810398323776,0.45609129801939463,0.6726147657822424,0.8241665028317623,-0.3518181535052042,-0.5080330525938204,1.5963785365652088,-0.5547215770586273,-1.7006030658476257,0.4850139462154026,-0.12641952295975467,0.10593177255142132,-0.31045383083644296,-2.215447530809033,0.3328245871913032,0.16542739736732404,2.279149262740099,0.1464903933485164,-0.8981473637269928,0.011316903987620362,0.3740268469448724,0.00600595347178172,-0.5455397405384034,1.1053757913750353,0.9809228411435073,-0.8688567153887097,-0.1411299275245519,0.7693973235242795,1.6730057520225377,-1.024431996891845,1.110540384593331,-1.5050331148984104,0.25335284519577395,-0.19363896658984323,-0.8086363725025757,-0.479998946736685,1.4642522113562635,-0.6281189642664279,-0.5226430926304726,0.6919866248911934,1.9232786601198262,0.5876327968957331,-0.0046343931432081915,1.443041936933062,1.5460271692153054,0.2840617527281839,-0.716096743201206,1.1274681102723925,-0.249539933808164,0.11432698616093034,0.3167643160240619,-0.8629581773182998,0.7177258044323274,-1.8537797335432495,-0.5901892401603281,-2.4525226498278077,1.6417672188323253,-1.3908212668743931,0.1205347838088376,1.4238760368657009,0.6350831586659941,-0.046506600815857,0.03312983193434833,-1.8399107242066985,0.18831190190361355,-0.6509961953618276,0.4348223970672755,0.41112806027556253,0.3007244133349498,-0.9814848471200649,-0.6904048067419298,0.335953220225626,-0.982965209353212,0.9270554220126782,0.975930458103786,-0.6030240850918889,-0.8665862123881608,0.5155234509956301,-0.2769171373345841,-1.200537929111223,-0.2466425746771957,-1.4015084783507177,0.1579469233065905],\"yaxis\":\"y15\",\"type\":\"scatter\"},{\"histfunc\":\"count\",\"histnorm\":\"\",\"marker\":{\"color\":\"rgba(128, 0, 128, 1.0)\",\"line\":{\"color\":\"#4D5663\",\"width\":1.3}},\"name\":\"D\",\"nbinsx\":10,\"opacity\":0.8,\"orientation\":\"v\",\"x\":[0.3483890581129721,-0.888182699729952,0.46718461601091094,-1.0417530361610983,-1.6250608910439461,-0.2248852748373986,-1.281688014536062,-0.8514976337743849,-0.6883683187600665,-0.20667615740811776,-0.3767448429923869,-0.9843008168119253,-0.31277817100762895,0.8468924252669293,-1.0727728388254159,0.30008791805319524,1.8879604124582612,1.2660810398323776,0.45609129801939463,0.6726147657822424,0.8241665028317623,-0.3518181535052042,-0.5080330525938204,1.5963785365652088,-0.5547215770586273,-1.7006030658476257,0.4850139462154026,-0.12641952295975467,0.10593177255142132,-0.31045383083644296,-2.215447530809033,0.3328245871913032,0.16542739736732404,2.279149262740099,0.1464903933485164,-0.8981473637269928,0.011316903987620362,0.3740268469448724,0.00600595347178172,-0.5455397405384034,1.1053757913750353,0.9809228411435073,-0.8688567153887097,-0.1411299275245519,0.7693973235242795,1.6730057520225377,-1.024431996891845,1.110540384593331,-1.5050331148984104,0.25335284519577395,-0.19363896658984323,-0.8086363725025757,-0.479998946736685,1.4642522113562635,-0.6281189642664279,-0.5226430926304726,0.6919866248911934,1.9232786601198262,0.5876327968957331,-0.0046343931432081915,1.443041936933062,1.5460271692153054,0.2840617527281839,-0.716096743201206,1.1274681102723925,-0.249539933808164,0.11432698616093034,0.3167643160240619,-0.8629581773182998,0.7177258044323274,-1.8537797335432495,-0.5901892401603281,-2.4525226498278077,1.6417672188323253,-1.3908212668743931,0.1205347838088376,1.4238760368657009,0.6350831586659941,-0.046506600815857,0.03312983193434833,-1.8399107242066985,0.18831190190361355,-0.6509961953618276,0.4348223970672755,0.41112806027556253,0.3007244133349498,-0.9814848471200649,-0.6904048067419298,0.335953220225626,-0.982965209353212,0.9270554220126782,0.975930458103786,-0.6030240850918889,-0.8665862123881608,0.5155234509956301,-0.2769171373345841,-1.200537929111223,-0.2466425746771957,-1.4015084783507177,0.1579469233065905],\"xaxis\":\"x16\",\"yaxis\":\"y16\",\"type\":\"histogram\"}],                        {\"bargap\":0.02,\"legend\":{\"bgcolor\":\"#F5F6F9\",\"font\":{\"color\":\"#4D5663\"}},\"paper_bgcolor\":\"#F5F6F9\",\"plot_bgcolor\":\"#F5F6F9\",\"showlegend\":false,\"template\":{\"data\":{\"barpolar\":[{\"marker\":{\"line\":{\"color\":\"#E5ECF6\",\"width\":0.5},\"pattern\":{\"fillmode\":\"overlay\",\"size\":10,\"solidity\":0.2}},\"type\":\"barpolar\"}],\"bar\":[{\"error_x\":{\"color\":\"#2a3f5f\"},\"error_y\":{\"color\":\"#2a3f5f\"},\"marker\":{\"line\":{\"color\":\"#E5ECF6\",\"width\":0.5},\"pattern\":{\"fillmode\":\"overlay\",\"size\":10,\"solidity\":0.2}},\"type\":\"bar\"}],\"carpet\":[{\"aaxis\":{\"endlinecolor\":\"#2a3f5f\",\"gridcolor\":\"white\",\"linecolor\":\"white\",\"minorgridcolor\":\"white\",\"startlinecolor\":\"#2a3f5f\"},\"baxis\":{\"endlinecolor\":\"#2a3f5f\",\"gridcolor\":\"white\",\"linecolor\":\"white\",\"minorgridcolor\":\"white\",\"startlinecolor\":\"#2a3f5f\"},\"type\":\"carpet\"}],\"choropleth\":[{\"colorbar\":{\"outlinewidth\":0,\"ticks\":\"\"},\"type\":\"choropleth\"}],\"contourcarpet\":[{\"colorbar\":{\"outlinewidth\":0,\"ticks\":\"\"},\"type\":\"contourcarpet\"}],\"contour\":[{\"colorbar\":{\"outlinewidth\":0,\"ticks\":\"\"},\"colorscale\":[[0.0,\"#0d0887\"],[0.1111111111111111,\"#46039f\"],[0.2222222222222222,\"#7201a8\"],[0.3333333333333333,\"#9c179e\"],[0.4444444444444444,\"#bd3786\"],[0.5555555555555556,\"#d8576b\"],[0.6666666666666666,\"#ed7953\"],[0.7777777777777778,\"#fb9f3a\"],[0.8888888888888888,\"#fdca26\"],[1.0,\"#f0f921\"]],\"type\":\"contour\"}],\"heatmapgl\":[{\"colorbar\":{\"outlinewidth\":0,\"ticks\":\"\"},\"colorscale\":[[0.0,\"#0d0887\"],[0.1111111111111111,\"#46039f\"],[0.2222222222222222,\"#7201a8\"],[0.3333333333333333,\"#9c179e\"],[0.4444444444444444,\"#bd3786\"],[0.5555555555555556,\"#d8576b\"],[0.6666666666666666,\"#ed7953\"],[0.7777777777777778,\"#fb9f3a\"],[0.8888888888888888,\"#fdca26\"],[1.0,\"#f0f921\"]],\"type\":\"heatmapgl\"}],\"heatmap\":[{\"colorbar\":{\"outlinewidth\":0,\"ticks\":\"\"},\"colorscale\":[[0.0,\"#0d0887\"],[0.1111111111111111,\"#46039f\"],[0.2222222222222222,\"#7201a8\"],[0.3333333333333333,\"#9c179e\"],[0.4444444444444444,\"#bd3786\"],[0.5555555555555556,\"#d8576b\"],[0.6666666666666666,\"#ed7953\"],[0.7777777777777778,\"#fb9f3a\"],[0.8888888888888888,\"#fdca26\"],[1.0,\"#f0f921\"]],\"type\":\"heatmap\"}],\"histogram2dcontour\":[{\"colorbar\":{\"outlinewidth\":0,\"ticks\":\"\"},\"colorscale\":[[0.0,\"#0d0887\"],[0.1111111111111111,\"#46039f\"],[0.2222222222222222,\"#7201a8\"],[0.3333333333333333,\"#9c179e\"],[0.4444444444444444,\"#bd3786\"],[0.5555555555555556,\"#d8576b\"],[0.6666666666666666,\"#ed7953\"],[0.7777777777777778,\"#fb9f3a\"],[0.8888888888888888,\"#fdca26\"],[1.0,\"#f0f921\"]],\"type\":\"histogram2dcontour\"}],\"histogram2d\":[{\"colorbar\":{\"outlinewidth\":0,\"ticks\":\"\"},\"colorscale\":[[0.0,\"#0d0887\"],[0.1111111111111111,\"#46039f\"],[0.2222222222222222,\"#7201a8\"],[0.3333333333333333,\"#9c179e\"],[0.4444444444444444,\"#bd3786\"],[0.5555555555555556,\"#d8576b\"],[0.6666666666666666,\"#ed7953\"],[0.7777777777777778,\"#fb9f3a\"],[0.8888888888888888,\"#fdca26\"],[1.0,\"#f0f921\"]],\"type\":\"histogram2d\"}],\"histogram\":[{\"marker\":{\"pattern\":{\"fillmode\":\"overlay\",\"size\":10,\"solidity\":0.2}},\"type\":\"histogram\"}],\"mesh3d\":[{\"colorbar\":{\"outlinewidth\":0,\"ticks\":\"\"},\"type\":\"mesh3d\"}],\"parcoords\":[{\"line\":{\"colorbar\":{\"outlinewidth\":0,\"ticks\":\"\"}},\"type\":\"parcoords\"}],\"pie\":[{\"automargin\":true,\"type\":\"pie\"}],\"scatter3d\":[{\"line\":{\"colorbar\":{\"outlinewidth\":0,\"ticks\":\"\"}},\"marker\":{\"colorbar\":{\"outlinewidth\":0,\"ticks\":\"\"}},\"type\":\"scatter3d\"}],\"scattercarpet\":[{\"marker\":{\"colorbar\":{\"outlinewidth\":0,\"ticks\":\"\"}},\"type\":\"scattercarpet\"}],\"scattergeo\":[{\"marker\":{\"colorbar\":{\"outlinewidth\":0,\"ticks\":\"\"}},\"type\":\"scattergeo\"}],\"scattergl\":[{\"marker\":{\"colorbar\":{\"outlinewidth\":0,\"ticks\":\"\"}},\"type\":\"scattergl\"}],\"scattermapbox\":[{\"marker\":{\"colorbar\":{\"outlinewidth\":0,\"ticks\":\"\"}},\"type\":\"scattermapbox\"}],\"scatterpolargl\":[{\"marker\":{\"colorbar\":{\"outlinewidth\":0,\"ticks\":\"\"}},\"type\":\"scatterpolargl\"}],\"scatterpolar\":[{\"marker\":{\"colorbar\":{\"outlinewidth\":0,\"ticks\":\"\"}},\"type\":\"scatterpolar\"}],\"scatter\":[{\"marker\":{\"colorbar\":{\"outlinewidth\":0,\"ticks\":\"\"}},\"type\":\"scatter\"}],\"scatterternary\":[{\"marker\":{\"colorbar\":{\"outlinewidth\":0,\"ticks\":\"\"}},\"type\":\"scatterternary\"}],\"surface\":[{\"colorbar\":{\"outlinewidth\":0,\"ticks\":\"\"},\"colorscale\":[[0.0,\"#0d0887\"],[0.1111111111111111,\"#46039f\"],[0.2222222222222222,\"#7201a8\"],[0.3333333333333333,\"#9c179e\"],[0.4444444444444444,\"#bd3786\"],[0.5555555555555556,\"#d8576b\"],[0.6666666666666666,\"#ed7953\"],[0.7777777777777778,\"#fb9f3a\"],[0.8888888888888888,\"#fdca26\"],[1.0,\"#f0f921\"]],\"type\":\"surface\"}],\"table\":[{\"cells\":{\"fill\":{\"color\":\"#EBF0F8\"},\"line\":{\"color\":\"white\"}},\"header\":{\"fill\":{\"color\":\"#C8D4E3\"},\"line\":{\"color\":\"white\"}},\"type\":\"table\"}]},\"layout\":{\"annotationdefaults\":{\"arrowcolor\":\"#2a3f5f\",\"arrowhead\":0,\"arrowwidth\":1},\"autotypenumbers\":\"strict\",\"coloraxis\":{\"colorbar\":{\"outlinewidth\":0,\"ticks\":\"\"}},\"colorscale\":{\"diverging\":[[0,\"#8e0152\"],[0.1,\"#c51b7d\"],[0.2,\"#de77ae\"],[0.3,\"#f1b6da\"],[0.4,\"#fde0ef\"],[0.5,\"#f7f7f7\"],[0.6,\"#e6f5d0\"],[0.7,\"#b8e186\"],[0.8,\"#7fbc41\"],[0.9,\"#4d9221\"],[1,\"#276419\"]],\"sequential\":[[0.0,\"#0d0887\"],[0.1111111111111111,\"#46039f\"],[0.2222222222222222,\"#7201a8\"],[0.3333333333333333,\"#9c179e\"],[0.4444444444444444,\"#bd3786\"],[0.5555555555555556,\"#d8576b\"],[0.6666666666666666,\"#ed7953\"],[0.7777777777777778,\"#fb9f3a\"],[0.8888888888888888,\"#fdca26\"],[1.0,\"#f0f921\"]],\"sequentialminus\":[[0.0,\"#0d0887\"],[0.1111111111111111,\"#46039f\"],[0.2222222222222222,\"#7201a8\"],[0.3333333333333333,\"#9c179e\"],[0.4444444444444444,\"#bd3786\"],[0.5555555555555556,\"#d8576b\"],[0.6666666666666666,\"#ed7953\"],[0.7777777777777778,\"#fb9f3a\"],[0.8888888888888888,\"#fdca26\"],[1.0,\"#f0f921\"]]},\"colorway\":[\"#636efa\",\"#EF553B\",\"#00cc96\",\"#ab63fa\",\"#FFA15A\",\"#19d3f3\",\"#FF6692\",\"#B6E880\",\"#FF97FF\",\"#FECB52\"],\"font\":{\"color\":\"#2a3f5f\"},\"geo\":{\"bgcolor\":\"white\",\"lakecolor\":\"white\",\"landcolor\":\"#E5ECF6\",\"showlakes\":true,\"showland\":true,\"subunitcolor\":\"white\"},\"hoverlabel\":{\"align\":\"left\"},\"hovermode\":\"closest\",\"mapbox\":{\"style\":\"light\"},\"paper_bgcolor\":\"white\",\"plot_bgcolor\":\"#E5ECF6\",\"polar\":{\"angularaxis\":{\"gridcolor\":\"white\",\"linecolor\":\"white\",\"ticks\":\"\"},\"bgcolor\":\"#E5ECF6\",\"radialaxis\":{\"gridcolor\":\"white\",\"linecolor\":\"white\",\"ticks\":\"\"}},\"scene\":{\"xaxis\":{\"backgroundcolor\":\"#E5ECF6\",\"gridcolor\":\"white\",\"gridwidth\":2,\"linecolor\":\"white\",\"showbackground\":true,\"ticks\":\"\",\"zerolinecolor\":\"white\"},\"yaxis\":{\"backgroundcolor\":\"#E5ECF6\",\"gridcolor\":\"white\",\"gridwidth\":2,\"linecolor\":\"white\",\"showbackground\":true,\"ticks\":\"\",\"zerolinecolor\":\"white\"},\"zaxis\":{\"backgroundcolor\":\"#E5ECF6\",\"gridcolor\":\"white\",\"gridwidth\":2,\"linecolor\":\"white\",\"showbackground\":true,\"ticks\":\"\",\"zerolinecolor\":\"white\"}},\"shapedefaults\":{\"line\":{\"color\":\"#2a3f5f\"}},\"ternary\":{\"aaxis\":{\"gridcolor\":\"white\",\"linecolor\":\"white\",\"ticks\":\"\"},\"baxis\":{\"gridcolor\":\"white\",\"linecolor\":\"white\",\"ticks\":\"\"},\"bgcolor\":\"#E5ECF6\",\"caxis\":{\"gridcolor\":\"white\",\"linecolor\":\"white\",\"ticks\":\"\"}},\"title\":{\"x\":0.05},\"xaxis\":{\"automargin\":true,\"gridcolor\":\"white\",\"linecolor\":\"white\",\"ticks\":\"\",\"title\":{\"standoff\":15},\"zerolinecolor\":\"white\",\"zerolinewidth\":2},\"yaxis\":{\"automargin\":true,\"gridcolor\":\"white\",\"linecolor\":\"white\",\"ticks\":\"\",\"title\":{\"standoff\":15},\"zerolinecolor\":\"white\",\"zerolinewidth\":2}}},\"title\":{\"font\":{\"color\":\"#4D5663\"}},\"xaxis\":{\"anchor\":\"y\",\"domain\":[0.0,0.2125],\"gridcolor\":\"#E1E5ED\",\"showgrid\":false,\"tickfont\":{\"color\":\"#4D5663\"},\"title\":{\"font\":{\"color\":\"#4D5663\"},\"text\":\"\"},\"zerolinecolor\":\"#E1E5ED\"},\"yaxis\":{\"anchor\":\"x\",\"domain\":[0.8025,1.0],\"gridcolor\":\"#E1E5ED\",\"showgrid\":false,\"tickfont\":{\"color\":\"#4D5663\"},\"title\":{\"font\":{\"color\":\"#4D5663\"},\"text\":\"\"},\"zerolinecolor\":\"#E1E5ED\"},\"xaxis2\":{\"anchor\":\"y2\",\"domain\":[0.2625,0.475],\"gridcolor\":\"#E1E5ED\",\"showgrid\":false,\"tickfont\":{\"color\":\"#4D5663\"},\"title\":{\"font\":{\"color\":\"#4D5663\"},\"text\":\"\"},\"zerolinecolor\":\"#E1E5ED\"},\"yaxis2\":{\"anchor\":\"x2\",\"domain\":[0.8025,1.0],\"gridcolor\":\"#E1E5ED\",\"showgrid\":false,\"tickfont\":{\"color\":\"#4D5663\"},\"title\":{\"font\":{\"color\":\"#4D5663\"},\"text\":\"\"},\"zerolinecolor\":\"#E1E5ED\"},\"xaxis3\":{\"anchor\":\"y3\",\"domain\":[0.525,0.7375],\"gridcolor\":\"#E1E5ED\",\"showgrid\":false,\"tickfont\":{\"color\":\"#4D5663\"},\"title\":{\"font\":{\"color\":\"#4D5663\"},\"text\":\"\"},\"zerolinecolor\":\"#E1E5ED\"},\"yaxis3\":{\"anchor\":\"x3\",\"domain\":[0.8025,1.0],\"gridcolor\":\"#E1E5ED\",\"showgrid\":false,\"tickfont\":{\"color\":\"#4D5663\"},\"title\":{\"font\":{\"color\":\"#4D5663\"},\"text\":\"\"},\"zerolinecolor\":\"#E1E5ED\"},\"xaxis4\":{\"anchor\":\"y4\",\"domain\":[0.7875,1.0],\"gridcolor\":\"#E1E5ED\",\"showgrid\":false,\"tickfont\":{\"color\":\"#4D5663\"},\"title\":{\"font\":{\"color\":\"#4D5663\"},\"text\":\"\"},\"zerolinecolor\":\"#E1E5ED\"},\"yaxis4\":{\"anchor\":\"x4\",\"domain\":[0.8025,1.0],\"gridcolor\":\"#E1E5ED\",\"showgrid\":false,\"tickfont\":{\"color\":\"#4D5663\"},\"title\":{\"font\":{\"color\":\"#4D5663\"},\"text\":\"\"},\"zerolinecolor\":\"#E1E5ED\"},\"xaxis5\":{\"anchor\":\"y5\",\"domain\":[0.0,0.2125],\"gridcolor\":\"#E1E5ED\",\"showgrid\":false,\"tickfont\":{\"color\":\"#4D5663\"},\"title\":{\"font\":{\"color\":\"#4D5663\"},\"text\":\"\"},\"zerolinecolor\":\"#E1E5ED\"},\"yaxis5\":{\"anchor\":\"x5\",\"domain\":[0.535,0.7325],\"gridcolor\":\"#E1E5ED\",\"showgrid\":false,\"tickfont\":{\"color\":\"#4D5663\"},\"title\":{\"font\":{\"color\":\"#4D5663\"},\"text\":\"\"},\"zerolinecolor\":\"#E1E5ED\"},\"xaxis6\":{\"anchor\":\"y6\",\"domain\":[0.2625,0.475],\"gridcolor\":\"#E1E5ED\",\"showgrid\":false,\"tickfont\":{\"color\":\"#4D5663\"},\"title\":{\"font\":{\"color\":\"#4D5663\"},\"text\":\"\"},\"zerolinecolor\":\"#E1E5ED\"},\"yaxis6\":{\"anchor\":\"x6\",\"domain\":[0.535,0.7325],\"gridcolor\":\"#E1E5ED\",\"showgrid\":false,\"tickfont\":{\"color\":\"#4D5663\"},\"title\":{\"font\":{\"color\":\"#4D5663\"},\"text\":\"\"},\"zerolinecolor\":\"#E1E5ED\"},\"xaxis7\":{\"anchor\":\"y7\",\"domain\":[0.525,0.7375],\"gridcolor\":\"#E1E5ED\",\"showgrid\":false,\"tickfont\":{\"color\":\"#4D5663\"},\"title\":{\"font\":{\"color\":\"#4D5663\"},\"text\":\"\"},\"zerolinecolor\":\"#E1E5ED\"},\"yaxis7\":{\"anchor\":\"x7\",\"domain\":[0.535,0.7325],\"gridcolor\":\"#E1E5ED\",\"showgrid\":false,\"tickfont\":{\"color\":\"#4D5663\"},\"title\":{\"font\":{\"color\":\"#4D5663\"},\"text\":\"\"},\"zerolinecolor\":\"#E1E5ED\"},\"xaxis8\":{\"anchor\":\"y8\",\"domain\":[0.7875,1.0],\"gridcolor\":\"#E1E5ED\",\"showgrid\":false,\"tickfont\":{\"color\":\"#4D5663\"},\"title\":{\"font\":{\"color\":\"#4D5663\"},\"text\":\"\"},\"zerolinecolor\":\"#E1E5ED\"},\"yaxis8\":{\"anchor\":\"x8\",\"domain\":[0.535,0.7325],\"gridcolor\":\"#E1E5ED\",\"showgrid\":false,\"tickfont\":{\"color\":\"#4D5663\"},\"title\":{\"font\":{\"color\":\"#4D5663\"},\"text\":\"\"},\"zerolinecolor\":\"#E1E5ED\"},\"xaxis9\":{\"anchor\":\"y9\",\"domain\":[0.0,0.2125],\"gridcolor\":\"#E1E5ED\",\"showgrid\":false,\"tickfont\":{\"color\":\"#4D5663\"},\"title\":{\"font\":{\"color\":\"#4D5663\"},\"text\":\"\"},\"zerolinecolor\":\"#E1E5ED\"},\"yaxis9\":{\"anchor\":\"x9\",\"domain\":[0.2675,0.465],\"gridcolor\":\"#E1E5ED\",\"showgrid\":false,\"tickfont\":{\"color\":\"#4D5663\"},\"title\":{\"font\":{\"color\":\"#4D5663\"},\"text\":\"\"},\"zerolinecolor\":\"#E1E5ED\"},\"xaxis10\":{\"anchor\":\"y10\",\"domain\":[0.2625,0.475],\"gridcolor\":\"#E1E5ED\",\"showgrid\":false,\"tickfont\":{\"color\":\"#4D5663\"},\"title\":{\"font\":{\"color\":\"#4D5663\"},\"text\":\"\"},\"zerolinecolor\":\"#E1E5ED\"},\"yaxis10\":{\"anchor\":\"x10\",\"domain\":[0.2675,0.465],\"gridcolor\":\"#E1E5ED\",\"showgrid\":false,\"tickfont\":{\"color\":\"#4D5663\"},\"title\":{\"font\":{\"color\":\"#4D5663\"},\"text\":\"\"},\"zerolinecolor\":\"#E1E5ED\"},\"xaxis11\":{\"anchor\":\"y11\",\"domain\":[0.525,0.7375],\"gridcolor\":\"#E1E5ED\",\"showgrid\":false,\"tickfont\":{\"color\":\"#4D5663\"},\"title\":{\"font\":{\"color\":\"#4D5663\"},\"text\":\"\"},\"zerolinecolor\":\"#E1E5ED\"},\"yaxis11\":{\"anchor\":\"x11\",\"domain\":[0.2675,0.465],\"gridcolor\":\"#E1E5ED\",\"showgrid\":false,\"tickfont\":{\"color\":\"#4D5663\"},\"title\":{\"font\":{\"color\":\"#4D5663\"},\"text\":\"\"},\"zerolinecolor\":\"#E1E5ED\"},\"xaxis12\":{\"anchor\":\"y12\",\"domain\":[0.7875,1.0],\"gridcolor\":\"#E1E5ED\",\"showgrid\":false,\"tickfont\":{\"color\":\"#4D5663\"},\"title\":{\"font\":{\"color\":\"#4D5663\"},\"text\":\"\"},\"zerolinecolor\":\"#E1E5ED\"},\"yaxis12\":{\"anchor\":\"x12\",\"domain\":[0.2675,0.465],\"gridcolor\":\"#E1E5ED\",\"showgrid\":false,\"tickfont\":{\"color\":\"#4D5663\"},\"title\":{\"font\":{\"color\":\"#4D5663\"},\"text\":\"\"},\"zerolinecolor\":\"#E1E5ED\"},\"xaxis13\":{\"anchor\":\"y13\",\"domain\":[0.0,0.2125],\"gridcolor\":\"#E1E5ED\",\"showgrid\":false,\"tickfont\":{\"color\":\"#4D5663\"},\"title\":{\"font\":{\"color\":\"#4D5663\"},\"text\":\"\"},\"zerolinecolor\":\"#E1E5ED\"},\"yaxis13\":{\"anchor\":\"x13\",\"domain\":[0.0,0.1975],\"gridcolor\":\"#E1E5ED\",\"showgrid\":false,\"tickfont\":{\"color\":\"#4D5663\"},\"title\":{\"font\":{\"color\":\"#4D5663\"},\"text\":\"\"},\"zerolinecolor\":\"#E1E5ED\"},\"xaxis14\":{\"anchor\":\"y14\",\"domain\":[0.2625,0.475],\"gridcolor\":\"#E1E5ED\",\"showgrid\":false,\"tickfont\":{\"color\":\"#4D5663\"},\"title\":{\"font\":{\"color\":\"#4D5663\"},\"text\":\"\"},\"zerolinecolor\":\"#E1E5ED\"},\"yaxis14\":{\"anchor\":\"x14\",\"domain\":[0.0,0.1975],\"gridcolor\":\"#E1E5ED\",\"showgrid\":false,\"tickfont\":{\"color\":\"#4D5663\"},\"title\":{\"font\":{\"color\":\"#4D5663\"},\"text\":\"\"},\"zerolinecolor\":\"#E1E5ED\"},\"xaxis15\":{\"anchor\":\"y15\",\"domain\":[0.525,0.7375],\"gridcolor\":\"#E1E5ED\",\"showgrid\":false,\"tickfont\":{\"color\":\"#4D5663\"},\"title\":{\"font\":{\"color\":\"#4D5663\"},\"text\":\"\"},\"zerolinecolor\":\"#E1E5ED\"},\"yaxis15\":{\"anchor\":\"x15\",\"domain\":[0.0,0.1975],\"gridcolor\":\"#E1E5ED\",\"showgrid\":false,\"tickfont\":{\"color\":\"#4D5663\"},\"title\":{\"font\":{\"color\":\"#4D5663\"},\"text\":\"\"},\"zerolinecolor\":\"#E1E5ED\"},\"xaxis16\":{\"anchor\":\"y16\",\"domain\":[0.7875,1.0],\"gridcolor\":\"#E1E5ED\",\"showgrid\":false,\"tickfont\":{\"color\":\"#4D5663\"},\"title\":{\"font\":{\"color\":\"#4D5663\"},\"text\":\"\"},\"zerolinecolor\":\"#E1E5ED\"},\"yaxis16\":{\"anchor\":\"x16\",\"domain\":[0.0,0.1975],\"gridcolor\":\"#E1E5ED\",\"showgrid\":false,\"tickfont\":{\"color\":\"#4D5663\"},\"title\":{\"font\":{\"color\":\"#4D5663\"},\"text\":\"\"},\"zerolinecolor\":\"#E1E5ED\"}},                        {\"showLink\": true, \"linkText\": \"Export to plot.ly\", \"plotlyServerURL\": \"https://plot.ly\", \"responsive\": true}                    ).then(function(){\n",
       "                            \n",
       "var gd = document.getElementById('0fdfb6e1-2062-4cdc-bb9f-3fd8295f535a');\n",
       "var x = new MutationObserver(function (mutations, observer) {{\n",
       "        var display = window.getComputedStyle(gd).display;\n",
       "        if (!display || display === 'none') {{\n",
       "            console.log([gd, 'removed!']);\n",
       "            Plotly.purge(gd);\n",
       "            observer.disconnect();\n",
       "        }}\n",
       "}});\n",
       "\n",
       "// Listen for the removal of the full notebook cells\n",
       "var notebookContainer = gd.closest('#notebook-container');\n",
       "if (notebookContainer) {{\n",
       "    x.observe(notebookContainer, {childList: true});\n",
       "}}\n",
       "\n",
       "// Listen for the clearing of the current output cell\n",
       "var outputEl = gd.closest('.output');\n",
       "if (outputEl) {{\n",
       "    x.observe(outputEl, {childList: true});\n",
       "}}\n",
       "\n",
       "                        })                };                });            </script>        </div>"
      ]
     },
     "metadata": {},
     "output_type": "display_data"
    }
   ],
   "source": [
    "df.scatter_matrix()"
   ]
  },
  {
   "cell_type": "markdown",
   "metadata": {
    "collapsed": true
   },
   "source": [
    "# Buen trabajo!"
   ]
  }
 ],
 "metadata": {
  "kernelspec": {
   "display_name": "Python 3",
   "language": "python",
   "name": "python3"
  },
  "language_info": {
   "codemirror_mode": {
    "name": "ipython",
    "version": 3
   },
   "file_extension": ".py",
   "mimetype": "text/x-python",
   "name": "python",
   "nbconvert_exporter": "python",
   "pygments_lexer": "ipython3",
   "version": "3.8.8"
  }
 },
 "nbformat": 4,
 "nbformat_minor": 1
}
